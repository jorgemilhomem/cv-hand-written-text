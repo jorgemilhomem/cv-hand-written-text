{
 "cells": [
  {
   "cell_type": "markdown",
   "metadata": {},
   "source": [
    "### Import the necessary libraries"
   ]
  },
  {
   "cell_type": "code",
   "execution_count": 39,
   "metadata": {},
   "outputs": [],
   "source": [
    "import pandas as pd\n",
    "import tensorflow as tf\n",
    "import numpy as np\n",
    "from sklearn.model_selection import train_test_split\n",
    "from keras.models import Sequential\n",
    "from keras.layers import Dense, Dropout, Flatten\n",
    "from keras.layers import Conv2D, MaxPooling2D\n",
    "from keras.utils import to_categorical\n",
    "from keras import layers, models\n",
    "import requests"
   ]
  },
  {
   "cell_type": "markdown",
   "metadata": {},
   "source": [
    "### Loading the data"
   ]
  },
  {
   "cell_type": "code",
   "execution_count": 41,
   "metadata": {},
   "outputs": [
    {
     "ename": "HTTPError",
     "evalue": "HTTP Error 403: Forbidden",
     "output_type": "error",
     "traceback": [
      "\u001b[0;31m---------------------------------------------------------------------------\u001b[0m",
      "\u001b[0;31mHTTPError\u001b[0m                                 Traceback (most recent call last)",
      "Cell \u001b[0;32mIn[41], line 4\u001b[0m\n\u001b[1;32m      1\u001b[0m \u001b[38;5;28;01mimport\u001b[39;00m \u001b[38;5;21;01murllib\u001b[39;00m\u001b[38;5;21;01m.\u001b[39;00m\u001b[38;5;21;01mrequest\u001b[39;00m\n\u001b[1;32m      3\u001b[0m url \u001b[38;5;241m=\u001b[39m \u001b[38;5;124m\"\u001b[39m\u001b[38;5;124mhttps://liveeduisegiunl-my.sharepoint.com/:u:/g/personal/20222175_novaims_unl_pt/EcRYCiQcWVhIu8y4bnIWXacB0jQjWfDSl2KnqJwMA8ffwQ?e=z7VpAx\u001b[39m\u001b[38;5;124m\"\u001b[39m\n\u001b[0;32m----> 4\u001b[0m \u001b[43murllib\u001b[49m\u001b[38;5;241;43m.\u001b[39;49m\u001b[43mrequest\u001b[49m\u001b[38;5;241;43m.\u001b[39;49m\u001b[43murlretrieve\u001b[49m\u001b[43m(\u001b[49m\u001b[43murl\u001b[49m\u001b[43m,\u001b[49m\u001b[43m \u001b[49m\u001b[38;5;124;43m\"\u001b[39;49m\u001b[38;5;124;43mwords_df.pkl\u001b[39;49m\u001b[38;5;124;43m\"\u001b[39;49m\u001b[43m)\u001b[49m\n",
      "File \u001b[0;32m/opt/homebrew/Cellar/python@3.11/3.11.6_1/Frameworks/Python.framework/Versions/3.11/lib/python3.11/urllib/request.py:241\u001b[0m, in \u001b[0;36murlretrieve\u001b[0;34m(url, filename, reporthook, data)\u001b[0m\n\u001b[1;32m    224\u001b[0m \u001b[38;5;250m\u001b[39m\u001b[38;5;124;03m\"\"\"\u001b[39;00m\n\u001b[1;32m    225\u001b[0m \u001b[38;5;124;03mRetrieve a URL into a temporary location on disk.\u001b[39;00m\n\u001b[1;32m    226\u001b[0m \n\u001b[0;32m   (...)\u001b[0m\n\u001b[1;32m    237\u001b[0m \u001b[38;5;124;03mdata file as well as the resulting HTTPMessage object.\u001b[39;00m\n\u001b[1;32m    238\u001b[0m \u001b[38;5;124;03m\"\"\"\u001b[39;00m\n\u001b[1;32m    239\u001b[0m url_type, path \u001b[38;5;241m=\u001b[39m _splittype(url)\n\u001b[0;32m--> 241\u001b[0m \u001b[38;5;28;01mwith\u001b[39;00m contextlib\u001b[38;5;241m.\u001b[39mclosing(\u001b[43murlopen\u001b[49m\u001b[43m(\u001b[49m\u001b[43murl\u001b[49m\u001b[43m,\u001b[49m\u001b[43m \u001b[49m\u001b[43mdata\u001b[49m\u001b[43m)\u001b[49m) \u001b[38;5;28;01mas\u001b[39;00m fp:\n\u001b[1;32m    242\u001b[0m     headers \u001b[38;5;241m=\u001b[39m fp\u001b[38;5;241m.\u001b[39minfo()\n\u001b[1;32m    244\u001b[0m     \u001b[38;5;66;03m# Just return the local path and the \"headers\" for file://\u001b[39;00m\n\u001b[1;32m    245\u001b[0m     \u001b[38;5;66;03m# URLs. No sense in performing a copy unless requested.\u001b[39;00m\n",
      "File \u001b[0;32m/opt/homebrew/Cellar/python@3.11/3.11.6_1/Frameworks/Python.framework/Versions/3.11/lib/python3.11/urllib/request.py:216\u001b[0m, in \u001b[0;36murlopen\u001b[0;34m(url, data, timeout, cafile, capath, cadefault, context)\u001b[0m\n\u001b[1;32m    214\u001b[0m \u001b[38;5;28;01melse\u001b[39;00m:\n\u001b[1;32m    215\u001b[0m     opener \u001b[38;5;241m=\u001b[39m _opener\n\u001b[0;32m--> 216\u001b[0m \u001b[38;5;28;01mreturn\u001b[39;00m \u001b[43mopener\u001b[49m\u001b[38;5;241;43m.\u001b[39;49m\u001b[43mopen\u001b[49m\u001b[43m(\u001b[49m\u001b[43murl\u001b[49m\u001b[43m,\u001b[49m\u001b[43m \u001b[49m\u001b[43mdata\u001b[49m\u001b[43m,\u001b[49m\u001b[43m \u001b[49m\u001b[43mtimeout\u001b[49m\u001b[43m)\u001b[49m\n",
      "File \u001b[0;32m/opt/homebrew/Cellar/python@3.11/3.11.6_1/Frameworks/Python.framework/Versions/3.11/lib/python3.11/urllib/request.py:525\u001b[0m, in \u001b[0;36mOpenerDirector.open\u001b[0;34m(self, fullurl, data, timeout)\u001b[0m\n\u001b[1;32m    523\u001b[0m \u001b[38;5;28;01mfor\u001b[39;00m processor \u001b[38;5;129;01min\u001b[39;00m \u001b[38;5;28mself\u001b[39m\u001b[38;5;241m.\u001b[39mprocess_response\u001b[38;5;241m.\u001b[39mget(protocol, []):\n\u001b[1;32m    524\u001b[0m     meth \u001b[38;5;241m=\u001b[39m \u001b[38;5;28mgetattr\u001b[39m(processor, meth_name)\n\u001b[0;32m--> 525\u001b[0m     response \u001b[38;5;241m=\u001b[39m \u001b[43mmeth\u001b[49m\u001b[43m(\u001b[49m\u001b[43mreq\u001b[49m\u001b[43m,\u001b[49m\u001b[43m \u001b[49m\u001b[43mresponse\u001b[49m\u001b[43m)\u001b[49m\n\u001b[1;32m    527\u001b[0m \u001b[38;5;28;01mreturn\u001b[39;00m response\n",
      "File \u001b[0;32m/opt/homebrew/Cellar/python@3.11/3.11.6_1/Frameworks/Python.framework/Versions/3.11/lib/python3.11/urllib/request.py:634\u001b[0m, in \u001b[0;36mHTTPErrorProcessor.http_response\u001b[0;34m(self, request, response)\u001b[0m\n\u001b[1;32m    631\u001b[0m \u001b[38;5;66;03m# According to RFC 2616, \"2xx\" code indicates that the client's\u001b[39;00m\n\u001b[1;32m    632\u001b[0m \u001b[38;5;66;03m# request was successfully received, understood, and accepted.\u001b[39;00m\n\u001b[1;32m    633\u001b[0m \u001b[38;5;28;01mif\u001b[39;00m \u001b[38;5;129;01mnot\u001b[39;00m (\u001b[38;5;241m200\u001b[39m \u001b[38;5;241m<\u001b[39m\u001b[38;5;241m=\u001b[39m code \u001b[38;5;241m<\u001b[39m \u001b[38;5;241m300\u001b[39m):\n\u001b[0;32m--> 634\u001b[0m     response \u001b[38;5;241m=\u001b[39m \u001b[38;5;28;43mself\u001b[39;49m\u001b[38;5;241;43m.\u001b[39;49m\u001b[43mparent\u001b[49m\u001b[38;5;241;43m.\u001b[39;49m\u001b[43merror\u001b[49m\u001b[43m(\u001b[49m\n\u001b[1;32m    635\u001b[0m \u001b[43m        \u001b[49m\u001b[38;5;124;43m'\u001b[39;49m\u001b[38;5;124;43mhttp\u001b[39;49m\u001b[38;5;124;43m'\u001b[39;49m\u001b[43m,\u001b[49m\u001b[43m \u001b[49m\u001b[43mrequest\u001b[49m\u001b[43m,\u001b[49m\u001b[43m \u001b[49m\u001b[43mresponse\u001b[49m\u001b[43m,\u001b[49m\u001b[43m \u001b[49m\u001b[43mcode\u001b[49m\u001b[43m,\u001b[49m\u001b[43m \u001b[49m\u001b[43mmsg\u001b[49m\u001b[43m,\u001b[49m\u001b[43m \u001b[49m\u001b[43mhdrs\u001b[49m\u001b[43m)\u001b[49m\n\u001b[1;32m    637\u001b[0m \u001b[38;5;28;01mreturn\u001b[39;00m response\n",
      "File \u001b[0;32m/opt/homebrew/Cellar/python@3.11/3.11.6_1/Frameworks/Python.framework/Versions/3.11/lib/python3.11/urllib/request.py:557\u001b[0m, in \u001b[0;36mOpenerDirector.error\u001b[0;34m(self, proto, *args)\u001b[0m\n\u001b[1;32m    555\u001b[0m     http_err \u001b[38;5;241m=\u001b[39m \u001b[38;5;241m0\u001b[39m\n\u001b[1;32m    556\u001b[0m args \u001b[38;5;241m=\u001b[39m (\u001b[38;5;28mdict\u001b[39m, proto, meth_name) \u001b[38;5;241m+\u001b[39m args\n\u001b[0;32m--> 557\u001b[0m result \u001b[38;5;241m=\u001b[39m \u001b[38;5;28;43mself\u001b[39;49m\u001b[38;5;241;43m.\u001b[39;49m\u001b[43m_call_chain\u001b[49m\u001b[43m(\u001b[49m\u001b[38;5;241;43m*\u001b[39;49m\u001b[43margs\u001b[49m\u001b[43m)\u001b[49m\n\u001b[1;32m    558\u001b[0m \u001b[38;5;28;01mif\u001b[39;00m result:\n\u001b[1;32m    559\u001b[0m     \u001b[38;5;28;01mreturn\u001b[39;00m result\n",
      "File \u001b[0;32m/opt/homebrew/Cellar/python@3.11/3.11.6_1/Frameworks/Python.framework/Versions/3.11/lib/python3.11/urllib/request.py:496\u001b[0m, in \u001b[0;36mOpenerDirector._call_chain\u001b[0;34m(self, chain, kind, meth_name, *args)\u001b[0m\n\u001b[1;32m    494\u001b[0m \u001b[38;5;28;01mfor\u001b[39;00m handler \u001b[38;5;129;01min\u001b[39;00m handlers:\n\u001b[1;32m    495\u001b[0m     func \u001b[38;5;241m=\u001b[39m \u001b[38;5;28mgetattr\u001b[39m(handler, meth_name)\n\u001b[0;32m--> 496\u001b[0m     result \u001b[38;5;241m=\u001b[39m \u001b[43mfunc\u001b[49m\u001b[43m(\u001b[49m\u001b[38;5;241;43m*\u001b[39;49m\u001b[43margs\u001b[49m\u001b[43m)\u001b[49m\n\u001b[1;32m    497\u001b[0m     \u001b[38;5;28;01mif\u001b[39;00m result \u001b[38;5;129;01mis\u001b[39;00m \u001b[38;5;129;01mnot\u001b[39;00m \u001b[38;5;28;01mNone\u001b[39;00m:\n\u001b[1;32m    498\u001b[0m         \u001b[38;5;28;01mreturn\u001b[39;00m result\n",
      "File \u001b[0;32m/opt/homebrew/Cellar/python@3.11/3.11.6_1/Frameworks/Python.framework/Versions/3.11/lib/python3.11/urllib/request.py:749\u001b[0m, in \u001b[0;36mHTTPRedirectHandler.http_error_302\u001b[0;34m(self, req, fp, code, msg, headers)\u001b[0m\n\u001b[1;32m    746\u001b[0m fp\u001b[38;5;241m.\u001b[39mread()\n\u001b[1;32m    747\u001b[0m fp\u001b[38;5;241m.\u001b[39mclose()\n\u001b[0;32m--> 749\u001b[0m \u001b[38;5;28;01mreturn\u001b[39;00m \u001b[38;5;28;43mself\u001b[39;49m\u001b[38;5;241;43m.\u001b[39;49m\u001b[43mparent\u001b[49m\u001b[38;5;241;43m.\u001b[39;49m\u001b[43mopen\u001b[49m\u001b[43m(\u001b[49m\u001b[43mnew\u001b[49m\u001b[43m,\u001b[49m\u001b[43m \u001b[49m\u001b[43mtimeout\u001b[49m\u001b[38;5;241;43m=\u001b[39;49m\u001b[43mreq\u001b[49m\u001b[38;5;241;43m.\u001b[39;49m\u001b[43mtimeout\u001b[49m\u001b[43m)\u001b[49m\n",
      "File \u001b[0;32m/opt/homebrew/Cellar/python@3.11/3.11.6_1/Frameworks/Python.framework/Versions/3.11/lib/python3.11/urllib/request.py:525\u001b[0m, in \u001b[0;36mOpenerDirector.open\u001b[0;34m(self, fullurl, data, timeout)\u001b[0m\n\u001b[1;32m    523\u001b[0m \u001b[38;5;28;01mfor\u001b[39;00m processor \u001b[38;5;129;01min\u001b[39;00m \u001b[38;5;28mself\u001b[39m\u001b[38;5;241m.\u001b[39mprocess_response\u001b[38;5;241m.\u001b[39mget(protocol, []):\n\u001b[1;32m    524\u001b[0m     meth \u001b[38;5;241m=\u001b[39m \u001b[38;5;28mgetattr\u001b[39m(processor, meth_name)\n\u001b[0;32m--> 525\u001b[0m     response \u001b[38;5;241m=\u001b[39m \u001b[43mmeth\u001b[49m\u001b[43m(\u001b[49m\u001b[43mreq\u001b[49m\u001b[43m,\u001b[49m\u001b[43m \u001b[49m\u001b[43mresponse\u001b[49m\u001b[43m)\u001b[49m\n\u001b[1;32m    527\u001b[0m \u001b[38;5;28;01mreturn\u001b[39;00m response\n",
      "File \u001b[0;32m/opt/homebrew/Cellar/python@3.11/3.11.6_1/Frameworks/Python.framework/Versions/3.11/lib/python3.11/urllib/request.py:634\u001b[0m, in \u001b[0;36mHTTPErrorProcessor.http_response\u001b[0;34m(self, request, response)\u001b[0m\n\u001b[1;32m    631\u001b[0m \u001b[38;5;66;03m# According to RFC 2616, \"2xx\" code indicates that the client's\u001b[39;00m\n\u001b[1;32m    632\u001b[0m \u001b[38;5;66;03m# request was successfully received, understood, and accepted.\u001b[39;00m\n\u001b[1;32m    633\u001b[0m \u001b[38;5;28;01mif\u001b[39;00m \u001b[38;5;129;01mnot\u001b[39;00m (\u001b[38;5;241m200\u001b[39m \u001b[38;5;241m<\u001b[39m\u001b[38;5;241m=\u001b[39m code \u001b[38;5;241m<\u001b[39m \u001b[38;5;241m300\u001b[39m):\n\u001b[0;32m--> 634\u001b[0m     response \u001b[38;5;241m=\u001b[39m \u001b[38;5;28;43mself\u001b[39;49m\u001b[38;5;241;43m.\u001b[39;49m\u001b[43mparent\u001b[49m\u001b[38;5;241;43m.\u001b[39;49m\u001b[43merror\u001b[49m\u001b[43m(\u001b[49m\n\u001b[1;32m    635\u001b[0m \u001b[43m        \u001b[49m\u001b[38;5;124;43m'\u001b[39;49m\u001b[38;5;124;43mhttp\u001b[39;49m\u001b[38;5;124;43m'\u001b[39;49m\u001b[43m,\u001b[49m\u001b[43m \u001b[49m\u001b[43mrequest\u001b[49m\u001b[43m,\u001b[49m\u001b[43m \u001b[49m\u001b[43mresponse\u001b[49m\u001b[43m,\u001b[49m\u001b[43m \u001b[49m\u001b[43mcode\u001b[49m\u001b[43m,\u001b[49m\u001b[43m \u001b[49m\u001b[43mmsg\u001b[49m\u001b[43m,\u001b[49m\u001b[43m \u001b[49m\u001b[43mhdrs\u001b[49m\u001b[43m)\u001b[49m\n\u001b[1;32m    637\u001b[0m \u001b[38;5;28;01mreturn\u001b[39;00m response\n",
      "File \u001b[0;32m/opt/homebrew/Cellar/python@3.11/3.11.6_1/Frameworks/Python.framework/Versions/3.11/lib/python3.11/urllib/request.py:563\u001b[0m, in \u001b[0;36mOpenerDirector.error\u001b[0;34m(self, proto, *args)\u001b[0m\n\u001b[1;32m    561\u001b[0m \u001b[38;5;28;01mif\u001b[39;00m http_err:\n\u001b[1;32m    562\u001b[0m     args \u001b[38;5;241m=\u001b[39m (\u001b[38;5;28mdict\u001b[39m, \u001b[38;5;124m'\u001b[39m\u001b[38;5;124mdefault\u001b[39m\u001b[38;5;124m'\u001b[39m, \u001b[38;5;124m'\u001b[39m\u001b[38;5;124mhttp_error_default\u001b[39m\u001b[38;5;124m'\u001b[39m) \u001b[38;5;241m+\u001b[39m orig_args\n\u001b[0;32m--> 563\u001b[0m     \u001b[38;5;28;01mreturn\u001b[39;00m \u001b[38;5;28;43mself\u001b[39;49m\u001b[38;5;241;43m.\u001b[39;49m\u001b[43m_call_chain\u001b[49m\u001b[43m(\u001b[49m\u001b[38;5;241;43m*\u001b[39;49m\u001b[43margs\u001b[49m\u001b[43m)\u001b[49m\n",
      "File \u001b[0;32m/opt/homebrew/Cellar/python@3.11/3.11.6_1/Frameworks/Python.framework/Versions/3.11/lib/python3.11/urllib/request.py:496\u001b[0m, in \u001b[0;36mOpenerDirector._call_chain\u001b[0;34m(self, chain, kind, meth_name, *args)\u001b[0m\n\u001b[1;32m    494\u001b[0m \u001b[38;5;28;01mfor\u001b[39;00m handler \u001b[38;5;129;01min\u001b[39;00m handlers:\n\u001b[1;32m    495\u001b[0m     func \u001b[38;5;241m=\u001b[39m \u001b[38;5;28mgetattr\u001b[39m(handler, meth_name)\n\u001b[0;32m--> 496\u001b[0m     result \u001b[38;5;241m=\u001b[39m \u001b[43mfunc\u001b[49m\u001b[43m(\u001b[49m\u001b[38;5;241;43m*\u001b[39;49m\u001b[43margs\u001b[49m\u001b[43m)\u001b[49m\n\u001b[1;32m    497\u001b[0m     \u001b[38;5;28;01mif\u001b[39;00m result \u001b[38;5;129;01mis\u001b[39;00m \u001b[38;5;129;01mnot\u001b[39;00m \u001b[38;5;28;01mNone\u001b[39;00m:\n\u001b[1;32m    498\u001b[0m         \u001b[38;5;28;01mreturn\u001b[39;00m result\n",
      "File \u001b[0;32m/opt/homebrew/Cellar/python@3.11/3.11.6_1/Frameworks/Python.framework/Versions/3.11/lib/python3.11/urllib/request.py:643\u001b[0m, in \u001b[0;36mHTTPDefaultErrorHandler.http_error_default\u001b[0;34m(self, req, fp, code, msg, hdrs)\u001b[0m\n\u001b[1;32m    642\u001b[0m \u001b[38;5;28;01mdef\u001b[39;00m \u001b[38;5;21mhttp_error_default\u001b[39m(\u001b[38;5;28mself\u001b[39m, req, fp, code, msg, hdrs):\n\u001b[0;32m--> 643\u001b[0m     \u001b[38;5;28;01mraise\u001b[39;00m HTTPError(req\u001b[38;5;241m.\u001b[39mfull_url, code, msg, hdrs, fp)\n",
      "\u001b[0;31mHTTPError\u001b[0m: HTTP Error 403: Forbidden"
     ]
    }
   ],
   "source": [
    "# load the data from the pickle file in the data/ directory\n",
    "df = pd.read_pickle('data/words_df.pkl')"
   ]
  },
  {
   "cell_type": "code",
   "execution_count": 3,
   "metadata": {},
   "outputs": [
    {
     "data": {
      "text/html": [
       "<div>\n",
       "<style scoped>\n",
       "    .dataframe tbody tr th:only-of-type {\n",
       "        vertical-align: middle;\n",
       "    }\n",
       "\n",
       "    .dataframe tbody tr th {\n",
       "        vertical-align: top;\n",
       "    }\n",
       "\n",
       "    .dataframe thead th {\n",
       "        text-align: right;\n",
       "    }\n",
       "</style>\n",
       "<table border=\"1\" class=\"dataframe\">\n",
       "  <thead>\n",
       "    <tr style=\"text-align: right;\">\n",
       "      <th></th>\n",
       "      <th>WordID</th>\n",
       "      <th>GrayLevel</th>\n",
       "      <th>BoundingBox</th>\n",
       "      <th>GrammaticalTag</th>\n",
       "      <th>Transcription</th>\n",
       "      <th>ImageData</th>\n",
       "    </tr>\n",
       "  </thead>\n",
       "  <tbody>\n",
       "    <tr>\n",
       "      <th>0</th>\n",
       "      <td>a01-000u-03-00</td>\n",
       "      <td>156</td>\n",
       "      <td>(430, 1290, 177, 59)</td>\n",
       "      <td>NPTS</td>\n",
       "      <td>M Ps</td>\n",
       "      <td>[[[0.84313726], [0.79607844], [0.9490196], [0....</td>\n",
       "    </tr>\n",
       "    <tr>\n",
       "      <th>1</th>\n",
       "      <td>a01-000u-03-01</td>\n",
       "      <td>156</td>\n",
       "      <td>(705, 1296, 431, 54)</td>\n",
       "      <td>NR</td>\n",
       "      <td>tomorrow</td>\n",
       "      <td>[[[0.9843137], [0.9843137], [0.9843137], [0.98...</td>\n",
       "    </tr>\n",
       "    <tr>\n",
       "      <th>2</th>\n",
       "      <td>a01-000u-03-02</td>\n",
       "      <td>156</td>\n",
       "      <td>(1154, 1346, 9, 10)</td>\n",
       "      <td>.</td>\n",
       "      <td>.</td>\n",
       "      <td>[[[0.9843137], [0.9843137], [0.9843137], [0.98...</td>\n",
       "    </tr>\n",
       "    <tr>\n",
       "      <th>3</th>\n",
       "      <td>a01-000u-03-03</td>\n",
       "      <td>156</td>\n",
       "      <td>(1269, 1292, 320, 68)</td>\n",
       "      <td>NPT</td>\n",
       "      <td>Mr.</td>\n",
       "      <td>[[[0.9843137], [0.9843137], [0.9843137], [0.98...</td>\n",
       "    </tr>\n",
       "    <tr>\n",
       "      <th>4</th>\n",
       "      <td>a01-000u-03-04</td>\n",
       "      <td>156</td>\n",
       "      <td>(1570, 1297, 252, 56)</td>\n",
       "      <td>NP</td>\n",
       "      <td>Michael</td>\n",
       "      <td>[[[0.90588236], [0.7372549], [0.30588236], [0....</td>\n",
       "    </tr>\n",
       "  </tbody>\n",
       "</table>\n",
       "</div>"
      ],
      "text/plain": [
       "           WordID  GrayLevel            BoundingBox GrammaticalTag  \\\n",
       "0  a01-000u-03-00        156   (430, 1290, 177, 59)           NPTS   \n",
       "1  a01-000u-03-01        156   (705, 1296, 431, 54)             NR   \n",
       "2  a01-000u-03-02        156    (1154, 1346, 9, 10)              .   \n",
       "3  a01-000u-03-03        156  (1269, 1292, 320, 68)            NPT   \n",
       "4  a01-000u-03-04        156  (1570, 1297, 252, 56)             NP   \n",
       "\n",
       "  Transcription                                          ImageData  \n",
       "0          M Ps  [[[0.84313726], [0.79607844], [0.9490196], [0....  \n",
       "1      tomorrow  [[[0.9843137], [0.9843137], [0.9843137], [0.98...  \n",
       "2             .  [[[0.9843137], [0.9843137], [0.9843137], [0.98...  \n",
       "3           Mr.  [[[0.9843137], [0.9843137], [0.9843137], [0.98...  \n",
       "4       Michael  [[[0.90588236], [0.7372549], [0.30588236], [0....  "
      ]
     },
     "execution_count": 3,
     "metadata": {},
     "output_type": "execute_result"
    }
   ],
   "source": [
    "df.head()"
   ]
  },
  {
   "cell_type": "code",
   "execution_count": 4,
   "metadata": {},
   "outputs": [
    {
     "name": "stdout",
     "output_type": "stream",
     "text": [
      "(18863, 6)\n"
     ]
    }
   ],
   "source": [
    "print(df.shape)"
   ]
  },
  {
   "cell_type": "markdown",
   "metadata": {},
   "source": [
    "### Splitting train, validation, and test data"
   ]
  },
  {
   "cell_type": "code",
   "execution_count": 5,
   "metadata": {},
   "outputs": [
    {
     "name": "stdout",
     "output_type": "stream",
     "text": [
      "18863\n",
      "0\n"
     ]
    }
   ],
   "source": [
    "count=0\n",
    "c2=0\n",
    "for i, img in enumerate(df['ImageData']):\n",
    "    try:\n",
    "        if img.shape == (32, 128, 1):  # Replace with your expected dimensions\n",
    "            count+=1\n",
    "    except AttributeError:\n",
    "        print(f\"{df['WordID'][i]} will be deleted\")\n",
    "        df.drop([i], inplace=True)\n",
    "        c2+=1\n",
    "print(count)\n",
    "print(c2)"
   ]
  },
  {
   "cell_type": "markdown",
   "metadata": {},
   "source": [
    "2 images data weren't loaded into the dataframe. Delete those rows."
   ]
  },
  {
   "cell_type": "code",
   "execution_count": 6,
   "metadata": {},
   "outputs": [
    {
     "name": "stdout",
     "output_type": "stream",
     "text": [
      "4582\n"
     ]
    }
   ],
   "source": [
    "print(len(df['Transcription'].unique()))"
   ]
  },
  {
   "cell_type": "code",
   "execution_count": 7,
   "metadata": {},
   "outputs": [
    {
     "name": "stdout",
     "output_type": "stream",
     "text": [
      "18\n"
     ]
    }
   ],
   "source": [
    "# calculate the longest word\n",
    "max_len = 0\n",
    "for word in df['Transcription']:\n",
    "    if len(word) > max_len:\n",
    "        max_len = len(word)\n",
    "print(max_len)"
   ]
  },
  {
   "cell_type": "code",
   "execution_count": 8,
   "metadata": {},
   "outputs": [],
   "source": [
    "# Split data into training and validation sets\n",
    "X = np.stack(df['ImageData'].values)  # Convert the list of images to a numpy array\n",
    "y = df['Transcription'].values"
   ]
  },
  {
   "cell_type": "code",
   "execution_count": 9,
   "metadata": {},
   "outputs": [
    {
     "name": "stdout",
     "output_type": "stream",
     "text": [
      ",      1194\n",
      ".       890\n",
      "the     840\n",
      "\"       538\n",
      "of      451\n",
      "to      396\n",
      "and     365\n",
      "a       314\n",
      "in      285\n",
      "'       253\n",
      "Name: count, dtype: int64\n"
     ]
    }
   ],
   "source": [
    "# print the top 40 value counts of the array y\n",
    "print(pd.Series(y).value_counts()[:10])"
   ]
  },
  {
   "cell_type": "code",
   "execution_count": 10,
   "metadata": {},
   "outputs": [],
   "source": [
    "def encode_to_labels(y):\n",
    "    # create a list of the chartcaters vocabulary ordered alphabetically\n",
    "    vocabulary = sorted(set(''.join(y)))\n",
    "\n",
    "    # create a dictionary mapping each character to the vocabulary list index. do not use 0.\n",
    "    char_to_num = {char:idx+1 for idx, char in enumerate(vocabulary)}\n",
    "\n",
    "    # transform y values to numerical using the char_to_num dictionary, using 0 for padding. the length of each word is the maximum length of the words in the dataset\n",
    "    y_encoded = []\n",
    "    for word in y:\n",
    "        word_encoded = [char_to_num[char] for char in word]\n",
    "        y_encoded.append(word_encoded)\n",
    "\n",
    "    # pad the encoded values (fill with 0s to the right)\n",
    "    y_encoded = tf.keras.preprocessing.sequence.pad_sequences(y_encoded, padding='post')\n",
    "\n",
    "    return y_encoded\n",
    "\n",
    "y = encode_to_labels(y)"
   ]
  },
  {
   "cell_type": "code",
   "execution_count": 11,
   "metadata": {},
   "outputs": [
    {
     "name": "stdout",
     "output_type": "stream",
     "text": [
      "(18863, 32, 128, 1)\n",
      "(18863, 18)\n"
     ]
    }
   ],
   "source": [
    "print(X.shape)\n",
    "print(y.shape)"
   ]
  },
  {
   "cell_type": "code",
   "execution_count": 12,
   "metadata": {},
   "outputs": [
    {
     "name": "stdout",
     "output_type": "stream",
     "text": [
      "(15090, 32, 128, 1)\n",
      "(15090, 18)\n",
      "(1886, 32, 128, 1)\n",
      "(1886, 18)\n",
      "(1887, 32, 128, 1)\n",
      "(1887, 18)\n"
     ]
    }
   ],
   "source": [
    "TRAIN_SPLIT = 0.8\n",
    "VAL_SPLIT = 0.1\n",
    "TEST_SPLIT = 0.1\n",
    "\n",
    "# split the data into training, validation and test sets\n",
    "X_train = X[:int(X.shape[0]*TRAIN_SPLIT)]\n",
    "y_train = y[:int(y.shape[0]*TRAIN_SPLIT)]\n",
    "\n",
    "X_val = X[int(X.shape[0]*TRAIN_SPLIT):int(X.shape[0]*(TRAIN_SPLIT+VAL_SPLIT))]\n",
    "y_val = y[int(y.shape[0]*TRAIN_SPLIT):int(y.shape[0]*(TRAIN_SPLIT+VAL_SPLIT))]\n",
    "\n",
    "X_test = X[int(X.shape[0]*(TRAIN_SPLIT+VAL_SPLIT)):]\n",
    "y_test = y[int(y.shape[0]*(TRAIN_SPLIT+VAL_SPLIT)):]\n",
    "\n",
    "print(X_train.shape)\n",
    "print(y_train.shape)\n",
    "print(X_val.shape)\n",
    "print(y_val.shape)\n",
    "print(X_test.shape)\n",
    "print(y_test.shape)"
   ]
  },
  {
   "cell_type": "markdown",
   "metadata": {},
   "source": [
    "### Neural Networks"
   ]
  },
  {
   "cell_type": "markdown",
   "metadata": {},
   "source": [
    "#### (Model 1) Starting simple"
   ]
  },
  {
   "cell_type": "code",
   "execution_count": 23,
   "metadata": {},
   "outputs": [
    {
     "name": "stdout",
     "output_type": "stream",
     "text": [
      "Model: \"sequential_5\"\n",
      "_________________________________________________________________\n",
      " Layer (type)                Output Shape              Param #   \n",
      "=================================================================\n",
      " conv2d_9 (Conv2D)           (None, 30, 126, 32)       320       \n",
      "                                                                 \n",
      " max_pooling2d_6 (MaxPoolin  (None, 15, 63, 32)        0         \n",
      " g2D)                                                            \n",
      "                                                                 \n",
      " conv2d_10 (Conv2D)          (None, 13, 61, 64)        18496     \n",
      "                                                                 \n",
      " max_pooling2d_7 (MaxPoolin  (None, 6, 30, 64)         0         \n",
      " g2D)                                                            \n",
      "                                                                 \n",
      " flatten_5 (Flatten)         (None, 11520)             0         \n",
      "                                                                 \n",
      " dense_10 (Dense)            (None, 128)               1474688   \n",
      "                                                                 \n",
      " dense_11 (Dense)            (None, 18)                2322      \n",
      "                                                                 \n",
      "=================================================================\n",
      "Total params: 1495826 (5.71 MB)\n",
      "Trainable params: 1495826 (5.71 MB)\n",
      "Non-trainable params: 0 (0.00 Byte)\n",
      "_________________________________________________________________\n"
     ]
    }
   ],
   "source": [
    "import tensorflow as tf\n",
    "from tensorflow.keras import layers, models\n",
    "\n",
    "# Define a simple CNN model\n",
    "def create_basic_cnn(input_shape, output_length):\n",
    "    model = models.Sequential()\n",
    "    \n",
    "    # Convolutional layer that extracts features from the input images\n",
    "    model.add(layers.Conv2D(32, (3, 3), activation='relu', input_shape=input_shape))\n",
    "    model.add(layers.MaxPooling2D((2, 2)))\n",
    "    \n",
    "    # Additional convolutional layer for more complex features\n",
    "    model.add(layers.Conv2D(64, (3, 3), activation='relu'))\n",
    "    model.add(layers.MaxPooling2D((2, 2)))\n",
    "    \n",
    "    # Flatten the 3D output to 1D\n",
    "    model.add(layers.Flatten())\n",
    "    \n",
    "    # Dense layer for prediction\n",
    "    model.add(layers.Dense(128, activation='relu'))\n",
    "    \n",
    "    # Output layer with 'output_length' units, one for each time step in the output sequence\n",
    "    model.add(layers.Dense(output_length, activation='softmax'))\n",
    "    \n",
    "    return model\n",
    "\n",
    "# Create the model\n",
    "input_shape = X_train.shape[1:]  # (32, 128, 1)\n",
    "output_length = y_train.shape[1]  # 18\n",
    "model = create_basic_cnn(input_shape, output_length)\n",
    "\n",
    "# Compile the model\n",
    "model.compile(optimizer='adam',\n",
    "              loss='categorical_crossentropy', \n",
    "              metrics=['accuracy'])\n",
    "\n",
    "model.summary()"
   ]
  },
  {
   "cell_type": "code",
   "execution_count": 24,
   "metadata": {},
   "outputs": [
    {
     "name": "stdout",
     "output_type": "stream",
     "text": [
      "Epoch 1/50\n",
      "472/472 [==============================] - 11s 22ms/step - loss: 3319556096.0000 - accuracy: 0.4476 - val_loss: 10299699200.0000 - val_accuracy: 0.5037\n",
      "Epoch 2/50\n",
      "472/472 [==============================] - 10s 21ms/step - loss: 82456158208.0000 - accuracy: 0.4517 - val_loss: 122766467072.0000 - val_accuracy: 0.5037\n",
      "Epoch 3/50\n",
      "472/472 [==============================] - 11s 22ms/step - loss: 464277241856.0000 - accuracy: 0.4517 - val_loss: 485466701824.0000 - val_accuracy: 0.5037\n",
      "Epoch 4/50\n",
      "472/472 [==============================] - 10s 22ms/step - loss: 1442289680384.0000 - accuracy: 0.4517 - val_loss: 1244284321792.0000 - val_accuracy: 0.5037\n",
      "Epoch 5/50\n",
      "472/472 [==============================] - 10s 22ms/step - loss: 3296311377920.0000 - accuracy: 0.4517 - val_loss: 2590478958592.0000 - val_accuracy: 0.5037\n",
      "Epoch 6/50\n",
      "472/472 [==============================] - 10s 22ms/step - loss: 6268163981312.0000 - accuracy: 0.4517 - val_loss: 4635365474304.0000 - val_accuracy: 0.5037\n",
      "Epoch 7/50\n",
      "472/472 [==============================] - 10s 22ms/step - loss: 10682020921344.0000 - accuracy: 0.4517 - val_loss: 7471942336512.0000 - val_accuracy: 0.5037\n",
      "Epoch 8/50\n",
      "472/472 [==============================] - 11s 22ms/step - loss: 16764251406336.0000 - accuracy: 0.4517 - val_loss: 11360341590016.0000 - val_accuracy: 0.5037\n",
      "Epoch 9/50\n",
      "472/472 [==============================] - 10s 22ms/step - loss: 25040938598400.0000 - accuracy: 0.4517 - val_loss: 16330460758016.0000 - val_accuracy: 0.5037\n",
      "Epoch 10/50\n",
      "472/472 [==============================] - 10s 22ms/step - loss: 35227980267520.0000 - accuracy: 0.4517 - val_loss: 22552728567808.0000 - val_accuracy: 0.5037\n",
      "Epoch 11/50\n",
      "472/472 [==============================] - 10s 22ms/step - loss: 47660052512768.0000 - accuracy: 0.4517 - val_loss: 30226635554816.0000 - val_accuracy: 0.5037\n",
      "Epoch 12/50\n",
      "472/472 [==============================] - 10s 22ms/step - loss: 63374217969664.0000 - accuracy: 0.4517 - val_loss: 39301110824960.0000 - val_accuracy: 0.5037\n",
      "Epoch 13/50\n",
      "472/472 [==============================] - 10s 22ms/step - loss: 81133677051904.0000 - accuracy: 0.4517 - val_loss: 50208029278208.0000 - val_accuracy: 0.5037\n",
      "Epoch 14/50\n",
      "472/472 [==============================] - 11s 22ms/step - loss: 103113490956288.0000 - accuracy: 0.4517 - val_loss: 62480122380288.0000 - val_accuracy: 0.5037\n",
      "Epoch 15/50\n",
      "472/472 [==============================] - 11s 23ms/step - loss: 127861864267776.0000 - accuracy: 0.4517 - val_loss: 77063784497152.0000 - val_accuracy: 0.5037\n",
      "Epoch 16/50\n",
      "472/472 [==============================] - 11s 23ms/step - loss: 156570717519872.0000 - accuracy: 0.4517 - val_loss: 93583017246720.0000 - val_accuracy: 0.5037\n",
      "Epoch 17/50\n",
      "472/472 [==============================] - 10s 22ms/step - loss: 190215931035648.0000 - accuracy: 0.4517 - val_loss: 112763074510848.0000 - val_accuracy: 0.5037\n",
      "Epoch 18/50\n",
      "472/472 [==============================] - 10s 22ms/step - loss: 227598722400256.0000 - accuracy: 0.4517 - val_loss: 133803389485056.0000 - val_accuracy: 0.5037\n",
      "Epoch 19/50\n",
      "472/472 [==============================] - 10s 22ms/step - loss: 270080462028800.0000 - accuracy: 0.4517 - val_loss: 157458181914624.0000 - val_accuracy: 0.5037\n",
      "Epoch 20/50\n",
      "472/472 [==============================] - 11s 23ms/step - loss: 315408036921344.0000 - accuracy: 0.4517 - val_loss: 184436465336320.0000 - val_accuracy: 0.5037\n",
      "Epoch 21/50\n",
      "472/472 [==============================] - 10s 22ms/step - loss: 368120472535040.0000 - accuracy: 0.4517 - val_loss: 213831724826624.0000 - val_accuracy: 0.5037\n",
      "Epoch 22/50\n",
      "472/472 [==============================] - 10s 22ms/step - loss: 426977060192256.0000 - accuracy: 0.4517 - val_loss: 246336339312640.0000 - val_accuracy: 0.5037\n",
      "Epoch 23/50\n",
      "472/472 [==============================] - 10s 22ms/step - loss: 491837810802688.0000 - accuracy: 0.4517 - val_loss: 282766822342656.0000 - val_accuracy: 0.5037\n",
      "Epoch 24/50\n",
      "472/472 [==============================] - 11s 23ms/step - loss: 562502739951616.0000 - accuracy: 0.4517 - val_loss: 321822268588032.0000 - val_accuracy: 0.5037\n",
      "Epoch 25/50\n",
      "472/472 [==============================] - 10s 22ms/step - loss: 639013958451200.0000 - accuracy: 0.4517 - val_loss: 365850615873536.0000 - val_accuracy: 0.5037\n",
      "Epoch 26/50\n",
      "472/472 [==============================] - 10s 22ms/step - loss: 725238111272960.0000 - accuracy: 0.4517 - val_loss: 413087572164608.0000 - val_accuracy: 0.5037\n",
      "Epoch 27/50\n",
      "472/472 [==============================] - 11s 23ms/step - loss: 817079007576064.0000 - accuracy: 0.4517 - val_loss: 464829512941568.0000 - val_accuracy: 0.5037\n",
      "Epoch 28/50\n",
      "472/472 [==============================] - 11s 23ms/step - loss: 918585861996544.0000 - accuracy: 0.4517 - val_loss: 520207009316864.0000 - val_accuracy: 0.5037\n",
      "Epoch 29/50\n",
      "472/472 [==============================] - 11s 23ms/step - loss: 1026299011268608.0000 - accuracy: 0.4517 - val_loss: 580919089954816.0000 - val_accuracy: 0.5037\n",
      "Epoch 30/50\n",
      "472/472 [==============================] - 10s 22ms/step - loss: 1147948121456640.0000 - accuracy: 0.4517 - val_loss: 647402163798016.0000 - val_accuracy: 0.5037\n",
      "Epoch 31/50\n",
      "472/472 [==============================] - 10s 22ms/step - loss: 1277143824728064.0000 - accuracy: 0.4517 - val_loss: 716961709293568.0000 - val_accuracy: 0.5037\n",
      "Epoch 32/50\n",
      "472/472 [==============================] - 10s 22ms/step - loss: 1415369428303872.0000 - accuracy: 0.4517 - val_loss: 794474594697216.0000 - val_accuracy: 0.5037\n",
      "Epoch 33/50\n",
      "472/472 [==============================] - 10s 22ms/step - loss: 1565068902793216.0000 - accuracy: 0.4517 - val_loss: 874974898290688.0000 - val_accuracy: 0.5037\n",
      "Epoch 34/50\n",
      "472/472 [==============================] - 10s 22ms/step - loss: 1724363334221824.0000 - accuracy: 0.4517 - val_loss: 961305754206208.0000 - val_accuracy: 0.5037\n",
      "Epoch 35/50\n",
      "472/472 [==============================] - 10s 22ms/step - loss: 1885531445133312.0000 - accuracy: 0.4517 - val_loss: 1055042878570496.0000 - val_accuracy: 0.5037\n",
      "Epoch 36/50\n",
      "472/472 [==============================] - 10s 22ms/step - loss: 2075161096355840.0000 - accuracy: 0.4517 - val_loss: 1153842158764032.0000 - val_accuracy: 0.5037\n",
      "Epoch 37/50\n",
      "472/472 [==============================] - 10s 22ms/step - loss: 2270541440352256.0000 - accuracy: 0.4517 - val_loss: 1259840475234304.0000 - val_accuracy: 0.5037\n",
      "Epoch 38/50\n",
      "472/472 [==============================] - 11s 22ms/step - loss: 2470517802008576.0000 - accuracy: 0.4517 - val_loss: 1373916551446528.0000 - val_accuracy: 0.5037\n",
      "Epoch 39/50\n",
      "472/472 [==============================] - 11s 23ms/step - loss: 2687575785472000.0000 - accuracy: 0.4517 - val_loss: 1494024775008256.0000 - val_accuracy: 0.5037\n",
      "Epoch 40/50\n",
      "472/472 [==============================] - 10s 22ms/step - loss: 2927308243468288.0000 - accuracy: 0.4517 - val_loss: 1621481687613440.0000 - val_accuracy: 0.5037\n",
      "Epoch 41/50\n",
      "472/472 [==============================] - 11s 23ms/step - loss: 3180380333015040.0000 - accuracy: 0.4517 - val_loss: 1755956039909376.0000 - val_accuracy: 0.5037\n",
      "Epoch 42/50\n",
      "472/472 [==============================] - 10s 22ms/step - loss: 3434317321601024.0000 - accuracy: 0.4517 - val_loss: 1898710283845632.0000 - val_accuracy: 0.5037\n",
      "Epoch 43/50\n",
      "472/472 [==============================] - 11s 23ms/step - loss: 3711794757500928.0000 - accuracy: 0.4517 - val_loss: 2050203309834240.0000 - val_accuracy: 0.5037\n",
      "Epoch 44/50\n",
      "472/472 [==============================] - 12s 25ms/step - loss: 4001987175645184.0000 - accuracy: 0.4517 - val_loss: 2209035629625344.0000 - val_accuracy: 0.5037\n",
      "Epoch 45/50\n",
      "472/472 [==============================] - 12s 26ms/step - loss: 4316253153918976.0000 - accuracy: 0.4517 - val_loss: 2378320154984448.0000 - val_accuracy: 0.5037\n",
      "Epoch 46/50\n",
      "472/472 [==============================] - 11s 23ms/step - loss: 4641930860298240.0000 - accuracy: 0.4517 - val_loss: 2555868197421056.0000 - val_accuracy: 0.5037\n",
      "Epoch 47/50\n",
      "472/472 [==============================] - 11s 23ms/step - loss: 4984464702701568.0000 - accuracy: 0.4517 - val_loss: 2740464549625856.0000 - val_accuracy: 0.5037\n",
      "Epoch 48/50\n",
      "472/472 [==============================] - 10s 22ms/step - loss: 5348792819777536.0000 - accuracy: 0.4517 - val_loss: 2938449388634112.0000 - val_accuracy: 0.5037\n",
      "Epoch 49/50\n",
      "472/472 [==============================] - 10s 22ms/step - loss: 5735476778500096.0000 - accuracy: 0.4517 - val_loss: 3141425516511232.0000 - val_accuracy: 0.5037\n",
      "Epoch 50/50\n",
      "472/472 [==============================] - 11s 23ms/step - loss: 6128285360586752.0000 - accuracy: 0.4517 - val_loss: 3355099602616320.0000 - val_accuracy: 0.5037\n"
     ]
    }
   ],
   "source": [
    "history = model.fit(X_train, y_train, epochs=50, validation_data=(X_val, y_val))"
   ]
  },
  {
   "cell_type": "code",
   "execution_count": 26,
   "metadata": {},
   "outputs": [
    {
     "name": "stdout",
     "output_type": "stream",
     "text": [
      "59/59 [==============================] - 0s 5ms/step - loss: 4686737569742848.0000 - accuracy: 0.4870\n",
      "Test Accuracy: 48.70%\n"
     ]
    }
   ],
   "source": [
    "test_loss, test_acc = model.evaluate(X_test, y_test)\n",
    "print(f\"Test Accuracy: {test_acc*100:.2f}%\")"
   ]
  },
  {
   "cell_type": "code",
   "execution_count": 28,
   "metadata": {},
   "outputs": [
    {
     "name": "stdout",
     "output_type": "stream",
     "text": [
      "59/59 [==============================] - 0s 6ms/step\n",
      "              precision    recall  f1-score   support\n",
      "\n",
      "           0       0.49      1.00      0.66       919\n",
      "           1       0.00      0.00      0.00       331\n",
      "           2       0.00      0.00      0.00       284\n",
      "           3       0.00      0.00      0.00       152\n",
      "           4       0.00      0.00      0.00        85\n",
      "           5       0.00      0.00      0.00        52\n",
      "           6       0.00      0.00      0.00        26\n",
      "           7       0.00      0.00      0.00        23\n",
      "           8       0.00      0.00      0.00         4\n",
      "           9       0.00      0.00      0.00         1\n",
      "          10       0.00      0.00      0.00         5\n",
      "          11       0.00      0.00      0.00         3\n",
      "          12       0.00      0.00      0.00         2\n",
      "\n",
      "    accuracy                           0.49      1887\n",
      "   macro avg       0.04      0.08      0.05      1887\n",
      "weighted avg       0.24      0.49      0.32      1887\n",
      "\n"
     ]
    },
    {
     "name": "stderr",
     "output_type": "stream",
     "text": [
      "/opt/homebrew/lib/python3.11/site-packages/sklearn/metrics/_classification.py:1344: UndefinedMetricWarning: Precision and F-score are ill-defined and being set to 0.0 in labels with no predicted samples. Use `zero_division` parameter to control this behavior.\n",
      "  _warn_prf(average, modifier, msg_start, len(result))\n",
      "/opt/homebrew/lib/python3.11/site-packages/sklearn/metrics/_classification.py:1344: UndefinedMetricWarning: Precision and F-score are ill-defined and being set to 0.0 in labels with no predicted samples. Use `zero_division` parameter to control this behavior.\n",
      "  _warn_prf(average, modifier, msg_start, len(result))\n",
      "/opt/homebrew/lib/python3.11/site-packages/sklearn/metrics/_classification.py:1344: UndefinedMetricWarning: Precision and F-score are ill-defined and being set to 0.0 in labels with no predicted samples. Use `zero_division` parameter to control this behavior.\n",
      "  _warn_prf(average, modifier, msg_start, len(result))\n"
     ]
    }
   ],
   "source": [
    "# print more metrics about the multi-class classification\n",
    "from sklearn.metrics import classification_report\n",
    "y_pred = model.predict(X_test)\n",
    "y_pred_bool = np.argmax(y_pred, axis=1)\n",
    "print(classification_report(np.argmax(y_test, axis=1), y_pred_bool))\n",
    "\n"
   ]
  },
  {
   "cell_type": "markdown",
   "metadata": {},
   "source": []
  },
  {
   "cell_type": "markdown",
   "metadata": {},
   "source": [
    "#### (Model 2) Adding Embedding layer"
   ]
  },
  {
   "cell_type": "code",
   "execution_count": 34,
   "metadata": {},
   "outputs": [
    {
     "name": "stdout",
     "output_type": "stream",
     "text": [
      "Model: \"model_1\"\n",
      "__________________________________________________________________________________________________\n",
      " Layer (type)                Output Shape                 Param #   Connected to                  \n",
      "==================================================================================================\n",
      " image_input (InputLayer)    [(None, 32, 128, 1)]         0         []                            \n",
      "                                                                                                  \n",
      " conv2d_13 (Conv2D)          (None, 32, 128, 32)          320       ['image_input[0][0]']         \n",
      "                                                                                                  \n",
      " max_pooling2d_10 (MaxPooli  (None, 16, 64, 32)           0         ['conv2d_13[0][0]']           \n",
      " ng2D)                                                                                            \n",
      "                                                                                                  \n",
      " conv2d_14 (Conv2D)          (None, 16, 64, 64)           18496     ['max_pooling2d_10[0][0]']    \n",
      "                                                                                                  \n",
      " max_pooling2d_11 (MaxPooli  (None, 8, 32, 64)            0         ['conv2d_14[0][0]']           \n",
      " ng2D)                                                                                            \n",
      "                                                                                                  \n",
      " label_input (InputLayer)    [(None, 18)]                 0         []                            \n",
      "                                                                                                  \n",
      " flatten_8 (Flatten)         (None, 16384)                0         ['max_pooling2d_11[0][0]']    \n",
      "                                                                                                  \n",
      " embedding_1 (Embedding)     (None, 18, 50)               229100    ['label_input[0][0]']         \n",
      "                                                                                                  \n",
      " dense_15 (Dense)            (None, 128)                  2097280   ['flatten_8[0][0]']           \n",
      "                                                                                                  \n",
      " flatten_9 (Flatten)         (None, 900)                  0         ['embedding_1[0][0]']         \n",
      "                                                                                                  \n",
      " concatenate_1 (Concatenate  (None, 1028)                 0         ['dense_15[0][0]',            \n",
      " )                                                                   'flatten_9[0][0]']           \n",
      "                                                                                                  \n",
      " dense_16 (Dense)            (None, 128)                  131712    ['concatenate_1[0][0]']       \n",
      "                                                                                                  \n",
      " dense_17 (Dense)            (None, 18)                   2322      ['dense_16[0][0]']            \n",
      "                                                                                                  \n",
      "==================================================================================================\n",
      "Total params: 2479230 (9.46 MB)\n",
      "Trainable params: 2479230 (9.46 MB)\n",
      "Non-trainable params: 0 (0.00 Byte)\n",
      "__________________________________________________________________________________________________\n"
     ]
    }
   ],
   "source": [
    "import tensorflow as tf\n",
    "from tensorflow.keras import layers, models\n",
    "\n",
    "def create_model_with_embedding(input_shape, output_length, num_classes):\n",
    "    # Image model\n",
    "    image_input = tf.keras.Input(shape=input_shape, name='image_input')\n",
    "    x = layers.Conv2D(32, (3, 3), activation='relu', padding='same')(image_input)\n",
    "    x = layers.MaxPooling2D((2, 2))(x)\n",
    "    x = layers.Conv2D(64, (3, 3), activation='relu', padding='same')(x)\n",
    "    x = layers.MaxPooling2D((2, 2))(x)\n",
    "    x = layers.Flatten()(x)\n",
    "    x = layers.Dense(128, activation='relu')(x)\n",
    "\n",
    "    # Label input for embedding\n",
    "    label_input = tf.keras.Input(shape=(output_length,), name='label_input')\n",
    "    label_embedding = layers.Embedding(input_dim=num_classes, output_dim=50)(label_input)\n",
    "    \n",
    "    # Combine image features with label embeddings\n",
    "    combined = layers.concatenate([x, layers.Flatten()(label_embedding)])\n",
    "    \n",
    "    # Add a dense layer\n",
    "    combined = layers.Dense(128, activation='relu')(combined)\n",
    "    \n",
    "    # Output layer\n",
    "    output = layers.Dense(num_classes, activation='softmax')(combined)\n",
    "\n",
    "    # Create model\n",
    "    model = models.Model(inputs=[image_input, label_input], outputs=output)\n",
    "\n",
    "    return model\n",
    "\n",
    "# Define your parameters\n",
    "input_shape = (32, 128, 1) \n",
    "output_length = 18\n",
    "num_classes = 18\n",
    "\n",
    "# Create and compile the model\n",
    "model = create_model_with_embedding(input_shape, output_length, num_classes)\n",
    "model.compile(optimizer='adam',\n",
    "              loss='categorical_crossentropy', \n",
    "              metrics=['accuracy'])\n",
    "\n",
    "model.summary()\n"
   ]
  },
  {
   "cell_type": "code",
   "execution_count": 35,
   "metadata": {},
   "outputs": [
    {
     "name": "stdout",
     "output_type": "stream",
     "text": [
      "Epoch 1/10\n",
      "472/472 [==============================] - 14s 28ms/step - loss: 279384424448.0000 - accuracy: 0.4496 - val_loss: 1069992181760.0000 - val_accuracy: 0.5037\n",
      "Epoch 2/10\n",
      "472/472 [==============================] - 13s 27ms/step - loss: 18141994287104.0000 - accuracy: 0.4517 - val_loss: 31000864227328.0000 - val_accuracy: 0.5037\n",
      "Epoch 3/10\n",
      "472/472 [==============================] - 13s 27ms/step - loss: 167803013300224.0000 - accuracy: 0.4517 - val_loss: 196660848230400.0000 - val_accuracy: 0.5037\n",
      "Epoch 4/10\n",
      "472/472 [==============================] - 13s 28ms/step - loss: 725924232298496.0000 - accuracy: 0.4517 - val_loss: 670357488926720.0000 - val_accuracy: 0.5037\n",
      "Epoch 5/10\n",
      "472/472 [==============================] - 13s 27ms/step - loss: 2057272960221184.0000 - accuracy: 0.4517 - val_loss: 1689746971557888.0000 - val_accuracy: 0.5037\n",
      "Epoch 6/10\n",
      "472/472 [==============================] - 13s 27ms/step - loss: 4675158874783744.0000 - accuracy: 0.4517 - val_loss: 3550171111620608.0000 - val_accuracy: 0.5037\n",
      "Epoch 7/10\n",
      "472/472 [==============================] - 13s 27ms/step - loss: 9224888598396928.0000 - accuracy: 0.4517 - val_loss: 6574574338572288.0000 - val_accuracy: 0.5037\n",
      "Epoch 8/10\n",
      "472/472 [==============================] - 13s 27ms/step - loss: 16128518098255872.0000 - accuracy: 0.4517 - val_loss: 11138336257212416.0000 - val_accuracy: 0.5037\n",
      "Epoch 9/10\n",
      "472/472 [==============================] - 13s 27ms/step - loss: 26544491322146816.0000 - accuracy: 0.4517 - val_loss: 17532849997479936.0000 - val_accuracy: 0.5037\n",
      "Epoch 10/10\n",
      "472/472 [==============================] - 13s 27ms/step - loss: 40496061223010304.0000 - accuracy: 0.4517 - val_loss: 26256427865604096.0000 - val_accuracy: 0.5037\n"
     ]
    }
   ],
   "source": [
    "history = model.fit([X_train, y_train],  # Images and labels as input\n",
    "                    y_train,  # Labels as targets\n",
    "                    epochs=10,\n",
    "                    validation_data=([X_val, y_val], y_val))"
   ]
  },
  {
   "cell_type": "code",
   "execution_count": null,
   "metadata": {},
   "outputs": [],
   "source": []
  },
  {
   "cell_type": "code",
   "execution_count": 37,
   "metadata": {},
   "outputs": [
    {
     "name": "stdout",
     "output_type": "stream",
     "text": [
      "59/59 [==============================] - 0s 7ms/step - loss: 36361201717870592.0000 - accuracy: 0.4870\n",
      "Test Accuracy: 48.70%\n"
     ]
    }
   ],
   "source": [
    "test_loss, test_acc = model.evaluate([X_test, y_test], y_test)\n",
    "print(f\"Test Accuracy: {test_acc*100:.2f}%\")"
   ]
  },
  {
   "cell_type": "code",
   "execution_count": null,
   "metadata": {},
   "outputs": [],
   "source": []
  }
 ],
 "metadata": {
  "kernelspec": {
   "display_name": "Python 3",
   "language": "python",
   "name": "python3"
  },
  "language_info": {
   "codemirror_mode": {
    "name": "ipython",
    "version": 3
   },
   "file_extension": ".py",
   "mimetype": "text/x-python",
   "name": "python",
   "nbconvert_exporter": "python",
   "pygments_lexer": "ipython3",
   "version": "3.11.6"
  }
 },
 "nbformat": 4,
 "nbformat_minor": 2
}
