{
 "cells": [
  {
   "cell_type": "markdown",
   "metadata": {},
   "source": [
    "### Import the necessary libraries"
   ]
  },
  {
   "cell_type": "code",
   "execution_count": 2,
   "metadata": {},
   "outputs": [],
   "source": [
    "import pandas as pd\n",
    "import tensorflow as tf\n",
    "import numpy as np\n",
    "from sklearn.model_selection import train_test_split\n",
    "from keras.models import Sequential\n",
    "from keras.layers import Dense, Dropout, Flatten\n",
    "from keras.layers import Conv2D, MaxPooling2D\n",
    "from keras.utils import to_categorical\n",
    "from keras import layers, models\n",
    "import requests"
   ]
  },
  {
   "cell_type": "markdown",
   "metadata": {},
   "source": [
    "### Loading the data"
   ]
  },
  {
   "cell_type": "code",
   "execution_count": 3,
   "metadata": {},
   "outputs": [],
   "source": [
    "# load the data\n",
    "df = pd.read_pickle('data/words_df.pkl.gz')"
   ]
  },
  {
   "cell_type": "code",
   "execution_count": 47,
   "metadata": {},
   "outputs": [
    {
     "data": {
      "text/html": [
       "<div>\n",
       "<style scoped>\n",
       "    .dataframe tbody tr th:only-of-type {\n",
       "        vertical-align: middle;\n",
       "    }\n",
       "\n",
       "    .dataframe tbody tr th {\n",
       "        vertical-align: top;\n",
       "    }\n",
       "\n",
       "    .dataframe thead th {\n",
       "        text-align: right;\n",
       "    }\n",
       "</style>\n",
       "<table border=\"1\" class=\"dataframe\">\n",
       "  <thead>\n",
       "    <tr style=\"text-align: right;\">\n",
       "      <th></th>\n",
       "      <th>WordID</th>\n",
       "      <th>GrayLevel</th>\n",
       "      <th>BoundingBox</th>\n",
       "      <th>GrammaticalTag</th>\n",
       "      <th>Transcription</th>\n",
       "      <th>ImageData</th>\n",
       "    </tr>\n",
       "  </thead>\n",
       "  <tbody>\n",
       "    <tr>\n",
       "      <th>0</th>\n",
       "      <td>a01-000u-03-00</td>\n",
       "      <td>156</td>\n",
       "      <td>(430, 1290, 177, 59)</td>\n",
       "      <td>NPTS</td>\n",
       "      <td>M Ps</td>\n",
       "      <td>[[[0.84313726], [0.79607844], [0.9490196], [0....</td>\n",
       "    </tr>\n",
       "    <tr>\n",
       "      <th>1</th>\n",
       "      <td>a01-000u-03-01</td>\n",
       "      <td>156</td>\n",
       "      <td>(705, 1296, 431, 54)</td>\n",
       "      <td>NR</td>\n",
       "      <td>tomorrow</td>\n",
       "      <td>[[[0.9843137], [0.9843137], [0.9843137], [0.98...</td>\n",
       "    </tr>\n",
       "    <tr>\n",
       "      <th>2</th>\n",
       "      <td>a01-000u-03-02</td>\n",
       "      <td>156</td>\n",
       "      <td>(1154, 1346, 9, 10)</td>\n",
       "      <td>.</td>\n",
       "      <td>.</td>\n",
       "      <td>[[[0.9843137], [0.9843137], [0.9843137], [0.98...</td>\n",
       "    </tr>\n",
       "    <tr>\n",
       "      <th>3</th>\n",
       "      <td>a01-000u-03-03</td>\n",
       "      <td>156</td>\n",
       "      <td>(1269, 1292, 320, 68)</td>\n",
       "      <td>NPT</td>\n",
       "      <td>Mr.</td>\n",
       "      <td>[[[0.9843137], [0.9843137], [0.9843137], [0.98...</td>\n",
       "    </tr>\n",
       "    <tr>\n",
       "      <th>4</th>\n",
       "      <td>a01-000u-03-04</td>\n",
       "      <td>156</td>\n",
       "      <td>(1570, 1297, 252, 56)</td>\n",
       "      <td>NP</td>\n",
       "      <td>Michael</td>\n",
       "      <td>[[[0.90588236], [0.7372549], [0.30588236], [0....</td>\n",
       "    </tr>\n",
       "  </tbody>\n",
       "</table>\n",
       "</div>"
      ],
      "text/plain": [
       "           WordID  GrayLevel            BoundingBox GrammaticalTag  \\\n",
       "0  a01-000u-03-00        156   (430, 1290, 177, 59)           NPTS   \n",
       "1  a01-000u-03-01        156   (705, 1296, 431, 54)             NR   \n",
       "2  a01-000u-03-02        156    (1154, 1346, 9, 10)              .   \n",
       "3  a01-000u-03-03        156  (1269, 1292, 320, 68)            NPT   \n",
       "4  a01-000u-03-04        156  (1570, 1297, 252, 56)             NP   \n",
       "\n",
       "  Transcription                                          ImageData  \n",
       "0          M Ps  [[[0.84313726], [0.79607844], [0.9490196], [0....  \n",
       "1      tomorrow  [[[0.9843137], [0.9843137], [0.9843137], [0.98...  \n",
       "2             .  [[[0.9843137], [0.9843137], [0.9843137], [0.98...  \n",
       "3           Mr.  [[[0.9843137], [0.9843137], [0.9843137], [0.98...  \n",
       "4       Michael  [[[0.90588236], [0.7372549], [0.30588236], [0....  "
      ]
     },
     "execution_count": 47,
     "metadata": {},
     "output_type": "execute_result"
    }
   ],
   "source": [
    "df.head()"
   ]
  },
  {
   "cell_type": "code",
   "execution_count": 4,
   "metadata": {},
   "outputs": [
    {
     "name": "stdout",
     "output_type": "stream",
     "text": [
      "(18863, 6)\n"
     ]
    }
   ],
   "source": [
    "print(df.shape)"
   ]
  },
  {
   "cell_type": "markdown",
   "metadata": {},
   "source": [
    "### Splitting train, validation, and test data"
   ]
  },
  {
   "cell_type": "code",
   "execution_count": 5,
   "metadata": {},
   "outputs": [
    {
     "name": "stdout",
     "output_type": "stream",
     "text": [
      "18863\n",
      "0\n"
     ]
    }
   ],
   "source": [
    "count=0\n",
    "c2=0\n",
    "for i, img in enumerate(df['ImageData']):\n",
    "    try:\n",
    "        if img.shape == (32, 128, 1):  # Replace with your expected dimensions\n",
    "            count+=1\n",
    "    except AttributeError:\n",
    "        print(f\"{df['WordID'][i]} will be deleted\")\n",
    "        df.drop([i], inplace=True)\n",
    "        c2+=1\n",
    "print(count)\n",
    "print(c2)"
   ]
  },
  {
   "cell_type": "markdown",
   "metadata": {},
   "source": [
    "2 images data weren't loaded into the dataframe. Delete those rows."
   ]
  },
  {
   "cell_type": "code",
   "execution_count": 6,
   "metadata": {},
   "outputs": [
    {
     "name": "stdout",
     "output_type": "stream",
     "text": [
      "4582\n"
     ]
    }
   ],
   "source": [
    "print(len(df['Transcription'].unique()))"
   ]
  },
  {
   "cell_type": "code",
   "execution_count": 7,
   "metadata": {},
   "outputs": [
    {
     "name": "stdout",
     "output_type": "stream",
     "text": [
      "18\n"
     ]
    }
   ],
   "source": [
    "# calculate the longest word\n",
    "max_len = 0\n",
    "for word in df['Transcription']:\n",
    "    if len(word) > max_len:\n",
    "        max_len = len(word)\n",
    "print(max_len)"
   ]
  },
  {
   "cell_type": "code",
   "execution_count": 8,
   "metadata": {},
   "outputs": [],
   "source": [
    "# Split data into training and validation sets\n",
    "X = np.stack(df['ImageData'].values)  # Convert the list of images to a numpy array\n",
    "y = df['Transcription'].values"
   ]
  },
  {
   "cell_type": "code",
   "execution_count": 9,
   "metadata": {},
   "outputs": [
    {
     "name": "stdout",
     "output_type": "stream",
     "text": [
      ",      1194\n",
      ".       890\n",
      "the     840\n",
      "\"       538\n",
      "of      451\n",
      "to      396\n",
      "and     365\n",
      "a       314\n",
      "in      285\n",
      "'       253\n",
      "Name: count, dtype: int64\n"
     ]
    }
   ],
   "source": [
    "# print the top 40 value counts of the array y\n",
    "print(pd.Series(y).value_counts()[:10])"
   ]
  },
  {
   "cell_type": "code",
   "execution_count": 10,
   "metadata": {},
   "outputs": [],
   "source": [
    "def encode_to_labels(y):\n",
    "    # create a list of the chartcaters vocabulary ordered alphabetically\n",
    "    vocabulary = sorted(set(''.join(y)))\n",
    "\n",
    "    # create a dictionary mapping each character to the vocabulary list index. do not use 0.\n",
    "    char_to_num = {char:idx+1 for idx, char in enumerate(vocabulary)}\n",
    "\n",
    "    # transform y values to numerical using the char_to_num dictionary, using 0 for padding. the length of each word is the maximum length of the words in the dataset\n",
    "    y_encoded = []\n",
    "    for word in y:\n",
    "        word_encoded = [char_to_num[char] for char in word]\n",
    "        y_encoded.append(word_encoded)\n",
    "\n",
    "    # pad the encoded values (fill with 0s to the right)\n",
    "    y_encoded = tf.keras.preprocessing.sequence.pad_sequences(y_encoded, padding='post')\n",
    "\n",
    "    return y_encoded\n",
    "\n",
    "y = encode_to_labels(y)"
   ]
  },
  {
   "cell_type": "code",
   "execution_count": 11,
   "metadata": {},
   "outputs": [
    {
     "name": "stdout",
     "output_type": "stream",
     "text": [
      "(18863, 32, 128, 1)\n",
      "(18863, 18)\n"
     ]
    }
   ],
   "source": [
    "print(X.shape)\n",
    "print(y.shape)"
   ]
  },
  {
   "cell_type": "code",
   "execution_count": 12,
   "metadata": {},
   "outputs": [
    {
     "name": "stdout",
     "output_type": "stream",
     "text": [
      "(15090, 32, 128, 1)\n",
      "(15090, 18)\n",
      "(1886, 32, 128, 1)\n",
      "(1886, 18)\n",
      "(1887, 32, 128, 1)\n",
      "(1887, 18)\n"
     ]
    }
   ],
   "source": [
    "TRAIN_SPLIT = 0.8\n",
    "VAL_SPLIT = 0.1\n",
    "TEST_SPLIT = 0.1\n",
    "\n",
    "# split the data into training, validation and test sets\n",
    "X_train = X[:int(X.shape[0]*TRAIN_SPLIT)]\n",
    "y_train = y[:int(y.shape[0]*TRAIN_SPLIT)]\n",
    "\n",
    "X_val = X[int(X.shape[0]*TRAIN_SPLIT):int(X.shape[0]*(TRAIN_SPLIT+VAL_SPLIT))]\n",
    "y_val = y[int(y.shape[0]*TRAIN_SPLIT):int(y.shape[0]*(TRAIN_SPLIT+VAL_SPLIT))]\n",
    "\n",
    "X_test = X[int(X.shape[0]*(TRAIN_SPLIT+VAL_SPLIT)):]\n",
    "y_test = y[int(y.shape[0]*(TRAIN_SPLIT+VAL_SPLIT)):]\n",
    "\n",
    "print(X_train.shape)\n",
    "print(y_train.shape)\n",
    "print(X_val.shape)\n",
    "print(y_val.shape)\n",
    "print(X_test.shape)\n",
    "print(y_test.shape)"
   ]
  },
  {
   "cell_type": "markdown",
   "metadata": {},
   "source": [
    "### Neural Networks"
   ]
  },
  {
   "cell_type": "markdown",
   "metadata": {},
   "source": [
    "#### (Model 1) Starting simple"
   ]
  },
  {
   "cell_type": "code",
   "execution_count": 13,
   "metadata": {},
   "outputs": [
    {
     "name": "stdout",
     "output_type": "stream",
     "text": [
      "Model: \"sequential\"\n",
      "_________________________________________________________________\n",
      " Layer (type)                Output Shape              Param #   \n",
      "=================================================================\n",
      " conv2d (Conv2D)             (None, 30, 126, 32)       320       \n",
      "                                                                 \n",
      " max_pooling2d (MaxPooling2  (None, 15, 63, 32)        0         \n",
      " D)                                                              \n",
      "                                                                 \n",
      " conv2d_1 (Conv2D)           (None, 13, 61, 64)        18496     \n",
      "                                                                 \n",
      " max_pooling2d_1 (MaxPoolin  (None, 6, 30, 64)         0         \n",
      " g2D)                                                            \n",
      "                                                                 \n",
      " flatten (Flatten)           (None, 11520)             0         \n",
      "                                                                 \n",
      " dense (Dense)               (None, 128)               1474688   \n",
      "                                                                 \n",
      " dense_1 (Dense)             (None, 18)                2322      \n",
      "                                                                 \n",
      "=================================================================\n",
      "Total params: 1495826 (5.71 MB)\n",
      "Trainable params: 1495826 (5.71 MB)\n",
      "Non-trainable params: 0 (0.00 Byte)\n",
      "_________________________________________________________________\n"
     ]
    }
   ],
   "source": [
    "import tensorflow as tf\n",
    "from tensorflow.keras import layers, models\n",
    "\n",
    "# Define a simple CNN model\n",
    "def create_basic_cnn(input_shape, output_length):\n",
    "    model = models.Sequential()\n",
    "    \n",
    "    # Convolutional layer that extracts features from the input images\n",
    "    model.add(layers.Conv2D(32, (3, 3), activation='relu', input_shape=input_shape))\n",
    "    model.add(layers.MaxPooling2D((2, 2)))\n",
    "    \n",
    "    # Additional convolutional layer for more complex features\n",
    "    model.add(layers.Conv2D(64, (3, 3), activation='relu'))\n",
    "    model.add(layers.MaxPooling2D((2, 2)))\n",
    "    \n",
    "    # Flatten the 3D output to 1D\n",
    "    model.add(layers.Flatten())\n",
    "    \n",
    "    # Dense layer for prediction\n",
    "    model.add(layers.Dense(128, activation='relu'))\n",
    "    \n",
    "    # Output layer with 'output_length' units, one for each time step in the output sequence\n",
    "    model.add(layers.Dense(output_length, activation='softmax'))\n",
    "    \n",
    "    return model\n",
    "\n",
    "# Create the model\n",
    "input_shape = X_train.shape[1:]  # (32, 128, 1)\n",
    "output_length = y_train.shape[1]  # 18\n",
    "model = create_basic_cnn(input_shape, output_length)\n",
    "\n",
    "# Compile the model\n",
    "model.compile(optimizer='adam',\n",
    "              loss='categorical_crossentropy', \n",
    "              metrics=['accuracy'])\n",
    "\n",
    "model.summary()"
   ]
  },
  {
   "cell_type": "code",
   "execution_count": 14,
   "metadata": {},
   "outputs": [
    {
     "name": "stdout",
     "output_type": "stream",
     "text": [
      "Epoch 1/50\n",
      "472/472 [==============================] - 11s 23ms/step - loss: 3159049728.0000 - accuracy: 0.2005 - val_loss: 9233472512.0000 - val_accuracy: 0.1972\n",
      "Epoch 2/50\n",
      "472/472 [==============================] - 11s 22ms/step - loss: 81063550976.0000 - accuracy: 0.2007 - val_loss: 116465582080.0000 - val_accuracy: 0.1972\n",
      "Epoch 3/50\n",
      "472/472 [==============================] - 11s 23ms/step - loss: 469830008832.0000 - accuracy: 0.2144 - val_loss: 474895745024.0000 - val_accuracy: 0.1972\n",
      "Epoch 4/50\n",
      "472/472 [==============================] - ETA: 0s - loss: 1474319613952.0000 - accuracy: 0.2275"
     ]
    }
   ],
   "source": [
    "history = model.fit(X_train, y_train, epochs=50, validation_data=(X_val, y_val))"
   ]
  },
  {
   "cell_type": "code",
   "execution_count": null,
   "metadata": {},
   "outputs": [
    {
     "name": "stdout",
     "output_type": "stream",
     "text": [
      "59/59 [==============================] - 0s 5ms/step - loss: 4686737569742848.0000 - accuracy: 0.4870\n",
      "Test Accuracy: 48.70%\n"
     ]
    }
   ],
   "source": [
    "test_loss, test_acc = model.evaluate(X_test, y_test)\n",
    "print(f\"Test Accuracy: {test_acc*100:.2f}%\")"
   ]
  },
  {
   "cell_type": "code",
   "execution_count": null,
   "metadata": {},
   "outputs": [
    {
     "name": "stdout",
     "output_type": "stream",
     "text": [
      "59/59 [==============================] - 0s 6ms/step\n",
      "              precision    recall  f1-score   support\n",
      "\n",
      "           0       0.49      1.00      0.66       919\n",
      "           1       0.00      0.00      0.00       331\n",
      "           2       0.00      0.00      0.00       284\n",
      "           3       0.00      0.00      0.00       152\n",
      "           4       0.00      0.00      0.00        85\n",
      "           5       0.00      0.00      0.00        52\n",
      "           6       0.00      0.00      0.00        26\n",
      "           7       0.00      0.00      0.00        23\n",
      "           8       0.00      0.00      0.00         4\n",
      "           9       0.00      0.00      0.00         1\n",
      "          10       0.00      0.00      0.00         5\n",
      "          11       0.00      0.00      0.00         3\n",
      "          12       0.00      0.00      0.00         2\n",
      "\n",
      "    accuracy                           0.49      1887\n",
      "   macro avg       0.04      0.08      0.05      1887\n",
      "weighted avg       0.24      0.49      0.32      1887\n",
      "\n"
     ]
    },
    {
     "name": "stderr",
     "output_type": "stream",
     "text": [
      "/opt/homebrew/lib/python3.11/site-packages/sklearn/metrics/_classification.py:1344: UndefinedMetricWarning: Precision and F-score are ill-defined and being set to 0.0 in labels with no predicted samples. Use `zero_division` parameter to control this behavior.\n",
      "  _warn_prf(average, modifier, msg_start, len(result))\n",
      "/opt/homebrew/lib/python3.11/site-packages/sklearn/metrics/_classification.py:1344: UndefinedMetricWarning: Precision and F-score are ill-defined and being set to 0.0 in labels with no predicted samples. Use `zero_division` parameter to control this behavior.\n",
      "  _warn_prf(average, modifier, msg_start, len(result))\n",
      "/opt/homebrew/lib/python3.11/site-packages/sklearn/metrics/_classification.py:1344: UndefinedMetricWarning: Precision and F-score are ill-defined and being set to 0.0 in labels with no predicted samples. Use `zero_division` parameter to control this behavior.\n",
      "  _warn_prf(average, modifier, msg_start, len(result))\n"
     ]
    }
   ],
   "source": [
    "# print more metrics about the multi-class classification\n",
    "from sklearn.metrics import classification_report\n",
    "y_pred = model.predict(X_test)\n",
    "y_pred_bool = np.argmax(y_pred, axis=1)\n",
    "print(classification_report(np.argmax(y_test, axis=1), y_pred_bool))\n",
    "\n"
   ]
  },
  {
   "cell_type": "markdown",
   "metadata": {},
   "source": []
  },
  {
   "cell_type": "markdown",
   "metadata": {},
   "source": [
    "#### (Model 2) Adding Embedding layer"
   ]
  },
  {
   "cell_type": "code",
   "execution_count": null,
   "metadata": {},
   "outputs": [
    {
     "name": "stdout",
     "output_type": "stream",
     "text": [
      "Model: \"model_1\"\n",
      "__________________________________________________________________________________________________\n",
      " Layer (type)                Output Shape                 Param #   Connected to                  \n",
      "==================================================================================================\n",
      " image_input (InputLayer)    [(None, 32, 128, 1)]         0         []                            \n",
      "                                                                                                  \n",
      " conv2d_13 (Conv2D)          (None, 32, 128, 32)          320       ['image_input[0][0]']         \n",
      "                                                                                                  \n",
      " max_pooling2d_10 (MaxPooli  (None, 16, 64, 32)           0         ['conv2d_13[0][0]']           \n",
      " ng2D)                                                                                            \n",
      "                                                                                                  \n",
      " conv2d_14 (Conv2D)          (None, 16, 64, 64)           18496     ['max_pooling2d_10[0][0]']    \n",
      "                                                                                                  \n",
      " max_pooling2d_11 (MaxPooli  (None, 8, 32, 64)            0         ['conv2d_14[0][0]']           \n",
      " ng2D)                                                                                            \n",
      "                                                                                                  \n",
      " label_input (InputLayer)    [(None, 18)]                 0         []                            \n",
      "                                                                                                  \n",
      " flatten_8 (Flatten)         (None, 16384)                0         ['max_pooling2d_11[0][0]']    \n",
      "                                                                                                  \n",
      " embedding_1 (Embedding)     (None, 18, 50)               229100    ['label_input[0][0]']         \n",
      "                                                                                                  \n",
      " dense_15 (Dense)            (None, 128)                  2097280   ['flatten_8[0][0]']           \n",
      "                                                                                                  \n",
      " flatten_9 (Flatten)         (None, 900)                  0         ['embedding_1[0][0]']         \n",
      "                                                                                                  \n",
      " concatenate_1 (Concatenate  (None, 1028)                 0         ['dense_15[0][0]',            \n",
      " )                                                                   'flatten_9[0][0]']           \n",
      "                                                                                                  \n",
      " dense_16 (Dense)            (None, 128)                  131712    ['concatenate_1[0][0]']       \n",
      "                                                                                                  \n",
      " dense_17 (Dense)            (None, 18)                   2322      ['dense_16[0][0]']            \n",
      "                                                                                                  \n",
      "==================================================================================================\n",
      "Total params: 2479230 (9.46 MB)\n",
      "Trainable params: 2479230 (9.46 MB)\n",
      "Non-trainable params: 0 (0.00 Byte)\n",
      "__________________________________________________________________________________________________\n"
     ]
    }
   ],
   "source": [
    "import tensorflow as tf\n",
    "from tensorflow.keras import layers, models\n",
    "\n",
    "def create_model_with_embedding(input_shape, output_length, num_classes):\n",
    "    # Image model\n",
    "    image_input = tf.keras.Input(shape=input_shape, name='image_input')\n",
    "    x = layers.Conv2D(32, (3, 3), activation='relu', padding='same')(image_input)\n",
    "    x = layers.MaxPooling2D((2, 2))(x)\n",
    "    x = layers.Conv2D(64, (3, 3), activation='relu', padding='same')(x)\n",
    "    x = layers.MaxPooling2D((2, 2))(x)\n",
    "    x = layers.Flatten()(x)\n",
    "    x = layers.Dense(128, activation='relu')(x)\n",
    "\n",
    "    # Label input for embedding\n",
    "    label_input = tf.keras.Input(shape=(output_length,), name='label_input')\n",
    "    label_embedding = layers.Embedding(input_dim=num_classes, output_dim=50)(label_input)\n",
    "    \n",
    "    # Combine image features with label embeddings\n",
    "    combined = layers.concatenate([x, layers.Flatten()(label_embedding)])\n",
    "    \n",
    "    # Add a dense layer\n",
    "    combined = layers.Dense(128, activation='relu')(combined)\n",
    "    \n",
    "    # Output layer\n",
    "    output = layers.Dense(num_classes, activation='softmax')(combined)\n",
    "\n",
    "    # Create model\n",
    "    model = models.Model(inputs=[image_input, label_input], outputs=output)\n",
    "\n",
    "    return model\n",
    "\n",
    "# Define your parameters\n",
    "input_shape = (32, 128, 1) \n",
    "output_length = 18\n",
    "num_classes = 18\n",
    "\n",
    "# Create and compile the model\n",
    "model = create_model_with_embedding(input_shape, output_length, num_classes)\n",
    "model.compile(optimizer='adam',\n",
    "              loss='categorical_crossentropy', \n",
    "              metrics=['accuracy'])\n",
    "\n",
    "model.summary()\n"
   ]
  },
  {
   "cell_type": "code",
   "execution_count": null,
   "metadata": {},
   "outputs": [
    {
     "name": "stdout",
     "output_type": "stream",
     "text": [
      "Epoch 1/10\n",
      "472/472 [==============================] - 14s 28ms/step - loss: 279384424448.0000 - accuracy: 0.4496 - val_loss: 1069992181760.0000 - val_accuracy: 0.5037\n",
      "Epoch 2/10\n",
      "472/472 [==============================] - 13s 27ms/step - loss: 18141994287104.0000 - accuracy: 0.4517 - val_loss: 31000864227328.0000 - val_accuracy: 0.5037\n",
      "Epoch 3/10\n",
      "472/472 [==============================] - 13s 27ms/step - loss: 167803013300224.0000 - accuracy: 0.4517 - val_loss: 196660848230400.0000 - val_accuracy: 0.5037\n",
      "Epoch 4/10\n",
      "472/472 [==============================] - 13s 28ms/step - loss: 725924232298496.0000 - accuracy: 0.4517 - val_loss: 670357488926720.0000 - val_accuracy: 0.5037\n",
      "Epoch 5/10\n",
      "472/472 [==============================] - 13s 27ms/step - loss: 2057272960221184.0000 - accuracy: 0.4517 - val_loss: 1689746971557888.0000 - val_accuracy: 0.5037\n",
      "Epoch 6/10\n",
      "472/472 [==============================] - 13s 27ms/step - loss: 4675158874783744.0000 - accuracy: 0.4517 - val_loss: 3550171111620608.0000 - val_accuracy: 0.5037\n",
      "Epoch 7/10\n",
      "472/472 [==============================] - 13s 27ms/step - loss: 9224888598396928.0000 - accuracy: 0.4517 - val_loss: 6574574338572288.0000 - val_accuracy: 0.5037\n",
      "Epoch 8/10\n",
      "472/472 [==============================] - 13s 27ms/step - loss: 16128518098255872.0000 - accuracy: 0.4517 - val_loss: 11138336257212416.0000 - val_accuracy: 0.5037\n",
      "Epoch 9/10\n",
      "472/472 [==============================] - 13s 27ms/step - loss: 26544491322146816.0000 - accuracy: 0.4517 - val_loss: 17532849997479936.0000 - val_accuracy: 0.5037\n",
      "Epoch 10/10\n",
      "472/472 [==============================] - 13s 27ms/step - loss: 40496061223010304.0000 - accuracy: 0.4517 - val_loss: 26256427865604096.0000 - val_accuracy: 0.5037\n"
     ]
    }
   ],
   "source": [
    "history = model.fit([X_train, y_train],  # Images and labels as input\n",
    "                    y_train,  # Labels as targets\n",
    "                    epochs=10,\n",
    "                    validation_data=([X_val, y_val], y_val))"
   ]
  },
  {
   "cell_type": "code",
   "execution_count": null,
   "metadata": {},
   "outputs": [
    {
     "name": "stdout",
     "output_type": "stream",
     "text": [
      "59/59 [==============================] - 0s 7ms/step - loss: 36361201717870592.0000 - accuracy: 0.4870\n",
      "Test Accuracy: 48.70%\n"
     ]
    }
   ],
   "source": [
    "test_loss, test_acc = model.evaluate([X_test, y_test], y_test)\n",
    "print(f\"Test Accuracy: {test_acc*100:.2f}%\")"
   ]
  }
 ],
 "metadata": {
  "kernelspec": {
   "display_name": "Python 3",
   "language": "python",
   "name": "python3"
  },
  "language_info": {
   "codemirror_mode": {
    "name": "ipython",
    "version": 3
   },
   "file_extension": ".py",
   "mimetype": "text/x-python",
   "name": "python",
   "nbconvert_exporter": "python",
   "pygments_lexer": "ipython3",
   "version": "3.11.6"
  }
 },
 "nbformat": 4,
 "nbformat_minor": 2
}
