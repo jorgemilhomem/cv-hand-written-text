{
 "cells": [
  {
   "cell_type": "markdown",
   "metadata": {},
   "source": [
    "### Import the necessary libraries"
   ]
  },
  {
   "cell_type": "code",
   "execution_count": 1,
   "metadata": {},
   "outputs": [],
   "source": [
    "import pandas as pd\n",
    "import tensorflow as tf\n",
    "import numpy as np\n",
    "from sklearn.model_selection import train_test_split\n",
    "from keras.models import Sequential\n",
    "from keras.layers import Dense, Dropout, Flatten\n",
    "from keras.layers import Conv2D, MaxPooling2D\n",
    "from keras.utils import to_categorical\n",
    "from keras import layers, models\n",
    "import requests\n",
    "import matplotlib.pyplot as plt"
   ]
  },
  {
   "cell_type": "markdown",
   "metadata": {},
   "source": [
    "### Loading the data"
   ]
  },
  {
   "cell_type": "code",
   "execution_count": 39,
   "metadata": {},
   "outputs": [],
   "source": [
    "# load the data locally\n",
    "df = pd.read_pickle('data/words_df_all.pkl.gz')"
   ]
  },
  {
   "cell_type": "code",
   "execution_count": 3,
   "metadata": {},
   "outputs": [
    {
     "data": {
      "text/plain": [
       "\"# Load the data in Google Colab\\n\\n# first, upload the words_df_all.pkl.gz to Google Drive\\n# then, run the following code in Google Colab\\n# Mount Google Drive\\nfrom google.colab import drive\\ndrive.mount('/content/drive')\\n\\n# Read the file from Google Drive\\nfile_path = '/content/drive/MyDrive/words_df_all.pkl.gz'\\ndf = pd.read_pickle(file_path)\""
      ]
     },
     "execution_count": 3,
     "metadata": {},
     "output_type": "execute_result"
    }
   ],
   "source": [
    "\"\"\"# Load the data in Google Colab\n",
    "\n",
    "# first, upload the words_df_all.pkl.gz to Google Drive\n",
    "# then, run the following code in Google Colab\n",
    "# Mount Google Drive\n",
    "from google.colab import drive\n",
    "drive.mount('/content/drive')\n",
    "\n",
    "# Read the file from Google Drive\n",
    "file_path = '/content/drive/MyDrive/words_df_all.pkl.gz'\n",
    "df = pd.read_pickle(file_path)\"\"\""
   ]
  },
  {
   "cell_type": "code",
   "execution_count": 40,
   "metadata": {},
   "outputs": [
    {
     "data": {
      "text/html": [
       "<div>\n",
       "<style scoped>\n",
       "    .dataframe tbody tr th:only-of-type {\n",
       "        vertical-align: middle;\n",
       "    }\n",
       "\n",
       "    .dataframe tbody tr th {\n",
       "        vertical-align: top;\n",
       "    }\n",
       "\n",
       "    .dataframe thead th {\n",
       "        text-align: right;\n",
       "    }\n",
       "</style>\n",
       "<table border=\"1\" class=\"dataframe\">\n",
       "  <thead>\n",
       "    <tr style=\"text-align: right;\">\n",
       "      <th></th>\n",
       "      <th>WordID</th>\n",
       "      <th>SegmentationResult</th>\n",
       "      <th>GrayLevel</th>\n",
       "      <th>BoundingBox</th>\n",
       "      <th>GrammaticalTag</th>\n",
       "      <th>Transcription</th>\n",
       "      <th>ImageData</th>\n",
       "    </tr>\n",
       "  </thead>\n",
       "  <tbody>\n",
       "    <tr>\n",
       "      <th>0</th>\n",
       "      <td>a01-000u-00-00</td>\n",
       "      <td>ok</td>\n",
       "      <td>154</td>\n",
       "      <td>(408, 768, 27, 51)</td>\n",
       "      <td>AT</td>\n",
       "      <td>A</td>\n",
       "      <td>[[[0.0], [0.0], [0.0], [0.0], [0.0], [0.0], [0...</td>\n",
       "    </tr>\n",
       "    <tr>\n",
       "      <th>1</th>\n",
       "      <td>a01-000u-00-01</td>\n",
       "      <td>ok</td>\n",
       "      <td>154</td>\n",
       "      <td>(507, 766, 213, 48)</td>\n",
       "      <td>NN</td>\n",
       "      <td>MOVE</td>\n",
       "      <td>[[[0.0], [0.0], [0.0], [0.0], [0.0], [0.0], [0...</td>\n",
       "    </tr>\n",
       "    <tr>\n",
       "      <th>2</th>\n",
       "      <td>a01-000u-00-02</td>\n",
       "      <td>ok</td>\n",
       "      <td>154</td>\n",
       "      <td>(796, 764, 70, 50)</td>\n",
       "      <td>TO</td>\n",
       "      <td>to</td>\n",
       "      <td>[[[0.0], [0.0], [0.0], [0.0], [0.0], [0.0], [0...</td>\n",
       "    </tr>\n",
       "    <tr>\n",
       "      <th>3</th>\n",
       "      <td>a01-000u-00-03</td>\n",
       "      <td>ok</td>\n",
       "      <td>154</td>\n",
       "      <td>(919, 757, 166, 78)</td>\n",
       "      <td>VB</td>\n",
       "      <td>stop</td>\n",
       "      <td>[[[0.0], [0.0], [0.0], [0.0], [0.0], [0.0], [0...</td>\n",
       "    </tr>\n",
       "    <tr>\n",
       "      <th>4</th>\n",
       "      <td>a01-000u-00-04</td>\n",
       "      <td>ok</td>\n",
       "      <td>154</td>\n",
       "      <td>(1185, 754, 126, 61)</td>\n",
       "      <td>NPT</td>\n",
       "      <td>Mr.</td>\n",
       "      <td>[[[0.0], [0.0], [0.0], [0.0], [0.0], [0.0], [0...</td>\n",
       "    </tr>\n",
       "  </tbody>\n",
       "</table>\n",
       "</div>"
      ],
      "text/plain": [
       "           WordID SegmentationResult  GrayLevel           BoundingBox  \\\n",
       "0  a01-000u-00-00                 ok        154    (408, 768, 27, 51)   \n",
       "1  a01-000u-00-01                 ok        154   (507, 766, 213, 48)   \n",
       "2  a01-000u-00-02                 ok        154    (796, 764, 70, 50)   \n",
       "3  a01-000u-00-03                 ok        154   (919, 757, 166, 78)   \n",
       "4  a01-000u-00-04                 ok        154  (1185, 754, 126, 61)   \n",
       "\n",
       "  GrammaticalTag Transcription  \\\n",
       "0             AT             A   \n",
       "1             NN          MOVE   \n",
       "2             TO            to   \n",
       "3             VB          stop   \n",
       "4            NPT           Mr.   \n",
       "\n",
       "                                           ImageData  \n",
       "0  [[[0.0], [0.0], [0.0], [0.0], [0.0], [0.0], [0...  \n",
       "1  [[[0.0], [0.0], [0.0], [0.0], [0.0], [0.0], [0...  \n",
       "2  [[[0.0], [0.0], [0.0], [0.0], [0.0], [0.0], [0...  \n",
       "3  [[[0.0], [0.0], [0.0], [0.0], [0.0], [0.0], [0...  \n",
       "4  [[[0.0], [0.0], [0.0], [0.0], [0.0], [0.0], [0...  "
      ]
     },
     "execution_count": 40,
     "metadata": {},
     "output_type": "execute_result"
    }
   ],
   "source": [
    "df.head()"
   ]
  },
  {
   "cell_type": "markdown",
   "metadata": {},
   "source": [
    "### Neural Networks"
   ]
  },
  {
   "cell_type": "markdown",
   "metadata": {},
   "source": [
    "**On shapes...**\n",
    "\n",
    "**CNNs**\n",
    "\n",
    "- Always have to give a 4D array as input to the CNN. So input data has a shape of (batch_size, height, width, depth).\n",
    "\n",
    "- The output of the CNN is also a 4D array. Where batch size would be the same as input batch size but the other 3 dimensions of the image might change depending upon the values of filter, kernel size, and padding we use. (batch_size, height, width, depth)\n",
    "\n",
    "- Input data to the dense layer 2D must be an array of shape (batch_size, units). And the output of the convolution layer is a 4D array. Thus we have to change the dimension of output received from the convolution layer to a 2D array.\n",
    "\n",
    "\n",
    "<img src=\"convnet_input.png\" width=\"500\" height=\"400\">\n",
    "\n",
    "**RNNs**\n",
    "\n",
    "- Always have to give a 3D array as an input to the LSTM network. \n",
    "\n",
    "- The first dimension represents the batch size, the second dimension represents the time-steps and the third dimension represents the number of units in one input sequence. For example, the input shape looks like (batch_size, time_steps, units).\n",
    "\n",
    "- The output of the LSTM could be a 2D array or 3D array depending upon the return_sequences argument.\n",
    "\n",
    "- return_sequence argument: Tells whether to return the output at each time step instead of the final time step. \n",
    "\n",
    "- If return_sequence is False, the output is a 2D array. (batch_size, units)\n",
    "\n",
    "- If return_sequence is True, the output is a 3D array. (batch_size, time_steps, units)\n",
    "\n",
    "\n",
    "<img src=\"LSTM_input.png\" width=\"500\" height=\"400\">\n"
   ]
  },
  {
   "cell_type": "markdown",
   "metadata": {},
   "source": [
    "Function to plot the model Training and Validation Loss and Accuracy"
   ]
  },
  {
   "cell_type": "code",
   "execution_count": 41,
   "metadata": {},
   "outputs": [],
   "source": [
    "# Function: Plotting the Training and Validation Loss and Accuracy\n",
    "def plot_history(history):\n",
    "    # Get training and test loss histories\n",
    "    training_loss = history.history['loss']\n",
    "    val_loss = history.history['val_loss']\n",
    "\n",
    "    # Create count of the number of epochs\n",
    "    epoch_count = range(1, len(training_loss) + 1)\n",
    "\n",
    "    # Visualize loss history\n",
    "    plt.plot(epoch_count, training_loss, 'r--')\n",
    "    plt.plot(epoch_count, val_loss, 'b-')\n",
    "    plt.legend(['Training Loss', 'Val Loss'])\n",
    "    plt.xlabel('Epoch')\n",
    "    plt.ylabel('Loss')\n",
    "    plt.show()\n",
    "\n",
    "    # Get training and test accuracy histories\n",
    "    training_accuracy = history.history['accuracy']\n",
    "    val_accuracy = history.history['val_accuracy']\n",
    "\n",
    "    # Visualize accuracy history\n",
    "    plt.plot(epoch_count, training_accuracy, 'r--')\n",
    "    plt.plot(epoch_count, val_accuracy, 'b-')\n",
    "    plt.legend(['Training Accuracy', 'Val Accuracy'])\n",
    "    plt.xlabel('Epoch')\n",
    "    plt.ylabel('Accuracy')\n",
    "    plt.show()"
   ]
  },
  {
   "cell_type": "markdown",
   "metadata": {},
   "source": [
    "### A: **1 character** words model"
   ]
  },
  {
   "cell_type": "code",
   "execution_count": 42,
   "metadata": {},
   "outputs": [],
   "source": [
    "# randomize the order of the rows in the df\n",
    "df_char = df.sample(frac=1).reset_index(drop=True)\n",
    "\n",
    "# consider only one-character words in the df\n",
    "df_char = df_char[df_char['Transcription'].apply(len) == 1]\n",
    "\n",
    "# consider only SegmentationResluts == 'ok'\n",
    "df_char = df_char[df_char['SegmentationResult'] == 'ok']\n",
    "\n",
    "# Split data into training and validation sets\n",
    "X = np.stack(df_char['ImageData'].values)  # Convert the list of images to a numpy array\n",
    "y = df_char['Transcription'].values"
   ]
  },
  {
   "cell_type": "code",
   "execution_count": 43,
   "metadata": {},
   "outputs": [
    {
     "name": "stdout",
     "output_type": "stream",
     "text": [
      "14172\n"
     ]
    }
   ],
   "source": [
    "print(len(df_char))"
   ]
  },
  {
   "cell_type": "markdown",
   "metadata": {},
   "source": [
    "**Encode** the characters to integers. \n",
    "\n",
    "Example: '!' -> 1, '\"' -> 2, etc."
   ]
  },
  {
   "cell_type": "code",
   "execution_count": 44,
   "metadata": {},
   "outputs": [
    {
     "name": "stdout",
     "output_type": "stream",
     "text": [
      "{'!': 0, '\"': 1, '#': 2, '&': 3, \"'\": 4, '(': 5, ')': 6, '*': 7, ',': 8, '-': 9, '.': 10, '1': 11, '2': 12, '3': 13, '4': 14, '5': 15, '6': 16, '7': 17, '8': 18, '9': 19, ':': 20, ';': 21, '?': 22, 'A': 23, 'B': 24, 'C': 25, 'D': 26, 'E': 27, 'F': 28, 'G': 29, 'H': 30, 'I': 31, 'J': 32, 'K': 33, 'L': 34, 'N': 35, 'O': 36, 'V': 37, 'a': 38, 'c': 39, 'x': 40}\n",
      "[38  8  8 ...  8  8 38]\n"
     ]
    }
   ],
   "source": [
    "# get the vocabulary list\n",
    "vocabulary = sorted(set(''.join(y)))\n",
    "\n",
    "# create a dictionary mapping each character to the vocabulary list index. do not use 0.\n",
    "char_to_num = {char: idx for idx, char in enumerate(vocabulary)}\n",
    "\n",
    "print(char_to_num)\n",
    "\n",
    "# subsitute the characters in y with the corresponding number. example: '!' -> 1, '\"' -> 2, etc.\" each label value is an integer\n",
    "y = [char_to_num[char] for char in y]\n",
    "\n",
    "# y to np.array\n",
    "y = np.array(y)\n",
    "\n",
    "print(y)"
   ]
  },
  {
   "cell_type": "code",
   "execution_count": 45,
   "metadata": {},
   "outputs": [
    {
     "name": "stdout",
     "output_type": "stream",
     "text": [
      "41\n"
     ]
    }
   ],
   "source": [
    "print(len(vocabulary))"
   ]
  },
  {
   "cell_type": "code",
   "execution_count": 46,
   "metadata": {},
   "outputs": [
    {
     "name": "stdout",
     "output_type": "stream",
     "text": [
      "['!', '\"', '#', '&', \"'\", '(', ')', '*', ',', '-', '.', '1', '2', '3', '4', '5', '6', '7', '8', '9', ':', ';', '?', 'A', 'B', 'C', 'D', 'E', 'F', 'G', 'H', 'I', 'J', 'K', 'L', 'N', 'O', 'V', 'a', 'c', 'x']\n"
     ]
    }
   ],
   "source": [
    "print(vocabulary)"
   ]
  },
  {
   "cell_type": "code",
   "execution_count": 47,
   "metadata": {},
   "outputs": [
    {
     "name": "stdout",
     "output_type": "stream",
     "text": [
      "(12754, 32, 128, 1)\n",
      "(12754,)\n",
      "(709, 32, 128, 1)\n",
      "(709,)\n",
      "(709, 32, 128, 1)\n",
      "(709,)\n"
     ]
    }
   ],
   "source": [
    "TRAIN_SPLIT = 0.9\n",
    "VAL_SPLIT = 0.05\n",
    "TEST_SPLIT = 0.05\n",
    "\n",
    "# split the data into training, validation and test sets\n",
    "X_train = X[:int(X.shape[0]*TRAIN_SPLIT)]\n",
    "y_train = y[:int(y.shape[0]*TRAIN_SPLIT)]\n",
    "\n",
    "X_val = X[int(X.shape[0]*TRAIN_SPLIT):int(X.shape[0]*(TRAIN_SPLIT+VAL_SPLIT))]\n",
    "y_val = y[int(y.shape[0]*TRAIN_SPLIT):int(y.shape[0]*(TRAIN_SPLIT+VAL_SPLIT))]\n",
    "\n",
    "X_test = X[int(X.shape[0]*(TRAIN_SPLIT+VAL_SPLIT)):]\n",
    "y_test = y[int(y.shape[0]*(TRAIN_SPLIT+VAL_SPLIT)):]\n",
    "\n",
    "print(X_train.shape)\n",
    "print(y_train.shape)\n",
    "print(X_val.shape)\n",
    "print(y_val.shape)\n",
    "print(X_test.shape)\n",
    "print(y_test.shape)"
   ]
  },
  {
   "cell_type": "markdown",
   "metadata": {},
   "source": [
    "#### A: Model"
   ]
  },
  {
   "cell_type": "code",
   "execution_count": 48,
   "metadata": {},
   "outputs": [
    {
     "name": "stdout",
     "output_type": "stream",
     "text": [
      "Epoch 1/50\n",
      "WARNING:tensorflow:From c:\\Users\\t.ferreira\\AppData\\Local\\Programs\\Python\\Python311\\Lib\\site-packages\\keras\\src\\utils\\tf_utils.py:492: The name tf.ragged.RaggedTensorValue is deprecated. Please use tf.compat.v1.ragged.RaggedTensorValue instead.\n",
      "\n",
      "WARNING:tensorflow:From c:\\Users\\t.ferreira\\AppData\\Local\\Programs\\Python\\Python311\\Lib\\site-packages\\keras\\src\\engine\\base_layer_utils.py:384: The name tf.executing_eagerly_outside_functions is deprecated. Please use tf.compat.v1.executing_eagerly_outside_functions instead.\n",
      "\n",
      "100/100 [==============================] - ETA: 0s - loss: 1.3503 - accuracy: 0.6549\n",
      "Epoch 1: val_loss improved from inf to 0.93468, saving model to best_model_char.h5\n",
      "100/100 [==============================] - 9s 82ms/step - loss: 1.3503 - accuracy: 0.6549 - val_loss: 0.9347 - val_accuracy: 0.7377\n",
      "Epoch 2/50\n",
      "  1/100 [..............................] - ETA: 7s - loss: 0.7455 - accuracy: 0.7969"
     ]
    },
    {
     "name": "stderr",
     "output_type": "stream",
     "text": [
      "c:\\Users\\t.ferreira\\AppData\\Local\\Programs\\Python\\Python311\\Lib\\site-packages\\keras\\src\\engine\\training.py:3103: UserWarning: You are saving your model as an HDF5 file via `model.save()`. This file format is considered legacy. We recommend using instead the native Keras format, e.g. `model.save('my_model.keras')`.\n",
      "  saving_api.save_model(\n"
     ]
    },
    {
     "name": "stdout",
     "output_type": "stream",
     "text": [
      "100/100 [==============================] - ETA: 0s - loss: 0.7945 - accuracy: 0.7714\n",
      "Epoch 2: val_loss improved from 0.93468 to 0.71796, saving model to best_model_char.h5\n",
      "100/100 [==============================] - 8s 81ms/step - loss: 0.7945 - accuracy: 0.7714 - val_loss: 0.7180 - val_accuracy: 0.7983\n",
      "Epoch 3/50\n",
      "100/100 [==============================] - ETA: 0s - loss: 0.6386 - accuracy: 0.8169\n",
      "Epoch 3: val_loss improved from 0.71796 to 0.58879, saving model to best_model_char.h5\n",
      "100/100 [==============================] - 8s 76ms/step - loss: 0.6386 - accuracy: 0.8169 - val_loss: 0.5888 - val_accuracy: 0.8223\n",
      "Epoch 4/50\n",
      "100/100 [==============================] - ETA: 0s - loss: 0.5466 - accuracy: 0.8447\n",
      "Epoch 4: val_loss improved from 0.58879 to 0.54710, saving model to best_model_char.h5\n",
      "100/100 [==============================] - 8s 84ms/step - loss: 0.5466 - accuracy: 0.8447 - val_loss: 0.5471 - val_accuracy: 0.8378\n",
      "Epoch 5/50\n",
      "100/100 [==============================] - ETA: 0s - loss: 0.4911 - accuracy: 0.8559\n",
      "Epoch 5: val_loss improved from 0.54710 to 0.48921, saving model to best_model_char.h5\n",
      "100/100 [==============================] - 8s 81ms/step - loss: 0.4911 - accuracy: 0.8559 - val_loss: 0.4892 - val_accuracy: 0.8618\n",
      "Epoch 6/50\n",
      "100/100 [==============================] - ETA: 0s - loss: 0.4481 - accuracy: 0.8691\n",
      "Epoch 6: val_loss improved from 0.48921 to 0.47763, saving model to best_model_char.h5\n",
      "100/100 [==============================] - 9s 88ms/step - loss: 0.4481 - accuracy: 0.8691 - val_loss: 0.4776 - val_accuracy: 0.8561\n",
      "Epoch 7/50\n",
      " 99/100 [============================>.] - ETA: 0s - loss: 0.4190 - accuracy: 0.8770\n",
      "Epoch 7: val_loss improved from 0.47763 to 0.47484, saving model to best_model_char.h5\n",
      "100/100 [==============================] - 8s 82ms/step - loss: 0.4193 - accuracy: 0.8768 - val_loss: 0.4748 - val_accuracy: 0.8561\n",
      "Epoch 8/50\n",
      "100/100 [==============================] - ETA: 0s - loss: 0.3870 - accuracy: 0.8863\n",
      "Epoch 8: val_loss improved from 0.47484 to 0.45106, saving model to best_model_char.h5\n",
      "100/100 [==============================] - 9s 88ms/step - loss: 0.3870 - accuracy: 0.8863 - val_loss: 0.4511 - val_accuracy: 0.8604\n",
      "Epoch 9/50\n",
      "100/100 [==============================] - ETA: 0s - loss: 0.3652 - accuracy: 0.8891\n",
      "Epoch 9: val_loss improved from 0.45106 to 0.42136, saving model to best_model_char.h5\n",
      "100/100 [==============================] - 9s 88ms/step - loss: 0.3652 - accuracy: 0.8891 - val_loss: 0.4214 - val_accuracy: 0.8773\n",
      "Epoch 10/50\n",
      "100/100 [==============================] - ETA: 0s - loss: 0.3383 - accuracy: 0.8963\n",
      "Epoch 10: val_loss improved from 0.42136 to 0.41898, saving model to best_model_char.h5\n",
      "100/100 [==============================] - 9s 90ms/step - loss: 0.3383 - accuracy: 0.8963 - val_loss: 0.4190 - val_accuracy: 0.8787\n",
      "Epoch 11/50\n",
      "100/100 [==============================] - ETA: 0s - loss: 0.3206 - accuracy: 0.9008\n",
      "Epoch 11: val_loss did not improve from 0.41898\n",
      "100/100 [==============================] - 9s 92ms/step - loss: 0.3206 - accuracy: 0.9008 - val_loss: 0.4303 - val_accuracy: 0.8815\n",
      "Epoch 12/50\n",
      "100/100 [==============================] - ETA: 0s - loss: 0.3050 - accuracy: 0.9023\n",
      "Epoch 12: val_loss did not improve from 0.41898\n",
      "100/100 [==============================] - 9s 89ms/step - loss: 0.3050 - accuracy: 0.9023 - val_loss: 0.4377 - val_accuracy: 0.8773\n",
      "Epoch 13/50\n",
      "100/100 [==============================] - ETA: 0s - loss: 0.2878 - accuracy: 0.9070\n",
      "Epoch 13: val_loss did not improve from 0.41898\n",
      "100/100 [==============================] - 9s 90ms/step - loss: 0.2878 - accuracy: 0.9070 - val_loss: 0.4229 - val_accuracy: 0.8787\n"
     ]
    }
   ],
   "source": [
    "def create_model(num_classes):\n",
    "    model = Sequential([\n",
    "        # Convolutional layer learns 32 filters using a 3x3 kernel\n",
    "        Conv2D(32, (3, 3), activation='relu', input_shape=(32, 128, 1)),\n",
    "        MaxPooling2D(pool_size=(2, 2)),\n",
    "        #Dropout(0.25),\n",
    "\n",
    "        # Adding a second convolutional layer with 64 filters\n",
    "        Conv2D(64, (3, 3), activation='relu'),\n",
    "        MaxPooling2D(pool_size=(2, 2)),\n",
    "        #Dropout(0.25),\n",
    "\n",
    "        # Flatten the 3D output to 1D and add a dense layer\n",
    "        Flatten(),\n",
    "        Dense(128, activation='relu'),\n",
    "        #Dropout(0.5),\n",
    "        Dropout(0.1),\n",
    "\n",
    "        # Output layer with softmax activation for classification\n",
    "        Dense(num_classes, activation='softmax')\n",
    "    ])\n",
    "    # adam with a learning rate of 0.001\n",
    "\n",
    "    \n",
    "    model.compile(optimizer=tf.keras.optimizers.Adam(learning_rate=0.001),\n",
    "                  loss='sparse_categorical_crossentropy',\n",
    "                  metrics=['accuracy'])\n",
    "    return model\n",
    "\n",
    "num_classes = len(char_to_num)\n",
    "model = create_model(num_classes)\n",
    "\n",
    "# Save the best model during the training\n",
    "best_model_path = 'best_model_char.h5'  \n",
    "model_checkpoint = ModelCheckpoint(best_model_path, \n",
    "                                   monitor='val_loss', \n",
    "                                   save_best_only=True, \n",
    "                                   verbose=1)\n",
    "\n",
    "early_stopping = EarlyStopping(monitor='val_loss', patience=3)\n",
    "history = model.fit(\n",
    "    X_train, y_train,\n",
    "    validation_data=(X_val, y_val),\n",
    "    epochs=50,  # You can set this to a higher number.\n",
    "    batch_size=128,\n",
    "    callbacks=[early_stopping, model_checkpoint]\n",
    ")"
   ]
  },
  {
   "cell_type": "code",
   "execution_count": 49,
   "metadata": {},
   "outputs": [
    {
     "data": {
      "image/png": "[encoded data removed]",
      "text/plain": [
       "<Figure size 640x480 with 1 Axes>"
      ]
     },
     "metadata": {},
     "output_type": "display_data"
    },
    {
     "data": {
      "image/png": "[encoded data removed]",
      "text/plain": [
       "<Figure size 640x480 with 1 Axes>"
      ]
     },
     "metadata": {},
     "output_type": "display_data"
    }
   ],
   "source": [
    "plot_history(history)"
   ]
  },
  {
   "cell_type": "markdown",
   "metadata": {},
   "source": [
    "## Hyper Parameter Tuning - 1 Character"
   ]
  },
  {
   "cell_type": "code",
   "execution_count": 50,
   "metadata": {},
   "outputs": [],
   "source": [
    "import keras_tuner as kt"
   ]
  },
  {
   "cell_type": "code",
   "execution_count": 51,
   "metadata": {},
   "outputs": [],
   "source": [
    "def create_model(num_classes):\n",
    "    model = Sequential([\n",
    "        # Convolutional layer learns 32 filters using a 3x3 kernel\n",
    "        Conv2D(32, (3, 3), activation='relu', input_shape=(32, 128, 1)),\n",
    "        MaxPooling2D(pool_size=(2, 2)),\n",
    "        #Dropout(0.25),\n",
    "\n",
    "        # Adding a second convolutional layer with 64 filters\n",
    "        Conv2D(64, (3, 3), activation='relu'),\n",
    "        MaxPooling2D(pool_size=(2, 2)),\n",
    "        #Dropout(0.25),\n",
    "\n",
    "        # Flatten the 3D output to 1D and add a dense layer\n",
    "        Flatten(),\n",
    "        Dense(128, activation='relu'),\n",
    "        #Dropout(0.5),\n",
    "        Dropout(0.1),\n",
    "\n",
    "        # Output layer with softmax activation for classification\n",
    "        Dense(num_classes, activation='softmax')\n",
    "    ])\n",
    "    # adam with a learning rate of 0.001sparse_categorical_crossentropy\n",
    "\n",
    "    \n",
    "    model.compile(optimizer=tf.keras.optimizers.Adam(learning_rate=0.001),\n",
    "                  loss='',\n",
    "                  metrics=['accuracy'])\n",
    "    return model"
   ]
  },
  {
   "cell_type": "markdown",
   "metadata": {},
   "source": [
    "Model Building Function to be used under Keras Tuner.\n",
    "\n",
    "\n"
   ]
  },
  {
   "cell_type": "code",
   "execution_count": 56,
   "metadata": {},
   "outputs": [],
   "source": [
    "def model_builder_hyper_1char(hp):\n",
    "    seq_to_seq_model = Sequential()\n",
    "    \n",
    "    seq_to_seq_model.add(Conv2D(hp.Int('Input CNN units', min_value=64, max_value=128, step=32), kernel_size=(3, 3), input_shape=(32, 128, 1), activation=\"relu\", padding=\"SAME\"))\n",
    "    seq_to_seq_model.add(MaxPooling2D(pool_size=(2, 2)))\n",
    "    for i in range(hp.Int(\"layers\", 1 , 3)):\n",
    "        seq_to_seq_model.add(Conv2D(hp.Int('CNN units ' + str(i), min_value=64, max_value=128, step=32), kernel_size=(3, 3), activation=\"relu\", padding=\"SAME\"))\n",
    "        seq_to_seq_model.add(MaxPooling2D(pool_size=(2, 2)))\n",
    "    seq_to_seq_model.add(Flatten())\n",
    "    seq_to_seq_model.add(Dense(hp.Int('dense_units', min_value=64, max_value=256, step=64), activation='relu'))\n",
    "    seq_to_seq_model.add(Dropout(0.1))\n",
    "    seq_to_seq_model.add(Dense(num_classes, activation=\"softmax\"))\n",
    "\n",
    "    seq_to_seq_model.compile(optimizer=tf.keras.optimizers.Adam(learning_rate=0.001), loss='sparse_categorical_crossentropy', metrics=['accuracy'])\n",
    "    \n",
    "    return seq_to_seq_model"
   ]
  },
  {
   "cell_type": "markdown",
   "metadata": {},
   "source": [
    "Tuner using a max of 20 trials (combinations). Using Val accuracy as objective."
   ]
  },
  {
   "cell_type": "code",
   "execution_count": null,
   "metadata": {},
   "outputs": [],
   "source": [
    "tuner_1char = kt.RandomSearch(\n",
    "    model_builder_hyper_1char,\n",
    "    objective='val_accuracy',\n",
    "    max_trials=10,  #Number of experiments\n",
    "    directory='my_dir_hyper_1char',\n",
    "    project_name='seq_to_seq_model_1char',\n",
    "    seed=24\n",
    ")\n",
    "early_stopping = EarlyStopping(monitor='val_loss', patience=3)\n",
    "\n",
    "tuner_1char.search(X_train, y_train, epochs=50, validation_data=(X_val, y_val), callbacks=[early_stopping])"
   ]
  },
  {
   "cell_type": "markdown",
   "metadata": {},
   "source": [
    "Trials Summary Results\n"
   ]
  },
  {
   "cell_type": "code",
   "execution_count": null,
   "metadata": {},
   "outputs": [],
   "source": [
    "tuner_1char.results_summary()"
   ]
  },
  {
   "cell_type": "markdown",
   "metadata": {},
   "source": [
    "New Model with the best Hyper-Parameters"
   ]
  },
  {
   "cell_type": "code",
   "execution_count": null,
   "metadata": {},
   "outputs": [],
   "source": [
    "best_hps_1char = tuner_1char.get_best_hyperparameters(num_trials=10)[0]\n",
    "seq_to_seq_model_1char = tuner_1char.hypermodel.build(best_hps_1char)\n",
    "\n",
    "seq_to_seq_model_1char.summary()"
   ]
  },
  {
   "cell_type": "code",
   "execution_count": null,
   "metadata": {},
   "outputs": [],
   "source": [
    "print(\"Best hyperparameters:\", best_hps_1char.values)"
   ]
  },
  {
   "cell_type": "code",
   "execution_count": 61,
   "metadata": {},
   "outputs": [],
   "source": [
    "# Save the best model during the training\n",
    "best_hyper_model_path = 'best_hyper_model_1char.h5'  # Specify the path where you want to save the best model\n",
    "model_checkpoint = ModelCheckpoint(best_hyper_model_path, \n",
    "                                   monitor='val_loss', \n",
    "                                   save_best_only=True, \n",
    "                                   verbose=1)\n"
   ]
  },
  {
   "cell_type": "code",
   "execution_count": null,
   "metadata": {},
   "outputs": [],
   "source": [
    "# Fitting the new hyper tuned model to training data\n",
    "history_2 = seq_to_seq_model_1char.fit(\n",
    "    X_train, y_train,\n",
    "    validation_data=(X_val, y_val),  # replace with your validation data\n",
    "    epochs=50,  # Set a high number because early stopping will halt the training\n",
    "    batch_size=64,  # Adjust based on your data and computing resources\n",
    "    callbacks=[early_stopping, model_checkpoint]  # Add the model checkpoint callback here\n",
    ")\n"
   ]
  },
  {
   "cell_type": "markdown",
   "metadata": {},
   "source": [
    "#### A: Testing the model with test data"
   ]
  },
  {
   "cell_type": "code",
   "execution_count": 674,
   "metadata": {},
   "outputs": [
    {
     "data": {
      "text/plain": [
       "'num_to_char = {num: char for char, num in char_to_num.items()}\\npredictions = model.predict(X_test)\\npredicted_classes = np.argmax(predictions, axis=1)\\npredicted_transcriptions = [num_to_char[num] for num in predicted_classes]\\nreal_transcriptions = [num_to_char[num] for num in y_test]\\nfor real, predicted in zip(real_transcriptions, predicted_transcriptions):\\n    print(f\"Real: {real}\")\\n    print(f\"Predicted: {predicted}\\n\")\\n'"
      ]
     },
     "execution_count": 674,
     "metadata": {},
     "output_type": "execute_result"
    }
   ],
   "source": [
    "\"\"\"num_to_char = {num: char for char, num in char_to_num.items()}\n",
    "predictions = model.predict(X_test)\n",
    "predicted_classes = np.argmax(predictions, axis=1)\n",
    "predicted_transcriptions = [num_to_char[num] for num in predicted_classes]\n",
    "real_transcriptions = [num_to_char[num] for num in y_test]\n",
    "for real, predicted in zip(real_transcriptions, predicted_transcriptions):\n",
    "    print(f\"Real: {real}\")\n",
    "    print(f\"Predicted: {predicted}\\n\")\n",
    "\"\"\""
   ]
  },
  {
   "cell_type": "code",
   "execution_count": 70,
   "metadata": {},
   "outputs": [
    {
     "name": "stdout",
     "output_type": "stream",
     "text": [
      "5/5 [==============================] - 0s 9ms/step\n"
     ]
    },
    {
     "data": {
      "text/html": [
       "<div>\n",
       "<style scoped>\n",
       "    .dataframe tbody tr th:only-of-type {\n",
       "        vertical-align: middle;\n",
       "    }\n",
       "\n",
       "    .dataframe tbody tr th {\n",
       "        vertical-align: top;\n",
       "    }\n",
       "\n",
       "    .dataframe thead th {\n",
       "        text-align: right;\n",
       "    }\n",
       "</style>\n",
       "<table border=\"1\" class=\"dataframe\">\n",
       "  <thead>\n",
       "    <tr style=\"text-align: right;\">\n",
       "      <th></th>\n",
       "      <th>WordID</th>\n",
       "      <th>Real</th>\n",
       "      <th>Predicted</th>\n",
       "      <th>Correct</th>\n",
       "      <th>ImageData</th>\n",
       "    </tr>\n",
       "  </thead>\n",
       "  <tbody>\n",
       "    <tr>\n",
       "      <th>0</th>\n",
       "      <td>j01-059-05-08</td>\n",
       "      <td>-</td>\n",
       "      <td>-</td>\n",
       "      <td>1</td>\n",
       "      <td>[[[0.0], [0.0], [0.0], [1.0], [1.0], [1.0], [1...</td>\n",
       "    </tr>\n",
       "    <tr>\n",
       "      <th>1</th>\n",
       "      <td>e04-119-01-03</td>\n",
       "      <td>a</td>\n",
       "      <td>a</td>\n",
       "      <td>1</td>\n",
       "      <td>[[[0.0], [0.0], [0.0], [0.0], [0.0], [0.0], [0...</td>\n",
       "    </tr>\n",
       "    <tr>\n",
       "      <th>2</th>\n",
       "      <td>m01-049-01-04</td>\n",
       "      <td>a</td>\n",
       "      <td>a</td>\n",
       "      <td>1</td>\n",
       "      <td>[[[0.0], [0.0], [0.0], [0.0], [0.0], [0.0], [0...</td>\n",
       "    </tr>\n",
       "    <tr>\n",
       "      <th>3</th>\n",
       "      <td>n03-103-02-03</td>\n",
       "      <td>a</td>\n",
       "      <td>a</td>\n",
       "      <td>1</td>\n",
       "      <td>[[[0.0], [0.0], [0.0], [0.0], [0.0], [0.0], [0...</td>\n",
       "    </tr>\n",
       "    <tr>\n",
       "      <th>4</th>\n",
       "      <td>d05-040-04-02</td>\n",
       "      <td>a</td>\n",
       "      <td>a</td>\n",
       "      <td>1</td>\n",
       "      <td>[[[0.0], [0.0], [0.0], [0.0], [0.0], [0.0], [0...</td>\n",
       "    </tr>\n",
       "  </tbody>\n",
       "</table>\n",
       "</div>"
      ],
      "text/plain": [
       "          WordID Real Predicted  Correct  \\\n",
       "0  j01-059-05-08    -         -        1   \n",
       "1  e04-119-01-03    a         a        1   \n",
       "2  m01-049-01-04    a         a        1   \n",
       "3  n03-103-02-03    a         a        1   \n",
       "4  d05-040-04-02    a         a        1   \n",
       "\n",
       "                                           ImageData  \n",
       "0  [[[0.0], [0.0], [0.0], [1.0], [1.0], [1.0], [1...  \n",
       "1  [[[0.0], [0.0], [0.0], [0.0], [0.0], [0.0], [0...  \n",
       "2  [[[0.0], [0.0], [0.0], [0.0], [0.0], [0.0], [0...  \n",
       "3  [[[0.0], [0.0], [0.0], [0.0], [0.0], [0.0], [0...  \n",
       "4  [[[0.0], [0.0], [0.0], [0.0], [0.0], [0.0], [0...  "
      ]
     },
     "execution_count": 70,
     "metadata": {},
     "output_type": "execute_result"
    }
   ],
   "source": [
    "import pandas as pd\n",
    "\n",
    "# Create a reverse mapping from number to character\n",
    "num_to_char = {num: char for char, num in char_to_num.items()}\n",
    "\n",
    "# Uncoment the lines below to run test data vs the hypertuned model.\n",
    "\"\"\"\n",
    "from keras.models import load_model\n",
    "model = load_model('best_hyper_model_1char.h5')\n",
    "\"\"\"\n",
    "\n",
    "# Uncoment the lines below to run test data vs the baseline model.\n",
    "\"\"\"\n",
    "from keras.models import load_model\n",
    "model = load_model('best_model_char.h5')\n",
    "\"\"\"\n",
    "\n",
    "# Make predictions on the test data - Use This if su\n",
    "predictions = model.predict(X_test)\n",
    "predicted_classes = np.argmax(predictions, axis=1)\n",
    "\n",
    "# Decode the predictions into actual characters\n",
    "predicted_transcriptions = [num_to_char.get(num, '') for num in predicted_classes]\n",
    "real_transcriptions = [num_to_char.get(num, '') for num in y_test]\n",
    "\n",
    "# Determine if the prediction is correct (1) or not (0)\n",
    "correct_predictions = [1 if real == pred else 0 for real, pred in zip(real_transcriptions, predicted_transcriptions)]\n",
    "\n",
    "# Get the indices for the test set\n",
    "test_indices = range(int(len(df_char) * (TRAIN_SPLIT + VAL_SPLIT)), len(df_char))\n",
    "\n",
    "# Ensure that the lengths of your test labels and indices match\n",
    "assert len(test_indices) == len(y_test), \"Mismatch in test set size and actual labels\"\n",
    "\n",
    "# Extract WordIDs and ImgageData for the test set using the correct indices\n",
    "test_word_ids = df.iloc[test_indices]['WordID'].values\n",
    "test_img_data = df.iloc[test_indices]['ImageData'].values\n",
    "\n",
    "# Ensure that every list you're going to put into the DataFrame is of the same length\n",
    "assert len(test_word_ids) == len(test_img_data) == len(predicted_transcriptions) == len(real_transcriptions), \"Mismatch in the length of data columns\"\n",
    "\n",
    "# Create the DataFrame\n",
    "results_df = pd.DataFrame({\n",
    "    'WordID': test_word_ids,\n",
    "    'Real': real_transcriptions,\n",
    "    'Predicted': predicted_transcriptions,\n",
    "    'Correct': correct_predictions,\n",
    "    'ImageData': test_img_data\n",
    "})\n",
    "\n",
    "# Display the first few rows of the DataFrame\n",
    "results_df.head()"
   ]
  },
  {
   "cell_type": "code",
   "execution_count": 72,
   "metadata": {},
   "outputs": [
    {
     "name": "stdout",
     "output_type": "stream",
     "text": [
      "Correct\n",
      "1    141\n",
      "0     15\n",
      "Name: count, dtype: int64\n",
      "Correct\n",
      "1    0.903846\n",
      "0    0.096154\n",
      "Name: count, dtype: float64\n"
     ]
    }
   ],
   "source": [
    "print(results_df['Correct'].value_counts())\n",
    "print(results_df['Correct'].value_counts() / len(results_df))"
   ]
  },
  {
   "cell_type": "code",
   "execution_count": 687,
   "metadata": {},
   "outputs": [
    {
     "data": {
      "text/html": [
       "<div>\n",
       "<style scoped>\n",
       "    .dataframe tbody tr th:only-of-type {\n",
       "        vertical-align: middle;\n",
       "    }\n",
       "\n",
       "    .dataframe tbody tr th {\n",
       "        vertical-align: top;\n",
       "    }\n",
       "\n",
       "    .dataframe thead th {\n",
       "        text-align: right;\n",
       "    }\n",
       "</style>\n",
       "<table border=\"1\" class=\"dataframe\">\n",
       "  <thead>\n",
       "    <tr style=\"text-align: right;\">\n",
       "      <th></th>\n",
       "      <th>WordID</th>\n",
       "      <th>Real</th>\n",
       "      <th>Predicted</th>\n",
       "      <th>Correct</th>\n",
       "      <th>ImageData</th>\n",
       "    </tr>\n",
       "  </thead>\n",
       "  <tbody>\n",
       "    <tr>\n",
       "      <th>0</th>\n",
       "      <td>b02-013-07-06</td>\n",
       "      <td>I</td>\n",
       "      <td>,</td>\n",
       "      <td>0</td>\n",
       "      <td>[[[0.0], [0.0], [0.0], [0.0], [0.0], [0.0], [0...</td>\n",
       "    </tr>\n",
       "    <tr>\n",
       "      <th>7</th>\n",
       "      <td>b02-013-08-05</td>\n",
       "      <td>\"</td>\n",
       "      <td>'</td>\n",
       "      <td>0</td>\n",
       "      <td>[[[0.0], [0.0], [0.0], [0.0], [0.0], [0.0], [0...</td>\n",
       "    </tr>\n",
       "    <tr>\n",
       "      <th>15</th>\n",
       "      <td>b02-013-09-06</td>\n",
       "      <td>,</td>\n",
       "      <td>I</td>\n",
       "      <td>0</td>\n",
       "      <td>[[[0.0], [0.0], [0.0], [0.0], [0.0], [0.0], [0...</td>\n",
       "    </tr>\n",
       "    <tr>\n",
       "      <th>16</th>\n",
       "      <td>b02-013-09-07</td>\n",
       "      <td>A</td>\n",
       "      <td>\"</td>\n",
       "      <td>0</td>\n",
       "      <td>[[[0.0], [0.0], [0.0], [0.0], [0.0], [0.0], [0...</td>\n",
       "    </tr>\n",
       "    <tr>\n",
       "      <th>17</th>\n",
       "      <td>b02-035-00-00</td>\n",
       "      <td>,</td>\n",
       "      <td>a</td>\n",
       "      <td>0</td>\n",
       "      <td>[[[0.0], [0.0], [0.0], [0.0], [0.0], [0.0], [0...</td>\n",
       "    </tr>\n",
       "  </tbody>\n",
       "</table>\n",
       "</div>"
      ],
      "text/plain": [
       "           WordID Real Predicted  Correct  \\\n",
       "0   b02-013-07-06    I         ,        0   \n",
       "7   b02-013-08-05    \"         '        0   \n",
       "15  b02-013-09-06    ,         I        0   \n",
       "16  b02-013-09-07    A         \"        0   \n",
       "17  b02-035-00-00    ,         a        0   \n",
       "\n",
       "                                            ImageData  \n",
       "0   [[[0.0], [0.0], [0.0], [0.0], [0.0], [0.0], [0...  \n",
       "7   [[[0.0], [0.0], [0.0], [0.0], [0.0], [0.0], [0...  \n",
       "15  [[[0.0], [0.0], [0.0], [0.0], [0.0], [0.0], [0...  \n",
       "16  [[[0.0], [0.0], [0.0], [0.0], [0.0], [0.0], [0...  \n",
       "17  [[[0.0], [0.0], [0.0], [0.0], [0.0], [0.0], [0...  "
      ]
     },
     "execution_count": 687,
     "metadata": {},
     "output_type": "execute_result"
    }
   ],
   "source": [
    "incorrect = results_df[results_df['Correct'] == 0]\n",
    "incorrect.head()"
   ]
  },
  {
   "cell_type": "code",
   "execution_count": 690,
   "metadata": {},
   "outputs": [
    {
     "name": "stdout",
     "output_type": "stream",
     "text": [
      "1807\n"
     ]
    }
   ],
   "source": [
    "print(len(results_df))"
   ]
  },
  {
   "cell_type": "code",
   "execution_count": 691,
   "metadata": {},
   "outputs": [],
   "source": [
    "results_df.to_csv('results_char.csv')"
   ]
  },
  {
   "cell_type": "code",
   "execution_count": 694,
   "metadata": {},
   "outputs": [
    {
     "name": "stdout",
     "output_type": "stream",
     "text": [
      "              precision    recall  f1-score   support\n",
      "\n",
      "           0       0.77      0.86      0.81        28\n",
      "           1       0.86      0.72      0.78       169\n",
      "           2       0.80      0.50      0.62         8\n",
      "           3       1.00      0.50      0.67         4\n",
      "           4       0.17      0.01      0.02        80\n",
      "           5       0.71      0.59      0.65        17\n",
      "           6       0.70      0.39      0.50        18\n",
      "           8       0.78      0.90      0.84       563\n",
      "           9       0.84      0.95      0.89        40\n",
      "          10       0.90      0.90      0.90       510\n",
      "          11       0.00      0.00      0.00         5\n",
      "          12       0.00      0.00      0.00         3\n",
      "          13       1.00      0.67      0.80         3\n",
      "          14       0.00      0.00      0.00         1\n",
      "          15       0.00      0.00      0.00         1\n",
      "          18       0.00      0.00      0.00         2\n",
      "          20       0.76      0.94      0.84        17\n",
      "          21       0.83      0.88      0.86        17\n",
      "          22       0.70      0.94      0.80        17\n",
      "          23       0.57      0.47      0.52        17\n",
      "          28       0.00      0.00      0.00         1\n",
      "          30       0.00      0.00      0.00         1\n",
      "          31       0.67      0.61      0.64        79\n",
      "          35       0.00      0.00      0.00         1\n",
      "          39       0.82      0.98      0.89       204\n",
      "          40       0.00      0.00      0.00         1\n",
      "\n",
      "    accuracy                           0.82      1807\n",
      "   macro avg       0.50      0.45      0.46      1807\n",
      "weighted avg       0.79      0.82      0.79      1807\n",
      "\n"
     ]
    },
    {
     "name": "stderr",
     "output_type": "stream",
     "text": [
      "/opt/homebrew/lib/python3.11/site-packages/sklearn/metrics/_classification.py:1344: UndefinedMetricWarning: Precision and F-score are ill-defined and being set to 0.0 in labels with no predicted samples. Use `zero_division` parameter to control this behavior.\n",
      "  _warn_prf(average, modifier, msg_start, len(result))\n",
      "/opt/homebrew/lib/python3.11/site-packages/sklearn/metrics/_classification.py:1344: UndefinedMetricWarning: Precision and F-score are ill-defined and being set to 0.0 in labels with no predicted samples. Use `zero_division` parameter to control this behavior.\n",
      "  _warn_prf(average, modifier, msg_start, len(result))\n",
      "/opt/homebrew/lib/python3.11/site-packages/sklearn/metrics/_classification.py:1344: UndefinedMetricWarning: Precision and F-score are ill-defined and being set to 0.0 in labels with no predicted samples. Use `zero_division` parameter to control this behavior.\n",
      "  _warn_prf(average, modifier, msg_start, len(result))\n"
     ]
    }
   ],
   "source": [
    "# print evaluation metrics\n",
    "from sklearn.metrics import classification_report\n",
    "print(classification_report(y_test, predictions.argmax(axis=1)))"
   ]
  },
  {
   "cell_type": "markdown",
   "metadata": {},
   "source": [
    "### **1 or more characters** words"
   ]
  },
  {
   "cell_type": "code",
   "execution_count": 194,
   "metadata": {},
   "outputs": [],
   "source": [
    "# load the data\n",
    "df = pd.read_pickle('data/words_df_all.pkl.gz')"
   ]
  },
  {
   "cell_type": "code",
   "execution_count": 195,
   "metadata": {},
   "outputs": [],
   "source": [
    "# consider only SegmentationResluts == 'ok'\n",
    "df = df[df['SegmentationResult'] == 'ok']"
   ]
  },
  {
   "cell_type": "code",
   "execution_count": 196,
   "metadata": {},
   "outputs": [
    {
     "name": "stdout",
     "output_type": "stream",
     "text": [
      "a01-096u-04-02\n",
      "m03-062-07-02\n"
     ]
    }
   ],
   "source": [
    "for i, img in enumerate(df['ImageData']):\n",
    "    if type(img) != np.ndarray:\n",
    "        print(df['WordID'][i])\n",
    "        # delete the current row from df\n",
    "        df.drop(i, inplace=True)"
   ]
  },
  {
   "cell_type": "code",
   "execution_count": 197,
   "metadata": {},
   "outputs": [
    {
     "data": {
      "text/html": [
       "<div>\n",
       "<style scoped>\n",
       "    .dataframe tbody tr th:only-of-type {\n",
       "        vertical-align: middle;\n",
       "    }\n",
       "\n",
       "    .dataframe tbody tr th {\n",
       "        vertical-align: top;\n",
       "    }\n",
       "\n",
       "    .dataframe thead th {\n",
       "        text-align: right;\n",
       "    }\n",
       "</style>\n",
       "<table border=\"1\" class=\"dataframe\">\n",
       "  <thead>\n",
       "    <tr style=\"text-align: right;\">\n",
       "      <th></th>\n",
       "      <th>WordID</th>\n",
       "      <th>SegmentationResult</th>\n",
       "      <th>GrayLevel</th>\n",
       "      <th>BoundingBox</th>\n",
       "      <th>GrammaticalTag</th>\n",
       "      <th>Transcription</th>\n",
       "      <th>ImageData</th>\n",
       "    </tr>\n",
       "  </thead>\n",
       "  <tbody>\n",
       "    <tr>\n",
       "      <th>4152</th>\n",
       "      <td>a01-117-05-02</td>\n",
       "      <td>ok</td>\n",
       "      <td>160</td>\n",
       "      <td>(868, 1648, 217, 86)</td>\n",
       "      <td>NP</td>\n",
       "      <td>Powell</td>\n",
       "      <td>None</td>\n",
       "    </tr>\n",
       "    <tr>\n",
       "      <th>113621</th>\n",
       "      <td>r06-022-03-05</td>\n",
       "      <td>ok</td>\n",
       "      <td>184</td>\n",
       "      <td>(924, 1304, 132, 29)</td>\n",
       "      <td>QL</td>\n",
       "      <td>more</td>\n",
       "      <td>None</td>\n",
       "    </tr>\n",
       "  </tbody>\n",
       "</table>\n",
       "</div>"
      ],
      "text/plain": [
       "               WordID SegmentationResult  GrayLevel           BoundingBox  \\\n",
       "4152    a01-117-05-02                 ok        160  (868, 1648, 217, 86)   \n",
       "113621  r06-022-03-05                 ok        184  (924, 1304, 132, 29)   \n",
       "\n",
       "       GrammaticalTag Transcription ImageData  \n",
       "4152               NP        Powell      None  \n",
       "113621             QL          more      None  "
      ]
     },
     "execution_count": 197,
     "metadata": {},
     "output_type": "execute_result"
    }
   ],
   "source": [
    "# print the row in which imagdate is none\n",
    "df[df['ImageData'].isnull()]"
   ]
  },
  {
   "cell_type": "code",
   "execution_count": 198,
   "metadata": {},
   "outputs": [],
   "source": [
    "df = df[df['ImageData'].notnull()]"
   ]
  },
  {
   "cell_type": "code",
   "execution_count": 178,
   "metadata": {},
   "outputs": [
    {
     "name": "stdout",
     "output_type": "stream",
     "text": [
      "ImageData\n",
      "<class 'numpy.ndarray'>    115317\n",
      "Name: count, dtype: int64\n"
     ]
    }
   ],
   "source": [
    "print(df['ImageData'].apply(type).value_counts())"
   ]
  },
  {
   "cell_type": "code",
   "execution_count": 179,
   "metadata": {},
   "outputs": [
    {
     "name": "stdout",
     "output_type": "stream",
     "text": [
      "13549\n"
     ]
    }
   ],
   "source": [
    "print(len(df['Transcription'].unique()))"
   ]
  },
  {
   "cell_type": "code",
   "execution_count": 182,
   "metadata": {},
   "outputs": [
    {
     "name": "stdout",
     "output_type": "stream",
     "text": [
      "[' ', '!', '\"', '#', '&', \"'\", '(', ')', '*', '+', ',', '-', '.', '/', '0', '1', '2', '3', '4', '5', '6', '7', '8', '9', ':', ';', '?', 'A', 'B', 'C', 'D', 'E', 'F', 'G', 'H', 'I', 'J', 'K', 'L', 'M', 'N', 'O', 'P', 'Q', 'R', 'S', 'T', 'U', 'V', 'W', 'X', 'Y', 'Z', 'a', 'b', 'c', 'd', 'e', 'f', 'g', 'h', 'i', 'j', 'k', 'l', 'm', 'n', 'o', 'p', 'q', 'r', 's', 't', 'u', 'v', 'w', 'x', 'y', 'z']\n"
     ]
    }
   ],
   "source": [
    "vocabulary = sorted(set(''.join(df['Transcription'].values)))\n",
    "print(vocabulary)"
   ]
  },
  {
   "cell_type": "code",
   "execution_count": 199,
   "metadata": {},
   "outputs": [],
   "source": [
    "# shuffle\n",
    "df = df.sample(frac=1).reset_index(drop=True)"
   ]
  },
  {
   "cell_type": "code",
   "execution_count": 200,
   "metadata": {},
   "outputs": [],
   "source": [
    "# consider only words that do not contain spaces or pontuation\n",
    "punctuation = [' ', '.', ',', '!', '?', \"'\", '\"', '(', ')', '[', ']', '{', '}', '/', '\\\\', '|', '*', '+', '=', '_', '#', '@', '%', '&', '^', '~', '`', '<', '>', ':', ';']\n",
    "df = df[df['Transcription'].apply(lambda x: all(char not in x for char in punctuation))]"
   ]
  },
  {
   "cell_type": "code",
   "execution_count": 201,
   "metadata": {},
   "outputs": [],
   "source": [
    "# Split data into training and validation sets\n",
    "X = np.stack(df['ImageData'].values)  # Convert the list of images to a numpy array\n",
    "y = np.array(df['Transcription'].values)"
   ]
  },
  {
   "cell_type": "code",
   "execution_count": 202,
   "metadata": {},
   "outputs": [
    {
     "name": "stdout",
     "output_type": "stream",
     "text": [
      "(83831, 21)\n"
     ]
    }
   ],
   "source": [
    "def encode_to_labels(y):\n",
    "    global vocabulary, char_to_num\n",
    "    # create a list of the chartcaters vocabulary ordered alphabetically\n",
    "    vocabulary = sorted(set(''.join(y)))\n",
    "\n",
    "    # create a dictionary mapping each character to the vocabulary list index. do not use 0.\n",
    "    char_to_num = {char:idx+1 for idx, char in enumerate(vocabulary)}\n",
    "\n",
    "    # transform y values to numerical using the char_to_num dictionary, using 0 for padding. the length of each word is the maximum length of the words in the dataset\n",
    "    y_encoded = []\n",
    "    for word in y:\n",
    "        word_encoded = [char_to_num[char] for char in word]\n",
    "        y_encoded.append(word_encoded)\n",
    "\n",
    "    # pad the encoded values (fill with 0s to the right)\n",
    "    y_encoded = tf.keras.preprocessing.sequence.pad_sequences(y_encoded, padding='post')\n",
    "\n",
    "    # normalize the values\n",
    "    # y_encoded = y_encoded / np.array(len(vocabulary))\n",
    "\n",
    "    return y_encoded\n",
    "\n",
    "y = encode_to_labels(y)\n",
    "\n",
    "# one-hot enconde instead of encode_to_labels\n",
    "# y = to_categorical(y, num_classes=len(vocabulary)+1)\n",
    "\n",
    "# print(y.shape)\n",
    "\n",
    "# add padding to y to match the image size\n",
    "# y = np.pad(y, ((0,0),(0,32-y.shape[1]),(0,0)), mode='constant', constant_values=0)\n",
    "\n",
    "print(y.shape)"
   ]
  },
  {
   "cell_type": "code",
   "execution_count": 203,
   "metadata": {},
   "outputs": [
    {
     "name": "stdout",
     "output_type": "stream",
     "text": [
      "[46 51  0  0  0  0  0  0  0  0  0  0  0  0  0  0  0  0  0  0  0]\n"
     ]
    }
   ],
   "source": [
    "print(y[4])"
   ]
  },
  {
   "cell_type": "code",
   "execution_count": 204,
   "metadata": {},
   "outputs": [
    {
     "name": "stdout",
     "output_type": "stream",
     "text": [
      "(83831, 32, 128, 1)\n",
      "(83831, 21)\n"
     ]
    }
   ],
   "source": [
    "print(X.shape)\n",
    "print(y.shape)"
   ]
  },
  {
   "cell_type": "code",
   "execution_count": 205,
   "metadata": {},
   "outputs": [
    {
     "name": "stdout",
     "output_type": "stream",
     "text": [
      "(67064, 32, 128, 1)\n",
      "(67064, 21)\n",
      "(8383, 32, 128, 1)\n",
      "(8383, 21)\n",
      "(8384, 32, 128, 1)\n",
      "(8384, 21)\n"
     ]
    }
   ],
   "source": [
    "TRAIN_SPLIT = 0.8\n",
    "VAL_SPLIT = 0.1\n",
    "TEST_SPLIT = 0.1\n",
    "\n",
    "# split the data into training, validation and test sets\n",
    "X_train = X[:int(X.shape[0]*TRAIN_SPLIT)]\n",
    "y_train = y[:int(y.shape[0]*TRAIN_SPLIT)]\n",
    "\n",
    "X_val = X[int(X.shape[0]*TRAIN_SPLIT):int(X.shape[0]*(TRAIN_SPLIT+VAL_SPLIT))]\n",
    "y_val = y[int(y.shape[0]*TRAIN_SPLIT):int(y.shape[0]*(TRAIN_SPLIT+VAL_SPLIT))]\n",
    "\n",
    "X_test = X[int(X.shape[0]*(TRAIN_SPLIT+VAL_SPLIT)):]\n",
    "y_test = y[int(y.shape[0]*(TRAIN_SPLIT+VAL_SPLIT)):]\n",
    "\n",
    "print(X_train.shape)\n",
    "print(y_train.shape)\n",
    "print(X_val.shape)\n",
    "print(y_val.shape)\n",
    "print(X_test.shape)\n",
    "print(y_test.shape)"
   ]
  },
  {
   "cell_type": "code",
   "execution_count": 121,
   "metadata": {},
   "outputs": [],
   "source": [
    "# save value_counts of transcription of df to a df and export it to txt\n",
    "df['Transcription'].value_counts().to_csv('data/transcription_value_counts_all.txt', header=None, sep=' ')"
   ]
  },
  {
   "cell_type": "code",
   "execution_count": 122,
   "metadata": {},
   "outputs": [
    {
     "name": "stdout",
     "output_type": "stream",
     "text": [
      "(67064, 32, 128, 1)\n",
      "(67064, 21)\n"
     ]
    }
   ],
   "source": [
    "# print the shapes of training x and y\n",
    "print(X_train.shape)\n",
    "print(y_train.shape)"
   ]
  },
  {
   "cell_type": "code",
   "execution_count": 123,
   "metadata": {},
   "outputs": [
    {
     "name": "stdout",
     "output_type": "stream",
     "text": [
      "[31 45 42 55 42  0  0  0  0  0  0  0  0  0  0  0  0  0  0  0  0]\n"
     ]
    }
   ],
   "source": [
    "print(y_train[0])"
   ]
  },
  {
   "cell_type": "code",
   "execution_count": 206,
   "metadata": {},
   "outputs": [
    {
     "name": "stdout",
     "output_type": "stream",
     "text": [
      "(67064, 21, 64)\n"
     ]
    }
   ],
   "source": [
    "# one hot encode y\n",
    "y_train = to_categorical(y_train, num_classes=len(vocabulary)+1)\n",
    "y_val = to_categorical(y_val, num_classes=len(vocabulary)+1)\n",
    "y_test = to_categorical(y_test, num_classes=len(vocabulary)+1)\n",
    "\n",
    "print(y_train.shape)"
   ]
  },
  {
   "cell_type": "code",
   "execution_count": 125,
   "metadata": {},
   "outputs": [
    {
     "data": {
      "text/plain": [
       "array([[0., 0., 0., ..., 0., 0., 0.],\n",
       "       [0., 0., 0., ..., 0., 0., 0.],\n",
       "       [0., 0., 0., ..., 0., 0., 0.],\n",
       "       ...,\n",
       "       [1., 0., 0., ..., 0., 0., 0.],\n",
       "       [1., 0., 0., ..., 0., 0., 0.],\n",
       "       [1., 0., 0., ..., 0., 0., 0.]], dtype=float32)"
      ]
     },
     "execution_count": 125,
     "metadata": {},
     "output_type": "execute_result"
    }
   ],
   "source": [
    "y_train[0]"
   ]
  },
  {
   "cell_type": "markdown",
   "metadata": {},
   "source": [
    "#### Baseline Model"
   ]
  },
  {
   "cell_type": "code",
   "execution_count": 27,
   "metadata": {},
   "outputs": [],
   "source": [
    "# save y_train[0] to txt file\n",
    "np.savetxt('data/y_train_0.txt', y_train[2], fmt='%d')"
   ]
  },
  {
   "cell_type": "code",
   "execution_count": 31,
   "metadata": {},
   "outputs": [
    {
     "name": "stderr",
     "output_type": "stream",
     "text": [
      "WARNING:absl:At this time, the v2.11+ optimizer `tf.keras.optimizers.Adam` runs slowly on M1/M2 Macs, please use the legacy Keras optimizer instead, located at `tf.keras.optimizers.legacy.Adam`.\n"
     ]
    },
    {
     "name": "stdout",
     "output_type": "stream",
     "text": [
      "Model: \"sequential_4\"\n",
      "_________________________________________________________________\n",
      " Layer (type)                Output Shape              Param #   \n",
      "=================================================================\n",
      " conv2d_12 (Conv2D)          (None, 30, 126, 32)       320       \n",
      "                                                                 \n",
      " max_pooling2d_12 (MaxPooli  (None, 15, 63, 32)        0         \n",
      " ng2D)                                                           \n",
      "                                                                 \n",
      " conv2d_13 (Conv2D)          (None, 13, 61, 64)        18496     \n",
      "                                                                 \n",
      " max_pooling2d_13 (MaxPooli  (None, 6, 30, 64)         0         \n",
      " ng2D)                                                           \n",
      "                                                                 \n",
      " conv2d_14 (Conv2D)          (None, 4, 28, 128)        73856     \n",
      "                                                                 \n",
      " max_pooling2d_14 (MaxPooli  (None, 2, 14, 128)        0         \n",
      " ng2D)                                                           \n",
      "                                                                 \n",
      " flatten_4 (Flatten)         (None, 3584)              0         \n",
      "                                                                 \n",
      " dense_8 (Dense)             (None, 256)               917760    \n",
      "                                                                 \n",
      " dropout_4 (Dropout)         (None, 256)               0         \n",
      "                                                                 \n",
      " dense_9 (Dense)             (None, 1344)              345408    \n",
      "                                                                 \n",
      " reshape_4 (Reshape)         (None, 21, 64)            0         \n",
      "                                                                 \n",
      "=================================================================\n",
      "Total params: 1355840 (5.17 MB)\n",
      "Trainable params: 1355840 (5.17 MB)\n",
      "Non-trainable params: 0 (0.00 Byte)\n",
      "_________________________________________________________________\n"
     ]
    },
    {
     "name": "stderr",
     "output_type": "stream",
     "text": [
      "WARNING:absl:At this time, the v2.11+ optimizer `tf.keras.optimizers.Adam` runs slowly on M1/M2 Macs, please use the legacy Keras optimizer instead, located at `tf.keras.optimizers.legacy.Adam`.\n"
     ]
    },
    {
     "name": "stdout",
     "output_type": "stream",
     "text": [
      "Epoch 1/50\n",
      "524/524 [==============================] - ETA: 0s - loss: 0.7950 - accuracy: 0.7948\n",
      "Epoch 1: val_loss improved from inf to 0.67016, saving model to best_model_word.h5\n",
      "524/524 [==============================] - 57s 108ms/step - loss: 0.7950 - accuracy: 0.7948 - val_loss: 0.6702 - val_accuracy: 0.8106\n",
      "Epoch 2/50\n"
     ]
    },
    {
     "name": "stderr",
     "output_type": "stream",
     "text": [
      "/opt/homebrew/lib/python3.11/site-packages/keras/src/engine/training.py:3103: UserWarning: You are saving your model as an HDF5 file via `model.save()`. This file format is considered legacy. We recommend using instead the native Keras format, e.g. `model.save('my_model.keras')`.\n",
      "  saving_api.save_model(\n"
     ]
    },
    {
     "name": "stdout",
     "output_type": "stream",
     "text": [
      "524/524 [==============================] - ETA: 0s - loss: 0.6564 - accuracy: 0.8164\n",
      "Epoch 2: val_loss improved from 0.67016 to 0.61911, saving model to best_model_word.h5\n",
      "524/524 [==============================] - 60s 114ms/step - loss: 0.6564 - accuracy: 0.8164 - val_loss: 0.6191 - val_accuracy: 0.8224\n",
      "Epoch 3/50\n",
      "524/524 [==============================] - ETA: 0s - loss: 0.6146 - accuracy: 0.8251\n",
      "Epoch 3: val_loss improved from 0.61911 to 0.58120, saving model to best_model_word.h5\n",
      "524/524 [==============================] - 60s 114ms/step - loss: 0.6146 - accuracy: 0.8251 - val_loss: 0.5812 - val_accuracy: 0.8303\n",
      "Epoch 4/50\n",
      "524/524 [==============================] - ETA: 0s - loss: 0.5832 - accuracy: 0.8314\n",
      "Epoch 4: val_loss improved from 0.58120 to 0.55343, saving model to best_model_word.h5\n",
      "524/524 [==============================] - 59s 112ms/step - loss: 0.5832 - accuracy: 0.8314 - val_loss: 0.5534 - val_accuracy: 0.8381\n",
      "Epoch 5/50\n",
      "524/524 [==============================] - ETA: 0s - loss: 0.5583 - accuracy: 0.8371\n",
      "Epoch 5: val_loss improved from 0.55343 to 0.52417, saving model to best_model_word.h5\n",
      "524/524 [==============================] - 59s 113ms/step - loss: 0.5583 - accuracy: 0.8371 - val_loss: 0.5242 - val_accuracy: 0.8435\n",
      "Epoch 6/50\n",
      "524/524 [==============================] - ETA: 0s - loss: 0.5367 - accuracy: 0.8421\n",
      "Epoch 6: val_loss improved from 0.52417 to 0.50503, saving model to best_model_word.h5\n",
      "524/524 [==============================] - 62s 119ms/step - loss: 0.5367 - accuracy: 0.8421 - val_loss: 0.5050 - val_accuracy: 0.8492\n",
      "Epoch 7/50\n",
      "524/524 [==============================] - ETA: 0s - loss: 0.5173 - accuracy: 0.8470\n",
      "Epoch 7: val_loss improved from 0.50503 to 0.49311, saving model to best_model_word.h5\n",
      "524/524 [==============================] - 61s 117ms/step - loss: 0.5173 - accuracy: 0.8470 - val_loss: 0.4931 - val_accuracy: 0.8548\n",
      "Epoch 8/50\n",
      "524/524 [==============================] - ETA: 0s - loss: 0.5000 - accuracy: 0.8511\n",
      "Epoch 8: val_loss improved from 0.49311 to 0.47845, saving model to best_model_word.h5\n",
      "524/524 [==============================] - 60s 115ms/step - loss: 0.5000 - accuracy: 0.8511 - val_loss: 0.4785 - val_accuracy: 0.8561\n",
      "Epoch 9/50\n",
      "524/524 [==============================] - ETA: 0s - loss: 0.4841 - accuracy: 0.8551\n",
      "Epoch 9: val_loss improved from 0.47845 to 0.45654, saving model to best_model_word.h5\n",
      "524/524 [==============================] - 62s 117ms/step - loss: 0.4841 - accuracy: 0.8551 - val_loss: 0.4565 - val_accuracy: 0.8637\n",
      "Epoch 10/50\n",
      "524/524 [==============================] - ETA: 0s - loss: 0.4705 - accuracy: 0.8583\n",
      "Epoch 10: val_loss improved from 0.45654 to 0.44699, saving model to best_model_word.h5\n",
      "524/524 [==============================] - 61s 116ms/step - loss: 0.4705 - accuracy: 0.8583 - val_loss: 0.4470 - val_accuracy: 0.8649\n",
      "Epoch 11/50\n",
      "524/524 [==============================] - ETA: 0s - loss: 0.4567 - accuracy: 0.8621\n",
      "Epoch 11: val_loss improved from 0.44699 to 0.43293, saving model to best_model_word.h5\n",
      "524/524 [==============================] - 61s 117ms/step - loss: 0.4567 - accuracy: 0.8621 - val_loss: 0.4329 - val_accuracy: 0.8698\n",
      "Epoch 12/50\n",
      "524/524 [==============================] - ETA: 0s - loss: 0.4471 - accuracy: 0.8643\n",
      "Epoch 12: val_loss improved from 0.43293 to 0.42637, saving model to best_model_word.h5\n",
      "524/524 [==============================] - 62s 119ms/step - loss: 0.4471 - accuracy: 0.8643 - val_loss: 0.4264 - val_accuracy: 0.8714\n",
      "Epoch 13/50\n",
      "524/524 [==============================] - ETA: 0s - loss: 0.4360 - accuracy: 0.8670\n",
      "Epoch 13: val_loss improved from 0.42637 to 0.42064, saving model to best_model_word.h5\n",
      "524/524 [==============================] - 66s 126ms/step - loss: 0.4360 - accuracy: 0.8670 - val_loss: 0.4206 - val_accuracy: 0.8740\n",
      "Epoch 14/50\n",
      "524/524 [==============================] - ETA: 0s - loss: 0.4287 - accuracy: 0.8687\n",
      "Epoch 14: val_loss improved from 0.42064 to 0.41284, saving model to best_model_word.h5\n",
      "524/524 [==============================] - 62s 119ms/step - loss: 0.4287 - accuracy: 0.8687 - val_loss: 0.4128 - val_accuracy: 0.8762\n",
      "Epoch 15/50\n",
      "524/524 [==============================] - ETA: 0s - loss: 0.4195 - accuracy: 0.8713\n",
      "Epoch 15: val_loss improved from 0.41284 to 0.41035, saving model to best_model_word.h5\n",
      "524/524 [==============================] - 61s 117ms/step - loss: 0.4195 - accuracy: 0.8713 - val_loss: 0.4103 - val_accuracy: 0.8769\n",
      "Epoch 16/50\n",
      "524/524 [==============================] - ETA: 0s - loss: 0.4120 - accuracy: 0.8731\n",
      "Epoch 16: val_loss improved from 0.41035 to 0.40272, saving model to best_model_word.h5\n",
      "524/524 [==============================] - 64s 123ms/step - loss: 0.4120 - accuracy: 0.8731 - val_loss: 0.4027 - val_accuracy: 0.8797\n",
      "Epoch 17/50\n",
      "524/524 [==============================] - ETA: 0s - loss: 0.4050 - accuracy: 0.8749\n",
      "Epoch 17: val_loss improved from 0.40272 to 0.40087, saving model to best_model_word.h5\n",
      "524/524 [==============================] - 62s 118ms/step - loss: 0.4050 - accuracy: 0.8749 - val_loss: 0.4009 - val_accuracy: 0.8807\n",
      "Epoch 18/50\n",
      "524/524 [==============================] - ETA: 0s - loss: 0.3982 - accuracy: 0.8766\n",
      "Epoch 18: val_loss improved from 0.40087 to 0.39578, saving model to best_model_word.h5\n",
      "524/524 [==============================] - 57s 109ms/step - loss: 0.3982 - accuracy: 0.8766 - val_loss: 0.3958 - val_accuracy: 0.8822\n",
      "Epoch 19/50\n",
      "524/524 [==============================] - ETA: 0s - loss: 0.3923 - accuracy: 0.8779\n",
      "Epoch 19: val_loss did not improve from 0.39578\n",
      "524/524 [==============================] - 61s 117ms/step - loss: 0.3923 - accuracy: 0.8779 - val_loss: 0.3994 - val_accuracy: 0.8818\n",
      "Epoch 20/50\n",
      "524/524 [==============================] - ETA: 0s - loss: 0.3863 - accuracy: 0.8796\n",
      "Epoch 20: val_loss improved from 0.39578 to 0.39197, saving model to best_model_word.h5\n",
      "524/524 [==============================] - 62s 119ms/step - loss: 0.3863 - accuracy: 0.8796 - val_loss: 0.3920 - val_accuracy: 0.8837\n",
      "Epoch 21/50\n",
      "524/524 [==============================] - ETA: 0s - loss: 0.3810 - accuracy: 0.8808\n",
      "Epoch 21: val_loss did not improve from 0.39197\n",
      "524/524 [==============================] - 61s 117ms/step - loss: 0.3810 - accuracy: 0.8808 - val_loss: 0.3924 - val_accuracy: 0.8841\n",
      "Epoch 22/50\n",
      "524/524 [==============================] - ETA: 0s - loss: nan - accuracy: 0.8329\n",
      "Epoch 22: val_loss did not improve from 0.39197\n",
      "524/524 [==============================] - 64s 121ms/step - loss: nan - accuracy: 0.8329 - val_loss: nan - val_accuracy: 0.7800\n",
      "Epoch 23/50\n",
      "524/524 [==============================] - ETA: 0s - loss: nan - accuracy: 0.7820\n",
      "Epoch 23: val_loss did not improve from 0.39197\n",
      "524/524 [==============================] - 58s 111ms/step - loss: nan - accuracy: 0.7820 - val_loss: nan - val_accuracy: 0.7800\n"
     ]
    }
   ],
   "source": [
    "# ---- DESCRIPTION OF THE INPUT DATA ----\n",
    "# X_train shape: (num_samples, 32, 128, 1)\n",
    "# y_train shape: (num_samples, max(len(words)),len(vocabulary))\n",
    "# example of a X_train value: matrix of 32x128 with values between 0 and 1\n",
    "# example of a y_train value: matrix of 17x63 with values between 0 and 1. first column is the padding, the rest are the one-hot encoded values of the transcription\n",
    "\n",
    "from keras.models import Sequential\n",
    "from keras.layers import Conv2D, MaxPooling2D, Flatten, Dense, Dropout\n",
    "from keras.layers import Reshape\n",
    "\n",
    "def create_cnn_model(input_shape, num_classes, sequence_length):\n",
    "    model = Sequential([\n",
    "        Conv2D(32, (3, 3), activation='relu', input_shape=input_shape),\n",
    "        MaxPooling2D(pool_size=(2, 2)),\n",
    "        \n",
    "        Conv2D(64, (3, 3), activation='relu'),\n",
    "        MaxPooling2D(pool_size=(2, 2)),\n",
    "        \n",
    "        Conv2D(128, (3, 3), activation='relu'),\n",
    "        MaxPooling2D(pool_size=(2, 2)),\n",
    "        \n",
    "        Flatten(),\n",
    "        \n",
    "        Dense(256, activation='relu'),\n",
    "        Dropout(0.1),\n",
    "        \n",
    "        Dense(sequence_length * num_classes, activation='softmax'),\n",
    "        Reshape((sequence_length, num_classes))\n",
    "\n",
    "\n",
    "    ])\n",
    "    \n",
    "    model.compile(optimizer=tf.keras.optimizers.Adam(learning_rate=0.001),\n",
    "                  loss='categorical_crossentropy',\n",
    "                  metrics=['accuracy'])\n",
    "    return model\n",
    "\n",
    "create_cnn_model(input_shape=(32, 128, 1), num_classes=len(vocabulary)+1, sequence_length=y_train.shape[1]).summary()\n",
    "\n",
    "\n",
    "from keras.callbacks import EarlyStopping\n",
    "\n",
    "from tensorflow.keras.callbacks import EarlyStopping, ModelCheckpoint\n",
    "\n",
    "# Stop training when there is no improvement in the validation loss for 3 consecutive epochs\n",
    "early_stopping = EarlyStopping(monitor='val_loss', patience=3)\n",
    "\n",
    "# Save the best model during the training\n",
    "best_model_path = 'best_model_word.h5'  \n",
    "model_checkpoint = ModelCheckpoint(best_model_path, \n",
    "                                   monitor='val_loss', \n",
    "                                   save_best_only=True, \n",
    "                                   verbose=1)\n",
    "\n",
    "# Assume create_cnn_model is a function you've defined to create your model\n",
    "model = create_cnn_model(input_shape=(32, 128, 1), num_classes=len(vocabulary)+1, sequence_length=y_train.shape[1])\n",
    "\n",
    "history = model.fit(\n",
    "    X_train, y_train,\n",
    "    validation_data=(X_val, y_val),\n",
    "    epochs=50,  # Set a high number because early stopping will halt the training\n",
    "    batch_size=128,\n",
    "    callbacks=[early_stopping, model_checkpoint]  # Add the model checkpoint callback here\n",
    ")"
   ]
  },
  {
   "cell_type": "code",
   "execution_count": 32,
   "metadata": {},
   "outputs": [
    {
     "data": {
      "image/png": "[encoded data removed]",
      "text/plain": [
       "<Figure size 640x480 with 1 Axes>"
      ]
     },
     "metadata": {},
     "output_type": "display_data"
    },
    {
     "data": {
      "image/png": "[encoded data removed]",
      "text/plain": [
       "<Figure size 640x480 with 1 Axes>"
      ]
     },
     "metadata": {},
     "output_type": "display_data"
    }
   ],
   "source": [
    "plot_history(history)"
   ]
  },
  {
   "cell_type": "markdown",
   "metadata": {},
   "source": [
    "## Hyper Parameter Tuning - 1 or more chareter word Model"
   ]
  },
  {
   "cell_type": "code",
   "execution_count": null,
   "metadata": {},
   "outputs": [],
   "source": [
    "import keras_tuner as kt"
   ]
  },
  {
   "cell_type": "markdown",
   "metadata": {},
   "source": [
    "Model Building Functio to be used under Keras TUuer.\n",
    "\n",
    "- Testing 1 Input CNN Layer. Neurous between 32 and 128 with a step of 32.\n",
    "- Testing between 2 and 4 CNN layers. Neurous between 32 and 128 with a step of 32.\n",
    "- Testing 1 DEnse layer. Neurous between 32 and 128 with a step of 32.\n",
    "- Testing different dropout rates betqeen 0 and 0,5 with a step of 0,1.\n",
    "- Testing 3 different learning rates [1e-1, 1e-2, 1e-3, 1e-4]\n",
    "\n"
   ]
  },
  {
   "cell_type": "code",
   "execution_count": null,
   "metadata": {},
   "outputs": [],
   "source": [
    "def model_builder(hp):\n",
    "    seq_to_seq_model = Sequential()\n",
    "    \n",
    "    seq_to_seq_model.add(Conv2D(hp.Int('Input CNN units', min_value=32, max_value=128, step=32), kernel_size=(3, 3), input_shape=(32, 128, 1), activation=\"relu\"))\n",
    "    seq_to_seq_model.add(MaxPooling2D(pool_size=(2, 2)))\n",
    "    for i in range(hp.Int(\"layers\", 2 , 4)):\n",
    "        seq_to_seq_model.add(Conv2D(hp.Int('CNN units ' + str(i), min_value=32, max_value=128, step=32), kernel_size=(3, 3), activation=\"relu\"))\n",
    "        seq_to_seq_model.add(MaxPooling2D(pool_size=(2, 2)))\n",
    "    seq_to_seq_model.add(Flatten())\n",
    "    seq_to_seq_model.add(Dense(hp.Int('dense_units', min_value=64, max_value=256, step=64), activation='relu'))\n",
    "    seq_to_seq_model.add(Dropout(hp.Float('dropout', 0, 0.5, step=0.1, default=0.5)))\n",
    "    seq_to_seq_model.add(Dense((17 * (len(vocabulary)+1)), activation=\"softmax\"))\n",
    "    seq_to_seq_model.add(Reshape((17,len(vocabulary)+1)))\n",
    "\n",
    "    seq_to_seq_model.compile(optimizer=keras.optimizers.Adam(hp.Choice(\"learning rate\", values=[1e-1, 1e-2, 1e-3, 1e-4])), loss='categorical_crossentropy', metrics=['accuracy'])\n",
    "    \n",
    "    return seq_to_seq_model"
   ]
  },
  {
   "cell_type": "markdown",
   "metadata": {},
   "source": [
    "Tuner using a max of 20 trials (combinations). Using Val accuracy as objective."
   ]
  },
  {
   "cell_type": "code",
   "execution_count": null,
   "metadata": {},
   "outputs": [
    {
     "name": "stdout",
     "output_type": "stream",
     "text": [
      "Trial 2 Complete [00h 12m 41s]\n",
      "val_accuracy: 0.8344508409500122\n",
      "\n",
      "Best val_accuracy So Far: 0.8344508409500122\n",
      "Total elapsed time: 00h 12m 41s\n"
     ]
    }
   ],
   "source": [
    "tuner = kt.RandomSearch(\n",
    "    model_builder,\n",
    "    objective='val_accuracy',\n",
    "    max_trials=20,  #Number of experiments\n",
    "    directory='my_dir',\n",
    "    project_name='seq_to_seq_model',\n",
    "    seed=24\n",
    ")\n",
    "\n",
    "tuner.search(X_train, y_train, epochs=50, validation_data=(X_val, y_val))"
   ]
  },
  {
   "cell_type": "markdown",
   "metadata": {},
   "source": [
    "Trials Summary Results\n"
   ]
  },
  {
   "cell_type": "code",
   "execution_count": null,
   "metadata": {},
   "outputs": [],
   "source": [
    "tuner.results_summary()"
   ]
  },
  {
   "cell_type": "markdown",
   "metadata": {},
   "source": [
    "New Model with the best Hyper-Parametera"
   ]
  },
  {
   "cell_type": "code",
   "execution_count": null,
   "metadata": {},
   "outputs": [
    {
     "name": "stdout",
     "output_type": "stream",
     "text": [
      "Model: \"sequential_2\"\n",
      "_________________________________________________________________\n",
      " Layer (type)                Output Shape              Param #   \n",
      "=================================================================\n",
      " conv2d_6 (Conv2D)           (None, 30, 126, 32)       320       \n",
      "                                                                 \n",
      " max_pooling2d_6 (MaxPoolin  (None, 15, 63, 32)        0         \n",
      " g2D)                                                            \n",
      "                                                                 \n",
      " conv2d_7 (Conv2D)           (None, 13, 61, 96)        27744     \n",
      "                                                                 \n",
      " max_pooling2d_7 (MaxPoolin  (None, 6, 30, 96)         0         \n",
      " g2D)                                                            \n",
      "                                                                 \n",
      " conv2d_8 (Conv2D)           (None, 4, 28, 96)         83040     \n",
      "                                                                 \n",
      " max_pooling2d_8 (MaxPoolin  (None, 2, 14, 96)         0         \n",
      " g2D)                                                            \n",
      "                                                                 \n",
      " flatten_2 (Flatten)         (None, 2688)              0         \n",
      "                                                                 \n",
      " dense_4 (Dense)             (None, 192)               516288    \n",
      "                                                                 \n",
      " dropout_2 (Dropout)         (None, 192)               0         \n",
      "                                                                 \n",
      " dense_5 (Dense)             (None, 1071)              206703    \n",
      "                                                                 \n",
      " reshape_2 (Reshape)         (None, 17, 63)            0         \n",
      "                                                                 \n",
      "=================================================================\n",
      "Total params: 834095 (3.18 MB)\n",
      "Trainable params: 834095 (3.18 MB)\n",
      "Non-trainable params: 0 (0.00 Byte)\n",
      "_________________________________________________________________\n"
     ]
    }
   ],
   "source": [
    "best_hps = tuner.get_best_hyperparameters(num_trials=2)[0]\n",
    "seq_to_seq_model2 = tuner.hypermodel.build(best_hps)\n",
    "\n",
    "seq_to_seq_model2.summary()"
   ]
  },
  {
   "cell_type": "code",
   "execution_count": null,
   "metadata": {},
   "outputs": [
    {
     "name": "stdout",
     "output_type": "stream",
     "text": [
      "Best hyperparameters: {'Input CNN units': 32, 'layers': 2, 'CNN units 0': 96, 'CNN units 1': 96, 'dense_units': 192, 'dropout': 0.1, 'learning rate': 0.001, 'CNN units 2': 96}\n"
     ]
    }
   ],
   "source": [
    "print(\"Best hyperparameters:\", best_hps.values)"
   ]
  },
  {
   "cell_type": "code",
   "execution_count": null,
   "metadata": {},
   "outputs": [],
   "source": [
    "\"\"\"\n",
    "# Save the best model during the training\n",
    "best_hyper_model_path = 'best_hyper_model.h5'  # Specify the path where you want to save the best model\n",
    "model_checkpoint = ModelCheckpoint(best_hyper_model_path, \n",
    "                                   monitor='val_loss', \n",
    "                                   save_best_only=True, \n",
    "                                   verbose=1)\n",
    "\"\"\""
   ]
  },
  {
   "cell_type": "code",
   "execution_count": null,
   "metadata": {},
   "outputs": [
    {
     "name": "stdout",
     "output_type": "stream",
     "text": [
      "Epoch 1/2\n",
      "2435/2435 [==============================] - ETA: 0s - loss: 0.8067 - accuracy: 0.7777\n",
      "Epoch 1: val_loss improved from inf to 0.67339, saving model to best_hyper_model.h5\n",
      "2435/2435 [==============================] - 370s 152ms/step - loss: 0.8067 - accuracy: 0.7777 - val_loss: 0.6734 - val_accuracy: 0.8046\n",
      "Epoch 2/2\n"
     ]
    },
    {
     "name": "stderr",
     "output_type": "stream",
     "text": [
      "c:\\Users\\t.ferreira\\AppData\\Local\\Programs\\Python\\Python311\\Lib\\site-packages\\keras\\src\\engine\\training.py:3103: UserWarning: You are saving your model as an HDF5 file via `model.save()`. This file format is considered legacy. We recommend using instead the native Keras format, e.g. `model.save('my_model.keras')`.\n",
      "  saving_api.save_model(\n"
     ]
    },
    {
     "name": "stdout",
     "output_type": "stream",
     "text": [
      "2435/2435 [==============================] - ETA: 0s - loss: 0.6367 - accuracy: 0.8146\n",
      "Epoch 2: val_loss improved from 0.67339 to 0.57208, saving model to best_hyper_model.h5\n",
      "2435/2435 [==============================] - 403s 165ms/step - loss: 0.6367 - accuracy: 0.8146 - val_loss: 0.5721 - val_accuracy: 0.8319\n"
     ]
    }
   ],
   "source": [
    "\"\"\"\n",
    "history_2 = seq_to_seq_model2.fit(\n",
    "    X_train, y_train,\n",
    "    validation_data=(X_val, y_val),  # replace with your validation data\n",
    "    epochs=2,  # Set a high number because early stopping will halt the training\n",
    "    batch_size=32,  # Adjust based on your data and computing resources\n",
    "    callbacks=[early_stopping, model_checkpoint]  # Add the model checkpoint callback here\n",
    ")\n",
    "\"\"\""
   ]
  },
  {
   "cell_type": "code",
   "execution_count": 126,
   "metadata": {},
   "outputs": [
    {
     "name": "stderr",
     "output_type": "stream",
     "text": [
      "WARNING:absl:At this time, the v2.11+ optimizer `tf.keras.optimizers.Adam` runs slowly on M1/M2 Macs, please use the legacy Keras optimizer instead, located at `tf.keras.optimizers.legacy.Adam`.\n"
     ]
    },
    {
     "name": "stdout",
     "output_type": "stream",
     "text": [
      "Model: \"sequential_12\"\n",
      "_________________________________________________________________\n",
      " Layer (type)                Output Shape              Param #   \n",
      "=================================================================\n",
      " conv2d_32 (Conv2D)          (None, 30, 126, 96)       960       \n",
      "                                                                 \n",
      " max_pooling2d_32 (MaxPooli  (None, 15, 63, 96)        0         \n",
      " ng2D)                                                           \n",
      "                                                                 \n",
      " conv2d_33 (Conv2D)          (None, 13, 61, 96)        83040     \n",
      "                                                                 \n",
      " max_pooling2d_33 (MaxPooli  (None, 6, 30, 96)         0         \n",
      " ng2D)                                                           \n",
      "                                                                 \n",
      " conv2d_34 (Conv2D)          (None, 4, 28, 96)         83040     \n",
      "                                                                 \n",
      " max_pooling2d_34 (MaxPooli  (None, 2, 14, 96)         0         \n",
      " ng2D)                                                           \n",
      "                                                                 \n",
      " flatten_12 (Flatten)        (None, 2688)              0         \n",
      "                                                                 \n",
      " dense_24 (Dense)            (None, 192)               516288    \n",
      "                                                                 \n",
      " dropout_12 (Dropout)        (None, 192)               0         \n",
      "                                                                 \n",
      " dense_25 (Dense)            (None, 1344)              259392    \n",
      "                                                                 \n",
      " reshape_8 (Reshape)         (None, 21, 64)            0         \n",
      "                                                                 \n",
      "=================================================================\n",
      "Total params: 942720 (3.60 MB)\n",
      "Trainable params: 942720 (3.60 MB)\n",
      "Non-trainable params: 0 (0.00 Byte)\n",
      "_________________________________________________________________\n"
     ]
    },
    {
     "name": "stderr",
     "output_type": "stream",
     "text": [
      "WARNING:absl:At this time, the v2.11+ optimizer `tf.keras.optimizers.Adam` runs slowly on M1/M2 Macs, please use the legacy Keras optimizer instead, located at `tf.keras.optimizers.legacy.Adam`.\n"
     ]
    },
    {
     "name": "stdout",
     "output_type": "stream",
     "text": [
      "Epoch 1/50\n",
      "524/524 [==============================] - ETA: 0s - loss: 0.7714 - accuracy: 0.7984\n",
      "Epoch 1: val_loss improved from inf to 0.66902, saving model to best_model_word_hyper.h5\n",
      "524/524 [==============================] - 143s 273ms/step - loss: 0.7714 - accuracy: 0.7984 - val_loss: 0.6690 - val_accuracy: 0.8123\n",
      "Epoch 2/50\n"
     ]
    },
    {
     "name": "stderr",
     "output_type": "stream",
     "text": [
      "/opt/homebrew/lib/python3.11/site-packages/keras/src/engine/training.py:3103: UserWarning: You are saving your model as an HDF5 file via `model.save()`. This file format is considered legacy. We recommend using instead the native Keras format, e.g. `model.save('my_model.keras')`.\n",
      "  saving_api.save_model(\n"
     ]
    },
    {
     "name": "stdout",
     "output_type": "stream",
     "text": [
      "524/524 [==============================] - ETA: 0s - loss: 0.6328 - accuracy: 0.8212\n",
      "Epoch 2: val_loss improved from 0.66902 to 0.60074, saving model to best_model_word_hyper.h5\n",
      "524/524 [==============================] - 148s 283ms/step - loss: 0.6328 - accuracy: 0.8212 - val_loss: 0.6007 - val_accuracy: 0.8268\n",
      "Epoch 3/50\n",
      "524/524 [==============================] - ETA: 0s - loss: 0.5722 - accuracy: 0.8342\n",
      "Epoch 3: val_loss improved from 0.60074 to 0.54641, saving model to best_model_word_hyper.h5\n",
      "524/524 [==============================] - 148s 282ms/step - loss: 0.5722 - accuracy: 0.8342 - val_loss: 0.5464 - val_accuracy: 0.8388\n",
      "Epoch 4/50\n",
      "524/524 [==============================] - ETA: 0s - loss: 0.5243 - accuracy: 0.8451\n",
      "Epoch 4: val_loss improved from 0.54641 to 0.50884, saving model to best_model_word_hyper.h5\n",
      "524/524 [==============================] - 141s 269ms/step - loss: 0.5243 - accuracy: 0.8451 - val_loss: 0.5088 - val_accuracy: 0.8486\n",
      "Epoch 5/50\n",
      "524/524 [==============================] - ETA: 0s - loss: 0.4897 - accuracy: 0.8535\n",
      "Epoch 5: val_loss improved from 0.50884 to 0.48811, saving model to best_model_word_hyper.h5\n",
      "524/524 [==============================] - 143s 273ms/step - loss: 0.4897 - accuracy: 0.8535 - val_loss: 0.4881 - val_accuracy: 0.8538\n",
      "Epoch 6/50\n",
      "524/524 [==============================] - ETA: 0s - loss: 0.4593 - accuracy: 0.8615\n",
      "Epoch 6: val_loss improved from 0.48811 to 0.46340, saving model to best_model_word_hyper.h5\n",
      "524/524 [==============================] - 139s 265ms/step - loss: 0.4593 - accuracy: 0.8615 - val_loss: 0.4634 - val_accuracy: 0.8608\n",
      "Epoch 7/50\n",
      "524/524 [==============================] - ETA: 0s - loss: 0.4347 - accuracy: 0.8678\n",
      "Epoch 7: val_loss improved from 0.46340 to 0.43760, saving model to best_model_word_hyper.h5\n",
      "524/524 [==============================] - 125s 239ms/step - loss: 0.4347 - accuracy: 0.8678 - val_loss: 0.4376 - val_accuracy: 0.8682\n",
      "Epoch 8/50\n",
      "524/524 [==============================] - ETA: 0s - loss: 0.4133 - accuracy: 0.8738\n",
      "Epoch 8: val_loss improved from 0.43760 to 0.42391, saving model to best_model_word_hyper.h5\n",
      "524/524 [==============================] - 141s 269ms/step - loss: 0.4133 - accuracy: 0.8738 - val_loss: 0.4239 - val_accuracy: 0.8727\n",
      "Epoch 9/50\n",
      "524/524 [==============================] - ETA: 0s - loss: 0.3954 - accuracy: 0.8785\n",
      "Epoch 9: val_loss improved from 0.42391 to 0.41238, saving model to best_model_word_hyper.h5\n",
      "524/524 [==============================] - 148s 283ms/step - loss: 0.3954 - accuracy: 0.8785 - val_loss: 0.4124 - val_accuracy: 0.8760\n",
      "Epoch 10/50\n",
      "524/524 [==============================] - ETA: 0s - loss: 0.3793 - accuracy: 0.8831\n",
      "Epoch 10: val_loss improved from 0.41238 to 0.40820, saving model to best_model_word_hyper.h5\n",
      "524/524 [==============================] - 142s 270ms/step - loss: 0.3793 - accuracy: 0.8831 - val_loss: 0.4082 - val_accuracy: 0.8772\n",
      "Epoch 11/50\n",
      "524/524 [==============================] - ETA: 0s - loss: 0.3654 - accuracy: 0.8868\n",
      "Epoch 11: val_loss improved from 0.40820 to 0.40090, saving model to best_model_word_hyper.h5\n",
      "524/524 [==============================] - 140s 266ms/step - loss: 0.3654 - accuracy: 0.8868 - val_loss: 0.4009 - val_accuracy: 0.8799\n",
      "Epoch 12/50\n",
      "524/524 [==============================] - ETA: 0s - loss: 0.3526 - accuracy: 0.8903\n",
      "Epoch 12: val_loss improved from 0.40090 to 0.39425, saving model to best_model_word_hyper.h5\n",
      "524/524 [==============================] - 130s 249ms/step - loss: 0.3526 - accuracy: 0.8903 - val_loss: 0.3943 - val_accuracy: 0.8818\n",
      "Epoch 13/50\n",
      "524/524 [==============================] - ETA: 0s - loss: 0.3413 - accuracy: 0.8932\n",
      "Epoch 13: val_loss improved from 0.39425 to 0.39106, saving model to best_model_word_hyper.h5\n",
      "524/524 [==============================] - 129s 246ms/step - loss: 0.3413 - accuracy: 0.8932 - val_loss: 0.3911 - val_accuracy: 0.8833\n",
      "Epoch 14/50\n",
      "524/524 [==============================] - ETA: 0s - loss: 0.3313 - accuracy: 0.8960\n",
      "Epoch 14: val_loss improved from 0.39106 to 0.38733, saving model to best_model_word_hyper.h5\n",
      "524/524 [==============================] - 138s 263ms/step - loss: 0.3313 - accuracy: 0.8960 - val_loss: 0.3873 - val_accuracy: 0.8839\n",
      "Epoch 15/50\n",
      "524/524 [==============================] - ETA: 0s - loss: 0.3213 - accuracy: 0.8990\n",
      "Epoch 15: val_loss improved from 0.38733 to 0.38388, saving model to best_model_word_hyper.h5\n",
      "524/524 [==============================] - 137s 261ms/step - loss: 0.3213 - accuracy: 0.8990 - val_loss: 0.3839 - val_accuracy: 0.8855\n",
      "Epoch 16/50\n",
      "524/524 [==============================] - ETA: 0s - loss: 0.3137 - accuracy: 0.9014\n",
      "Epoch 16: val_loss did not improve from 0.38388\n",
      "524/524 [==============================] - 132s 252ms/step - loss: 0.3137 - accuracy: 0.9014 - val_loss: 0.3858 - val_accuracy: 0.8860\n",
      "Epoch 17/50\n",
      "524/524 [==============================] - ETA: 0s - loss: 0.3060 - accuracy: 0.9032\n",
      "Epoch 17: val_loss did not improve from 0.38388\n",
      "524/524 [==============================] - 131s 250ms/step - loss: 0.3060 - accuracy: 0.9032 - val_loss: 0.3849 - val_accuracy: 0.8867\n",
      "Epoch 18/50\n",
      "524/524 [==============================] - ETA: 0s - loss: 0.2988 - accuracy: 0.9056\n",
      "Epoch 18: val_loss improved from 0.38388 to 0.38252, saving model to best_model_word_hyper.h5\n",
      "524/524 [==============================] - 134s 255ms/step - loss: 0.2988 - accuracy: 0.9056 - val_loss: 0.3825 - val_accuracy: 0.8872\n",
      "Epoch 19/50\n",
      "524/524 [==============================] - ETA: 0s - loss: 0.2920 - accuracy: 0.9073\n",
      "Epoch 19: val_loss improved from 0.38252 to 0.38238, saving model to best_model_word_hyper.h5\n",
      "524/524 [==============================] - 132s 252ms/step - loss: 0.2920 - accuracy: 0.9073 - val_loss: 0.3824 - val_accuracy: 0.8869\n",
      "Epoch 20/50\n",
      "524/524 [==============================] - ETA: 0s - loss: 0.2864 - accuracy: 0.9088\n",
      "Epoch 20: val_loss did not improve from 0.38238\n",
      "524/524 [==============================] - 134s 257ms/step - loss: 0.2864 - accuracy: 0.9088 - val_loss: 0.3912 - val_accuracy: 0.8872\n",
      "Epoch 21/50\n",
      "524/524 [==============================] - ETA: 0s - loss: 0.2805 - accuracy: 0.9103\n",
      "Epoch 21: val_loss did not improve from 0.38238\n",
      "524/524 [==============================] - 125s 238ms/step - loss: 0.2805 - accuracy: 0.9103 - val_loss: 0.3885 - val_accuracy: 0.8872\n",
      "Epoch 22/50\n",
      "524/524 [==============================] - ETA: 0s - loss: 0.2751 - accuracy: 0.9121\n",
      "Epoch 22: val_loss did not improve from 0.38238\n",
      "524/524 [==============================] - 125s 239ms/step - loss: 0.2751 - accuracy: 0.9121 - val_loss: 0.3919 - val_accuracy: 0.8884\n"
     ]
    }
   ],
   "source": [
    "# ---- DESCRIPTION OF THE INPUT DATA ----\n",
    "# X_train shape: (num_samples, 32, 128, 1)\n",
    "# y_train shape: (num_samples, max(len(words)),len(vocabulary))\n",
    "# example of a X_train value: matrix of 32x128 with values between 0 and 1\n",
    "# example of a y_train value: matrix of 17x63 with values between 0 and 1. first column is the padding, the rest are the one-hot encoded values of the transcription\n",
    "\n",
    "from keras.models import Sequential\n",
    "from keras.layers import Conv2D, MaxPooling2D, Flatten, Dense, Dropout\n",
    "from keras.layers import Reshape\n",
    "\n",
    "def create_cnn_model(input_shape, num_classes, sequence_length):\n",
    "    model_hyper = Sequential([\n",
    "        # Input CNN layer with 32 units\n",
    "        Conv2D(96, (3, 3), activation='relu', input_shape=input_shape),  # Updated the number of filters to 96\n",
    "        MaxPooling2D(pool_size=(2, 2)),\n",
    "        \n",
    "        # Second CNN layer with 96 units\n",
    "        Conv2D(96, (3, 3), activation='relu'),  # Updated the number of filters to 96\n",
    "        MaxPooling2D(pool_size=(2, 2)),\n",
    "\n",
    "        # Third CNN layer with 96 units (as per 'CNN units 2')\n",
    "        Conv2D(96, (3, 3), activation='relu'),  # Updated the number of filters to 96\n",
    "        MaxPooling2D(pool_size=(2, 2)),\n",
    "\n",
    "        # Flattening the 2D arrays for fully connected layers\n",
    "        Flatten(),\n",
    "\n",
    "        # First Dense layer with 192 units\n",
    "        Dense(192, activation='relu'),  # Updated number of units to 192\n",
    "        Dropout(0.1),  # Dropout with 0.1 rate\n",
    "        \n",
    "        # Output layer with sequence_length * num_classes units and softmax activation\n",
    "        Dense(sequence_length * num_classes, activation='softmax'),\n",
    "        Reshape((sequence_length, num_classes))\n",
    "\n",
    "    ])\n",
    "    \n",
    "    # Compiling the model with Adam optimizer and a learning rate of 0.001\n",
    "    model_hyper.compile(optimizer=tf.keras.optimizers.Adam(learning_rate=0.001),\n",
    "                  loss='categorical_crossentropy',\n",
    "                  metrics=['accuracy'])\n",
    "    return model_hyper\n",
    "\n",
    "create_cnn_model(input_shape=(32, 128, 1), num_classes=len(vocabulary)+1, sequence_length=y_train.shape[1]).summary()\n",
    "\n",
    "\n",
    "from keras.callbacks import EarlyStopping\n",
    "\n",
    "from tensorflow.keras.callbacks import EarlyStopping, ModelCheckpoint\n",
    "\n",
    "# Stop training when there is no improvement in the validation loss for 3 consecutive epochs\n",
    "early_stopping = EarlyStopping(monitor='val_loss', patience=3)\n",
    "\n",
    "# Save the best model during the training\n",
    "best_model_path = 'best_model_word_hyper.h5'  \n",
    "model_checkpoint = ModelCheckpoint(best_model_path, \n",
    "                                   monitor='val_loss', \n",
    "                                   save_best_only=True, \n",
    "                                   verbose=1)\n",
    "\n",
    "# Assume create_cnn_model is a function you've defined to create your model\n",
    "model_hyper_word = create_cnn_model(input_shape=(32, 128, 1), num_classes=len(vocabulary)+1, sequence_length=y_train.shape[1])\n",
    "\n",
    "history = model_hyper_word.fit(\n",
    "    X_train, y_train,\n",
    "    validation_data=(X_val, y_val),\n",
    "    epochs=50,  # Set a high number because early stopping will halt the training\n",
    "    batch_size=128,\n",
    "    callbacks=[early_stopping, model_checkpoint]  # Add the model checkpoint callback here\n",
    ")"
   ]
  },
  {
   "cell_type": "markdown",
   "metadata": {},
   "source": [
    "#### CRNN model"
   ]
  },
  {
   "cell_type": "code",
   "execution_count": 208,
   "metadata": {},
   "outputs": [
    {
     "name": "stdout",
     "output_type": "stream",
     "text": [
      "(67064, 32, 128, 1)\n",
      "(67064, 21, 64)\n"
     ]
    }
   ],
   "source": [
    "print(X_train.shape)\n",
    "print(y_train.shape)"
   ]
  },
  {
   "cell_type": "code",
   "execution_count": 211,
   "metadata": {},
   "outputs": [],
   "source": [
    "import keras\n",
    "from tensorflow.keras.models import Model, \n",
    "from tensorflow.keras.layers import Input, Conv2D, MaxPooling2D, Dense, Dropout, Reshape, LSTM, Layer"
   ]
  },
  {
   "cell_type": "code",
   "execution_count": 229,
   "metadata": {},
   "outputs": [],
   "source": [
    "\"\"\"class CTCLayer(Layer):\n",
    "    def __init__(self, name=None):\n",
    "        super().__init__(name=name)\n",
    "        self.loss_fn = tf.keras.backend.ctc_batch_cost\n",
    "\n",
    "    def call(self, y_true, y_pred):\n",
    "        batch_len = tf.cast(tf.shape(y_true)[0], dtype=\"int64\")\n",
    "        input_length = tf.cast(tf.shape(y_pred)[1], dtype=\"int64\")\n",
    "        label_length = tf.cast(tf.shape(y_true)[1], dtype=\"int64\")\n",
    "\n",
    "        input_length = input_length * tf.ones(shape=(batch_len, 1), dtype=\"int64\")\n",
    "        label_length = label_length * tf.ones(shape=(batch_len, 1), dtype=\"int64\")\n",
    "\n",
    "        loss = self.loss_fn(y_true, y_pred, input_length, label_length)\n",
    "        self.add_loss(loss)\n",
    "\n",
    "        return y_pred\"\"\"\n",
    "\n",
    "def ctc_batch_cost(y_true, y_pred, input_length, label_length):\n",
    "    label_length = tf.cast(tf.squeeze(label_length, axis=-1), tf.int32)\n",
    "    input_length = tf.cast(tf.squeeze(input_length, axis=-1), tf.int32)\n",
    "    sparse_labels = tf.cast(ctc_label_dense_to_sparse(y_true, label_length), tf.int32)\n",
    "\n",
    "    y_pred = tf.math.log(tf.transpose(y_pred, perm=[1, 0, 2]) + keras.backend.epsilon())\n",
    "\n",
    "    return tf.expand_dims(\n",
    "        tf.compat.v1.nn.ctc_loss(\n",
    "            inputs=y_pred, labels=sparse_labels, sequence_length=input_length\n",
    "        ),\n",
    "        1,\n",
    "    )\n",
    "\n",
    "\n",
    "def ctc_label_dense_to_sparse(labels, label_lengths):\n",
    "    label_shape = tf.shape(labels)\n",
    "    num_batches_tns = tf.stack([label_shape[0]])\n",
    "    max_num_labels_tns = tf.stack([label_shape[1]])\n",
    "\n",
    "    def range_less_than(old_input, current_input):\n",
    "        return tf.expand_dims(tf.range(tf.shape(old_input)[1]), 0) < tf.fill(\n",
    "            max_num_labels_tns, current_input\n",
    "        )\n",
    "\n",
    "    init = tf.cast(tf.fill([1, label_shape[1]], 0), tf.bool)\n",
    "    dense_mask = tf.compat.v1.scan(\n",
    "        range_less_than, label_lengths, initializer=init, parallel_iterations=1\n",
    "    )\n",
    "    dense_mask = dense_mask[:, 0, :]\n",
    "\n",
    "    label_array = tf.reshape(\n",
    "        tf.tile(tf.range(0, label_shape[1]), num_batches_tns), label_shape\n",
    "    )\n",
    "    label_ind = tf.compat.v1.boolean_mask(label_array, dense_mask)\n",
    "\n",
    "    batch_array = tf.transpose(\n",
    "        tf.reshape(\n",
    "            tf.tile(tf.range(0, label_shape[0]), max_num_labels_tns),\n",
    "            tf.reverse(label_shape, [0]),\n",
    "        )\n",
    "    )\n",
    "    batch_ind = tf.compat.v1.boolean_mask(batch_array, dense_mask)\n",
    "    indices = tf.transpose(\n",
    "        tf.reshape(tf.concat([batch_ind, label_ind], axis=0), [2, -1])\n",
    "    )\n",
    "\n",
    "    vals_sparse = tf.compat.v1.gather_nd(labels, indices)\n",
    "\n",
    "    return tf.SparseTensor(\n",
    "        tf.cast(indices, tf.int64), vals_sparse, tf.cast(label_shape, tf.int64)\n",
    "    )\n",
    "\n",
    "\n",
    "## Ref: https://keras.io/examples/vision/captcha_ocr/\n",
    "class CTCLayer(layers.Layer):\n",
    "    def __init__(self, name=None):\n",
    "        super().__init__(name=name)\n",
    "        self.loss_fn = ctc_batch_cost\n",
    "\n",
    "    def call(self, y_true, y_pred):\n",
    "        # Compute the training-time loss value and add it\n",
    "        # to the layer using `self.add_loss()`.\n",
    "        batch_len = tf.cast(tf.shape(y_true)[0], dtype=\"int64\")\n",
    "        input_length = tf.cast(tf.shape(y_pred)[1], dtype=\"int64\")\n",
    "        label_length = tf.cast(tf.shape(y_true)[1], dtype=\"int64\")\n",
    "\n",
    "        input_length = input_length * tf.ones(shape=(batch_len, 1), dtype=\"int64\")\n",
    "        label_length = label_length * tf.ones(shape=(batch_len, 1), dtype=\"int64\")\n",
    "\n",
    "        loss = self.loss_fn(y_true, y_pred, input_length, label_length)\n",
    "        self.add_loss(loss)\n",
    "\n",
    "        # At test time, just return the computed predictions\n",
    "        return y_pred"
   ]
  },
  {
   "cell_type": "code",
   "execution_count": 224,
   "metadata": {},
   "outputs": [
    {
     "name": "stderr",
     "output_type": "stream",
     "text": [
      "WARNING:absl:At this time, the v2.11+ optimizer `tf.keras.optimizers.Adam` runs slowly on M1/M2 Macs, please use the legacy Keras optimizer instead, located at `tf.keras.optimizers.legacy.Adam`.\n"
     ]
    },
    {
     "name": "stdout",
     "output_type": "stream",
     "text": [
      "Model: \"model_8\"\n",
      "__________________________________________________________________________________________________\n",
      " Layer (type)                Output Shape                 Param #   Connected to                  \n",
      "==================================================================================================\n",
      " input_img (InputLayer)      [(None, 32, 128, 1)]         0         []                            \n",
      "                                                                                                  \n",
      " conv2d_72 (Conv2D)          (None, 30, 126, 96)          960       ['input_img[0][0]']           \n",
      "                                                                                                  \n",
      " max_pooling2d_71 (MaxPooli  (None, 15, 63, 96)           0         ['conv2d_72[0][0]']           \n",
      " ng2D)                                                                                            \n",
      "                                                                                                  \n",
      " conv2d_73 (Conv2D)          (None, 13, 61, 96)           83040     ['max_pooling2d_71[0][0]']    \n",
      "                                                                                                  \n",
      " max_pooling2d_72 (MaxPooli  (None, 6, 30, 96)            0         ['conv2d_73[0][0]']           \n",
      " ng2D)                                                                                            \n",
      "                                                                                                  \n",
      " conv2d_74 (Conv2D)          (None, 4, 28, 96)            83040     ['max_pooling2d_72[0][0]']    \n",
      "                                                                                                  \n",
      " max_pooling2d_73 (MaxPooli  (None, 4, 14, 96)            0         ['conv2d_74[0][0]']           \n",
      " ng2D)                                                                                            \n",
      "                                                                                                  \n",
      " flatten_25 (Flatten)        (None, 5376)                 0         ['max_pooling2d_73[0][0]']    \n",
      "                                                                                                  \n",
      " dense_48 (Dense)            (None, 1344)                 7226688   ['flatten_25[0][0]']          \n",
      "                                                                                                  \n",
      " dropout_25 (Dropout)        (None, 1344)                 0         ['dense_48[0][0]']            \n",
      "                                                                                                  \n",
      " reshape_30 (Reshape)        (None, 1344, 1)              0         ['dropout_25[0][0]']          \n",
      "                                                                                                  \n",
      " lstm_22 (LSTM)              (None, 1344, 128)            66560     ['reshape_30[0][0]']          \n",
      "                                                                                                  \n",
      " lstm_23 (LSTM)              (None, 128)                  131584    ['lstm_22[0][0]']             \n",
      "                                                                                                  \n",
      " dense_49 (Dense)            (None, 1344)                 173376    ['lstm_23[0][0]']             \n",
      "                                                                                                  \n",
      " labels (InputLayer)         [(None, None)]               0         []                            \n",
      "                                                                                                  \n",
      " reshape_31 (Reshape)        (None, 21, 64)               0         ['dense_49[0][0]']            \n",
      "                                                                                                  \n",
      " ctc_loss (CTCLayer)         (None, 21, 64)               0         ['labels[0][0]',              \n",
      "                                                                     'reshape_31[0][0]']          \n",
      "                                                                                                  \n",
      "==================================================================================================\n",
      "Total params: 7765248 (29.62 MB)\n",
      "Trainable params: 7765248 (29.62 MB)\n",
      "Non-trainable params: 0 (0.00 Byte)\n",
      "__________________________________________________________________________________________________\n"
     ]
    }
   ],
   "source": [
    "def create_cnn_rnn_model(input_shape, num_classes, sequence_length):\n",
    "    # Define the input layers\n",
    "    inputs = Input(shape=input_shape, name=\"input_img\")\n",
    "    labels = Input(name=\"labels\", shape=(None,))  # input for CTC\n",
    "\n",
    "    # First CNN layer with 96 units\n",
    "    x = Conv2D(96, (3, 3), activation='relu')(inputs)\n",
    "    x = MaxPooling2D(pool_size=(2, 2))(x)\n",
    "\n",
    "    # Second CNN layer with 96 units\n",
    "    x = Conv2D(96, (3, 3), activation='relu')(x)\n",
    "    x = MaxPooling2D(pool_size=(2, 2))(x)\n",
    "\n",
    "    # Third CNN layer with 96 units\n",
    "    x = Conv2D(96, (3, 3), activation='relu')(x)\n",
    "    x = MaxPooling2D(pool_size=(1, 2))(x)\n",
    "\n",
    "    # Flatten the output of the CNN layers\n",
    "    x = tf.keras.layers.Flatten()(x)\n",
    "\n",
    "    # Dense layer with sequence_length * num_classes units\n",
    "    x = Dense(sequence_length * num_classes, activation='relu')(x)\n",
    "    x = Dropout(0.1)(x)\n",
    "\n",
    "    # Reshape the output for the RNN layers\n",
    "    # (batch_size, time_steps, units)\n",
    "    x = Reshape((sequence_length*num_classes,1))(x)\n",
    "\n",
    "    # First RNN (LSTM) layer, 128 units, returns sequences for the next LSTM layer\n",
    "    x = LSTM(128, return_sequences=True)(x)\n",
    "\n",
    "    # Second RNN (LSTM) layer, 128 units, this time we do not return sequences\n",
    "    x = LSTM(128)(x)\n",
    "\n",
    "    \"\"\"# Final Dense layer\n",
    "    x = Dense(sequence_length * num_classes, activation='softmax')(x)\n",
    "\n",
    "    # Reshape the output to match the target shape\n",
    "    outputs = Reshape((sequence_length, num_classes))(x)\n",
    "\n",
    "    # Create the model\n",
    "    model = Model(inputs=inputs, outputs=outputs)\n",
    "\n",
    "    model.compile(optimizer=tf.keras.optimizers.Adam(learning_rate=0.001))\"\"\"\n",
    "\n",
    "    # Compile the model with Adam optimizer and a learning rate of 0.001\n",
    "    # model.compile(optimizer=tf.keras.optimizers.Adam(learning_rate=0.001),\n",
    "    #               loss='categorical_crossentropy',\n",
    "    #               metrics=['accuracy'])\n",
    "\n",
    "    # Final Dense layer, note that we're not applying softmax here\n",
    "    x = Dense(num_classes*sequence_length, activation=None)(x)  # logits for CTC\n",
    "    x = Reshape((sequence_length, num_classes))(x)\n",
    "\n",
    "    # Define the CTC layer and get the loss\n",
    "    ctc_output = CTCLayer(name='ctc_loss')(labels, x)\n",
    "\n",
    "    # Create the model\n",
    "    model = Model(inputs=[inputs, labels], outputs=ctc_output)\n",
    "\n",
    "    # Compile the model with a dummy optimizer and loss since CTC loss is computed in the CTC layer\n",
    "    model.compile(optimizer=tf.keras.optimizers.Adam(learning_rate=0.001))\n",
    "  \n",
    "    return model\n",
    "\n",
    "create_cnn_rnn_model(input_shape=(32, 128, 1), num_classes=len(vocabulary)+1, sequence_length=y_train.shape[1]).summary()\n"
   ]
  },
  {
   "cell_type": "code",
   "execution_count": 189,
   "metadata": {},
   "outputs": [],
   "source": [
    "from keras.callbacks import EarlyStopping\n",
    "from tensorflow.keras.callbacks import EarlyStopping, ModelCheckpoint"
   ]
  },
  {
   "cell_type": "code",
   "execution_count": 230,
   "metadata": {},
   "outputs": [
    {
     "name": "stderr",
     "output_type": "stream",
     "text": [
      "WARNING:absl:At this time, the v2.11+ optimizer `tf.keras.optimizers.Adam` runs slowly on M1/M2 Macs, please use the legacy Keras optimizer instead, located at `tf.keras.optimizers.legacy.Adam`.\n"
     ]
    },
    {
     "name": "stdout",
     "output_type": "stream",
     "text": [
      "Epoch 1/50\n"
     ]
    },
    {
     "ename": "ValueError",
     "evalue": "in user code:\n\n    File \"/opt/homebrew/lib/python3.11/site-packages/keras/src/engine/training.py\", line 1401, in train_function  *\n        return step_function(self, iterator)\n    File \"/opt/homebrew/lib/python3.11/site-packages/keras/src/engine/training.py\", line 1384, in step_function  **\n        outputs = model.distribute_strategy.run(run_step, args=(data,))\n    File \"/opt/homebrew/lib/python3.11/site-packages/keras/src/engine/training.py\", line 1373, in run_step  **\n        outputs = model.train_step(data)\n    File \"/opt/homebrew/lib/python3.11/site-packages/keras/src/engine/training.py\", line 1150, in train_step\n        y_pred = self(x, training=True)\n    File \"/opt/homebrew/lib/python3.11/site-packages/keras/src/utils/traceback_utils.py\", line 70, in error_handler\n        raise e.with_traceback(filtered_tb) from None\n    File \"/var/folders/6q/0yfg3pwd67d3xrqsp_16lm680000gn/T/__autograph_generated_file637bgqsg.py\", line 15, in tf__call\n        loss = ag__.converted_call(ag__.ld(self).loss_fn, (ag__.ld(y_true), ag__.ld(y_pred), ag__.ld(input_length), ag__.ld(label_length)), None, fscope)\n    File \"/var/folders/6q/0yfg3pwd67d3xrqsp_16lm680000gn/T/__autograph_generated_filenublfcqr.py\", line 12, in tf__ctc_batch_cost\n        sparse_labels = ag__.converted_call(ag__.ld(tf).cast, (ag__.converted_call(ag__.ld(ctc_label_dense_to_sparse), (ag__.ld(y_true), ag__.ld(label_length)), None, fscope), ag__.ld(tf).int32), None, fscope)\n    File \"/var/folders/6q/0yfg3pwd67d3xrqsp_16lm680000gn/T/__autograph_generated_filegz1e8zob.py\", line 40, in tf__ctc_label_dense_to_sparse\n        raise\n\n    ValueError: Exception encountered when calling layer 'ctc_loss' (type CTCLayer).\n    \n    in user code:\n    \n        File \"/var/folders/6q/0yfg3pwd67d3xrqsp_16lm680000gn/T/ipykernel_4481/3426663172.py\", line 89, in call  *\n            loss = self.loss_fn(y_true, y_pred, input_length, label_length)\n        File \"/var/folders/6q/0yfg3pwd67d3xrqsp_16lm680000gn/T/ipykernel_4481/3426663172.py\", line 22, in ctc_batch_cost  *\n            sparse_labels = tf.cast(ctc_label_dense_to_sparse(y_true, label_length), tf.int32)\n        File \"/var/folders/6q/0yfg3pwd67d3xrqsp_16lm680000gn/T/ipykernel_4481/3426663172.py\", line 69, in ctc_label_dense_to_sparse  *\n            tf.cast(indices, tf.int64), vals_sparse, tf.cast(label_shape, tf.int64)\n    \n        ValueError: Shape (None, 64) must have rank 1\n    \n    \n    Call arguments received by layer 'ctc_loss' (type CTCLayer):\n      • y_true=tf.Tensor(shape=(None, 21, 64), dtype=float32)\n      • y_pred=tf.Tensor(shape=(None, 21, 64), dtype=float32)\n",
     "output_type": "error",
     "traceback": [
      "\u001b[0;31m---------------------------------------------------------------------------\u001b[0m",
      "\u001b[0;31mValueError\u001b[0m                                Traceback (most recent call last)",
      "Cell \u001b[0;32mIn[230], line 22\u001b[0m\n\u001b[1;32m     12\u001b[0m model_test \u001b[38;5;241m=\u001b[39m create_cnn_rnn_model(input_shape\u001b[38;5;241m=\u001b[39m(\u001b[38;5;241m32\u001b[39m, \u001b[38;5;241m128\u001b[39m, \u001b[38;5;241m1\u001b[39m), num_classes\u001b[38;5;241m=\u001b[39m\u001b[38;5;28mlen\u001b[39m(vocabulary)\u001b[38;5;241m+\u001b[39m\u001b[38;5;241m1\u001b[39m, sequence_length\u001b[38;5;241m=\u001b[39my_train\u001b[38;5;241m.\u001b[39mshape[\u001b[38;5;241m1\u001b[39m])\n\u001b[1;32m     14\u001b[0m \u001b[38;5;124;03m\"\"\"history = model_test.fit(\u001b[39;00m\n\u001b[1;32m     15\u001b[0m \u001b[38;5;124;03m    X_train, y_train,\u001b[39;00m\n\u001b[1;32m     16\u001b[0m \u001b[38;5;124;03m    validation_data=(X_val, y_val),\u001b[39;00m\n\u001b[0;32m   (...)\u001b[0m\n\u001b[1;32m     19\u001b[0m \u001b[38;5;124;03m    callbacks=[early_stopping, model_checkpoint]  # Add the model checkpoint callback here\u001b[39;00m\n\u001b[1;32m     20\u001b[0m \u001b[38;5;124;03m)\"\"\"\u001b[39;00m\n\u001b[0;32m---> 22\u001b[0m history \u001b[38;5;241m=\u001b[39m \u001b[43mmodel_test\u001b[49m\u001b[38;5;241;43m.\u001b[39;49m\u001b[43mfit\u001b[49m\u001b[43m(\u001b[49m\n\u001b[1;32m     23\u001b[0m \u001b[43m    \u001b[49m\u001b[43m[\u001b[49m\u001b[43mX_train\u001b[49m\u001b[43m,\u001b[49m\u001b[43m \u001b[49m\u001b[43my_train\u001b[49m\u001b[43m]\u001b[49m\u001b[43m,\u001b[49m\u001b[43m  \u001b[49m\u001b[38;5;66;43;03m# Provide both inputs and labels\u001b[39;49;00m\n\u001b[1;32m     24\u001b[0m \u001b[43m    \u001b[49m\u001b[38;5;66;43;03m#y_train,  # The true labels for CTC loss\u001b[39;49;00m\n\u001b[1;32m     25\u001b[0m \u001b[43m    \u001b[49m\u001b[43mvalidation_data\u001b[49m\u001b[38;5;241;43m=\u001b[39;49m\u001b[43m(\u001b[49m\u001b[43m[\u001b[49m\u001b[43mX_val\u001b[49m\u001b[43m,\u001b[49m\u001b[43m \u001b[49m\u001b[43my_val\u001b[49m\u001b[43m]\u001b[49m\u001b[43m,\u001b[49m\u001b[43m \u001b[49m\u001b[43my_val\u001b[49m\u001b[43m)\u001b[49m\u001b[43m,\u001b[49m\u001b[43m  \u001b[49m\u001b[38;5;66;43;03m# Provide inputs & labels for validation\u001b[39;49;00m\n\u001b[1;32m     26\u001b[0m \u001b[43m    \u001b[49m\u001b[43mepochs\u001b[49m\u001b[38;5;241;43m=\u001b[39;49m\u001b[38;5;241;43m50\u001b[39;49m\u001b[43m,\u001b[49m\n\u001b[1;32m     27\u001b[0m \u001b[43m    \u001b[49m\u001b[43mbatch_size\u001b[49m\u001b[38;5;241;43m=\u001b[39;49m\u001b[38;5;241;43m128\u001b[39;49m\u001b[43m,\u001b[49m\n\u001b[1;32m     28\u001b[0m \u001b[43m    \u001b[49m\u001b[43mcallbacks\u001b[49m\u001b[38;5;241;43m=\u001b[39;49m\u001b[43m[\u001b[49m\u001b[43mearly_stopping\u001b[49m\u001b[43m,\u001b[49m\u001b[43m \u001b[49m\u001b[43mmodel_checkpoint\u001b[49m\u001b[43m]\u001b[49m\n\u001b[1;32m     29\u001b[0m \u001b[43m)\u001b[49m\n",
      "File \u001b[0;32m/opt/homebrew/lib/python3.11/site-packages/keras/src/utils/traceback_utils.py:70\u001b[0m, in \u001b[0;36mfilter_traceback.<locals>.error_handler\u001b[0;34m(*args, **kwargs)\u001b[0m\n\u001b[1;32m     67\u001b[0m     filtered_tb \u001b[38;5;241m=\u001b[39m _process_traceback_frames(e\u001b[38;5;241m.\u001b[39m__traceback__)\n\u001b[1;32m     68\u001b[0m     \u001b[38;5;66;03m# To get the full stack trace, call:\u001b[39;00m\n\u001b[1;32m     69\u001b[0m     \u001b[38;5;66;03m# `tf.debugging.disable_traceback_filtering()`\u001b[39;00m\n\u001b[0;32m---> 70\u001b[0m     \u001b[38;5;28;01mraise\u001b[39;00m e\u001b[38;5;241m.\u001b[39mwith_traceback(filtered_tb) \u001b[38;5;28;01mfrom\u001b[39;00m \u001b[38;5;28;01mNone\u001b[39;00m\n\u001b[1;32m     71\u001b[0m \u001b[38;5;28;01mfinally\u001b[39;00m:\n\u001b[1;32m     72\u001b[0m     \u001b[38;5;28;01mdel\u001b[39;00m filtered_tb\n",
      "File \u001b[0;32m/var/folders/6q/0yfg3pwd67d3xrqsp_16lm680000gn/T/__autograph_generated_fileki9cy3o4.py:15\u001b[0m, in \u001b[0;36mouter_factory.<locals>.inner_factory.<locals>.tf__train_function\u001b[0;34m(iterator)\u001b[0m\n\u001b[1;32m     13\u001b[0m \u001b[38;5;28;01mtry\u001b[39;00m:\n\u001b[1;32m     14\u001b[0m     do_return \u001b[38;5;241m=\u001b[39m \u001b[38;5;28;01mTrue\u001b[39;00m\n\u001b[0;32m---> 15\u001b[0m     retval_ \u001b[38;5;241m=\u001b[39m ag__\u001b[38;5;241m.\u001b[39mconverted_call(ag__\u001b[38;5;241m.\u001b[39mld(step_function), (ag__\u001b[38;5;241m.\u001b[39mld(\u001b[38;5;28mself\u001b[39m), ag__\u001b[38;5;241m.\u001b[39mld(iterator)), \u001b[38;5;28;01mNone\u001b[39;00m, fscope)\n\u001b[1;32m     16\u001b[0m \u001b[38;5;28;01mexcept\u001b[39;00m:\n\u001b[1;32m     17\u001b[0m     do_return \u001b[38;5;241m=\u001b[39m \u001b[38;5;28;01mFalse\u001b[39;00m\n",
      "File \u001b[0;32m/var/folders/6q/0yfg3pwd67d3xrqsp_16lm680000gn/T/__autograph_generated_file637bgqsg.py:15\u001b[0m, in \u001b[0;36mouter_factory.<locals>.inner_factory.<locals>.tf__call\u001b[0;34m(self, y_true, y_pred)\u001b[0m\n\u001b[1;32m     13\u001b[0m input_length \u001b[38;5;241m=\u001b[39m ag__\u001b[38;5;241m.\u001b[39mld(input_length) \u001b[38;5;241m*\u001b[39m ag__\u001b[38;5;241m.\u001b[39mconverted_call(ag__\u001b[38;5;241m.\u001b[39mld(tf)\u001b[38;5;241m.\u001b[39mones, (), \u001b[38;5;28mdict\u001b[39m(shape\u001b[38;5;241m=\u001b[39m(ag__\u001b[38;5;241m.\u001b[39mld(batch_len), \u001b[38;5;241m1\u001b[39m), dtype\u001b[38;5;241m=\u001b[39m\u001b[38;5;124m'\u001b[39m\u001b[38;5;124mint64\u001b[39m\u001b[38;5;124m'\u001b[39m), fscope)\n\u001b[1;32m     14\u001b[0m label_length \u001b[38;5;241m=\u001b[39m ag__\u001b[38;5;241m.\u001b[39mld(label_length) \u001b[38;5;241m*\u001b[39m ag__\u001b[38;5;241m.\u001b[39mconverted_call(ag__\u001b[38;5;241m.\u001b[39mld(tf)\u001b[38;5;241m.\u001b[39mones, (), \u001b[38;5;28mdict\u001b[39m(shape\u001b[38;5;241m=\u001b[39m(ag__\u001b[38;5;241m.\u001b[39mld(batch_len), \u001b[38;5;241m1\u001b[39m), dtype\u001b[38;5;241m=\u001b[39m\u001b[38;5;124m'\u001b[39m\u001b[38;5;124mint64\u001b[39m\u001b[38;5;124m'\u001b[39m), fscope)\n\u001b[0;32m---> 15\u001b[0m loss \u001b[38;5;241m=\u001b[39m \u001b[43mag__\u001b[49m\u001b[38;5;241;43m.\u001b[39;49m\u001b[43mconverted_call\u001b[49m\u001b[43m(\u001b[49m\u001b[43mag__\u001b[49m\u001b[38;5;241;43m.\u001b[39;49m\u001b[43mld\u001b[49m\u001b[43m(\u001b[49m\u001b[38;5;28;43mself\u001b[39;49m\u001b[43m)\u001b[49m\u001b[38;5;241;43m.\u001b[39;49m\u001b[43mloss_fn\u001b[49m\u001b[43m,\u001b[49m\u001b[43m \u001b[49m\u001b[43m(\u001b[49m\u001b[43mag__\u001b[49m\u001b[38;5;241;43m.\u001b[39;49m\u001b[43mld\u001b[49m\u001b[43m(\u001b[49m\u001b[43my_true\u001b[49m\u001b[43m)\u001b[49m\u001b[43m,\u001b[49m\u001b[43m \u001b[49m\u001b[43mag__\u001b[49m\u001b[38;5;241;43m.\u001b[39;49m\u001b[43mld\u001b[49m\u001b[43m(\u001b[49m\u001b[43my_pred\u001b[49m\u001b[43m)\u001b[49m\u001b[43m,\u001b[49m\u001b[43m \u001b[49m\u001b[43mag__\u001b[49m\u001b[38;5;241;43m.\u001b[39;49m\u001b[43mld\u001b[49m\u001b[43m(\u001b[49m\u001b[43minput_length\u001b[49m\u001b[43m)\u001b[49m\u001b[43m,\u001b[49m\u001b[43m \u001b[49m\u001b[43mag__\u001b[49m\u001b[38;5;241;43m.\u001b[39;49m\u001b[43mld\u001b[49m\u001b[43m(\u001b[49m\u001b[43mlabel_length\u001b[49m\u001b[43m)\u001b[49m\u001b[43m)\u001b[49m\u001b[43m,\u001b[49m\u001b[43m \u001b[49m\u001b[38;5;28;43;01mNone\u001b[39;49;00m\u001b[43m,\u001b[49m\u001b[43m \u001b[49m\u001b[43mfscope\u001b[49m\u001b[43m)\u001b[49m\n\u001b[1;32m     16\u001b[0m ag__\u001b[38;5;241m.\u001b[39mconverted_call(ag__\u001b[38;5;241m.\u001b[39mld(\u001b[38;5;28mself\u001b[39m)\u001b[38;5;241m.\u001b[39madd_loss, (ag__\u001b[38;5;241m.\u001b[39mld(loss),), \u001b[38;5;28;01mNone\u001b[39;00m, fscope)\n\u001b[1;32m     17\u001b[0m \u001b[38;5;28;01mtry\u001b[39;00m:\n",
      "File \u001b[0;32m/var/folders/6q/0yfg3pwd67d3xrqsp_16lm680000gn/T/__autograph_generated_filenublfcqr.py:12\u001b[0m, in \u001b[0;36mouter_factory.<locals>.inner_factory.<locals>.tf__ctc_batch_cost\u001b[0;34m(y_true, y_pred, input_length, label_length)\u001b[0m\n\u001b[1;32m     10\u001b[0m label_length \u001b[38;5;241m=\u001b[39m ag__\u001b[38;5;241m.\u001b[39mconverted_call(ag__\u001b[38;5;241m.\u001b[39mld(tf)\u001b[38;5;241m.\u001b[39mcast, (ag__\u001b[38;5;241m.\u001b[39mconverted_call(ag__\u001b[38;5;241m.\u001b[39mld(tf)\u001b[38;5;241m.\u001b[39msqueeze, (ag__\u001b[38;5;241m.\u001b[39mld(label_length),), \u001b[38;5;28mdict\u001b[39m(axis\u001b[38;5;241m=\u001b[39m\u001b[38;5;241m-\u001b[39m\u001b[38;5;241m1\u001b[39m), fscope), ag__\u001b[38;5;241m.\u001b[39mld(tf)\u001b[38;5;241m.\u001b[39mint32), \u001b[38;5;28;01mNone\u001b[39;00m, fscope)\n\u001b[1;32m     11\u001b[0m input_length \u001b[38;5;241m=\u001b[39m ag__\u001b[38;5;241m.\u001b[39mconverted_call(ag__\u001b[38;5;241m.\u001b[39mld(tf)\u001b[38;5;241m.\u001b[39mcast, (ag__\u001b[38;5;241m.\u001b[39mconverted_call(ag__\u001b[38;5;241m.\u001b[39mld(tf)\u001b[38;5;241m.\u001b[39msqueeze, (ag__\u001b[38;5;241m.\u001b[39mld(input_length),), \u001b[38;5;28mdict\u001b[39m(axis\u001b[38;5;241m=\u001b[39m\u001b[38;5;241m-\u001b[39m\u001b[38;5;241m1\u001b[39m), fscope), ag__\u001b[38;5;241m.\u001b[39mld(tf)\u001b[38;5;241m.\u001b[39mint32), \u001b[38;5;28;01mNone\u001b[39;00m, fscope)\n\u001b[0;32m---> 12\u001b[0m sparse_labels \u001b[38;5;241m=\u001b[39m ag__\u001b[38;5;241m.\u001b[39mconverted_call(ag__\u001b[38;5;241m.\u001b[39mld(tf)\u001b[38;5;241m.\u001b[39mcast, (\u001b[43mag__\u001b[49m\u001b[38;5;241;43m.\u001b[39;49m\u001b[43mconverted_call\u001b[49m\u001b[43m(\u001b[49m\u001b[43mag__\u001b[49m\u001b[38;5;241;43m.\u001b[39;49m\u001b[43mld\u001b[49m\u001b[43m(\u001b[49m\u001b[43mctc_label_dense_to_sparse\u001b[49m\u001b[43m)\u001b[49m\u001b[43m,\u001b[49m\u001b[43m \u001b[49m\u001b[43m(\u001b[49m\u001b[43mag__\u001b[49m\u001b[38;5;241;43m.\u001b[39;49m\u001b[43mld\u001b[49m\u001b[43m(\u001b[49m\u001b[43my_true\u001b[49m\u001b[43m)\u001b[49m\u001b[43m,\u001b[49m\u001b[43m \u001b[49m\u001b[43mag__\u001b[49m\u001b[38;5;241;43m.\u001b[39;49m\u001b[43mld\u001b[49m\u001b[43m(\u001b[49m\u001b[43mlabel_length\u001b[49m\u001b[43m)\u001b[49m\u001b[43m)\u001b[49m\u001b[43m,\u001b[49m\u001b[43m \u001b[49m\u001b[38;5;28;43;01mNone\u001b[39;49;00m\u001b[43m,\u001b[49m\u001b[43m \u001b[49m\u001b[43mfscope\u001b[49m\u001b[43m)\u001b[49m, ag__\u001b[38;5;241m.\u001b[39mld(tf)\u001b[38;5;241m.\u001b[39mint32), \u001b[38;5;28;01mNone\u001b[39;00m, fscope)\n\u001b[1;32m     13\u001b[0m y_pred \u001b[38;5;241m=\u001b[39m ag__\u001b[38;5;241m.\u001b[39mconverted_call(ag__\u001b[38;5;241m.\u001b[39mld(tf)\u001b[38;5;241m.\u001b[39mmath\u001b[38;5;241m.\u001b[39mlog, (ag__\u001b[38;5;241m.\u001b[39mconverted_call(ag__\u001b[38;5;241m.\u001b[39mld(tf)\u001b[38;5;241m.\u001b[39mtranspose, (ag__\u001b[38;5;241m.\u001b[39mld(y_pred),), \u001b[38;5;28mdict\u001b[39m(perm\u001b[38;5;241m=\u001b[39m[\u001b[38;5;241m1\u001b[39m, \u001b[38;5;241m0\u001b[39m, \u001b[38;5;241m2\u001b[39m]), fscope) \u001b[38;5;241m+\u001b[39m ag__\u001b[38;5;241m.\u001b[39mconverted_call(ag__\u001b[38;5;241m.\u001b[39mld(keras)\u001b[38;5;241m.\u001b[39mbackend\u001b[38;5;241m.\u001b[39mepsilon, (), \u001b[38;5;28;01mNone\u001b[39;00m, fscope),), \u001b[38;5;28;01mNone\u001b[39;00m, fscope)\n\u001b[1;32m     14\u001b[0m \u001b[38;5;28;01mtry\u001b[39;00m:\n",
      "File \u001b[0;32m/var/folders/6q/0yfg3pwd67d3xrqsp_16lm680000gn/T/__autograph_generated_filegz1e8zob.py:37\u001b[0m, in \u001b[0;36mouter_factory.<locals>.inner_factory.<locals>.tf__ctc_label_dense_to_sparse\u001b[0;34m(labels, label_lengths)\u001b[0m\n\u001b[1;32m     35\u001b[0m \u001b[38;5;28;01mtry\u001b[39;00m:\n\u001b[1;32m     36\u001b[0m     do_return \u001b[38;5;241m=\u001b[39m \u001b[38;5;28;01mTrue\u001b[39;00m\n\u001b[0;32m---> 37\u001b[0m     retval_ \u001b[38;5;241m=\u001b[39m ag__\u001b[38;5;241m.\u001b[39mconverted_call(ag__\u001b[38;5;241m.\u001b[39mld(tf)\u001b[38;5;241m.\u001b[39mSparseTensor, (ag__\u001b[38;5;241m.\u001b[39mconverted_call(ag__\u001b[38;5;241m.\u001b[39mld(tf)\u001b[38;5;241m.\u001b[39mcast, (ag__\u001b[38;5;241m.\u001b[39mld(indices), ag__\u001b[38;5;241m.\u001b[39mld(tf)\u001b[38;5;241m.\u001b[39mint64), \u001b[38;5;28;01mNone\u001b[39;00m, fscope), ag__\u001b[38;5;241m.\u001b[39mld(vals_sparse), ag__\u001b[38;5;241m.\u001b[39mconverted_call(ag__\u001b[38;5;241m.\u001b[39mld(tf)\u001b[38;5;241m.\u001b[39mcast, (ag__\u001b[38;5;241m.\u001b[39mld(label_shape), ag__\u001b[38;5;241m.\u001b[39mld(tf)\u001b[38;5;241m.\u001b[39mint64), \u001b[38;5;28;01mNone\u001b[39;00m, fscope)), \u001b[38;5;28;01mNone\u001b[39;00m, fscope)\n\u001b[1;32m     38\u001b[0m \u001b[38;5;28;01mexcept\u001b[39;00m:\n\u001b[1;32m     39\u001b[0m     do_return \u001b[38;5;241m=\u001b[39m \u001b[38;5;28;01mFalse\u001b[39;00m\n",
      "\u001b[0;31mValueError\u001b[0m: in user code:\n\n    File \"/opt/homebrew/lib/python3.11/site-packages/keras/src/engine/training.py\", line 1401, in train_function  *\n        return step_function(self, iterator)\n    File \"/opt/homebrew/lib/python3.11/site-packages/keras/src/engine/training.py\", line 1384, in step_function  **\n        outputs = model.distribute_strategy.run(run_step, args=(data,))\n    File \"/opt/homebrew/lib/python3.11/site-packages/keras/src/engine/training.py\", line 1373, in run_step  **\n        outputs = model.train_step(data)\n    File \"/opt/homebrew/lib/python3.11/site-packages/keras/src/engine/training.py\", line 1150, in train_step\n        y_pred = self(x, training=True)\n    File \"/opt/homebrew/lib/python3.11/site-packages/keras/src/utils/traceback_utils.py\", line 70, in error_handler\n        raise e.with_traceback(filtered_tb) from None\n    File \"/var/folders/6q/0yfg3pwd67d3xrqsp_16lm680000gn/T/__autograph_generated_file637bgqsg.py\", line 15, in tf__call\n        loss = ag__.converted_call(ag__.ld(self).loss_fn, (ag__.ld(y_true), ag__.ld(y_pred), ag__.ld(input_length), ag__.ld(label_length)), None, fscope)\n    File \"/var/folders/6q/0yfg3pwd67d3xrqsp_16lm680000gn/T/__autograph_generated_filenublfcqr.py\", line 12, in tf__ctc_batch_cost\n        sparse_labels = ag__.converted_call(ag__.ld(tf).cast, (ag__.converted_call(ag__.ld(ctc_label_dense_to_sparse), (ag__.ld(y_true), ag__.ld(label_length)), None, fscope), ag__.ld(tf).int32), None, fscope)\n    File \"/var/folders/6q/0yfg3pwd67d3xrqsp_16lm680000gn/T/__autograph_generated_filegz1e8zob.py\", line 40, in tf__ctc_label_dense_to_sparse\n        raise\n\n    ValueError: Exception encountered when calling layer 'ctc_loss' (type CTCLayer).\n    \n    in user code:\n    \n        File \"/var/folders/6q/0yfg3pwd67d3xrqsp_16lm680000gn/T/ipykernel_4481/3426663172.py\", line 89, in call  *\n            loss = self.loss_fn(y_true, y_pred, input_length, label_length)\n        File \"/var/folders/6q/0yfg3pwd67d3xrqsp_16lm680000gn/T/ipykernel_4481/3426663172.py\", line 22, in ctc_batch_cost  *\n            sparse_labels = tf.cast(ctc_label_dense_to_sparse(y_true, label_length), tf.int32)\n        File \"/var/folders/6q/0yfg3pwd67d3xrqsp_16lm680000gn/T/ipykernel_4481/3426663172.py\", line 69, in ctc_label_dense_to_sparse  *\n            tf.cast(indices, tf.int64), vals_sparse, tf.cast(label_shape, tf.int64)\n    \n        ValueError: Shape (None, 64) must have rank 1\n    \n    \n    Call arguments received by layer 'ctc_loss' (type CTCLayer):\n      • y_true=tf.Tensor(shape=(None, 21, 64), dtype=float32)\n      • y_pred=tf.Tensor(shape=(None, 21, 64), dtype=float32)\n"
     ]
    }
   ],
   "source": [
    "# Stop training when there is no improvement in the validation loss for 3 consecutive epochs\n",
    "early_stopping = EarlyStopping(monitor='val_loss', patience=3)\n",
    "\n",
    "# Save the best model during the training\n",
    "best_model_path = 'test2.h5'\n",
    "model_checkpoint = ModelCheckpoint(best_model_path,\n",
    "                                   monitor='val_loss',\n",
    "                                   save_best_only=True,\n",
    "                                   verbose=1)\n",
    "\n",
    "# Assume create_cnn_model is a function you've defined to create your model\n",
    "model_test = create_cnn_rnn_model(input_shape=(32, 128, 1), num_classes=len(vocabulary)+1, sequence_length=y_train.shape[1])\n",
    "\n",
    "\"\"\"history = model_test.fit(\n",
    "    X_train, y_train,\n",
    "    validation_data=(X_val, y_val),\n",
    "    epochs=50,  # Set a high number because early stopping will halt the training\n",
    "    batch_size=128,\n",
    "    callbacks=[early_stopping, model_checkpoint]  # Add the model checkpoint callback here\n",
    ")\"\"\"\n",
    "\n",
    "history = model_test.fit(\n",
    "    [X_train, y_train],  # Provide both inputs and labels\n",
    "    #y_train,  # The true labels for CTC loss\n",
    "    validation_data=([X_val, y_val], y_val),  # Provide inputs & labels for validation\n",
    "    epochs=50,\n",
    "    batch_size=128,\n",
    "    callbacks=[early_stopping, model_checkpoint]\n",
    ")"
   ]
  },
  {
   "cell_type": "markdown",
   "metadata": {},
   "source": [
    "#### Test"
   ]
  },
  {
   "cell_type": "code",
   "execution_count": 134,
   "metadata": {},
   "outputs": [
    {
     "name": "stderr",
     "output_type": "stream",
     "text": [
      "WARNING:absl:At this time, the v2.11+ optimizer `tf.keras.optimizers.Adam` runs slowly on M1/M2 Macs, please use the legacy Keras optimizer instead, located at `tf.keras.optimizers.legacy.Adam`.\n"
     ]
    },
    {
     "name": "stdout",
     "output_type": "stream",
     "text": [
      "262/262 [==============================] - 5s 18ms/step\n"
     ]
    }
   ],
   "source": [
    "import numpy as np\n",
    "\n",
    "\n",
    "# now that the model is trained, let's make predictions on the test set\n",
    "# first, load the model best_model.h5\n",
    "from keras.models import load_model\n",
    "model = load_model('best_model_word_hyper.h5')\n",
    "\n",
    "# make predictions on the test set\n",
    "predictions = model.predict(X_test)\n",
    "\n",
    "def decode_predictions(predictions, num_to_char):\n",
    "    predicted_words = []\n",
    "    \n",
    "    for prediction in predictions:\n",
    "        # Convert prediction probabilities to character indices\n",
    "        char_indices = np.argmax(prediction, axis=-1)\n",
    "        \n",
    "        # Decode indices to characters\n",
    "        decoded_chars = [num_to_char.get(idx, '') for idx in char_indices]\n",
    "        \n",
    "        # Convert sequence of characters to a single word\n",
    "        decoded_word = ''.join(decoded_chars).rstrip(num_to_char.get(0, ''))\n",
    "        \n",
    "        # Append the decoded word to the list\n",
    "        predicted_words.append(decoded_word)\n",
    "    \n",
    "    return predicted_words\n",
    "\n",
    "num_to_char = {idx: char for char, idx in char_to_num.items()}\n",
    "\n",
    "predicted_words = decode_predictions(predictions, num_to_char)"
   ]
  },
  {
   "cell_type": "code",
   "execution_count": 130,
   "metadata": {},
   "outputs": [
    {
     "name": "stdout",
     "output_type": "stream",
     "text": [
      "(8384, 21, 64)\n"
     ]
    }
   ],
   "source": [
    "print(predictions.shape)"
   ]
  },
  {
   "cell_type": "code",
   "execution_count": 131,
   "metadata": {},
   "outputs": [
    {
     "name": "stdout",
     "output_type": "stream",
     "text": [
      "(8384, 21, 64)\n"
     ]
    }
   ],
   "source": [
    "print(y_test.shape)"
   ]
  },
  {
   "cell_type": "code",
   "execution_count": 145,
   "metadata": {},
   "outputs": [],
   "source": [
    "import pandas as pd\n",
    "\n",
    "def decode_y(y, num_to_char):\n",
    "    # Decoding the one-hot encoded y_test to characters\n",
    "    decoded_words = []\n",
    "    for sample in y:\n",
    "        char_indices = np.argmax(sample, axis=-1)\n",
    "        decoded_chars = [num_to_char.get(idx, '') for idx in char_indices]\n",
    "        decoded_word = ''.join(decoded_chars).rstrip(num_to_char.get(0, ''))\n",
    "        decoded_words.append(decoded_word)\n",
    "    return decoded_words\n",
    "\n",
    "# Get the indices for the test set\n",
    "test_indices = range(int(len(df) * (TRAIN_SPLIT + VAL_SPLIT)), len(df))\n",
    "\n",
    "# Ensure that the lengths of your test labels and indices match\n",
    "assert len(test_indices) == len(y_test), \"Mismatch in test set size and actual labels\"\n",
    "\n",
    "# Extract WordIDs and ImgageData for the test set using the correct indices\n",
    "test_word_ids = df.iloc[test_indices]['WordID'].values\n",
    "test_img_data = df.iloc[test_indices]['ImageData'].values\n",
    "\n",
    "\n",
    "# Assuming y_test is already one-hot encoded and you have a num_to_char dictionary\n",
    "real_words = decode_y(y_test, num_to_char)\n",
    "\n",
    "# Assuming you have a 'WordID' column in your initial dataframe (df)\n",
    "results = pd.DataFrame({\n",
    "    'WordID': test_word_ids,\n",
    "    'real': real_words,\n",
    "    'predicted': predicted_words,\n",
    "    'ImageData': test_img_data \n",
    "})\n",
    "\n",
    "# Calculate the 'correct' column (1 if the predicted word matches the real word, 0 otherwise)\n",
    "results['correct'] = (results['predicted'] == results['real']).astype(int)"
   ]
  },
  {
   "cell_type": "code",
   "execution_count": 146,
   "metadata": {},
   "outputs": [
    {
     "data": {
      "text/html": [
       "<div>\n",
       "<style scoped>\n",
       "    .dataframe tbody tr th:only-of-type {\n",
       "        vertical-align: middle;\n",
       "    }\n",
       "\n",
       "    .dataframe tbody tr th {\n",
       "        vertical-align: top;\n",
       "    }\n",
       "\n",
       "    .dataframe thead th {\n",
       "        text-align: right;\n",
       "    }\n",
       "</style>\n",
       "<table border=\"1\" class=\"dataframe\">\n",
       "  <thead>\n",
       "    <tr style=\"text-align: right;\">\n",
       "      <th></th>\n",
       "      <th>WordID</th>\n",
       "      <th>real</th>\n",
       "      <th>predicted</th>\n",
       "      <th>ImageData</th>\n",
       "      <th>correct</th>\n",
       "    </tr>\n",
       "  </thead>\n",
       "  <tbody>\n",
       "    <tr>\n",
       "      <th>0</th>\n",
       "      <td>a04-054-02-00</td>\n",
       "      <td>the</td>\n",
       "      <td>the</td>\n",
       "      <td>[[[0.0], [0.0], [0.0], [0.0], [0.0], [0.0], [0...</td>\n",
       "      <td>1</td>\n",
       "    </tr>\n",
       "    <tr>\n",
       "      <th>1</th>\n",
       "      <td>a06-114-00-00</td>\n",
       "      <td>If</td>\n",
       "      <td>It</td>\n",
       "      <td>[[[0.0], [0.0], [0.0], [0.0], [0.0], [0.0], [0...</td>\n",
       "      <td>0</td>\n",
       "    </tr>\n",
       "    <tr>\n",
       "      <th>2</th>\n",
       "      <td>f04-096-05-02</td>\n",
       "      <td>in</td>\n",
       "      <td>in</td>\n",
       "      <td>[[[0.0], [0.0], [0.0], [0.0], [0.0], [0.0], [0...</td>\n",
       "      <td>1</td>\n",
       "    </tr>\n",
       "    <tr>\n",
       "      <th>3</th>\n",
       "      <td>k02-093-04-01</td>\n",
       "      <td>quick</td>\n",
       "      <td>griic</td>\n",
       "      <td>[[[0.0], [0.0], [0.0], [0.0], [0.0], [0.0], [0...</td>\n",
       "      <td>0</td>\n",
       "    </tr>\n",
       "    <tr>\n",
       "      <th>4</th>\n",
       "      <td>d06-008-04-05</td>\n",
       "      <td>still</td>\n",
       "      <td>wooll</td>\n",
       "      <td>[[[0.0], [0.0], [0.0], [0.0], [0.0], [0.0], [0...</td>\n",
       "      <td>0</td>\n",
       "    </tr>\n",
       "    <tr>\n",
       "      <th>5</th>\n",
       "      <td>e04-030-01-00</td>\n",
       "      <td>inside</td>\n",
       "      <td>winde</td>\n",
       "      <td>[[[0.0], [0.0], [0.0], [0.0], [0.0], [0.0], [0...</td>\n",
       "      <td>0</td>\n",
       "    </tr>\n",
       "    <tr>\n",
       "      <th>6</th>\n",
       "      <td>g04-077-03-08</td>\n",
       "      <td>fortunate</td>\n",
       "      <td>fommnnee</td>\n",
       "      <td>[[[0.0], [0.0], [0.0], [0.0], [0.0], [0.0], [0...</td>\n",
       "      <td>0</td>\n",
       "    </tr>\n",
       "    <tr>\n",
       "      <th>7</th>\n",
       "      <td>f07-000b-01-04</td>\n",
       "      <td>was</td>\n",
       "      <td>was</td>\n",
       "      <td>[[[0.0], [0.0], [0.0], [0.0], [0.0], [0.0], [0...</td>\n",
       "      <td>1</td>\n",
       "    </tr>\n",
       "    <tr>\n",
       "      <th>8</th>\n",
       "      <td>d01-056-06-02</td>\n",
       "      <td>There</td>\n",
       "      <td>Thrr</td>\n",
       "      <td>[[[0.0], [0.0], [0.0], [0.0], [0.0], [0.0], [0...</td>\n",
       "      <td>0</td>\n",
       "    </tr>\n",
       "    <tr>\n",
       "      <th>9</th>\n",
       "      <td>n04-068-04-00</td>\n",
       "      <td>the</td>\n",
       "      <td>the</td>\n",
       "      <td>[[[0.0], [0.0], [0.0], [0.0], [0.0], [0.0], [0...</td>\n",
       "      <td>1</td>\n",
       "    </tr>\n",
       "    <tr>\n",
       "      <th>10</th>\n",
       "      <td>d04-037-02-02</td>\n",
       "      <td>my</td>\n",
       "      <td>voy</td>\n",
       "      <td>[[[0.0], [0.0], [0.0], [0.0], [0.0], [0.0], [0...</td>\n",
       "      <td>0</td>\n",
       "    </tr>\n",
       "    <tr>\n",
       "      <th>11</th>\n",
       "      <td>k02-117-06-03</td>\n",
       "      <td>as</td>\n",
       "      <td>as</td>\n",
       "      <td>[[[0.0], [0.0], [0.0], [0.0], [0.0], [0.0], [0...</td>\n",
       "      <td>1</td>\n",
       "    </tr>\n",
       "    <tr>\n",
       "      <th>12</th>\n",
       "      <td>g05-094-07-01</td>\n",
       "      <td>of</td>\n",
       "      <td>of</td>\n",
       "      <td>[[[0.0], [0.0], [0.0], [0.0], [0.0], [0.0], [0...</td>\n",
       "      <td>1</td>\n",
       "    </tr>\n",
       "    <tr>\n",
       "      <th>13</th>\n",
       "      <td>h04-055-01-01</td>\n",
       "      <td>per</td>\n",
       "      <td>por</td>\n",
       "      <td>[[[0.0], [0.0], [0.0], [0.0], [0.0], [0.0], [0...</td>\n",
       "      <td>0</td>\n",
       "    </tr>\n",
       "    <tr>\n",
       "      <th>14</th>\n",
       "      <td>e07-101-07-07</td>\n",
       "      <td>to</td>\n",
       "      <td>to</td>\n",
       "      <td>[[[0.0], [0.0], [0.0], [0.0], [0.0], [0.0], [0...</td>\n",
       "      <td>1</td>\n",
       "    </tr>\n",
       "    <tr>\n",
       "      <th>15</th>\n",
       "      <td>h06-082-01-06</td>\n",
       "      <td>devices</td>\n",
       "      <td>Sovve</td>\n",
       "      <td>[[[0.0], [0.0], [0.0], [0.0], [0.0], [0.0], [0...</td>\n",
       "      <td>0</td>\n",
       "    </tr>\n",
       "    <tr>\n",
       "      <th>16</th>\n",
       "      <td>f07-042a-05-05</td>\n",
       "      <td>and</td>\n",
       "      <td>and</td>\n",
       "      <td>[[[0.0], [0.0], [0.0], [0.0], [0.0], [0.0], [0...</td>\n",
       "      <td>1</td>\n",
       "    </tr>\n",
       "    <tr>\n",
       "      <th>17</th>\n",
       "      <td>c03-016e-08-03</td>\n",
       "      <td>is</td>\n",
       "      <td>is</td>\n",
       "      <td>[[[0.0], [0.0], [0.0], [0.0], [0.0], [0.0], [0...</td>\n",
       "      <td>1</td>\n",
       "    </tr>\n",
       "    <tr>\n",
       "      <th>18</th>\n",
       "      <td>g06-047e-02-08</td>\n",
       "      <td>had</td>\n",
       "      <td>had</td>\n",
       "      <td>[[[0.0], [0.0], [0.0], [0.0], [0.0], [0.0], [0...</td>\n",
       "      <td>1</td>\n",
       "    </tr>\n",
       "    <tr>\n",
       "      <th>19</th>\n",
       "      <td>c04-089-00-09</td>\n",
       "      <td>of</td>\n",
       "      <td>of</td>\n",
       "      <td>[[[0.0], [0.0], [0.0], [0.0], [0.0], [0.0], [0...</td>\n",
       "      <td>1</td>\n",
       "    </tr>\n",
       "  </tbody>\n",
       "</table>\n",
       "</div>"
      ],
      "text/plain": [
       "            WordID       real predicted  \\\n",
       "0    a04-054-02-00        the       the   \n",
       "1    a06-114-00-00         If        It   \n",
       "2    f04-096-05-02         in        in   \n",
       "3    k02-093-04-01      quick     griic   \n",
       "4    d06-008-04-05      still     wooll   \n",
       "5    e04-030-01-00     inside     winde   \n",
       "6    g04-077-03-08  fortunate  fommnnee   \n",
       "7   f07-000b-01-04        was       was   \n",
       "8    d01-056-06-02      There      Thrr   \n",
       "9    n04-068-04-00        the       the   \n",
       "10   d04-037-02-02         my       voy   \n",
       "11   k02-117-06-03         as        as   \n",
       "12   g05-094-07-01         of        of   \n",
       "13   h04-055-01-01        per       por   \n",
       "14   e07-101-07-07         to        to   \n",
       "15   h06-082-01-06    devices     Sovve   \n",
       "16  f07-042a-05-05        and       and   \n",
       "17  c03-016e-08-03         is        is   \n",
       "18  g06-047e-02-08        had       had   \n",
       "19   c04-089-00-09         of        of   \n",
       "\n",
       "                                            ImageData  correct  \n",
       "0   [[[0.0], [0.0], [0.0], [0.0], [0.0], [0.0], [0...        1  \n",
       "1   [[[0.0], [0.0], [0.0], [0.0], [0.0], [0.0], [0...        0  \n",
       "2   [[[0.0], [0.0], [0.0], [0.0], [0.0], [0.0], [0...        1  \n",
       "3   [[[0.0], [0.0], [0.0], [0.0], [0.0], [0.0], [0...        0  \n",
       "4   [[[0.0], [0.0], [0.0], [0.0], [0.0], [0.0], [0...        0  \n",
       "5   [[[0.0], [0.0], [0.0], [0.0], [0.0], [0.0], [0...        0  \n",
       "6   [[[0.0], [0.0], [0.0], [0.0], [0.0], [0.0], [0...        0  \n",
       "7   [[[0.0], [0.0], [0.0], [0.0], [0.0], [0.0], [0...        1  \n",
       "8   [[[0.0], [0.0], [0.0], [0.0], [0.0], [0.0], [0...        0  \n",
       "9   [[[0.0], [0.0], [0.0], [0.0], [0.0], [0.0], [0...        1  \n",
       "10  [[[0.0], [0.0], [0.0], [0.0], [0.0], [0.0], [0...        0  \n",
       "11  [[[0.0], [0.0], [0.0], [0.0], [0.0], [0.0], [0...        1  \n",
       "12  [[[0.0], [0.0], [0.0], [0.0], [0.0], [0.0], [0...        1  \n",
       "13  [[[0.0], [0.0], [0.0], [0.0], [0.0], [0.0], [0...        0  \n",
       "14  [[[0.0], [0.0], [0.0], [0.0], [0.0], [0.0], [0...        1  \n",
       "15  [[[0.0], [0.0], [0.0], [0.0], [0.0], [0.0], [0...        0  \n",
       "16  [[[0.0], [0.0], [0.0], [0.0], [0.0], [0.0], [0...        1  \n",
       "17  [[[0.0], [0.0], [0.0], [0.0], [0.0], [0.0], [0...        1  \n",
       "18  [[[0.0], [0.0], [0.0], [0.0], [0.0], [0.0], [0...        1  \n",
       "19  [[[0.0], [0.0], [0.0], [0.0], [0.0], [0.0], [0...        1  "
      ]
     },
     "execution_count": 146,
     "metadata": {},
     "output_type": "execute_result"
    }
   ],
   "source": [
    "results.head(20)"
   ]
  },
  {
   "cell_type": "code",
   "execution_count": 152,
   "metadata": {},
   "outputs": [],
   "source": [
    "# calculate a metric that considers the number of correct characters in the predicted word and add the column of the metric to the results df\n",
    "def calculate_metric(row):\n",
    "    correct_chars = 0\n",
    "    for pred_char, real_char in zip(row['predicted'], row['real']):\n",
    "        if pred_char == real_char:\n",
    "            correct_chars += 1\n",
    "    return correct_chars\n",
    "\n",
    "def count_chars(row):\n",
    "    return len(row['real'])\n",
    "\n",
    "results['char_correct'] = results.apply(calculate_metric, axis=1)\n",
    "\n",
    "# total chars\n",
    "results['total_chars'] = results.apply(count_chars, axis=1)\n",
    "\n",
    "# accuracy\n",
    "results['char_accuracy'] = results['char_correct'] / results['total_chars']"
   ]
  },
  {
   "cell_type": "code",
   "execution_count": 153,
   "metadata": {},
   "outputs": [
    {
     "data": {
      "text/html": [
       "<div>\n",
       "<style scoped>\n",
       "    .dataframe tbody tr th:only-of-type {\n",
       "        vertical-align: middle;\n",
       "    }\n",
       "\n",
       "    .dataframe tbody tr th {\n",
       "        vertical-align: top;\n",
       "    }\n",
       "\n",
       "    .dataframe thead th {\n",
       "        text-align: right;\n",
       "    }\n",
       "</style>\n",
       "<table border=\"1\" class=\"dataframe\">\n",
       "  <thead>\n",
       "    <tr style=\"text-align: right;\">\n",
       "      <th></th>\n",
       "      <th>WordID</th>\n",
       "      <th>real</th>\n",
       "      <th>predicted</th>\n",
       "      <th>ImageData</th>\n",
       "      <th>correct</th>\n",
       "      <th>char_correct</th>\n",
       "      <th>total_chars</th>\n",
       "      <th>char_accuracy</th>\n",
       "    </tr>\n",
       "  </thead>\n",
       "  <tbody>\n",
       "    <tr>\n",
       "      <th>0</th>\n",
       "      <td>a04-054-02-00</td>\n",
       "      <td>the</td>\n",
       "      <td>the</td>\n",
       "      <td>[[[0.0], [0.0], [0.0], [0.0], [0.0], [0.0], [0...</td>\n",
       "      <td>1</td>\n",
       "      <td>3</td>\n",
       "      <td>3</td>\n",
       "      <td>1.000000</td>\n",
       "    </tr>\n",
       "    <tr>\n",
       "      <th>1</th>\n",
       "      <td>a06-114-00-00</td>\n",
       "      <td>If</td>\n",
       "      <td>It</td>\n",
       "      <td>[[[0.0], [0.0], [0.0], [0.0], [0.0], [0.0], [0...</td>\n",
       "      <td>0</td>\n",
       "      <td>1</td>\n",
       "      <td>2</td>\n",
       "      <td>0.500000</td>\n",
       "    </tr>\n",
       "    <tr>\n",
       "      <th>2</th>\n",
       "      <td>f04-096-05-02</td>\n",
       "      <td>in</td>\n",
       "      <td>in</td>\n",
       "      <td>[[[0.0], [0.0], [0.0], [0.0], [0.0], [0.0], [0...</td>\n",
       "      <td>1</td>\n",
       "      <td>2</td>\n",
       "      <td>2</td>\n",
       "      <td>1.000000</td>\n",
       "    </tr>\n",
       "    <tr>\n",
       "      <th>3</th>\n",
       "      <td>k02-093-04-01</td>\n",
       "      <td>quick</td>\n",
       "      <td>griic</td>\n",
       "      <td>[[[0.0], [0.0], [0.0], [0.0], [0.0], [0.0], [0...</td>\n",
       "      <td>0</td>\n",
       "      <td>1</td>\n",
       "      <td>5</td>\n",
       "      <td>0.200000</td>\n",
       "    </tr>\n",
       "    <tr>\n",
       "      <th>4</th>\n",
       "      <td>d06-008-04-05</td>\n",
       "      <td>still</td>\n",
       "      <td>wooll</td>\n",
       "      <td>[[[0.0], [0.0], [0.0], [0.0], [0.0], [0.0], [0...</td>\n",
       "      <td>0</td>\n",
       "      <td>2</td>\n",
       "      <td>5</td>\n",
       "      <td>0.400000</td>\n",
       "    </tr>\n",
       "    <tr>\n",
       "      <th>5</th>\n",
       "      <td>e04-030-01-00</td>\n",
       "      <td>inside</td>\n",
       "      <td>winde</td>\n",
       "      <td>[[[0.0], [0.0], [0.0], [0.0], [0.0], [0.0], [0...</td>\n",
       "      <td>0</td>\n",
       "      <td>0</td>\n",
       "      <td>6</td>\n",
       "      <td>0.000000</td>\n",
       "    </tr>\n",
       "    <tr>\n",
       "      <th>6</th>\n",
       "      <td>g04-077-03-08</td>\n",
       "      <td>fortunate</td>\n",
       "      <td>fommnnee</td>\n",
       "      <td>[[[0.0], [0.0], [0.0], [0.0], [0.0], [0.0], [0...</td>\n",
       "      <td>0</td>\n",
       "      <td>3</td>\n",
       "      <td>9</td>\n",
       "      <td>0.333333</td>\n",
       "    </tr>\n",
       "    <tr>\n",
       "      <th>7</th>\n",
       "      <td>f07-000b-01-04</td>\n",
       "      <td>was</td>\n",
       "      <td>was</td>\n",
       "      <td>[[[0.0], [0.0], [0.0], [0.0], [0.0], [0.0], [0...</td>\n",
       "      <td>1</td>\n",
       "      <td>3</td>\n",
       "      <td>3</td>\n",
       "      <td>1.000000</td>\n",
       "    </tr>\n",
       "    <tr>\n",
       "      <th>8</th>\n",
       "      <td>d01-056-06-02</td>\n",
       "      <td>There</td>\n",
       "      <td>Thrr</td>\n",
       "      <td>[[[0.0], [0.0], [0.0], [0.0], [0.0], [0.0], [0...</td>\n",
       "      <td>0</td>\n",
       "      <td>3</td>\n",
       "      <td>5</td>\n",
       "      <td>0.600000</td>\n",
       "    </tr>\n",
       "    <tr>\n",
       "      <th>9</th>\n",
       "      <td>n04-068-04-00</td>\n",
       "      <td>the</td>\n",
       "      <td>the</td>\n",
       "      <td>[[[0.0], [0.0], [0.0], [0.0], [0.0], [0.0], [0...</td>\n",
       "      <td>1</td>\n",
       "      <td>3</td>\n",
       "      <td>3</td>\n",
       "      <td>1.000000</td>\n",
       "    </tr>\n",
       "    <tr>\n",
       "      <th>10</th>\n",
       "      <td>d04-037-02-02</td>\n",
       "      <td>my</td>\n",
       "      <td>voy</td>\n",
       "      <td>[[[0.0], [0.0], [0.0], [0.0], [0.0], [0.0], [0...</td>\n",
       "      <td>0</td>\n",
       "      <td>0</td>\n",
       "      <td>2</td>\n",
       "      <td>0.000000</td>\n",
       "    </tr>\n",
       "    <tr>\n",
       "      <th>11</th>\n",
       "      <td>k02-117-06-03</td>\n",
       "      <td>as</td>\n",
       "      <td>as</td>\n",
       "      <td>[[[0.0], [0.0], [0.0], [0.0], [0.0], [0.0], [0...</td>\n",
       "      <td>1</td>\n",
       "      <td>2</td>\n",
       "      <td>2</td>\n",
       "      <td>1.000000</td>\n",
       "    </tr>\n",
       "    <tr>\n",
       "      <th>12</th>\n",
       "      <td>g05-094-07-01</td>\n",
       "      <td>of</td>\n",
       "      <td>of</td>\n",
       "      <td>[[[0.0], [0.0], [0.0], [0.0], [0.0], [0.0], [0...</td>\n",
       "      <td>1</td>\n",
       "      <td>2</td>\n",
       "      <td>2</td>\n",
       "      <td>1.000000</td>\n",
       "    </tr>\n",
       "    <tr>\n",
       "      <th>13</th>\n",
       "      <td>h04-055-01-01</td>\n",
       "      <td>per</td>\n",
       "      <td>por</td>\n",
       "      <td>[[[0.0], [0.0], [0.0], [0.0], [0.0], [0.0], [0...</td>\n",
       "      <td>0</td>\n",
       "      <td>2</td>\n",
       "      <td>3</td>\n",
       "      <td>0.666667</td>\n",
       "    </tr>\n",
       "    <tr>\n",
       "      <th>14</th>\n",
       "      <td>e07-101-07-07</td>\n",
       "      <td>to</td>\n",
       "      <td>to</td>\n",
       "      <td>[[[0.0], [0.0], [0.0], [0.0], [0.0], [0.0], [0...</td>\n",
       "      <td>1</td>\n",
       "      <td>2</td>\n",
       "      <td>2</td>\n",
       "      <td>1.000000</td>\n",
       "    </tr>\n",
       "    <tr>\n",
       "      <th>15</th>\n",
       "      <td>h06-082-01-06</td>\n",
       "      <td>devices</td>\n",
       "      <td>Sovve</td>\n",
       "      <td>[[[0.0], [0.0], [0.0], [0.0], [0.0], [0.0], [0...</td>\n",
       "      <td>0</td>\n",
       "      <td>1</td>\n",
       "      <td>7</td>\n",
       "      <td>0.142857</td>\n",
       "    </tr>\n",
       "    <tr>\n",
       "      <th>16</th>\n",
       "      <td>f07-042a-05-05</td>\n",
       "      <td>and</td>\n",
       "      <td>and</td>\n",
       "      <td>[[[0.0], [0.0], [0.0], [0.0], [0.0], [0.0], [0...</td>\n",
       "      <td>1</td>\n",
       "      <td>3</td>\n",
       "      <td>3</td>\n",
       "      <td>1.000000</td>\n",
       "    </tr>\n",
       "    <tr>\n",
       "      <th>17</th>\n",
       "      <td>c03-016e-08-03</td>\n",
       "      <td>is</td>\n",
       "      <td>is</td>\n",
       "      <td>[[[0.0], [0.0], [0.0], [0.0], [0.0], [0.0], [0...</td>\n",
       "      <td>1</td>\n",
       "      <td>2</td>\n",
       "      <td>2</td>\n",
       "      <td>1.000000</td>\n",
       "    </tr>\n",
       "    <tr>\n",
       "      <th>18</th>\n",
       "      <td>g06-047e-02-08</td>\n",
       "      <td>had</td>\n",
       "      <td>had</td>\n",
       "      <td>[[[0.0], [0.0], [0.0], [0.0], [0.0], [0.0], [0...</td>\n",
       "      <td>1</td>\n",
       "      <td>3</td>\n",
       "      <td>3</td>\n",
       "      <td>1.000000</td>\n",
       "    </tr>\n",
       "    <tr>\n",
       "      <th>19</th>\n",
       "      <td>c04-089-00-09</td>\n",
       "      <td>of</td>\n",
       "      <td>of</td>\n",
       "      <td>[[[0.0], [0.0], [0.0], [0.0], [0.0], [0.0], [0...</td>\n",
       "      <td>1</td>\n",
       "      <td>2</td>\n",
       "      <td>2</td>\n",
       "      <td>1.000000</td>\n",
       "    </tr>\n",
       "  </tbody>\n",
       "</table>\n",
       "</div>"
      ],
      "text/plain": [
       "            WordID       real predicted  \\\n",
       "0    a04-054-02-00        the       the   \n",
       "1    a06-114-00-00         If        It   \n",
       "2    f04-096-05-02         in        in   \n",
       "3    k02-093-04-01      quick     griic   \n",
       "4    d06-008-04-05      still     wooll   \n",
       "5    e04-030-01-00     inside     winde   \n",
       "6    g04-077-03-08  fortunate  fommnnee   \n",
       "7   f07-000b-01-04        was       was   \n",
       "8    d01-056-06-02      There      Thrr   \n",
       "9    n04-068-04-00        the       the   \n",
       "10   d04-037-02-02         my       voy   \n",
       "11   k02-117-06-03         as        as   \n",
       "12   g05-094-07-01         of        of   \n",
       "13   h04-055-01-01        per       por   \n",
       "14   e07-101-07-07         to        to   \n",
       "15   h06-082-01-06    devices     Sovve   \n",
       "16  f07-042a-05-05        and       and   \n",
       "17  c03-016e-08-03         is        is   \n",
       "18  g06-047e-02-08        had       had   \n",
       "19   c04-089-00-09         of        of   \n",
       "\n",
       "                                            ImageData  correct  char_correct  \\\n",
       "0   [[[0.0], [0.0], [0.0], [0.0], [0.0], [0.0], [0...        1             3   \n",
       "1   [[[0.0], [0.0], [0.0], [0.0], [0.0], [0.0], [0...        0             1   \n",
       "2   [[[0.0], [0.0], [0.0], [0.0], [0.0], [0.0], [0...        1             2   \n",
       "3   [[[0.0], [0.0], [0.0], [0.0], [0.0], [0.0], [0...        0             1   \n",
       "4   [[[0.0], [0.0], [0.0], [0.0], [0.0], [0.0], [0...        0             2   \n",
       "5   [[[0.0], [0.0], [0.0], [0.0], [0.0], [0.0], [0...        0             0   \n",
       "6   [[[0.0], [0.0], [0.0], [0.0], [0.0], [0.0], [0...        0             3   \n",
       "7   [[[0.0], [0.0], [0.0], [0.0], [0.0], [0.0], [0...        1             3   \n",
       "8   [[[0.0], [0.0], [0.0], [0.0], [0.0], [0.0], [0...        0             3   \n",
       "9   [[[0.0], [0.0], [0.0], [0.0], [0.0], [0.0], [0...        1             3   \n",
       "10  [[[0.0], [0.0], [0.0], [0.0], [0.0], [0.0], [0...        0             0   \n",
       "11  [[[0.0], [0.0], [0.0], [0.0], [0.0], [0.0], [0...        1             2   \n",
       "12  [[[0.0], [0.0], [0.0], [0.0], [0.0], [0.0], [0...        1             2   \n",
       "13  [[[0.0], [0.0], [0.0], [0.0], [0.0], [0.0], [0...        0             2   \n",
       "14  [[[0.0], [0.0], [0.0], [0.0], [0.0], [0.0], [0...        1             2   \n",
       "15  [[[0.0], [0.0], [0.0], [0.0], [0.0], [0.0], [0...        0             1   \n",
       "16  [[[0.0], [0.0], [0.0], [0.0], [0.0], [0.0], [0...        1             3   \n",
       "17  [[[0.0], [0.0], [0.0], [0.0], [0.0], [0.0], [0...        1             2   \n",
       "18  [[[0.0], [0.0], [0.0], [0.0], [0.0], [0.0], [0...        1             3   \n",
       "19  [[[0.0], [0.0], [0.0], [0.0], [0.0], [0.0], [0...        1             2   \n",
       "\n",
       "    total_chars  char_accuracy  \n",
       "0             3       1.000000  \n",
       "1             2       0.500000  \n",
       "2             2       1.000000  \n",
       "3             5       0.200000  \n",
       "4             5       0.400000  \n",
       "5             6       0.000000  \n",
       "6             9       0.333333  \n",
       "7             3       1.000000  \n",
       "8             5       0.600000  \n",
       "9             3       1.000000  \n",
       "10            2       0.000000  \n",
       "11            2       1.000000  \n",
       "12            2       1.000000  \n",
       "13            3       0.666667  \n",
       "14            2       1.000000  \n",
       "15            7       0.142857  \n",
       "16            3       1.000000  \n",
       "17            2       1.000000  \n",
       "18            3       1.000000  \n",
       "19            2       1.000000  "
      ]
     },
     "execution_count": 153,
     "metadata": {},
     "output_type": "execute_result"
    }
   ],
   "source": [
    "results.head(20)"
   ]
  },
  {
   "cell_type": "code",
   "execution_count": 159,
   "metadata": {},
   "outputs": [
    {
     "data": {
      "text/plain": [
       "51.67299786647239"
      ]
     },
     "execution_count": 159,
     "metadata": {},
     "output_type": "execute_result"
    }
   ],
   "source": [
    "sum(results['char_correct']) / sum(results['total_chars'])*100"
   ]
  },
  {
   "cell_type": "code",
   "execution_count": 154,
   "metadata": {},
   "outputs": [
    {
     "name": "stdout",
     "output_type": "stream",
     "text": [
      "0.6316014570959214\n"
     ]
    }
   ],
   "source": [
    "# average total_chars\n",
    "print(results['char_accuracy'].mean())"
   ]
  },
  {
   "cell_type": "code",
   "execution_count": 32,
   "metadata": {},
   "outputs": [
    {
     "data": {
      "text/html": [
       "<div>\n",
       "<style scoped>\n",
       "    .dataframe tbody tr th:only-of-type {\n",
       "        vertical-align: middle;\n",
       "    }\n",
       "\n",
       "    .dataframe tbody tr th {\n",
       "        vertical-align: top;\n",
       "    }\n",
       "\n",
       "    .dataframe thead th {\n",
       "        text-align: right;\n",
       "    }\n",
       "</style>\n",
       "<table border=\"1\" class=\"dataframe\">\n",
       "  <thead>\n",
       "    <tr style=\"text-align: right;\">\n",
       "      <th></th>\n",
       "      <th>WordID</th>\n",
       "      <th>SegmentationResult</th>\n",
       "      <th>GrayLevel</th>\n",
       "      <th>BoundingBox</th>\n",
       "      <th>GrammaticalTag</th>\n",
       "      <th>Transcription</th>\n",
       "      <th>ImageData</th>\n",
       "    </tr>\n",
       "  </thead>\n",
       "  <tbody>\n",
       "    <tr>\n",
       "      <th>50597</th>\n",
       "      <td>p02-022-05-06</td>\n",
       "      <td>err</td>\n",
       "      <td>182</td>\n",
       "      <td>(1694, 1613, 294, 164)</td>\n",
       "      <td>VBG</td>\n",
       "      <td>knowing</td>\n",
       "      <td>[[[0.0], [0.0], [0.0], [0.0], [0.0], [0.0], [0...</td>\n",
       "    </tr>\n",
       "  </tbody>\n",
       "</table>\n",
       "</div>"
      ],
      "text/plain": [
       "              WordID SegmentationResult  GrayLevel             BoundingBox  \\\n",
       "50597  p02-022-05-06                err        182  (1694, 1613, 294, 164)   \n",
       "\n",
       "      GrammaticalTag Transcription  \\\n",
       "50597            VBG       knowing   \n",
       "\n",
       "                                               ImageData  \n",
       "50597  [[[0.0], [0.0], [0.0], [0.0], [0.0], [0.0], [0...  "
      ]
     },
     "execution_count": 32,
     "metadata": {},
     "output_type": "execute_result"
    }
   ],
   "source": [
    "df[df['WordID'] == 'p02-022-05-06']"
   ]
  },
  {
   "cell_type": "code",
   "execution_count": 155,
   "metadata": {},
   "outputs": [
    {
     "name": "stdout",
     "output_type": "stream",
     "text": [
      "correct\n",
      "0    0.609017\n",
      "1    0.390983\n",
      "Name: count, dtype: float64\n"
     ]
    }
   ],
   "source": [
    "print(results['correct'].value_counts()/len(results))"
   ]
  },
  {
   "cell_type": "code",
   "execution_count": null,
   "metadata": {},
   "outputs": [],
   "source": [
    "# ---- DESCRIPTION OF THE INPUT DATA ----\n",
    "# X_train shape: (num_samples, 32, 128, 1)\n",
    "# y_train shape: (num_samples, max(len(words)),len(vocabulary))\n",
    "# example of a X_train value: matrix of 32x128 with values between 0 and 1\n",
    "# example of a y_train value: matrix of 17x63 with values between 0 and 1. first column is the padding, the rest are the one-hot encoded values of the transcription\n",
    "\n",
    "from keras.models import Sequential\n",
    "from keras.layers import Conv2D, MaxPooling2D, Flatten, Dense, Dropout\n",
    "from keras.layers import Reshape\n",
    "\n",
    "def create_cnn_model(input_shape, num_classes, sequence_length):\n",
    "    model = Sequential([\n",
    "        # Input CNN layer with 32 units\n",
    "        Conv2D(96, (3, 3), activation='relu', input_shape=input_shape),  # Updated the number of filters to 96\n",
    "        MaxPooling2D(pool_size=(2, 2)),\n",
    "        \n",
    "        # Second CNN layer with 96 units\n",
    "        Conv2D(96, (3, 3), activation='relu'),  # Updated the number of filters to 96\n",
    "        MaxPooling2D(pool_size=(2, 2)),\n",
    "\n",
    "        # Third CNN layer with 96 units (as per 'CNN units 2')\n",
    "        Conv2D(96, (3, 3), activation='relu'),  # Updated the number of filters to 96\n",
    "        MaxPooling2D(pool_size=(2, 2)),\n",
    "\n",
    "        # Flattening the 2D arrays for fully connected layers\n",
    "        Flatten(),\n",
    "\n",
    "        # First Dense layer with 192 units\n",
    "        Dense(192, activation='relu'),  # Updated number of units to 192\n",
    "        Dropout(0.1),  # Dropout with 0.1 rate\n",
    "        \n",
    "        # Output layer with sequence_length * num_classes units and softmax activation\n",
    "        Dense(sequence_length * num_classes, activation='softmax'),\n",
    "        Reshape((sequence_length, num_classes))\n",
    "\n",
    "    ])\n",
    "    \n",
    "    # Compiling the model with Adam optimizer and a learning rate of 0.001\n",
    "    model.compile(optimizer=tf.keras.optimizers.Adam(learning_rate=0.001),\n",
    "                  loss='categorical_crossentropy',\n",
    "                  metrics=['accuracy'])\n",
    "    return model\n",
    "\n",
    "create_cnn_model(input_shape=(32, 128, 1), num_classes=len(vocabulary)+1, sequence_length=y_train.shape[1]).summary()\n",
    "\n",
    "\n",
    "from keras.callbacks import EarlyStopping\n",
    "\n",
    "from tensorflow.keras.callbacks import EarlyStopping, ModelCheckpoint\n",
    "\n",
    "# Stop training when there is no improvement in the validation loss for 3 consecutive epochs\n",
    "early_stopping = EarlyStopping(monitor='val_loss', patience=3)\n",
    "\n",
    "# Save the best model during the training\n",
    "best_model_path = 'best_model_word.h5'  \n",
    "model_checkpoint = ModelCheckpoint(best_model_path, \n",
    "                                   monitor='val_loss', \n",
    "                                   save_best_only=True, \n",
    "                                   verbose=1)\n",
    "\n",
    "# Assume create_cnn_model is a function you've defined to create your model\n",
    "model = create_cnn_model(input_shape=(32, 128, 1), num_classes=len(vocabulary)+1, sequence_length=y_train.shape[1])\n",
    "\n",
    "history = model.fit(\n",
    "    X_train, y_train,\n",
    "    validation_data=(X_val, y_val),\n",
    "    epochs=50,  # Set a high number because early stopping will halt the training\n",
    "    batch_size=128,\n",
    "    callbacks=[early_stopping, model_checkpoint]  # Add the model checkpoint callback here\n",
    ")"
   ]
  },
  {
   "cell_type": "code",
   "execution_count": null,
   "metadata": {},
   "outputs": [],
   "source": []
  },
  {
   "cell_type": "code",
   "execution_count": null,
   "metadata": {},
   "outputs": [],
   "source": []
  },
  {
   "cell_type": "code",
   "execution_count": null,
   "metadata": {},
   "outputs": [],
   "source": []
  },
  {
   "cell_type": "code",
   "execution_count": null,
   "metadata": {},
   "outputs": [],
   "source": []
  },
  {
   "cell_type": "code",
   "execution_count": null,
   "metadata": {},
   "outputs": [],
   "source": []
  }
 ],
 "metadata": {
  "kernelspec": {
   "display_name": "Python 3",
   "language": "python",
   "name": "python3"
  },
  "language_info": {
   "codemirror_mode": {
    "name": "ipython",
    "version": 3
   },
   "file_extension": ".py",
   "mimetype": "text/x-python",
   "name": "python",
   "nbconvert_exporter": "python",
   "pygments_lexer": "ipython3",
   "version": "3.11.6"
  }
 },
 "nbformat": 4,
 "nbformat_minor": 2
}
