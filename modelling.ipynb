{
 "cells": [
  {
   "cell_type": "markdown",
   "metadata": {},
   "source": [
    "### Import the necessary libraries"
   ]
  },
  {
   "cell_type": "code",
   "execution_count": 660,
   "metadata": {},
   "outputs": [],
   "source": [
    "import pandas as pd\n",
    "import tensorflow as tf\n",
    "import numpy as np\n",
    "from sklearn.model_selection import train_test_split\n",
    "from keras.models import Sequential\n",
    "from keras.layers import Dense, Dropout, Flatten\n",
    "from keras.layers import Conv2D, MaxPooling2D\n",
    "from keras.utils import to_categorical\n",
    "from keras import layers, models\n",
    "import requests\n",
    "import matplotlib.pyplot as plt"
   ]
  },
  {
   "cell_type": "markdown",
   "metadata": {},
   "source": [
    "### Loading the data"
   ]
  },
  {
   "cell_type": "code",
   "execution_count": 663,
   "metadata": {},
   "outputs": [],
   "source": [
    "# load the data locally\n",
    "df = pd.read_pickle('data/words_df_all.pkl.gz')"
   ]
  },
  {
   "cell_type": "code",
   "execution_count": 664,
   "metadata": {},
   "outputs": [
    {
     "data": {
      "text/plain": [
       "\"# Load the data in Google Colab\\n\\n# first, upload the words_df_all.pkl.gz to Google Drive\\n# then, run the following code in Google Colab\\n# Mount Google Drive\\nfrom google.colab import drive\\ndrive.mount('/content/drive')\\n\\n# Read the file from Google Drive\\nfile_path = '/content/drive/MyDrive/words_df_all.pkl.gz'\\ndf = pd.read_pickle(file_path)\""
      ]
     },
     "execution_count": 664,
     "metadata": {},
     "output_type": "execute_result"
    }
   ],
   "source": [
    "\"\"\"# Load the data in Google Colab\n",
    "\n",
    "# first, upload the words_df_all.pkl.gz to Google Drive\n",
    "# then, run the following code in Google Colab\n",
    "# Mount Google Drive\n",
    "from google.colab import drive\n",
    "drive.mount('/content/drive')\n",
    "\n",
    "# Read the file from Google Drive\n",
    "file_path = '/content/drive/MyDrive/words_df_all.pkl.gz'\n",
    "df = pd.read_pickle(file_path)\"\"\""
   ]
  },
  {
   "cell_type": "code",
   "execution_count": 665,
   "metadata": {},
   "outputs": [
    {
     "data": {
      "text/html": [
       "<div>\n",
       "<style scoped>\n",
       "    .dataframe tbody tr th:only-of-type {\n",
       "        vertical-align: middle;\n",
       "    }\n",
       "\n",
       "    .dataframe tbody tr th {\n",
       "        vertical-align: top;\n",
       "    }\n",
       "\n",
       "    .dataframe thead th {\n",
       "        text-align: right;\n",
       "    }\n",
       "</style>\n",
       "<table border=\"1\" class=\"dataframe\">\n",
       "  <thead>\n",
       "    <tr style=\"text-align: right;\">\n",
       "      <th></th>\n",
       "      <th>WordID</th>\n",
       "      <th>SegmentationResult</th>\n",
       "      <th>GrayLevel</th>\n",
       "      <th>BoundingBox</th>\n",
       "      <th>GrammaticalTag</th>\n",
       "      <th>Transcription</th>\n",
       "      <th>ImageData</th>\n",
       "    </tr>\n",
       "  </thead>\n",
       "  <tbody>\n",
       "    <tr>\n",
       "      <th>0</th>\n",
       "      <td>a01-000u-00-00</td>\n",
       "      <td>ok</td>\n",
       "      <td>154</td>\n",
       "      <td>(408, 768, 27, 51)</td>\n",
       "      <td>AT</td>\n",
       "      <td>A</td>\n",
       "      <td>[[[0.0], [0.0], [0.0], [0.0], [0.0], [0.0], [0...</td>\n",
       "    </tr>\n",
       "    <tr>\n",
       "      <th>1</th>\n",
       "      <td>a01-000u-00-01</td>\n",
       "      <td>ok</td>\n",
       "      <td>154</td>\n",
       "      <td>(507, 766, 213, 48)</td>\n",
       "      <td>NN</td>\n",
       "      <td>MOVE</td>\n",
       "      <td>[[[0.0], [0.0], [0.0], [0.0], [0.0], [0.0], [0...</td>\n",
       "    </tr>\n",
       "    <tr>\n",
       "      <th>2</th>\n",
       "      <td>a01-000u-00-02</td>\n",
       "      <td>ok</td>\n",
       "      <td>154</td>\n",
       "      <td>(796, 764, 70, 50)</td>\n",
       "      <td>TO</td>\n",
       "      <td>to</td>\n",
       "      <td>[[[0.0], [0.0], [0.0], [0.0], [0.0], [0.0], [0...</td>\n",
       "    </tr>\n",
       "    <tr>\n",
       "      <th>3</th>\n",
       "      <td>a01-000u-00-03</td>\n",
       "      <td>ok</td>\n",
       "      <td>154</td>\n",
       "      <td>(919, 757, 166, 78)</td>\n",
       "      <td>VB</td>\n",
       "      <td>stop</td>\n",
       "      <td>[[[0.0], [0.0], [0.0], [0.0], [0.0], [0.0], [0...</td>\n",
       "    </tr>\n",
       "    <tr>\n",
       "      <th>4</th>\n",
       "      <td>a01-000u-00-04</td>\n",
       "      <td>ok</td>\n",
       "      <td>154</td>\n",
       "      <td>(1185, 754, 126, 61)</td>\n",
       "      <td>NPT</td>\n",
       "      <td>Mr.</td>\n",
       "      <td>[[[0.0], [0.0], [0.0], [0.0], [0.0], [0.0], [0...</td>\n",
       "    </tr>\n",
       "  </tbody>\n",
       "</table>\n",
       "</div>"
      ],
      "text/plain": [
       "           WordID SegmentationResult  GrayLevel           BoundingBox  \\\n",
       "0  a01-000u-00-00                 ok        154    (408, 768, 27, 51)   \n",
       "1  a01-000u-00-01                 ok        154   (507, 766, 213, 48)   \n",
       "2  a01-000u-00-02                 ok        154    (796, 764, 70, 50)   \n",
       "3  a01-000u-00-03                 ok        154   (919, 757, 166, 78)   \n",
       "4  a01-000u-00-04                 ok        154  (1185, 754, 126, 61)   \n",
       "\n",
       "  GrammaticalTag Transcription  \\\n",
       "0             AT             A   \n",
       "1             NN          MOVE   \n",
       "2             TO            to   \n",
       "3             VB          stop   \n",
       "4            NPT           Mr.   \n",
       "\n",
       "                                           ImageData  \n",
       "0  [[[0.0], [0.0], [0.0], [0.0], [0.0], [0.0], [0...  \n",
       "1  [[[0.0], [0.0], [0.0], [0.0], [0.0], [0.0], [0...  \n",
       "2  [[[0.0], [0.0], [0.0], [0.0], [0.0], [0.0], [0...  \n",
       "3  [[[0.0], [0.0], [0.0], [0.0], [0.0], [0.0], [0...  \n",
       "4  [[[0.0], [0.0], [0.0], [0.0], [0.0], [0.0], [0...  "
      ]
     },
     "execution_count": 665,
     "metadata": {},
     "output_type": "execute_result"
    }
   ],
   "source": [
    "df.head()"
   ]
  },
  {
   "cell_type": "markdown",
   "metadata": {},
   "source": [
    "### Neural Networks"
   ]
  },
  {
   "cell_type": "markdown",
   "metadata": {},
   "source": [
    "**On shapes...**\n",
    "\n",
    "**CNNs**\n",
    "\n",
    "- Always have to give a 4D array as input to the CNN. So input data has a shape of (batch_size, height, width, depth).\n",
    "\n",
    "- The output of the CNN is also a 4D array. Where batch size would be the same as input batch size but the other 3 dimensions of the image might change depending upon the values of filter, kernel size, and padding we use. (batch_size, height, width, depth)\n",
    "\n",
    "- Input data to the dense layer 2D must be an array of shape (batch_size, units). And the output of the convolution layer is a 4D array. Thus we have to change the dimension of output received from the convolution layer to a 2D array.\n",
    "\n",
    "\n",
    "<img src=\"convnet_input.png\" width=\"500\" height=\"400\">\n",
    "\n",
    "**RNNs**\n",
    "\n",
    "- Always have to give a 3D array as an input to the LSTM network. \n",
    "\n",
    "- The first dimension represents the batch size, the second dimension represents the time-steps and the third dimension represents the number of units in one input sequence. For example, the input shape looks like (batch_size, time_steps, units).\n",
    "\n",
    "- The output of the LSTM could be a 2D array or 3D array depending upon the return_sequences argument.\n",
    "\n",
    "- return_sequence argument: Tells whether to return the output at each time step instead of the final time step. \n",
    "\n",
    "- If return_sequence is False, the output is a 2D array. (batch_size, units)\n",
    "\n",
    "- If return_sequence is True, the output is a 3D array. (batch_size, time_steps, units)\n",
    "\n",
    "\n",
    "<img src=\"LSTM_input.png\" width=\"500\" height=\"400\">\n"
   ]
  },
  {
   "cell_type": "markdown",
   "metadata": {},
   "source": [
    "Function to plot the model Training and Validation Loss and Accuracy"
   ]
  },
  {
   "cell_type": "code",
   "execution_count": 666,
   "metadata": {},
   "outputs": [],
   "source": [
    "# Function: Plotting the Training and Validation Loss and Accuracy\n",
    "def plot_history(history):\n",
    "    # Get training and test loss histories\n",
    "    training_loss = history.history['loss']\n",
    "    val_loss = history.history['val_loss']\n",
    "\n",
    "    # Create count of the number of epochs\n",
    "    epoch_count = range(1, len(training_loss) + 1)\n",
    "\n",
    "    # Visualize loss history\n",
    "    plt.plot(epoch_count, training_loss, 'r--')\n",
    "    plt.plot(epoch_count, val_loss, 'b-')\n",
    "    plt.legend(['Training Loss', 'Val Loss'])\n",
    "    plt.xlabel('Epoch')\n",
    "    plt.ylabel('Loss')\n",
    "    plt.show()\n",
    "\n",
    "    # Get training and test accuracy histories\n",
    "    training_accuracy = history.history['accuracy']\n",
    "    val_accuracy = history.history['val_accuracy']\n",
    "\n",
    "    # Visualize accuracy history\n",
    "    plt.plot(epoch_count, training_accuracy, 'r--')\n",
    "    plt.plot(epoch_count, val_accuracy, 'b-')\n",
    "    plt.legend(['Training Accuracy', 'Val Accuracy'])\n",
    "    plt.xlabel('Epoch')\n",
    "    plt.ylabel('Accuracy')\n",
    "    plt.show()"
   ]
  },
  {
   "cell_type": "markdown",
   "metadata": {},
   "source": [
    "### A: **1 character** words model"
   ]
  },
  {
   "cell_type": "code",
   "execution_count": 667,
   "metadata": {},
   "outputs": [],
   "source": [
    "# randomize the order of the rows in the df\n",
    "df_char = df.sample(frac=1).reset_index(drop=True)\n",
    "\n",
    "# consider only one-character words in the df\n",
    "df_char = df_char[df_char['Transcription'].apply(len) == 1]\n",
    "\n",
    "# Split data into training and validation sets\n",
    "X = np.stack(df_char['ImageData'].values)  # Convert the list of images to a numpy array\n",
    "y = df_char['Transcription'].values"
   ]
  },
  {
   "cell_type": "markdown",
   "metadata": {},
   "source": [
    "**Encode** the characters to integers. \n",
    "\n",
    "Example: '!' -> 1, '\"' -> 2, etc."
   ]
  },
  {
   "cell_type": "code",
   "execution_count": 668,
   "metadata": {},
   "outputs": [
    {
     "name": "stdout",
     "output_type": "stream",
     "text": [
      "{'!': 0, '\"': 1, '#': 2, '&': 3, \"'\": 4, '(': 5, ')': 6, '*': 7, ',': 8, '-': 9, '.': 10, '1': 11, '2': 12, '3': 13, '4': 14, '5': 15, '6': 16, '7': 17, '8': 18, '9': 19, ':': 20, ';': 21, '?': 22, 'A': 23, 'B': 24, 'C': 25, 'D': 26, 'E': 27, 'F': 28, 'G': 29, 'H': 30, 'I': 31, 'J': 32, 'K': 33, 'L': 34, 'N': 35, 'O': 36, 'V': 37, 'X': 38, 'a': 39, 'b': 40, 'c': 41, 'x': 42}\n",
      "[39 39 10 ...  4  8  0]\n"
     ]
    }
   ],
   "source": [
    "# get the vocabulary list\n",
    "vocabulary = sorted(set(''.join(y)))\n",
    "\n",
    "# create a dictionary mapping each character to the vocabulary list index. do not use 0.\n",
    "char_to_num = {char: idx for idx, char in enumerate(vocabulary)}\n",
    "\n",
    "print(char_to_num)\n",
    "\n",
    "# subsitute the characters in y with the corresponding number. example: '!' -> 1, '\"' -> 2, etc.\" each label value is an integer\n",
    "y = [char_to_num[char] for char in y]\n",
    "\n",
    "# y to np.array\n",
    "y = np.array(y)\n",
    "\n",
    "print(y)"
   ]
  },
  {
   "cell_type": "code",
   "execution_count": 669,
   "metadata": {},
   "outputs": [
    {
     "name": "stdout",
     "output_type": "stream",
     "text": [
      "(14448, 32, 128, 1)\n",
      "(14448,)\n",
      "(1806, 32, 128, 1)\n",
      "(1806,)\n",
      "(1807, 32, 128, 1)\n",
      "(1807,)\n"
     ]
    }
   ],
   "source": [
    "TRAIN_SPLIT = 0.8\n",
    "VAL_SPLIT = 0.1\n",
    "TEST_SPLIT = 0.1\n",
    "\n",
    "# split the data into training, validation and test sets\n",
    "X_train = X[:int(X.shape[0]*TRAIN_SPLIT)]\n",
    "y_train = y[:int(y.shape[0]*TRAIN_SPLIT)]\n",
    "\n",
    "X_val = X[int(X.shape[0]*TRAIN_SPLIT):int(X.shape[0]*(TRAIN_SPLIT+VAL_SPLIT))]\n",
    "y_val = y[int(y.shape[0]*TRAIN_SPLIT):int(y.shape[0]*(TRAIN_SPLIT+VAL_SPLIT))]\n",
    "\n",
    "X_test = X[int(X.shape[0]*(TRAIN_SPLIT+VAL_SPLIT)):]\n",
    "y_test = y[int(y.shape[0]*(TRAIN_SPLIT+VAL_SPLIT)):]\n",
    "\n",
    "print(X_train.shape)\n",
    "print(y_train.shape)\n",
    "print(X_val.shape)\n",
    "print(y_val.shape)\n",
    "print(X_test.shape)\n",
    "print(y_test.shape)"
   ]
  },
  {
   "cell_type": "markdown",
   "metadata": {},
   "source": [
    "#### A: Model"
   ]
  },
  {
   "cell_type": "code",
   "execution_count": 672,
   "metadata": {},
   "outputs": [
    {
     "name": "stderr",
     "output_type": "stream",
     "text": [
      "WARNING:absl:At this time, the v2.11+ optimizer `tf.keras.optimizers.Adam` runs slowly on M1/M2 Macs, please use the legacy Keras optimizer instead, located at `tf.keras.optimizers.legacy.Adam`.\n"
     ]
    },
    {
     "name": "stdout",
     "output_type": "stream",
     "text": [
      "Epoch 1/50\n",
      "450/452 [============================>.] - ETA: 0s - loss: 1.4523 - accuracy: 0.6239\n",
      "Epoch 1: val_loss improved from inf to 1.09935, saving model to best_model_char.h5\n",
      "452/452 [==============================] - 13s 25ms/step - loss: 1.4522 - accuracy: 0.6240 - val_loss: 1.0994 - val_accuracy: 0.7099\n",
      "Epoch 2/50\n",
      "450/452 [============================>.] - ETA: 0s - loss: 1.0550 - accuracy: 0.7127\n",
      "Epoch 2: val_loss improved from 1.09935 to 0.91948, saving model to best_model_char.h5\n",
      "452/452 [==============================] - 11s 25ms/step - loss: 1.0551 - accuracy: 0.7126 - val_loss: 0.9195 - val_accuracy: 0.7326\n",
      "Epoch 3/50\n",
      "452/452 [==============================] - ETA: 0s - loss: 0.9393 - accuracy: 0.7403\n",
      "Epoch 3: val_loss improved from 0.91948 to 0.84978, saving model to best_model_char.h5\n",
      "452/452 [==============================] - 12s 27ms/step - loss: 0.9393 - accuracy: 0.7403 - val_loss: 0.8498 - val_accuracy: 0.7558\n",
      "Epoch 4/50\n",
      "452/452 [==============================] - ETA: 0s - loss: 0.8736 - accuracy: 0.7606\n",
      "Epoch 4: val_loss improved from 0.84978 to 0.80428, saving model to best_model_char.h5\n",
      "452/452 [==============================] - 12s 27ms/step - loss: 0.8736 - accuracy: 0.7606 - val_loss: 0.8043 - val_accuracy: 0.7763\n",
      "Epoch 5/50\n",
      "451/452 [============================>.] - ETA: 0s - loss: 0.8184 - accuracy: 0.7786\n",
      "Epoch 5: val_loss improved from 0.80428 to 0.77112, saving model to best_model_char.h5\n",
      "452/452 [==============================] - 14s 31ms/step - loss: 0.8182 - accuracy: 0.7787 - val_loss: 0.7711 - val_accuracy: 0.7957\n",
      "Epoch 6/50\n",
      "452/452 [==============================] - ETA: 0s - loss: 0.7779 - accuracy: 0.7864\n",
      "Epoch 6: val_loss improved from 0.77112 to 0.72776, saving model to best_model_char.h5\n",
      "452/452 [==============================] - 12s 27ms/step - loss: 0.7779 - accuracy: 0.7864 - val_loss: 0.7278 - val_accuracy: 0.8040\n",
      "Epoch 7/50\n",
      "450/452 [============================>.] - ETA: 0s - loss: 0.7379 - accuracy: 0.7967\n",
      "Epoch 7: val_loss improved from 0.72776 to 0.71618, saving model to best_model_char.h5\n",
      "452/452 [==============================] - 12s 26ms/step - loss: 0.7375 - accuracy: 0.7969 - val_loss: 0.7162 - val_accuracy: 0.8095\n",
      "Epoch 8/50\n",
      "450/452 [============================>.] - ETA: 0s - loss: 0.7073 - accuracy: 0.8069\n",
      "Epoch 8: val_loss improved from 0.71618 to 0.70935, saving model to best_model_char.h5\n",
      "452/452 [==============================] - 12s 26ms/step - loss: 0.7067 - accuracy: 0.8071 - val_loss: 0.7093 - val_accuracy: 0.8095\n",
      "Epoch 9/50\n",
      "450/452 [============================>.] - ETA: 0s - loss: 0.6903 - accuracy: 0.8114\n",
      "Epoch 9: val_loss improved from 0.70935 to 0.70218, saving model to best_model_char.h5\n",
      "452/452 [==============================] - 11s 25ms/step - loss: 0.6908 - accuracy: 0.8114 - val_loss: 0.7022 - val_accuracy: 0.8128\n",
      "Epoch 10/50\n",
      "450/452 [============================>.] - ETA: 0s - loss: 0.6687 - accuracy: 0.8175\n",
      "Epoch 10: val_loss did not improve from 0.70218\n",
      "452/452 [==============================] - 13s 28ms/step - loss: 0.6693 - accuracy: 0.8175 - val_loss: 0.7162 - val_accuracy: 0.8112\n",
      "Epoch 11/50\n",
      "451/452 [============================>.] - ETA: 0s - loss: 0.6504 - accuracy: 0.8200\n",
      "Epoch 11: val_loss improved from 0.70218 to 0.70188, saving model to best_model_char.h5\n",
      "452/452 [==============================] - 11s 25ms/step - loss: 0.6505 - accuracy: 0.8199 - val_loss: 0.7019 - val_accuracy: 0.8134\n",
      "Epoch 12/50\n",
      "452/452 [==============================] - ETA: 0s - loss: 0.6298 - accuracy: 0.8211\n",
      "Epoch 12: val_loss improved from 0.70188 to 0.68374, saving model to best_model_char.h5\n",
      "452/452 [==============================] - 11s 25ms/step - loss: 0.6298 - accuracy: 0.8211 - val_loss: 0.6837 - val_accuracy: 0.8145\n",
      "Epoch 13/50\n",
      "452/452 [==============================] - ETA: 0s - loss: 0.6145 - accuracy: 0.8234\n",
      "Epoch 13: val_loss did not improve from 0.68374\n",
      "452/452 [==============================] - 11s 25ms/step - loss: 0.6145 - accuracy: 0.8234 - val_loss: 0.7077 - val_accuracy: 0.8123\n",
      "Epoch 14/50\n",
      "451/452 [============================>.] - ETA: 0s - loss: 0.5985 - accuracy: 0.8316\n",
      "Epoch 14: val_loss did not improve from 0.68374\n",
      "452/452 [==============================] - 12s 26ms/step - loss: 0.5986 - accuracy: 0.8315 - val_loss: 0.6932 - val_accuracy: 0.8117\n",
      "Epoch 15/50\n",
      "451/452 [============================>.] - ETA: 0s - loss: 0.5889 - accuracy: 0.8295\n",
      "Epoch 15: val_loss did not improve from 0.68374\n",
      "452/452 [==============================] - 11s 25ms/step - loss: 0.5890 - accuracy: 0.8295 - val_loss: 0.7002 - val_accuracy: 0.8151\n"
     ]
    }
   ],
   "source": [
    "def create_model(num_classes):\n",
    "    model = Sequential([\n",
    "        # Convolutional layer learns 32 filters using a 3x3 kernel\n",
    "        Conv2D(32, (3, 3), activation='relu', input_shape=(32, 128, 1)),\n",
    "        MaxPooling2D(pool_size=(2, 2)),\n",
    "        Dropout(0.25),\n",
    "\n",
    "        # Adding a second convolutional layer with 64 filters\n",
    "        Conv2D(64, (3, 3), activation='relu'),\n",
    "        MaxPooling2D(pool_size=(2, 2)),\n",
    "        Dropout(0.25),\n",
    "\n",
    "        # Flatten the 3D output to 1D and add a dense layer\n",
    "        Flatten(),\n",
    "        Dense(128, activation='relu'),\n",
    "        Dropout(0.5),\n",
    "\n",
    "        # Output layer with softmax activation for classification\n",
    "        Dense(num_classes, activation='softmax')\n",
    "    ])\n",
    "    # adam with a learning rate of 0.001\n",
    "\n",
    "    \n",
    "    model.compile(optimizer=tf.keras.optimizers.Adam(learning_rate=0.001),\n",
    "                  loss='sparse_categorical_crossentropy',\n",
    "                  metrics=['accuracy'])\n",
    "    return model\n",
    "\n",
    "num_classes = len(char_to_num)\n",
    "model = create_model(num_classes)\n",
    "\n",
    "# Save the best model during the training\n",
    "best_model_path = 'best_model_char.h5'  \n",
    "model_checkpoint = ModelCheckpoint(best_model_path, \n",
    "                                   monitor='val_loss', \n",
    "                                   save_best_only=True, \n",
    "                                   verbose=1)\n",
    "\n",
    "early_stopping = EarlyStopping(monitor='val_loss', patience=3)\n",
    "history = model.fit(\n",
    "    X_train, y_train,\n",
    "    validation_data=(X_val, y_val),\n",
    "    epochs=50,  # You can set this to a higher number.\n",
    "    batch_size=32,\n",
    "    callbacks=[early_stopping, model_checkpoint]\n",
    ")"
   ]
  },
  {
   "cell_type": "code",
   "execution_count": 673,
   "metadata": {},
   "outputs": [
    {
     "data": {
      "image/png": "[encoded data removed]",
      "text/plain": [
       "<Figure size 640x480 with 1 Axes>"
      ]
     },
     "metadata": {},
     "output_type": "display_data"
    },
    {
     "data": {
      "image/png": "[encoded data removed]",
      "text/plain": [
       "<Figure size 640x480 with 1 Axes>"
      ]
     },
     "metadata": {},
     "output_type": "display_data"
    }
   ],
   "source": [
    "plot_history(history)"
   ]
  },
  {
   "cell_type": "markdown",
   "metadata": {},
   "source": [
    "#### A: Testing the model with test data"
   ]
  },
  {
   "cell_type": "code",
   "execution_count": 674,
   "metadata": {},
   "outputs": [
    {
     "data": {
      "text/plain": [
       "'num_to_char = {num: char for char, num in char_to_num.items()}\\npredictions = model.predict(X_test)\\npredicted_classes = np.argmax(predictions, axis=1)\\npredicted_transcriptions = [num_to_char[num] for num in predicted_classes]\\nreal_transcriptions = [num_to_char[num] for num in y_test]\\nfor real, predicted in zip(real_transcriptions, predicted_transcriptions):\\n    print(f\"Real: {real}\")\\n    print(f\"Predicted: {predicted}\\n\")\\n'"
      ]
     },
     "execution_count": 674,
     "metadata": {},
     "output_type": "execute_result"
    }
   ],
   "source": [
    "\"\"\"num_to_char = {num: char for char, num in char_to_num.items()}\n",
    "predictions = model.predict(X_test)\n",
    "predicted_classes = np.argmax(predictions, axis=1)\n",
    "predicted_transcriptions = [num_to_char[num] for num in predicted_classes]\n",
    "real_transcriptions = [num_to_char[num] for num in y_test]\n",
    "for real, predicted in zip(real_transcriptions, predicted_transcriptions):\n",
    "    print(f\"Real: {real}\")\n",
    "    print(f\"Predicted: {predicted}\\n\")\n",
    "\"\"\""
   ]
  },
  {
   "cell_type": "code",
   "execution_count": 682,
   "metadata": {},
   "outputs": [
    {
     "name": "stdout",
     "output_type": "stream",
     "text": [
      "0\n"
     ]
    }
   ],
   "source": [
    "print(len(test_indices))"
   ]
  },
  {
   "cell_type": "code",
   "execution_count": 679,
   "metadata": {},
   "outputs": [
    {
     "name": "stdout",
     "output_type": "stream",
     "text": [
      "1807\n"
     ]
    }
   ],
   "source": [
    "print(len(y_test))"
   ]
  },
  {
   "cell_type": "code",
   "execution_count": 685,
   "metadata": {},
   "outputs": [
    {
     "name": "stdout",
     "output_type": "stream",
     "text": [
      "57/57 [==============================] - 0s 6ms/step\n"
     ]
    },
    {
     "data": {
      "text/html": [
       "<div>\n",
       "<style scoped>\n",
       "    .dataframe tbody tr th:only-of-type {\n",
       "        vertical-align: middle;\n",
       "    }\n",
       "\n",
       "    .dataframe tbody tr th {\n",
       "        vertical-align: top;\n",
       "    }\n",
       "\n",
       "    .dataframe thead th {\n",
       "        text-align: right;\n",
       "    }\n",
       "</style>\n",
       "<table border=\"1\" class=\"dataframe\">\n",
       "  <thead>\n",
       "    <tr style=\"text-align: right;\">\n",
       "      <th></th>\n",
       "      <th>WordID</th>\n",
       "      <th>Real</th>\n",
       "      <th>Predicted</th>\n",
       "      <th>Correct</th>\n",
       "      <th>ImageData</th>\n",
       "    </tr>\n",
       "  </thead>\n",
       "  <tbody>\n",
       "    <tr>\n",
       "      <th>0</th>\n",
       "      <td>b02-013-07-06</td>\n",
       "      <td>I</td>\n",
       "      <td>,</td>\n",
       "      <td>0</td>\n",
       "      <td>[[[0.0], [0.0], [0.0], [0.0], [0.0], [0.0], [0...</td>\n",
       "    </tr>\n",
       "    <tr>\n",
       "      <th>1</th>\n",
       "      <td>b02-013-07-07</td>\n",
       "      <td>:</td>\n",
       "      <td>:</td>\n",
       "      <td>1</td>\n",
       "      <td>[[[0.0], [0.0], [0.0], [0.0], [0.0], [0.0], [0...</td>\n",
       "    </tr>\n",
       "    <tr>\n",
       "      <th>2</th>\n",
       "      <td>b02-013-08-00</td>\n",
       "      <td>.</td>\n",
       "      <td>.</td>\n",
       "      <td>1</td>\n",
       "      <td>[[[0.0], [0.0], [0.0], [0.0], [0.0], [0.0], [0...</td>\n",
       "    </tr>\n",
       "    <tr>\n",
       "      <th>3</th>\n",
       "      <td>b02-013-08-01</td>\n",
       "      <td>,</td>\n",
       "      <td>,</td>\n",
       "      <td>1</td>\n",
       "      <td>[[[0.0], [0.0], [0.0], [0.0], [0.0], [0.0], [0...</td>\n",
       "    </tr>\n",
       "    <tr>\n",
       "      <th>4</th>\n",
       "      <td>b02-013-08-02</td>\n",
       "      <td>.</td>\n",
       "      <td>.</td>\n",
       "      <td>1</td>\n",
       "      <td>[[[1.0], [1.0], [1.0], [1.0], [1.0], [1.0], [1...</td>\n",
       "    </tr>\n",
       "  </tbody>\n",
       "</table>\n",
       "</div>"
      ],
      "text/plain": [
       "          WordID Real Predicted  Correct  \\\n",
       "0  b02-013-07-06    I         ,        0   \n",
       "1  b02-013-07-07    :         :        1   \n",
       "2  b02-013-08-00    .         .        1   \n",
       "3  b02-013-08-01    ,         ,        1   \n",
       "4  b02-013-08-02    .         .        1   \n",
       "\n",
       "                                           ImageData  \n",
       "0  [[[0.0], [0.0], [0.0], [0.0], [0.0], [0.0], [0...  \n",
       "1  [[[0.0], [0.0], [0.0], [0.0], [0.0], [0.0], [0...  \n",
       "2  [[[0.0], [0.0], [0.0], [0.0], [0.0], [0.0], [0...  \n",
       "3  [[[0.0], [0.0], [0.0], [0.0], [0.0], [0.0], [0...  \n",
       "4  [[[1.0], [1.0], [1.0], [1.0], [1.0], [1.0], [1...  "
      ]
     },
     "execution_count": 685,
     "metadata": {},
     "output_type": "execute_result"
    }
   ],
   "source": [
    "import pandas as pd\n",
    "\n",
    "# Create a reverse mapping from number to character\n",
    "num_to_char = {num: char for char, num in char_to_num.items()}\n",
    "\n",
    "# Make predictions on the test data\n",
    "predictions = model.predict(X_test)\n",
    "predicted_classes = np.argmax(predictions, axis=1)\n",
    "\n",
    "# Decode the predictions into actual characters\n",
    "predicted_transcriptions = [num_to_char.get(num, '') for num in predicted_classes]\n",
    "real_transcriptions = [num_to_char.get(num, '') for num in y_test]\n",
    "\n",
    "# Determine if the prediction is correct (1) or not (0)\n",
    "correct_predictions = [1 if real == pred else 0 for real, pred in zip(real_transcriptions, predicted_transcriptions)]\n",
    "\n",
    "# Get the indices for the test set\n",
    "test_indices = range(int(len(df_char) * (TRAIN_SPLIT + VAL_SPLIT)), len(df_char))\n",
    "\n",
    "# Ensure that the lengths of your test labels and indices match\n",
    "assert len(test_indices) == len(y_test), \"Mismatch in test set size and actual labels\"\n",
    "\n",
    "# Extract WordIDs and ImgageData for the test set using the correct indices\n",
    "test_word_ids = df.iloc[test_indices]['WordID'].values\n",
    "test_img_data = df.iloc[test_indices]['ImageData'].values\n",
    "\n",
    "# Ensure that every list you're going to put into the DataFrame is of the same length\n",
    "assert len(test_word_ids) == len(test_img_data) == len(predicted_transcriptions) == len(real_transcriptions), \"Mismatch in the length of data columns\"\n",
    "\n",
    "# Create the DataFrame\n",
    "results_df = pd.DataFrame({\n",
    "    'WordID': test_word_ids,\n",
    "    'Real': real_transcriptions,\n",
    "    'Predicted': predicted_transcriptions,\n",
    "    'Correct': correct_predictions,\n",
    "    'ImageData': test_img_data\n",
    "})\n",
    "\n",
    "# Display the first few rows of the DataFrame\n",
    "results_df.head()"
   ]
  },
  {
   "cell_type": "code",
   "execution_count": 686,
   "metadata": {},
   "outputs": [
    {
     "name": "stdout",
     "output_type": "stream",
     "text": [
      "Correct\n",
      "1    1477\n",
      "0     330\n",
      "Name: count, dtype: int64\n",
      "Correct\n",
      "1    0.817377\n",
      "0    0.182623\n",
      "Name: count, dtype: float64\n"
     ]
    }
   ],
   "source": [
    "print(results_df['Correct'].value_counts())\n",
    "print(results_df['Correct'].value_counts() / len(results_df))"
   ]
  },
  {
   "cell_type": "code",
   "execution_count": 687,
   "metadata": {},
   "outputs": [
    {
     "data": {
      "text/html": [
       "<div>\n",
       "<style scoped>\n",
       "    .dataframe tbody tr th:only-of-type {\n",
       "        vertical-align: middle;\n",
       "    }\n",
       "\n",
       "    .dataframe tbody tr th {\n",
       "        vertical-align: top;\n",
       "    }\n",
       "\n",
       "    .dataframe thead th {\n",
       "        text-align: right;\n",
       "    }\n",
       "</style>\n",
       "<table border=\"1\" class=\"dataframe\">\n",
       "  <thead>\n",
       "    <tr style=\"text-align: right;\">\n",
       "      <th></th>\n",
       "      <th>WordID</th>\n",
       "      <th>Real</th>\n",
       "      <th>Predicted</th>\n",
       "      <th>Correct</th>\n",
       "      <th>ImageData</th>\n",
       "    </tr>\n",
       "  </thead>\n",
       "  <tbody>\n",
       "    <tr>\n",
       "      <th>0</th>\n",
       "      <td>b02-013-07-06</td>\n",
       "      <td>I</td>\n",
       "      <td>,</td>\n",
       "      <td>0</td>\n",
       "      <td>[[[0.0], [0.0], [0.0], [0.0], [0.0], [0.0], [0...</td>\n",
       "    </tr>\n",
       "    <tr>\n",
       "      <th>7</th>\n",
       "      <td>b02-013-08-05</td>\n",
       "      <td>\"</td>\n",
       "      <td>'</td>\n",
       "      <td>0</td>\n",
       "      <td>[[[0.0], [0.0], [0.0], [0.0], [0.0], [0.0], [0...</td>\n",
       "    </tr>\n",
       "    <tr>\n",
       "      <th>15</th>\n",
       "      <td>b02-013-09-06</td>\n",
       "      <td>,</td>\n",
       "      <td>I</td>\n",
       "      <td>0</td>\n",
       "      <td>[[[0.0], [0.0], [0.0], [0.0], [0.0], [0.0], [0...</td>\n",
       "    </tr>\n",
       "    <tr>\n",
       "      <th>16</th>\n",
       "      <td>b02-013-09-07</td>\n",
       "      <td>A</td>\n",
       "      <td>\"</td>\n",
       "      <td>0</td>\n",
       "      <td>[[[0.0], [0.0], [0.0], [0.0], [0.0], [0.0], [0...</td>\n",
       "    </tr>\n",
       "    <tr>\n",
       "      <th>17</th>\n",
       "      <td>b02-035-00-00</td>\n",
       "      <td>,</td>\n",
       "      <td>a</td>\n",
       "      <td>0</td>\n",
       "      <td>[[[0.0], [0.0], [0.0], [0.0], [0.0], [0.0], [0...</td>\n",
       "    </tr>\n",
       "  </tbody>\n",
       "</table>\n",
       "</div>"
      ],
      "text/plain": [
       "           WordID Real Predicted  Correct  \\\n",
       "0   b02-013-07-06    I         ,        0   \n",
       "7   b02-013-08-05    \"         '        0   \n",
       "15  b02-013-09-06    ,         I        0   \n",
       "16  b02-013-09-07    A         \"        0   \n",
       "17  b02-035-00-00    ,         a        0   \n",
       "\n",
       "                                            ImageData  \n",
       "0   [[[0.0], [0.0], [0.0], [0.0], [0.0], [0.0], [0...  \n",
       "7   [[[0.0], [0.0], [0.0], [0.0], [0.0], [0.0], [0...  \n",
       "15  [[[0.0], [0.0], [0.0], [0.0], [0.0], [0.0], [0...  \n",
       "16  [[[0.0], [0.0], [0.0], [0.0], [0.0], [0.0], [0...  \n",
       "17  [[[0.0], [0.0], [0.0], [0.0], [0.0], [0.0], [0...  "
      ]
     },
     "execution_count": 687,
     "metadata": {},
     "output_type": "execute_result"
    }
   ],
   "source": [
    "incorrect = results_df[results_df['Correct'] == 0]\n",
    "incorrect.head()"
   ]
  },
  {
   "cell_type": "code",
   "execution_count": 690,
   "metadata": {},
   "outputs": [
    {
     "name": "stdout",
     "output_type": "stream",
     "text": [
      "1807\n"
     ]
    }
   ],
   "source": [
    "print(len(results_df))"
   ]
  },
  {
   "cell_type": "code",
   "execution_count": 691,
   "metadata": {},
   "outputs": [],
   "source": [
    "results_df.to_csv('results_char.csv')"
   ]
  },
  {
   "cell_type": "code",
   "execution_count": 694,
   "metadata": {},
   "outputs": [
    {
     "name": "stdout",
     "output_type": "stream",
     "text": [
      "              precision    recall  f1-score   support\n",
      "\n",
      "           0       0.77      0.86      0.81        28\n",
      "           1       0.86      0.72      0.78       169\n",
      "           2       0.80      0.50      0.62         8\n",
      "           3       1.00      0.50      0.67         4\n",
      "           4       0.17      0.01      0.02        80\n",
      "           5       0.71      0.59      0.65        17\n",
      "           6       0.70      0.39      0.50        18\n",
      "           8       0.78      0.90      0.84       563\n",
      "           9       0.84      0.95      0.89        40\n",
      "          10       0.90      0.90      0.90       510\n",
      "          11       0.00      0.00      0.00         5\n",
      "          12       0.00      0.00      0.00         3\n",
      "          13       1.00      0.67      0.80         3\n",
      "          14       0.00      0.00      0.00         1\n",
      "          15       0.00      0.00      0.00         1\n",
      "          18       0.00      0.00      0.00         2\n",
      "          20       0.76      0.94      0.84        17\n",
      "          21       0.83      0.88      0.86        17\n",
      "          22       0.70      0.94      0.80        17\n",
      "          23       0.57      0.47      0.52        17\n",
      "          28       0.00      0.00      0.00         1\n",
      "          30       0.00      0.00      0.00         1\n",
      "          31       0.67      0.61      0.64        79\n",
      "          35       0.00      0.00      0.00         1\n",
      "          39       0.82      0.98      0.89       204\n",
      "          40       0.00      0.00      0.00         1\n",
      "\n",
      "    accuracy                           0.82      1807\n",
      "   macro avg       0.50      0.45      0.46      1807\n",
      "weighted avg       0.79      0.82      0.79      1807\n",
      "\n"
     ]
    },
    {
     "name": "stderr",
     "output_type": "stream",
     "text": [
      "/opt/homebrew/lib/python3.11/site-packages/sklearn/metrics/_classification.py:1344: UndefinedMetricWarning: Precision and F-score are ill-defined and being set to 0.0 in labels with no predicted samples. Use `zero_division` parameter to control this behavior.\n",
      "  _warn_prf(average, modifier, msg_start, len(result))\n",
      "/opt/homebrew/lib/python3.11/site-packages/sklearn/metrics/_classification.py:1344: UndefinedMetricWarning: Precision and F-score are ill-defined and being set to 0.0 in labels with no predicted samples. Use `zero_division` parameter to control this behavior.\n",
      "  _warn_prf(average, modifier, msg_start, len(result))\n",
      "/opt/homebrew/lib/python3.11/site-packages/sklearn/metrics/_classification.py:1344: UndefinedMetricWarning: Precision and F-score are ill-defined and being set to 0.0 in labels with no predicted samples. Use `zero_division` parameter to control this behavior.\n",
      "  _warn_prf(average, modifier, msg_start, len(result))\n"
     ]
    }
   ],
   "source": [
    "# print evaluation metrics\n",
    "from sklearn.metrics import classification_report\n",
    "print(classification_report(y_test, predictions.argmax(axis=1)))"
   ]
  },
  {
   "cell_type": "markdown",
   "metadata": {},
   "source": [
    "### **1 or more characters** words"
   ]
  },
  {
   "cell_type": "code",
   "execution_count": 695,
   "metadata": {},
   "outputs": [],
   "source": [
    "# load the data\n",
    "df = pd.read_pickle('data/words_df_all.pkl.gz')"
   ]
  },
  {
   "cell_type": "code",
   "execution_count": 697,
   "metadata": {},
   "outputs": [
    {
     "name": "stdout",
     "output_type": "stream",
     "text": [
      "a01-117-05-02\n",
      "r06-022-03-04\n"
     ]
    }
   ],
   "source": [
    "for i, img in enumerate(df['ImageData']):\n",
    "    if type(img) != np.ndarray:\n",
    "        print(df['WordID'][i])\n",
    "        # delete the current row from df\n",
    "        df.drop(i, inplace=True)"
   ]
  },
  {
   "cell_type": "code",
   "execution_count": 698,
   "metadata": {},
   "outputs": [
    {
     "data": {
      "text/html": [
       "<div>\n",
       "<style scoped>\n",
       "    .dataframe tbody tr th:only-of-type {\n",
       "        vertical-align: middle;\n",
       "    }\n",
       "\n",
       "    .dataframe tbody tr th {\n",
       "        vertical-align: top;\n",
       "    }\n",
       "\n",
       "    .dataframe thead th {\n",
       "        text-align: right;\n",
       "    }\n",
       "</style>\n",
       "<table border=\"1\" class=\"dataframe\">\n",
       "  <thead>\n",
       "    <tr style=\"text-align: right;\">\n",
       "      <th></th>\n",
       "      <th>WordID</th>\n",
       "      <th>SegmentationResult</th>\n",
       "      <th>GrayLevel</th>\n",
       "      <th>BoundingBox</th>\n",
       "      <th>GrammaticalTag</th>\n",
       "      <th>Transcription</th>\n",
       "      <th>ImageData</th>\n",
       "    </tr>\n",
       "  </thead>\n",
       "  <tbody>\n",
       "    <tr>\n",
       "      <th>113621</th>\n",
       "      <td>r06-022-03-05</td>\n",
       "      <td>ok</td>\n",
       "      <td>184</td>\n",
       "      <td>(924, 1304, 132, 29)</td>\n",
       "      <td>QL</td>\n",
       "      <td>more</td>\n",
       "      <td>None</td>\n",
       "    </tr>\n",
       "  </tbody>\n",
       "</table>\n",
       "</div>"
      ],
      "text/plain": [
       "               WordID SegmentationResult  GrayLevel           BoundingBox  \\\n",
       "113621  r06-022-03-05                 ok        184  (924, 1304, 132, 29)   \n",
       "\n",
       "       GrammaticalTag Transcription ImageData  \n",
       "113621             QL          more      None  "
      ]
     },
     "execution_count": 698,
     "metadata": {},
     "output_type": "execute_result"
    }
   ],
   "source": [
    "# print the row in which imagdate is none\n",
    "df[df['ImageData'].isnull()]"
   ]
  },
  {
   "cell_type": "code",
   "execution_count": 699,
   "metadata": {},
   "outputs": [],
   "source": [
    "df = df[df['ImageData'].notnull()]"
   ]
  },
  {
   "cell_type": "code",
   "execution_count": 700,
   "metadata": {},
   "outputs": [
    {
     "name": "stdout",
     "output_type": "stream",
     "text": [
      "ImageData\n",
      "<class 'numpy.ndarray'>    115316\n",
      "Name: count, dtype: int64\n"
     ]
    }
   ],
   "source": [
    "print(df['ImageData'].apply(type).value_counts())"
   ]
  },
  {
   "cell_type": "code",
   "execution_count": 701,
   "metadata": {},
   "outputs": [
    {
     "name": "stdout",
     "output_type": "stream",
     "text": [
      "13549\n"
     ]
    }
   ],
   "source": [
    "print(len(df['Transcription'].unique()))"
   ]
  },
  {
   "cell_type": "code",
   "execution_count": 702,
   "metadata": {},
   "outputs": [],
   "source": [
    "# shuffle\n",
    "df = df.sample(frac=1).reset_index(drop=True)"
   ]
  },
  {
   "cell_type": "code",
   "execution_count": 703,
   "metadata": {},
   "outputs": [],
   "source": [
    "# consider only words that do not contain spaces or pontuation\n",
    "punctuation = [' ', '.', ',', '!', '?', '-', \"'\", '\"', '(', ')', '[', ']', '{', '}', '/', '\\\\', '|', '*', '+', '=', '_', '#', '@', '%', '&', '^', '~', '`', '<', '>', ':', ';']\n",
    "df = df[df['Transcription'].apply(lambda x: all(char not in x for char in punctuation))]"
   ]
  },
  {
   "cell_type": "code",
   "execution_count": 704,
   "metadata": {},
   "outputs": [],
   "source": [
    "# Split data into training and validation sets\n",
    "X = np.stack(df['ImageData'].values)  # Convert the list of images to a numpy array\n",
    "y = np.array(df['Transcription'].values)"
   ]
  },
  {
   "cell_type": "code",
   "execution_count": 705,
   "metadata": {},
   "outputs": [
    {
     "name": "stdout",
     "output_type": "stream",
     "text": [
      "(97378, 17)\n"
     ]
    }
   ],
   "source": [
    "def encode_to_labels(y):\n",
    "    global vocabulary, char_to_num\n",
    "    # create a list of the chartcaters vocabulary ordered alphabetically\n",
    "    vocabulary = sorted(set(''.join(y)))\n",
    "\n",
    "    # create a dictionary mapping each character to the vocabulary list index. do not use 0.\n",
    "    char_to_num = {char:idx+1 for idx, char in enumerate(vocabulary)}\n",
    "\n",
    "    # transform y values to numerical using the char_to_num dictionary, using 0 for padding. the length of each word is the maximum length of the words in the dataset\n",
    "    y_encoded = []\n",
    "    for word in y:\n",
    "        word_encoded = [char_to_num[char] for char in word]\n",
    "        y_encoded.append(word_encoded)\n",
    "\n",
    "    # pad the encoded values (fill with 0s to the right)\n",
    "    y_encoded = tf.keras.preprocessing.sequence.pad_sequences(y_encoded, padding='post')\n",
    "\n",
    "    # normalize the values\n",
    "    # y_encoded = y_encoded / np.array(len(vocabulary))\n",
    "\n",
    "    return y_encoded\n",
    "\n",
    "y = encode_to_labels(y)\n",
    "\n",
    "# one-hot enconde instead of encode_to_labels\n",
    "# y = to_categorical(y, num_classes=len(vocabulary)+1)\n",
    "\n",
    "# print(y.shape)\n",
    "\n",
    "# add padding to y to match the image size\n",
    "# y = np.pad(y, ((0,0),(0,32-y.shape[1]),(0,0)), mode='constant', constant_values=0)\n",
    "\n",
    "print(y.shape)"
   ]
  },
  {
   "cell_type": "code",
   "execution_count": 706,
   "metadata": {},
   "outputs": [
    {
     "name": "stdout",
     "output_type": "stream",
     "text": [
      "[37  0  0  0  0  0  0  0  0  0  0  0  0  0  0  0  0]\n"
     ]
    }
   ],
   "source": [
    "print(y[1])"
   ]
  },
  {
   "cell_type": "code",
   "execution_count": 707,
   "metadata": {},
   "outputs": [
    {
     "name": "stdout",
     "output_type": "stream",
     "text": [
      "(97378, 32, 128, 1)\n",
      "(97378, 17)\n"
     ]
    }
   ],
   "source": [
    "print(X.shape)\n",
    "print(y.shape)"
   ]
  },
  {
   "cell_type": "code",
   "execution_count": 716,
   "metadata": {},
   "outputs": [
    {
     "name": "stdout",
     "output_type": "stream",
     "text": [
      "(77902, 32, 128, 1)\n",
      "(77902, 17)\n",
      "(9738, 32, 128, 1)\n",
      "(9738, 17)\n",
      "(9738, 32, 128, 1)\n",
      "(9738, 17)\n"
     ]
    }
   ],
   "source": [
    "TRAIN_SPLIT = 0.8\n",
    "VAL_SPLIT = 0.1\n",
    "TEST_SPLIT = 0.1\n",
    "\n",
    "# split the data into training, validation and test sets\n",
    "X_train = X[:int(X.shape[0]*TRAIN_SPLIT)]\n",
    "y_train = y[:int(y.shape[0]*TRAIN_SPLIT)]\n",
    "\n",
    "X_val = X[int(X.shape[0]*TRAIN_SPLIT):int(X.shape[0]*(TRAIN_SPLIT+VAL_SPLIT))]\n",
    "y_val = y[int(y.shape[0]*TRAIN_SPLIT):int(y.shape[0]*(TRAIN_SPLIT+VAL_SPLIT))]\n",
    "\n",
    "X_test = X[int(X.shape[0]*(TRAIN_SPLIT+VAL_SPLIT)):]\n",
    "y_test = y[int(y.shape[0]*(TRAIN_SPLIT+VAL_SPLIT)):]\n",
    "\n",
    "print(X_train.shape)\n",
    "print(y_train.shape)\n",
    "print(X_val.shape)\n",
    "print(y_val.shape)\n",
    "print(X_test.shape)\n",
    "print(y_test.shape)"
   ]
  },
  {
   "cell_type": "code",
   "execution_count": 717,
   "metadata": {},
   "outputs": [],
   "source": [
    "# save value_counts of transcription of df to a df and export it to txt\n",
    "df['Transcription'].value_counts().to_csv('data/transcription_value_counts_all.txt', header=None, sep=' ')"
   ]
  },
  {
   "cell_type": "code",
   "execution_count": 718,
   "metadata": {},
   "outputs": [
    {
     "name": "stdout",
     "output_type": "stream",
     "text": [
      "(77902, 32, 128, 1)\n",
      "(77902, 17)\n"
     ]
    }
   ],
   "source": [
    "# print the shapes of training x and y\n",
    "print(X_train.shape)\n",
    "print(y_train.shape)"
   ]
  },
  {
   "cell_type": "code",
   "execution_count": 719,
   "metadata": {},
   "outputs": [
    {
     "name": "stdout",
     "output_type": "stream",
     "text": [
      "[17 51  0  0  0  0  0  0  0  0  0  0  0  0  0  0  0]\n"
     ]
    }
   ],
   "source": [
    "print(y_train[0])"
   ]
  },
  {
   "cell_type": "code",
   "execution_count": 720,
   "metadata": {},
   "outputs": [
    {
     "name": "stdout",
     "output_type": "stream",
     "text": [
      "(77902, 17, 63)\n"
     ]
    }
   ],
   "source": [
    "# one hot encode y\n",
    "y_train = to_categorical(y_train, num_classes=len(vocabulary)+1)\n",
    "y_val = to_categorical(y_val, num_classes=len(vocabulary)+1)\n",
    "y_test = to_categorical(y_test, num_classes=len(vocabulary)+1)\n",
    "\n",
    "print(y_train.shape)"
   ]
  },
  {
   "cell_type": "markdown",
   "metadata": {},
   "source": [
    "#### Model"
   ]
  },
  {
   "cell_type": "code",
   "execution_count": 721,
   "metadata": {},
   "outputs": [],
   "source": [
    "# save y_train[0] to txt file\n",
    "np.savetxt('data/y_train_0.txt', y_train[2], fmt='%d')"
   ]
  },
  {
   "cell_type": "code",
   "execution_count": 722,
   "metadata": {},
   "outputs": [
    {
     "name": "stderr",
     "output_type": "stream",
     "text": [
      "WARNING:absl:At this time, the v2.11+ optimizer `tf.keras.optimizers.Adam` runs slowly on M1/M2 Macs, please use the legacy Keras optimizer instead, located at `tf.keras.optimizers.legacy.Adam`.\n"
     ]
    },
    {
     "name": "stdout",
     "output_type": "stream",
     "text": [
      "Model: \"sequential_55\"\n",
      "_________________________________________________________________\n",
      " Layer (type)                Output Shape              Param #   \n",
      "=================================================================\n",
      " conv2d_339 (Conv2D)         (None, 30, 126, 32)       320       \n",
      "                                                                 \n",
      " max_pooling2d_332 (MaxPool  (None, 15, 63, 32)        0         \n",
      " ing2D)                                                          \n",
      "                                                                 \n",
      " conv2d_340 (Conv2D)         (None, 13, 61, 64)        18496     \n",
      "                                                                 \n",
      " max_pooling2d_333 (MaxPool  (None, 6, 30, 64)         0         \n",
      " ing2D)                                                          \n",
      "                                                                 \n",
      " conv2d_341 (Conv2D)         (None, 4, 28, 128)        73856     \n",
      "                                                                 \n",
      " max_pooling2d_334 (MaxPool  (None, 2, 14, 128)        0         \n",
      " ing2D)                                                          \n",
      "                                                                 \n",
      " flatten_68 (Flatten)        (None, 3584)              0         \n",
      "                                                                 \n",
      " dense_167 (Dense)           (None, 256)               917760    \n",
      "                                                                 \n",
      " dropout_94 (Dropout)        (None, 256)               0         \n",
      "                                                                 \n",
      " dense_168 (Dense)           (None, 1071)              275247    \n",
      "                                                                 \n",
      " reshape_56 (Reshape)        (None, 17, 63)            0         \n",
      "                                                                 \n",
      "=================================================================\n",
      "Total params: 1285679 (4.90 MB)\n",
      "Trainable params: 1285679 (4.90 MB)\n",
      "Non-trainable params: 0 (0.00 Byte)\n",
      "_________________________________________________________________\n"
     ]
    },
    {
     "name": "stderr",
     "output_type": "stream",
     "text": [
      "WARNING:absl:At this time, the v2.11+ optimizer `tf.keras.optimizers.Adam` runs slowly on M1/M2 Macs, please use the legacy Keras optimizer instead, located at `tf.keras.optimizers.legacy.Adam`.\n"
     ]
    },
    {
     "name": "stdout",
     "output_type": "stream",
     "text": [
      "Epoch 1/50\n",
      "2152/2435 [=========================>....] - ETA: 7s - loss: 0.8575 - accuracy: 0.7670"
     ]
    },
    {
     "ename": "KeyboardInterrupt",
     "evalue": "",
     "output_type": "error",
     "traceback": [
      "\u001b[0;31m---------------------------------------------------------------------------\u001b[0m",
      "\u001b[0;31mKeyboardInterrupt\u001b[0m                         Traceback (most recent call last)",
      "Cell \u001b[0;32mIn[722], line 58\u001b[0m\n\u001b[1;32m     55\u001b[0m \u001b[38;5;66;03m# Assume create_cnn_model is a function you've defined to create your model\u001b[39;00m\n\u001b[1;32m     56\u001b[0m model \u001b[38;5;241m=\u001b[39m create_cnn_model(input_shape\u001b[38;5;241m=\u001b[39m(\u001b[38;5;241m32\u001b[39m, \u001b[38;5;241m128\u001b[39m, \u001b[38;5;241m1\u001b[39m), num_classes\u001b[38;5;241m=\u001b[39m\u001b[38;5;28mlen\u001b[39m(vocabulary)\u001b[38;5;241m+\u001b[39m\u001b[38;5;241m1\u001b[39m, sequence_length\u001b[38;5;241m=\u001b[39m\u001b[38;5;241m17\u001b[39m)\n\u001b[0;32m---> 58\u001b[0m history \u001b[38;5;241m=\u001b[39m \u001b[43mmodel\u001b[49m\u001b[38;5;241;43m.\u001b[39;49m\u001b[43mfit\u001b[49m\u001b[43m(\u001b[49m\n\u001b[1;32m     59\u001b[0m \u001b[43m    \u001b[49m\u001b[43mX_train\u001b[49m\u001b[43m,\u001b[49m\u001b[43m \u001b[49m\u001b[43my_train\u001b[49m\u001b[43m,\u001b[49m\n\u001b[1;32m     60\u001b[0m \u001b[43m    \u001b[49m\u001b[43mvalidation_data\u001b[49m\u001b[38;5;241;43m=\u001b[39;49m\u001b[43m(\u001b[49m\u001b[43mX_val\u001b[49m\u001b[43m,\u001b[49m\u001b[43m \u001b[49m\u001b[43my_val\u001b[49m\u001b[43m)\u001b[49m\u001b[43m,\u001b[49m\u001b[43m  \u001b[49m\u001b[38;5;66;43;03m# replace with your validation data\u001b[39;49;00m\n\u001b[1;32m     61\u001b[0m \u001b[43m    \u001b[49m\u001b[43mepochs\u001b[49m\u001b[38;5;241;43m=\u001b[39;49m\u001b[38;5;241;43m50\u001b[39;49m\u001b[43m,\u001b[49m\u001b[43m  \u001b[49m\u001b[38;5;66;43;03m# Set a high number because early stopping will halt the training\u001b[39;49;00m\n\u001b[1;32m     62\u001b[0m \u001b[43m    \u001b[49m\u001b[43mbatch_size\u001b[49m\u001b[38;5;241;43m=\u001b[39;49m\u001b[38;5;241;43m32\u001b[39;49m\u001b[43m,\u001b[49m\u001b[43m  \u001b[49m\u001b[38;5;66;43;03m# Adjust based on your data and computing resources\u001b[39;49;00m\n\u001b[1;32m     63\u001b[0m \u001b[43m    \u001b[49m\u001b[43mcallbacks\u001b[49m\u001b[38;5;241;43m=\u001b[39;49m\u001b[43m[\u001b[49m\u001b[43mearly_stopping\u001b[49m\u001b[43m,\u001b[49m\u001b[43m \u001b[49m\u001b[43mmodel_checkpoint\u001b[49m\u001b[43m]\u001b[49m\u001b[43m  \u001b[49m\u001b[38;5;66;43;03m# Add the model checkpoint callback here\u001b[39;49;00m\n\u001b[1;32m     64\u001b[0m \u001b[43m)\u001b[49m\n",
      "File \u001b[0;32m/opt/homebrew/lib/python3.11/site-packages/keras/src/utils/traceback_utils.py:65\u001b[0m, in \u001b[0;36mfilter_traceback.<locals>.error_handler\u001b[0;34m(*args, **kwargs)\u001b[0m\n\u001b[1;32m     63\u001b[0m filtered_tb \u001b[38;5;241m=\u001b[39m \u001b[38;5;28;01mNone\u001b[39;00m\n\u001b[1;32m     64\u001b[0m \u001b[38;5;28;01mtry\u001b[39;00m:\n\u001b[0;32m---> 65\u001b[0m     \u001b[38;5;28;01mreturn\u001b[39;00m \u001b[43mfn\u001b[49m\u001b[43m(\u001b[49m\u001b[38;5;241;43m*\u001b[39;49m\u001b[43margs\u001b[49m\u001b[43m,\u001b[49m\u001b[43m \u001b[49m\u001b[38;5;241;43m*\u001b[39;49m\u001b[38;5;241;43m*\u001b[39;49m\u001b[43mkwargs\u001b[49m\u001b[43m)\u001b[49m\n\u001b[1;32m     66\u001b[0m \u001b[38;5;28;01mexcept\u001b[39;00m \u001b[38;5;167;01mException\u001b[39;00m \u001b[38;5;28;01mas\u001b[39;00m e:\n\u001b[1;32m     67\u001b[0m     filtered_tb \u001b[38;5;241m=\u001b[39m _process_traceback_frames(e\u001b[38;5;241m.\u001b[39m__traceback__)\n",
      "File \u001b[0;32m/opt/homebrew/lib/python3.11/site-packages/keras/src/engine/training.py:1807\u001b[0m, in \u001b[0;36mModel.fit\u001b[0;34m(self, x, y, batch_size, epochs, verbose, callbacks, validation_split, validation_data, shuffle, class_weight, sample_weight, initial_epoch, steps_per_epoch, validation_steps, validation_batch_size, validation_freq, max_queue_size, workers, use_multiprocessing)\u001b[0m\n\u001b[1;32m   1799\u001b[0m \u001b[38;5;28;01mwith\u001b[39;00m tf\u001b[38;5;241m.\u001b[39mprofiler\u001b[38;5;241m.\u001b[39mexperimental\u001b[38;5;241m.\u001b[39mTrace(\n\u001b[1;32m   1800\u001b[0m     \u001b[38;5;124m\"\u001b[39m\u001b[38;5;124mtrain\u001b[39m\u001b[38;5;124m\"\u001b[39m,\n\u001b[1;32m   1801\u001b[0m     epoch_num\u001b[38;5;241m=\u001b[39mepoch,\n\u001b[0;32m   (...)\u001b[0m\n\u001b[1;32m   1804\u001b[0m     _r\u001b[38;5;241m=\u001b[39m\u001b[38;5;241m1\u001b[39m,\n\u001b[1;32m   1805\u001b[0m ):\n\u001b[1;32m   1806\u001b[0m     callbacks\u001b[38;5;241m.\u001b[39mon_train_batch_begin(step)\n\u001b[0;32m-> 1807\u001b[0m     tmp_logs \u001b[38;5;241m=\u001b[39m \u001b[38;5;28;43mself\u001b[39;49m\u001b[38;5;241;43m.\u001b[39;49m\u001b[43mtrain_function\u001b[49m\u001b[43m(\u001b[49m\u001b[43miterator\u001b[49m\u001b[43m)\u001b[49m\n\u001b[1;32m   1808\u001b[0m     \u001b[38;5;28;01mif\u001b[39;00m data_handler\u001b[38;5;241m.\u001b[39mshould_sync:\n\u001b[1;32m   1809\u001b[0m         context\u001b[38;5;241m.\u001b[39masync_wait()\n",
      "File \u001b[0;32m/opt/homebrew/lib/python3.11/site-packages/tensorflow/python/util/traceback_utils.py:150\u001b[0m, in \u001b[0;36mfilter_traceback.<locals>.error_handler\u001b[0;34m(*args, **kwargs)\u001b[0m\n\u001b[1;32m    148\u001b[0m filtered_tb \u001b[38;5;241m=\u001b[39m \u001b[38;5;28;01mNone\u001b[39;00m\n\u001b[1;32m    149\u001b[0m \u001b[38;5;28;01mtry\u001b[39;00m:\n\u001b[0;32m--> 150\u001b[0m   \u001b[38;5;28;01mreturn\u001b[39;00m \u001b[43mfn\u001b[49m\u001b[43m(\u001b[49m\u001b[38;5;241;43m*\u001b[39;49m\u001b[43margs\u001b[49m\u001b[43m,\u001b[49m\u001b[43m \u001b[49m\u001b[38;5;241;43m*\u001b[39;49m\u001b[38;5;241;43m*\u001b[39;49m\u001b[43mkwargs\u001b[49m\u001b[43m)\u001b[49m\n\u001b[1;32m    151\u001b[0m \u001b[38;5;28;01mexcept\u001b[39;00m \u001b[38;5;167;01mException\u001b[39;00m \u001b[38;5;28;01mas\u001b[39;00m e:\n\u001b[1;32m    152\u001b[0m   filtered_tb \u001b[38;5;241m=\u001b[39m _process_traceback_frames(e\u001b[38;5;241m.\u001b[39m__traceback__)\n",
      "File \u001b[0;32m/opt/homebrew/lib/python3.11/site-packages/tensorflow/python/eager/polymorphic_function/polymorphic_function.py:832\u001b[0m, in \u001b[0;36mFunction.__call__\u001b[0;34m(self, *args, **kwds)\u001b[0m\n\u001b[1;32m    829\u001b[0m compiler \u001b[38;5;241m=\u001b[39m \u001b[38;5;124m\"\u001b[39m\u001b[38;5;124mxla\u001b[39m\u001b[38;5;124m\"\u001b[39m \u001b[38;5;28;01mif\u001b[39;00m \u001b[38;5;28mself\u001b[39m\u001b[38;5;241m.\u001b[39m_jit_compile \u001b[38;5;28;01melse\u001b[39;00m \u001b[38;5;124m\"\u001b[39m\u001b[38;5;124mnonXla\u001b[39m\u001b[38;5;124m\"\u001b[39m\n\u001b[1;32m    831\u001b[0m \u001b[38;5;28;01mwith\u001b[39;00m OptionalXlaContext(\u001b[38;5;28mself\u001b[39m\u001b[38;5;241m.\u001b[39m_jit_compile):\n\u001b[0;32m--> 832\u001b[0m   result \u001b[38;5;241m=\u001b[39m \u001b[38;5;28;43mself\u001b[39;49m\u001b[38;5;241;43m.\u001b[39;49m\u001b[43m_call\u001b[49m\u001b[43m(\u001b[49m\u001b[38;5;241;43m*\u001b[39;49m\u001b[43margs\u001b[49m\u001b[43m,\u001b[49m\u001b[43m \u001b[49m\u001b[38;5;241;43m*\u001b[39;49m\u001b[38;5;241;43m*\u001b[39;49m\u001b[43mkwds\u001b[49m\u001b[43m)\u001b[49m\n\u001b[1;32m    834\u001b[0m new_tracing_count \u001b[38;5;241m=\u001b[39m \u001b[38;5;28mself\u001b[39m\u001b[38;5;241m.\u001b[39mexperimental_get_tracing_count()\n\u001b[1;32m    835\u001b[0m without_tracing \u001b[38;5;241m=\u001b[39m (tracing_count \u001b[38;5;241m==\u001b[39m new_tracing_count)\n",
      "File \u001b[0;32m/opt/homebrew/lib/python3.11/site-packages/tensorflow/python/eager/polymorphic_function/polymorphic_function.py:868\u001b[0m, in \u001b[0;36mFunction._call\u001b[0;34m(self, *args, **kwds)\u001b[0m\n\u001b[1;32m    865\u001b[0m   \u001b[38;5;28mself\u001b[39m\u001b[38;5;241m.\u001b[39m_lock\u001b[38;5;241m.\u001b[39mrelease()\n\u001b[1;32m    866\u001b[0m   \u001b[38;5;66;03m# In this case we have created variables on the first call, so we run the\u001b[39;00m\n\u001b[1;32m    867\u001b[0m   \u001b[38;5;66;03m# defunned version which is guaranteed to never create variables.\u001b[39;00m\n\u001b[0;32m--> 868\u001b[0m   \u001b[38;5;28;01mreturn\u001b[39;00m \u001b[43mtracing_compilation\u001b[49m\u001b[38;5;241;43m.\u001b[39;49m\u001b[43mcall_function\u001b[49m\u001b[43m(\u001b[49m\n\u001b[1;32m    869\u001b[0m \u001b[43m      \u001b[49m\u001b[43margs\u001b[49m\u001b[43m,\u001b[49m\u001b[43m \u001b[49m\u001b[43mkwds\u001b[49m\u001b[43m,\u001b[49m\u001b[43m \u001b[49m\u001b[38;5;28;43mself\u001b[39;49m\u001b[38;5;241;43m.\u001b[39;49m\u001b[43m_no_variable_creation_config\u001b[49m\n\u001b[1;32m    870\u001b[0m \u001b[43m  \u001b[49m\u001b[43m)\u001b[49m\n\u001b[1;32m    871\u001b[0m \u001b[38;5;28;01melif\u001b[39;00m \u001b[38;5;28mself\u001b[39m\u001b[38;5;241m.\u001b[39m_variable_creation_config \u001b[38;5;129;01mis\u001b[39;00m \u001b[38;5;129;01mnot\u001b[39;00m \u001b[38;5;28;01mNone\u001b[39;00m:\n\u001b[1;32m    872\u001b[0m   \u001b[38;5;66;03m# Release the lock early so that multiple threads can perform the call\u001b[39;00m\n\u001b[1;32m    873\u001b[0m   \u001b[38;5;66;03m# in parallel.\u001b[39;00m\n\u001b[1;32m    874\u001b[0m   \u001b[38;5;28mself\u001b[39m\u001b[38;5;241m.\u001b[39m_lock\u001b[38;5;241m.\u001b[39mrelease()\n",
      "File \u001b[0;32m/opt/homebrew/lib/python3.11/site-packages/tensorflow/python/eager/polymorphic_function/tracing_compilation.py:139\u001b[0m, in \u001b[0;36mcall_function\u001b[0;34m(args, kwargs, tracing_options)\u001b[0m\n\u001b[1;32m    137\u001b[0m bound_args \u001b[38;5;241m=\u001b[39m function\u001b[38;5;241m.\u001b[39mfunction_type\u001b[38;5;241m.\u001b[39mbind(\u001b[38;5;241m*\u001b[39margs, \u001b[38;5;241m*\u001b[39m\u001b[38;5;241m*\u001b[39mkwargs)\n\u001b[1;32m    138\u001b[0m flat_inputs \u001b[38;5;241m=\u001b[39m function\u001b[38;5;241m.\u001b[39mfunction_type\u001b[38;5;241m.\u001b[39munpack_inputs(bound_args)\n\u001b[0;32m--> 139\u001b[0m \u001b[38;5;28;01mreturn\u001b[39;00m \u001b[43mfunction\u001b[49m\u001b[38;5;241;43m.\u001b[39;49m\u001b[43m_call_flat\u001b[49m\u001b[43m(\u001b[49m\u001b[43m  \u001b[49m\u001b[38;5;66;43;03m# pylint: disable=protected-access\u001b[39;49;00m\n\u001b[1;32m    140\u001b[0m \u001b[43m    \u001b[49m\u001b[43mflat_inputs\u001b[49m\u001b[43m,\u001b[49m\u001b[43m \u001b[49m\u001b[43mcaptured_inputs\u001b[49m\u001b[38;5;241;43m=\u001b[39;49m\u001b[43mfunction\u001b[49m\u001b[38;5;241;43m.\u001b[39;49m\u001b[43mcaptured_inputs\u001b[49m\n\u001b[1;32m    141\u001b[0m \u001b[43m\u001b[49m\u001b[43m)\u001b[49m\n",
      "File \u001b[0;32m/opt/homebrew/lib/python3.11/site-packages/tensorflow/python/eager/polymorphic_function/concrete_function.py:1323\u001b[0m, in \u001b[0;36mConcreteFunction._call_flat\u001b[0;34m(self, tensor_inputs, captured_inputs)\u001b[0m\n\u001b[1;32m   1319\u001b[0m possible_gradient_type \u001b[38;5;241m=\u001b[39m gradients_util\u001b[38;5;241m.\u001b[39mPossibleTapeGradientTypes(args)\n\u001b[1;32m   1320\u001b[0m \u001b[38;5;28;01mif\u001b[39;00m (possible_gradient_type \u001b[38;5;241m==\u001b[39m gradients_util\u001b[38;5;241m.\u001b[39mPOSSIBLE_GRADIENT_TYPES_NONE\n\u001b[1;32m   1321\u001b[0m     \u001b[38;5;129;01mand\u001b[39;00m executing_eagerly):\n\u001b[1;32m   1322\u001b[0m   \u001b[38;5;66;03m# No tape is watching; skip to running the function.\u001b[39;00m\n\u001b[0;32m-> 1323\u001b[0m   \u001b[38;5;28;01mreturn\u001b[39;00m \u001b[38;5;28;43mself\u001b[39;49m\u001b[38;5;241;43m.\u001b[39;49m\u001b[43m_inference_function\u001b[49m\u001b[38;5;241;43m.\u001b[39;49m\u001b[43mcall_preflattened\u001b[49m\u001b[43m(\u001b[49m\u001b[43margs\u001b[49m\u001b[43m)\u001b[49m\n\u001b[1;32m   1324\u001b[0m forward_backward \u001b[38;5;241m=\u001b[39m \u001b[38;5;28mself\u001b[39m\u001b[38;5;241m.\u001b[39m_select_forward_and_backward_functions(\n\u001b[1;32m   1325\u001b[0m     args,\n\u001b[1;32m   1326\u001b[0m     possible_gradient_type,\n\u001b[1;32m   1327\u001b[0m     executing_eagerly)\n\u001b[1;32m   1328\u001b[0m forward_function, args_with_tangents \u001b[38;5;241m=\u001b[39m forward_backward\u001b[38;5;241m.\u001b[39mforward()\n",
      "File \u001b[0;32m/opt/homebrew/lib/python3.11/site-packages/tensorflow/python/eager/polymorphic_function/atomic_function.py:216\u001b[0m, in \u001b[0;36mAtomicFunction.call_preflattened\u001b[0;34m(self, args)\u001b[0m\n\u001b[1;32m    214\u001b[0m \u001b[38;5;28;01mdef\u001b[39;00m \u001b[38;5;21mcall_preflattened\u001b[39m(\u001b[38;5;28mself\u001b[39m, args: Sequence[core\u001b[38;5;241m.\u001b[39mTensor]) \u001b[38;5;241m-\u001b[39m\u001b[38;5;241m>\u001b[39m Any:\n\u001b[1;32m    215\u001b[0m \u001b[38;5;250m  \u001b[39m\u001b[38;5;124;03m\"\"\"Calls with flattened tensor inputs and returns the structured output.\"\"\"\u001b[39;00m\n\u001b[0;32m--> 216\u001b[0m   flat_outputs \u001b[38;5;241m=\u001b[39m \u001b[38;5;28;43mself\u001b[39;49m\u001b[38;5;241;43m.\u001b[39;49m\u001b[43mcall_flat\u001b[49m\u001b[43m(\u001b[49m\u001b[38;5;241;43m*\u001b[39;49m\u001b[43margs\u001b[49m\u001b[43m)\u001b[49m\n\u001b[1;32m    217\u001b[0m   \u001b[38;5;28;01mreturn\u001b[39;00m \u001b[38;5;28mself\u001b[39m\u001b[38;5;241m.\u001b[39mfunction_type\u001b[38;5;241m.\u001b[39mpack_output(flat_outputs)\n",
      "File \u001b[0;32m/opt/homebrew/lib/python3.11/site-packages/tensorflow/python/eager/polymorphic_function/atomic_function.py:251\u001b[0m, in \u001b[0;36mAtomicFunction.call_flat\u001b[0;34m(self, *args)\u001b[0m\n\u001b[1;32m    249\u001b[0m \u001b[38;5;28;01mwith\u001b[39;00m record\u001b[38;5;241m.\u001b[39mstop_recording():\n\u001b[1;32m    250\u001b[0m   \u001b[38;5;28;01mif\u001b[39;00m \u001b[38;5;28mself\u001b[39m\u001b[38;5;241m.\u001b[39m_bound_context\u001b[38;5;241m.\u001b[39mexecuting_eagerly():\n\u001b[0;32m--> 251\u001b[0m     outputs \u001b[38;5;241m=\u001b[39m \u001b[38;5;28;43mself\u001b[39;49m\u001b[38;5;241;43m.\u001b[39;49m\u001b[43m_bound_context\u001b[49m\u001b[38;5;241;43m.\u001b[39;49m\u001b[43mcall_function\u001b[49m\u001b[43m(\u001b[49m\n\u001b[1;32m    252\u001b[0m \u001b[43m        \u001b[49m\u001b[38;5;28;43mself\u001b[39;49m\u001b[38;5;241;43m.\u001b[39;49m\u001b[43mname\u001b[49m\u001b[43m,\u001b[49m\n\u001b[1;32m    253\u001b[0m \u001b[43m        \u001b[49m\u001b[38;5;28;43mlist\u001b[39;49m\u001b[43m(\u001b[49m\u001b[43margs\u001b[49m\u001b[43m)\u001b[49m\u001b[43m,\u001b[49m\n\u001b[1;32m    254\u001b[0m \u001b[43m        \u001b[49m\u001b[38;5;28;43mlen\u001b[39;49m\u001b[43m(\u001b[49m\u001b[38;5;28;43mself\u001b[39;49m\u001b[38;5;241;43m.\u001b[39;49m\u001b[43mfunction_type\u001b[49m\u001b[38;5;241;43m.\u001b[39;49m\u001b[43mflat_outputs\u001b[49m\u001b[43m)\u001b[49m\u001b[43m,\u001b[49m\n\u001b[1;32m    255\u001b[0m \u001b[43m    \u001b[49m\u001b[43m)\u001b[49m\n\u001b[1;32m    256\u001b[0m   \u001b[38;5;28;01melse\u001b[39;00m:\n\u001b[1;32m    257\u001b[0m     outputs \u001b[38;5;241m=\u001b[39m make_call_op_in_graph(\n\u001b[1;32m    258\u001b[0m         \u001b[38;5;28mself\u001b[39m,\n\u001b[1;32m    259\u001b[0m         \u001b[38;5;28mlist\u001b[39m(args),\n\u001b[1;32m    260\u001b[0m         \u001b[38;5;28mself\u001b[39m\u001b[38;5;241m.\u001b[39m_bound_context\u001b[38;5;241m.\u001b[39mfunction_call_options\u001b[38;5;241m.\u001b[39mas_attrs(),\n\u001b[1;32m    261\u001b[0m     )\n",
      "File \u001b[0;32m/opt/homebrew/lib/python3.11/site-packages/tensorflow/python/eager/context.py:1486\u001b[0m, in \u001b[0;36mContext.call_function\u001b[0;34m(self, name, tensor_inputs, num_outputs)\u001b[0m\n\u001b[1;32m   1484\u001b[0m cancellation_context \u001b[38;5;241m=\u001b[39m cancellation\u001b[38;5;241m.\u001b[39mcontext()\n\u001b[1;32m   1485\u001b[0m \u001b[38;5;28;01mif\u001b[39;00m cancellation_context \u001b[38;5;129;01mis\u001b[39;00m \u001b[38;5;28;01mNone\u001b[39;00m:\n\u001b[0;32m-> 1486\u001b[0m   outputs \u001b[38;5;241m=\u001b[39m \u001b[43mexecute\u001b[49m\u001b[38;5;241;43m.\u001b[39;49m\u001b[43mexecute\u001b[49m\u001b[43m(\u001b[49m\n\u001b[1;32m   1487\u001b[0m \u001b[43m      \u001b[49m\u001b[43mname\u001b[49m\u001b[38;5;241;43m.\u001b[39;49m\u001b[43mdecode\u001b[49m\u001b[43m(\u001b[49m\u001b[38;5;124;43m\"\u001b[39;49m\u001b[38;5;124;43mutf-8\u001b[39;49m\u001b[38;5;124;43m\"\u001b[39;49m\u001b[43m)\u001b[49m\u001b[43m,\u001b[49m\n\u001b[1;32m   1488\u001b[0m \u001b[43m      \u001b[49m\u001b[43mnum_outputs\u001b[49m\u001b[38;5;241;43m=\u001b[39;49m\u001b[43mnum_outputs\u001b[49m\u001b[43m,\u001b[49m\n\u001b[1;32m   1489\u001b[0m \u001b[43m      \u001b[49m\u001b[43minputs\u001b[49m\u001b[38;5;241;43m=\u001b[39;49m\u001b[43mtensor_inputs\u001b[49m\u001b[43m,\u001b[49m\n\u001b[1;32m   1490\u001b[0m \u001b[43m      \u001b[49m\u001b[43mattrs\u001b[49m\u001b[38;5;241;43m=\u001b[39;49m\u001b[43mattrs\u001b[49m\u001b[43m,\u001b[49m\n\u001b[1;32m   1491\u001b[0m \u001b[43m      \u001b[49m\u001b[43mctx\u001b[49m\u001b[38;5;241;43m=\u001b[39;49m\u001b[38;5;28;43mself\u001b[39;49m\u001b[43m,\u001b[49m\n\u001b[1;32m   1492\u001b[0m \u001b[43m  \u001b[49m\u001b[43m)\u001b[49m\n\u001b[1;32m   1493\u001b[0m \u001b[38;5;28;01melse\u001b[39;00m:\n\u001b[1;32m   1494\u001b[0m   outputs \u001b[38;5;241m=\u001b[39m execute\u001b[38;5;241m.\u001b[39mexecute_with_cancellation(\n\u001b[1;32m   1495\u001b[0m       name\u001b[38;5;241m.\u001b[39mdecode(\u001b[38;5;124m\"\u001b[39m\u001b[38;5;124mutf-8\u001b[39m\u001b[38;5;124m\"\u001b[39m),\n\u001b[1;32m   1496\u001b[0m       num_outputs\u001b[38;5;241m=\u001b[39mnum_outputs,\n\u001b[0;32m   (...)\u001b[0m\n\u001b[1;32m   1500\u001b[0m       cancellation_manager\u001b[38;5;241m=\u001b[39mcancellation_context,\n\u001b[1;32m   1501\u001b[0m   )\n",
      "File \u001b[0;32m/opt/homebrew/lib/python3.11/site-packages/tensorflow/python/eager/execute.py:53\u001b[0m, in \u001b[0;36mquick_execute\u001b[0;34m(op_name, num_outputs, inputs, attrs, ctx, name)\u001b[0m\n\u001b[1;32m     51\u001b[0m \u001b[38;5;28;01mtry\u001b[39;00m:\n\u001b[1;32m     52\u001b[0m   ctx\u001b[38;5;241m.\u001b[39mensure_initialized()\n\u001b[0;32m---> 53\u001b[0m   tensors \u001b[38;5;241m=\u001b[39m \u001b[43mpywrap_tfe\u001b[49m\u001b[38;5;241;43m.\u001b[39;49m\u001b[43mTFE_Py_Execute\u001b[49m\u001b[43m(\u001b[49m\u001b[43mctx\u001b[49m\u001b[38;5;241;43m.\u001b[39;49m\u001b[43m_handle\u001b[49m\u001b[43m,\u001b[49m\u001b[43m \u001b[49m\u001b[43mdevice_name\u001b[49m\u001b[43m,\u001b[49m\u001b[43m \u001b[49m\u001b[43mop_name\u001b[49m\u001b[43m,\u001b[49m\n\u001b[1;32m     54\u001b[0m \u001b[43m                                      \u001b[49m\u001b[43minputs\u001b[49m\u001b[43m,\u001b[49m\u001b[43m \u001b[49m\u001b[43mattrs\u001b[49m\u001b[43m,\u001b[49m\u001b[43m \u001b[49m\u001b[43mnum_outputs\u001b[49m\u001b[43m)\u001b[49m\n\u001b[1;32m     55\u001b[0m \u001b[38;5;28;01mexcept\u001b[39;00m core\u001b[38;5;241m.\u001b[39m_NotOkStatusException \u001b[38;5;28;01mas\u001b[39;00m e:\n\u001b[1;32m     56\u001b[0m   \u001b[38;5;28;01mif\u001b[39;00m name \u001b[38;5;129;01mis\u001b[39;00m \u001b[38;5;129;01mnot\u001b[39;00m \u001b[38;5;28;01mNone\u001b[39;00m:\n",
      "\u001b[0;31mKeyboardInterrupt\u001b[0m: "
     ]
    }
   ],
   "source": [
    "# ---- DESCRIPTION OF THE INPUT DATA ----\n",
    "# X_train shape: (num_samples, 32, 128, 1)\n",
    "# y_train shape: (num_samples, max(len(words)),len(vocabulary))\n",
    "# example of a X_train value: matrix of 32x128 with values between 0 and 1\n",
    "# example of a y_train value: matrix of 17x63 with values between 0 and 1. first column is the padding, the rest are the one-hot encoded values of the transcription\n",
    "\n",
    "from keras.models import Sequential\n",
    "from keras.layers import Conv2D, MaxPooling2D, Flatten, Dense, Dropout\n",
    "from keras.layers import Reshape\n",
    "\n",
    "def create_cnn_model(input_shape, num_classes, sequence_length):\n",
    "    model = Sequential([\n",
    "        Conv2D(32, (3, 3), activation='relu', input_shape=input_shape),\n",
    "        MaxPooling2D(pool_size=(2, 2)),\n",
    "        \n",
    "        Conv2D(64, (3, 3), activation='relu'),\n",
    "        MaxPooling2D(pool_size=(2, 2)),\n",
    "        \n",
    "        Conv2D(128, (3, 3), activation='relu'),\n",
    "        MaxPooling2D(pool_size=(2, 2)),\n",
    "        \n",
    "        Flatten(),\n",
    "        \n",
    "        Dense(256, activation='relu'),\n",
    "        Dropout(0.5),\n",
    "        \n",
    "        Dense(sequence_length * num_classes, activation='softmax'),\n",
    "        Reshape((sequence_length, num_classes))\n",
    "\n",
    "\n",
    "    ])\n",
    "    \n",
    "    model.compile(optimizer=tf.keras.optimizers.Adam(learning_rate=0.001),\n",
    "                  loss='categorical_crossentropy',\n",
    "                  metrics=['accuracy'])\n",
    "    return model\n",
    "\n",
    "create_cnn_model(input_shape=(32, 128, 1), num_classes=len(vocabulary)+1, sequence_length=17).summary()\n",
    "\n",
    "\n",
    "from keras.callbacks import EarlyStopping\n",
    "\n",
    "from tensorflow.keras.callbacks import EarlyStopping, ModelCheckpoint\n",
    "\n",
    "# Stop training when there is no improvement in the validation loss for 3 consecutive epochs\n",
    "early_stopping = EarlyStopping(monitor='val_loss', patience=3)\n",
    "\n",
    "# Save the best model during the training\n",
    "best_model_path = 'best_model_word.h5'  \n",
    "model_checkpoint = ModelCheckpoint(best_model_path, \n",
    "                                   monitor='val_loss', \n",
    "                                   save_best_only=True, \n",
    "                                   verbose=1)\n",
    "\n",
    "# Assume create_cnn_model is a function you've defined to create your model\n",
    "model = create_cnn_model(input_shape=(32, 128, 1), num_classes=len(vocabulary)+1, sequence_length=17)\n",
    "\n",
    "history = model.fit(\n",
    "    X_train, y_train,\n",
    "    validation_data=(X_val, y_val),  # replace with your validation data\n",
    "    epochs=50,  # Set a high number because early stopping will halt the training\n",
    "    batch_size=32,  # Adjust based on your data and computing resources\n",
    "    callbacks=[early_stopping, model_checkpoint]  # Add the model checkpoint callback here\n",
    ")\n"
   ]
  },
  {
   "cell_type": "code",
   "execution_count": 617,
   "metadata": {},
   "outputs": [
    {
     "data": {
      "image/png": "[encoded data removed]",
      "text/plain": [
       "<Figure size 640x480 with 1 Axes>"
      ]
     },
     "metadata": {},
     "output_type": "display_data"
    },
    {
     "data": {
      "image/png": "[encoded data removed]",
      "text/plain": [
       "<Figure size 640x480 with 1 Axes>"
      ]
     },
     "metadata": {},
     "output_type": "display_data"
    }
   ],
   "source": [
    "plot_history(history)"
   ]
  },
  {
   "cell_type": "markdown",
   "metadata": {},
   "source": [
    "#### Test"
   ]
  },
  {
   "cell_type": "code",
   "execution_count": 630,
   "metadata": {},
   "outputs": [
    {
     "name": "stdout",
     "output_type": "stream",
     "text": [
      "305/305 [==============================] - 2s 8ms/step\n"
     ]
    }
   ],
   "source": [
    "import numpy as np\n",
    "\n",
    "\n",
    "# now that the model is trained, let's make predictions on the test set\n",
    "# first, load the model best_model.h5\n",
    "from keras.models import load_model\n",
    "model = load_model('best_model_word.h5')\n",
    "\n",
    "# make predictions on the test set\n",
    "predictions = model.predict(X_test)\n",
    "\n",
    "def decode_predictions(predictions, num_to_char):\n",
    "    predicted_words = []\n",
    "    \n",
    "    for prediction in predictions:\n",
    "        # Convert prediction probabilities to character indices\n",
    "        char_indices = np.argmax(prediction, axis=-1)\n",
    "        \n",
    "        # Decode indices to characters\n",
    "        decoded_chars = [num_to_char.get(idx, '') for idx in char_indices]\n",
    "        \n",
    "        # Convert sequence of characters to a single word\n",
    "        decoded_word = ''.join(decoded_chars).rstrip(num_to_char.get(0, ''))\n",
    "        \n",
    "        # Append the decoded word to the list\n",
    "        predicted_words.append(decoded_word)\n",
    "    \n",
    "    return predicted_words\n",
    "\n",
    "num_to_char = {idx: char for char, idx in char_to_num.items()}\n",
    "\n",
    "predicted_words = decode_predictions(predictions, num_to_char)"
   ]
  },
  {
   "cell_type": "code",
   "execution_count": 633,
   "metadata": {},
   "outputs": [
    {
     "name": "stdout",
     "output_type": "stream",
     "text": [
      "(9738, 17, 63)\n"
     ]
    }
   ],
   "source": [
    "print(predictions.shape)"
   ]
  },
  {
   "cell_type": "code",
   "execution_count": 634,
   "metadata": {},
   "outputs": [
    {
     "name": "stdout",
     "output_type": "stream",
     "text": [
      "(9738, 17, 63)\n"
     ]
    }
   ],
   "source": [
    "print(y_test.shape)"
   ]
  },
  {
   "cell_type": "code",
   "execution_count": 653,
   "metadata": {},
   "outputs": [
    {
     "name": "stdout",
     "output_type": "stream",
     "text": [
      "              WordID predicted        real  \\\n",
      "0      g04-095-07-07        in          in   \n",
      "1      g07-065-01-00       for         for   \n",
      "2      j07-009-00-00      This        This   \n",
      "3     g06-031r-05-00   Conmons     Commons   \n",
      "4      a03-073-08-07       the         the   \n",
      "...              ...       ...         ...   \n",
      "9733  g06-026a-05-03       the         the   \n",
      "9734  h07-025a-09-00       man       areas   \n",
      "9735   d04-121-04-04    cereer  MANISHTANO   \n",
      "9736  g06-047f-01-09       wer        more   \n",
      "9737   m03-114-07-01      taie      tribes   \n",
      "\n",
      "                                              ImageData  correct  \n",
      "0     [[[0.0], [0.0], [0.0], [0.0], [0.0], [0.0], [0...        1  \n",
      "1     [[[0.0], [0.0], [0.0], [0.0], [0.0], [0.0], [0...        1  \n",
      "2     [[[0.0], [0.0], [0.0], [0.0], [0.0], [0.0], [0...        1  \n",
      "3     [[[0.0], [0.0], [0.0], [0.0], [0.0], [0.0], [0...        0  \n",
      "4     [[[0.0], [0.0], [0.0], [0.0], [0.0], [0.0], [0...        1  \n",
      "...                                                 ...      ...  \n",
      "9733  [[[0.0], [0.0], [0.0], [0.0], [0.0], [0.0], [0...        1  \n",
      "9734  [[[0.0], [0.0], [0.0], [1.0], [1.0], [1.0], [1...        0  \n",
      "9735  [[[0.0], [0.0], [0.0], [0.0], [0.0], [0.0], [0...        0  \n",
      "9736  [[[0.0], [0.0], [0.0], [0.0], [0.0], [0.0], [0...        0  \n",
      "9737  [[[0.0], [0.0], [0.0], [0.0], [0.0], [0.0], [0...        0  \n",
      "\n",
      "[9738 rows x 5 columns]\n"
     ]
    }
   ],
   "source": [
    "import pandas as pd\n",
    "\n",
    "def decode_y(y, num_to_char):\n",
    "    # Decoding the one-hot encoded y_test to characters\n",
    "    decoded_words = []\n",
    "    for sample in y:\n",
    "        char_indices = np.argmax(sample, axis=-1)\n",
    "        decoded_chars = [num_to_char.get(idx, '') for idx in char_indices]\n",
    "        decoded_word = ''.join(decoded_chars).rstrip(num_to_char.get(0, ''))\n",
    "        decoded_words.append(decoded_word)\n",
    "    return decoded_words\n",
    "\n",
    "# Get the indices for the test set\n",
    "test_indices = range(int(len(df) * (TRAIN_SPLIT + VAL_SPLIT)), len(df))\n",
    "\n",
    "# Ensure that the lengths of your test labels and indices match\n",
    "assert len(test_indices) == len(y_test), \"Mismatch in test set size and actual labels\"\n",
    "\n",
    "# Extract WordIDs and ImgageData for the test set using the correct indices\n",
    "test_word_ids = df.iloc[test_indices]['WordID'].values\n",
    "test_img_data = df.iloc[test_indices]['ImageData'].values\n",
    "\n",
    "\n",
    "# Assuming y_test is already one-hot encoded and you have a num_to_char dictionary\n",
    "real_words = decode_y(y_test, num_to_char)\n",
    "\n",
    "# Assuming you have a 'WordID' column in your initial dataframe (df)\n",
    "results = pd.DataFrame({\n",
    "    'WordID': test_word_ids,\n",
    "    'predicted': predicted_words,\n",
    "    'real': real_words,\n",
    "    'ImageData': test_img_data \n",
    "})\n",
    "\n",
    "# Calculate the 'correct' column (1 if the predicted word matches the real word, 0 otherwise)\n",
    "results['correct'] = (results['predicted'] == results['real']).astype(int)"
   ]
  },
  {
   "cell_type": "code",
   "execution_count": 658,
   "metadata": {},
   "outputs": [
    {
     "data": {
      "text/html": [
       "<div>\n",
       "<style scoped>\n",
       "    .dataframe tbody tr th:only-of-type {\n",
       "        vertical-align: middle;\n",
       "    }\n",
       "\n",
       "    .dataframe tbody tr th {\n",
       "        vertical-align: top;\n",
       "    }\n",
       "\n",
       "    .dataframe thead th {\n",
       "        text-align: right;\n",
       "    }\n",
       "</style>\n",
       "<table border=\"1\" class=\"dataframe\">\n",
       "  <thead>\n",
       "    <tr style=\"text-align: right;\">\n",
       "      <th></th>\n",
       "      <th>WordID</th>\n",
       "      <th>predicted</th>\n",
       "      <th>real</th>\n",
       "      <th>ImageData</th>\n",
       "      <th>correct</th>\n",
       "    </tr>\n",
       "  </thead>\n",
       "  <tbody>\n",
       "    <tr>\n",
       "      <th>0</th>\n",
       "      <td>g04-095-07-07</td>\n",
       "      <td>in</td>\n",
       "      <td>in</td>\n",
       "      <td>[[[0.0], [0.0], [0.0], [0.0], [0.0], [0.0], [0...</td>\n",
       "      <td>1</td>\n",
       "    </tr>\n",
       "    <tr>\n",
       "      <th>1</th>\n",
       "      <td>g07-065-01-00</td>\n",
       "      <td>for</td>\n",
       "      <td>for</td>\n",
       "      <td>[[[0.0], [0.0], [0.0], [0.0], [0.0], [0.0], [0...</td>\n",
       "      <td>1</td>\n",
       "    </tr>\n",
       "    <tr>\n",
       "      <th>2</th>\n",
       "      <td>j07-009-00-00</td>\n",
       "      <td>This</td>\n",
       "      <td>This</td>\n",
       "      <td>[[[0.0], [0.0], [0.0], [0.0], [0.0], [0.0], [0...</td>\n",
       "      <td>1</td>\n",
       "    </tr>\n",
       "    <tr>\n",
       "      <th>3</th>\n",
       "      <td>g06-031r-05-00</td>\n",
       "      <td>Conmons</td>\n",
       "      <td>Commons</td>\n",
       "      <td>[[[0.0], [0.0], [0.0], [0.0], [0.0], [0.0], [0...</td>\n",
       "      <td>0</td>\n",
       "    </tr>\n",
       "    <tr>\n",
       "      <th>4</th>\n",
       "      <td>a03-073-08-07</td>\n",
       "      <td>the</td>\n",
       "      <td>the</td>\n",
       "      <td>[[[0.0], [0.0], [0.0], [0.0], [0.0], [0.0], [0...</td>\n",
       "      <td>1</td>\n",
       "    </tr>\n",
       "    <tr>\n",
       "      <th>5</th>\n",
       "      <td>d06-011-02-01</td>\n",
       "      <td>is</td>\n",
       "      <td>is</td>\n",
       "      <td>[[[0.0], [0.0], [0.0], [0.0], [0.0], [0.0], [0...</td>\n",
       "      <td>1</td>\n",
       "    </tr>\n",
       "    <tr>\n",
       "      <th>6</th>\n",
       "      <td>a05-080-05-07</td>\n",
       "      <td>That</td>\n",
       "      <td>That</td>\n",
       "      <td>[[[0.0], [0.0], [0.0], [0.0], [0.0], [0.0], [0...</td>\n",
       "      <td>1</td>\n",
       "    </tr>\n",
       "    <tr>\n",
       "      <th>7</th>\n",
       "      <td>e01-107-06-08</td>\n",
       "      <td>whe</td>\n",
       "      <td>When</td>\n",
       "      <td>[[[0.0], [0.0], [0.0], [0.0], [0.0], [0.0], [0...</td>\n",
       "      <td>0</td>\n",
       "    </tr>\n",
       "    <tr>\n",
       "      <th>8</th>\n",
       "      <td>p02-022-05-06</td>\n",
       "      <td>aayng</td>\n",
       "      <td>knowing</td>\n",
       "      <td>[[[0.0], [0.0], [0.0], [0.0], [0.0], [0.0], [0...</td>\n",
       "      <td>0</td>\n",
       "    </tr>\n",
       "    <tr>\n",
       "      <th>9</th>\n",
       "      <td>p02-105-02-10</td>\n",
       "      <td>a</td>\n",
       "      <td>a</td>\n",
       "      <td>[[[0.0], [0.0], [0.0], [0.0], [0.0], [0.0], [0...</td>\n",
       "      <td>1</td>\n",
       "    </tr>\n",
       "    <tr>\n",
       "      <th>10</th>\n",
       "      <td>l07-176-02-10</td>\n",
       "      <td>as</td>\n",
       "      <td>as</td>\n",
       "      <td>[[[0.0], [0.0], [0.0], [0.0], [0.0], [0.0], [0...</td>\n",
       "      <td>1</td>\n",
       "    </tr>\n",
       "    <tr>\n",
       "      <th>11</th>\n",
       "      <td>f07-069-04-02</td>\n",
       "      <td>iss</td>\n",
       "      <td>its</td>\n",
       "      <td>[[[0.0], [0.0], [0.0], [0.0], [0.0], [0.0], [0...</td>\n",
       "      <td>0</td>\n",
       "    </tr>\n",
       "    <tr>\n",
       "      <th>12</th>\n",
       "      <td>n06-092-07-00</td>\n",
       "      <td>wainin</td>\n",
       "      <td>working</td>\n",
       "      <td>[[[0.0], [0.0], [0.0], [0.0], [0.0], [0.0], [0...</td>\n",
       "      <td>0</td>\n",
       "    </tr>\n",
       "    <tr>\n",
       "      <th>13</th>\n",
       "      <td>c03-094d-04-01</td>\n",
       "      <td>shouee</td>\n",
       "      <td>abashed</td>\n",
       "      <td>[[[0.0], [0.0], [0.0], [0.0], [0.0], [0.0], [0...</td>\n",
       "      <td>0</td>\n",
       "    </tr>\n",
       "    <tr>\n",
       "      <th>14</th>\n",
       "      <td>h07-040b-10-02</td>\n",
       "      <td>cxreiiii</td>\n",
       "      <td>amenities</td>\n",
       "      <td>[[[0.0], [0.0], [0.0], [0.0], [0.0], [0.0], [0...</td>\n",
       "      <td>0</td>\n",
       "    </tr>\n",
       "    <tr>\n",
       "      <th>15</th>\n",
       "      <td>a04-050-04-06</td>\n",
       "      <td>the</td>\n",
       "      <td>Thor</td>\n",
       "      <td>[[[0.0], [0.0], [0.0], [0.0], [0.0], [0.0], [0...</td>\n",
       "      <td>0</td>\n",
       "    </tr>\n",
       "    <tr>\n",
       "      <th>16</th>\n",
       "      <td>k07-185-08-05</td>\n",
       "      <td>of</td>\n",
       "      <td>of</td>\n",
       "      <td>[[[0.0], [0.0], [0.0], [0.0], [0.0], [0.0], [0...</td>\n",
       "      <td>1</td>\n",
       "    </tr>\n",
       "    <tr>\n",
       "      <th>17</th>\n",
       "      <td>g06-031e-04-05</td>\n",
       "      <td>diteeniann</td>\n",
       "      <td>Ultratoryism</td>\n",
       "      <td>[[[0.0], [0.0], [0.0], [0.9764706], [0.8823529...</td>\n",
       "      <td>0</td>\n",
       "    </tr>\n",
       "    <tr>\n",
       "      <th>18</th>\n",
       "      <td>b05-067-03-08</td>\n",
       "      <td>timtere</td>\n",
       "      <td>Himmler</td>\n",
       "      <td>[[[1.0], [1.0], [1.0], [1.0], [1.0], [1.0], [1...</td>\n",
       "      <td>0</td>\n",
       "    </tr>\n",
       "    <tr>\n",
       "      <th>19</th>\n",
       "      <td>l07-052-03-00</td>\n",
       "      <td>aniiee</td>\n",
       "      <td>arrival</td>\n",
       "      <td>[[[0.0], [0.0], [0.0], [0.0], [0.0], [0.0], [0...</td>\n",
       "      <td>0</td>\n",
       "    </tr>\n",
       "    <tr>\n",
       "      <th>20</th>\n",
       "      <td>a03-040-03-04</td>\n",
       "      <td>ti</td>\n",
       "      <td>43</td>\n",
       "      <td>[[[0.0], [0.0], [0.0], [0.0], [0.0], [0.0], [0...</td>\n",
       "      <td>0</td>\n",
       "    </tr>\n",
       "    <tr>\n",
       "      <th>21</th>\n",
       "      <td>n06-201-02-03</td>\n",
       "      <td>bumee</td>\n",
       "      <td>bunch</td>\n",
       "      <td>[[[0.0], [0.0], [0.0], [0.0], [0.0], [0.0], [0...</td>\n",
       "      <td>0</td>\n",
       "    </tr>\n",
       "    <tr>\n",
       "      <th>22</th>\n",
       "      <td>g06-031a-01-03</td>\n",
       "      <td>seriing</td>\n",
       "      <td>Personally</td>\n",
       "      <td>[[[0.0], [0.0], [0.0], [0.0], [0.0], [0.0], [0...</td>\n",
       "      <td>0</td>\n",
       "    </tr>\n",
       "    <tr>\n",
       "      <th>23</th>\n",
       "      <td>a01-063u-08-05</td>\n",
       "      <td>is</td>\n",
       "      <td>is</td>\n",
       "      <td>[[[0.0], [0.0], [0.0], [0.0], [0.0], [0.0], [0...</td>\n",
       "      <td>1</td>\n",
       "    </tr>\n",
       "    <tr>\n",
       "      <th>24</th>\n",
       "      <td>p02-000-03-03</td>\n",
       "      <td>paoee</td>\n",
       "      <td>porter</td>\n",
       "      <td>[[[0.0], [0.0], [0.0], [0.0], [0.0], [0.0], [0...</td>\n",
       "      <td>0</td>\n",
       "    </tr>\n",
       "    <tr>\n",
       "      <th>25</th>\n",
       "      <td>p03-087-09-00</td>\n",
       "      <td>it</td>\n",
       "      <td>it</td>\n",
       "      <td>[[[0.0], [0.0], [0.0], [0.0], [0.0], [0.0], [0...</td>\n",
       "      <td>1</td>\n",
       "    </tr>\n",
       "    <tr>\n",
       "      <th>26</th>\n",
       "      <td>l01-000-04-01</td>\n",
       "      <td>welt</td>\n",
       "      <td>was</td>\n",
       "      <td>[[[0.0], [0.0], [0.0], [0.0], [0.0], [0.0], [0...</td>\n",
       "      <td>0</td>\n",
       "    </tr>\n",
       "    <tr>\n",
       "      <th>27</th>\n",
       "      <td>b01-113-07-01</td>\n",
       "      <td>and</td>\n",
       "      <td>and</td>\n",
       "      <td>[[[0.0], [0.0], [0.0], [0.0], [0.0], [0.0], [0...</td>\n",
       "      <td>1</td>\n",
       "    </tr>\n",
       "    <tr>\n",
       "      <th>28</th>\n",
       "      <td>b04-010-00-03</td>\n",
       "      <td>for</td>\n",
       "      <td>for</td>\n",
       "      <td>[[[0.0], [0.0], [0.0], [0.0], [0.0], [0.0], [0...</td>\n",
       "      <td>1</td>\n",
       "    </tr>\n",
       "    <tr>\n",
       "      <th>29</th>\n",
       "      <td>b04-054-00-03</td>\n",
       "      <td>the</td>\n",
       "      <td>the</td>\n",
       "      <td>[[[0.0], [0.0], [0.0], [0.0], [0.0], [0.0], [0...</td>\n",
       "      <td>1</td>\n",
       "    </tr>\n",
       "  </tbody>\n",
       "</table>\n",
       "</div>"
      ],
      "text/plain": [
       "            WordID   predicted          real  \\\n",
       "0    g04-095-07-07          in            in   \n",
       "1    g07-065-01-00         for           for   \n",
       "2    j07-009-00-00        This          This   \n",
       "3   g06-031r-05-00     Conmons       Commons   \n",
       "4    a03-073-08-07         the           the   \n",
       "5    d06-011-02-01          is            is   \n",
       "6    a05-080-05-07        That          That   \n",
       "7    e01-107-06-08         whe          When   \n",
       "8    p02-022-05-06       aayng       knowing   \n",
       "9    p02-105-02-10           a             a   \n",
       "10   l07-176-02-10          as            as   \n",
       "11   f07-069-04-02         iss           its   \n",
       "12   n06-092-07-00      wainin       working   \n",
       "13  c03-094d-04-01      shouee       abashed   \n",
       "14  h07-040b-10-02    cxreiiii     amenities   \n",
       "15   a04-050-04-06         the          Thor   \n",
       "16   k07-185-08-05          of            of   \n",
       "17  g06-031e-04-05  diteeniann  Ultratoryism   \n",
       "18   b05-067-03-08     timtere       Himmler   \n",
       "19   l07-052-03-00      aniiee       arrival   \n",
       "20   a03-040-03-04          ti            43   \n",
       "21   n06-201-02-03       bumee         bunch   \n",
       "22  g06-031a-01-03     seriing    Personally   \n",
       "23  a01-063u-08-05          is            is   \n",
       "24   p02-000-03-03       paoee        porter   \n",
       "25   p03-087-09-00          it            it   \n",
       "26   l01-000-04-01        welt           was   \n",
       "27   b01-113-07-01         and           and   \n",
       "28   b04-010-00-03         for           for   \n",
       "29   b04-054-00-03         the           the   \n",
       "\n",
       "                                            ImageData  correct  \n",
       "0   [[[0.0], [0.0], [0.0], [0.0], [0.0], [0.0], [0...        1  \n",
       "1   [[[0.0], [0.0], [0.0], [0.0], [0.0], [0.0], [0...        1  \n",
       "2   [[[0.0], [0.0], [0.0], [0.0], [0.0], [0.0], [0...        1  \n",
       "3   [[[0.0], [0.0], [0.0], [0.0], [0.0], [0.0], [0...        0  \n",
       "4   [[[0.0], [0.0], [0.0], [0.0], [0.0], [0.0], [0...        1  \n",
       "5   [[[0.0], [0.0], [0.0], [0.0], [0.0], [0.0], [0...        1  \n",
       "6   [[[0.0], [0.0], [0.0], [0.0], [0.0], [0.0], [0...        1  \n",
       "7   [[[0.0], [0.0], [0.0], [0.0], [0.0], [0.0], [0...        0  \n",
       "8   [[[0.0], [0.0], [0.0], [0.0], [0.0], [0.0], [0...        0  \n",
       "9   [[[0.0], [0.0], [0.0], [0.0], [0.0], [0.0], [0...        1  \n",
       "10  [[[0.0], [0.0], [0.0], [0.0], [0.0], [0.0], [0...        1  \n",
       "11  [[[0.0], [0.0], [0.0], [0.0], [0.0], [0.0], [0...        0  \n",
       "12  [[[0.0], [0.0], [0.0], [0.0], [0.0], [0.0], [0...        0  \n",
       "13  [[[0.0], [0.0], [0.0], [0.0], [0.0], [0.0], [0...        0  \n",
       "14  [[[0.0], [0.0], [0.0], [0.0], [0.0], [0.0], [0...        0  \n",
       "15  [[[0.0], [0.0], [0.0], [0.0], [0.0], [0.0], [0...        0  \n",
       "16  [[[0.0], [0.0], [0.0], [0.0], [0.0], [0.0], [0...        1  \n",
       "17  [[[0.0], [0.0], [0.0], [0.9764706], [0.8823529...        0  \n",
       "18  [[[1.0], [1.0], [1.0], [1.0], [1.0], [1.0], [1...        0  \n",
       "19  [[[0.0], [0.0], [0.0], [0.0], [0.0], [0.0], [0...        0  \n",
       "20  [[[0.0], [0.0], [0.0], [0.0], [0.0], [0.0], [0...        0  \n",
       "21  [[[0.0], [0.0], [0.0], [0.0], [0.0], [0.0], [0...        0  \n",
       "22  [[[0.0], [0.0], [0.0], [0.0], [0.0], [0.0], [0...        0  \n",
       "23  [[[0.0], [0.0], [0.0], [0.0], [0.0], [0.0], [0...        1  \n",
       "24  [[[0.0], [0.0], [0.0], [0.0], [0.0], [0.0], [0...        0  \n",
       "25  [[[0.0], [0.0], [0.0], [0.0], [0.0], [0.0], [0...        1  \n",
       "26  [[[0.0], [0.0], [0.0], [0.0], [0.0], [0.0], [0...        0  \n",
       "27  [[[0.0], [0.0], [0.0], [0.0], [0.0], [0.0], [0...        1  \n",
       "28  [[[0.0], [0.0], [0.0], [0.0], [0.0], [0.0], [0...        1  \n",
       "29  [[[0.0], [0.0], [0.0], [0.0], [0.0], [0.0], [0...        1  "
      ]
     },
     "execution_count": 658,
     "metadata": {},
     "output_type": "execute_result"
    }
   ],
   "source": [
    "results.head(30)"
   ]
  },
  {
   "cell_type": "code",
   "execution_count": 656,
   "metadata": {},
   "outputs": [
    {
     "data": {
      "text/plain": [
       "correct\n",
       "0    0.619634\n",
       "1    0.380366\n",
       "Name: count, dtype: float64"
      ]
     },
     "execution_count": 656,
     "metadata": {},
     "output_type": "execute_result"
    }
   ],
   "source": [
    "results['correct'].value_counts() / len(results)"
   ]
  },
  {
   "cell_type": "code",
   "execution_count": null,
   "metadata": {},
   "outputs": [],
   "source": []
  },
  {
   "cell_type": "code",
   "execution_count": null,
   "metadata": {},
   "outputs": [],
   "source": []
  },
  {
   "cell_type": "code",
   "execution_count": null,
   "metadata": {},
   "outputs": [],
   "source": []
  },
  {
   "cell_type": "code",
   "execution_count": null,
   "metadata": {},
   "outputs": [],
   "source": []
  },
  {
   "cell_type": "code",
   "execution_count": null,
   "metadata": {},
   "outputs": [],
   "source": []
  },
  {
   "cell_type": "code",
   "execution_count": null,
   "metadata": {},
   "outputs": [],
   "source": []
  },
  {
   "cell_type": "code",
   "execution_count": 463,
   "metadata": {},
   "outputs": [
    {
     "name": "stdout",
     "output_type": "stream",
     "text": [
      "(None, 16384)\n",
      "(None, 43)\n",
      "Model: \"model_63\"\n",
      "_________________________________________________________________\n",
      " Layer (type)                Output Shape              Param #   \n",
      "=================================================================\n",
      " ImageInput (InputLayer)     [(None, 32, 128, 1)]      0         \n",
      "                                                                 \n",
      " conv2d_282 (Conv2D)         (None, 32, 128, 32)       320       \n",
      "                                                                 \n",
      " max_pooling2d_275 (MaxPool  (None, 16, 64, 32)        0         \n",
      " ing2D)                                                          \n",
      "                                                                 \n",
      " conv2d_283 (Conv2D)         (None, 16, 64, 64)        18496     \n",
      "                                                                 \n",
      " max_pooling2d_276 (MaxPool  (None, 8, 32, 64)         0         \n",
      " ing2D)                                                          \n",
      "                                                                 \n",
      " flatten_46 (Flatten)        (None, 16384)             0         \n",
      "                                                                 \n",
      " DenseOutput (Dense)         (None, 43)                704555    \n",
      "                                                                 \n",
      "=================================================================\n",
      "Total params: 723371 (2.76 MB)\n",
      "Trainable params: 723371 (2.76 MB)\n",
      "Non-trainable params: 0 (0.00 Byte)\n",
      "_________________________________________________________________\n",
      "Epoch 1/100\n"
     ]
    },
    {
     "ename": "ValueError",
     "evalue": "in user code:\n\n    File \"/opt/homebrew/lib/python3.11/site-packages/keras/src/engine/training.py\", line 1401, in train_function  *\n        return step_function(self, iterator)\n    File \"/opt/homebrew/lib/python3.11/site-packages/keras/src/engine/training.py\", line 1384, in step_function  **\n        outputs = model.distribute_strategy.run(run_step, args=(data,))\n    File \"/opt/homebrew/lib/python3.11/site-packages/keras/src/engine/training.py\", line 1373, in run_step  **\n        outputs = model.train_step(data)\n    File \"/opt/homebrew/lib/python3.11/site-packages/keras/src/engine/training.py\", line 1151, in train_step\n        loss = self.compute_loss(x, y, y_pred, sample_weight)\n    File \"/opt/homebrew/lib/python3.11/site-packages/keras/src/engine/training.py\", line 1209, in compute_loss\n        return self.compiled_loss(\n    File \"/opt/homebrew/lib/python3.11/site-packages/keras/src/engine/compile_utils.py\", line 277, in __call__\n        loss_value = loss_obj(y_t, y_p, sample_weight=sw)\n    File \"/opt/homebrew/lib/python3.11/site-packages/keras/src/losses.py\", line 143, in __call__\n        losses = call_fn(y_true, y_pred)\n    File \"/opt/homebrew/lib/python3.11/site-packages/keras/src/losses.py\", line 270, in call  **\n        return ag_fn(y_true, y_pred, **self._fn_kwargs)\n    File \"/opt/homebrew/lib/python3.11/site-packages/keras/src/losses.py\", line 2221, in categorical_crossentropy\n        return backend.categorical_crossentropy(\n    File \"/opt/homebrew/lib/python3.11/site-packages/keras/src/backend.py\", line 5573, in categorical_crossentropy\n        target.shape.assert_is_compatible_with(output.shape)\n\n    ValueError: Shapes (None, 1) and (None, 43) are incompatible\n",
     "output_type": "error",
     "traceback": [
      "\u001b[0;31m---------------------------------------------------------------------------\u001b[0m",
      "\u001b[0;31mValueError\u001b[0m                                Traceback (most recent call last)",
      "Cell \u001b[0;32mIn[463], line 90\u001b[0m\n\u001b[1;32m     87\u001b[0m model\u001b[38;5;241m.\u001b[39msummary()\n\u001b[1;32m     89\u001b[0m \u001b[38;5;66;03m# Train the model\u001b[39;00m\n\u001b[0;32m---> 90\u001b[0m history \u001b[38;5;241m=\u001b[39m \u001b[43mmodel\u001b[49m\u001b[38;5;241;43m.\u001b[39;49m\u001b[43mfit\u001b[49m\u001b[43m(\u001b[49m\n\u001b[1;32m     91\u001b[0m \u001b[43m    \u001b[49m\u001b[43mX_train\u001b[49m\u001b[43m,\u001b[49m\u001b[43m \u001b[49m\u001b[43my_train\u001b[49m\u001b[43m,\u001b[49m\n\u001b[1;32m     92\u001b[0m \u001b[43m    \u001b[49m\u001b[43mvalidation_data\u001b[49m\u001b[38;5;241;43m=\u001b[39;49m\u001b[43m(\u001b[49m\u001b[43mX_val\u001b[49m\u001b[43m,\u001b[49m\u001b[43m \u001b[49m\u001b[43my_val\u001b[49m\u001b[43m)\u001b[49m\u001b[43m,\u001b[49m\n\u001b[1;32m     93\u001b[0m \u001b[43m    \u001b[49m\u001b[43mepochs\u001b[49m\u001b[38;5;241;43m=\u001b[39;49m\u001b[38;5;241;43m100\u001b[39;49m\u001b[43m,\u001b[49m\u001b[43m  \u001b[49m\u001b[38;5;66;43;03m# Set a high number because early stopping will halt the training\u001b[39;49;00m\n\u001b[1;32m     94\u001b[0m \u001b[43m    \u001b[49m\u001b[43mbatch_size\u001b[49m\u001b[38;5;241;43m=\u001b[39;49m\u001b[38;5;241;43m32\u001b[39;49m\u001b[43m,\u001b[49m\u001b[43m  \u001b[49m\u001b[38;5;66;43;03m# Adjust based on your data and memory constraints\u001b[39;49;00m\n\u001b[1;32m     95\u001b[0m \u001b[43m    \u001b[49m\u001b[43mcallbacks\u001b[49m\u001b[38;5;241;43m=\u001b[39;49m\u001b[43m[\u001b[49m\u001b[43mearly_stopping\u001b[49m\u001b[43m]\u001b[49m\n\u001b[1;32m     96\u001b[0m \u001b[43m)\u001b[49m\n\u001b[1;32m     99\u001b[0m \u001b[38;5;124;03m\"\"\"# Define the CTC loss\u001b[39;00m\n\u001b[1;32m    100\u001b[0m \u001b[38;5;124;03mdef ctc_lambda_func(args):\u001b[39;00m\n\u001b[1;32m    101\u001b[0m \u001b[38;5;124;03m    y_pred, labels, input_length, label_length = args\u001b[39;00m\n\u001b[0;32m   (...)\u001b[0m\n\u001b[1;32m    132\u001b[0m \u001b[38;5;124;03m    callbacks=[early_stopping]\u001b[39;00m\n\u001b[1;32m    133\u001b[0m \u001b[38;5;124;03m)\"\"\"\u001b[39;00m\n",
      "File \u001b[0;32m/opt/homebrew/lib/python3.11/site-packages/keras/src/utils/traceback_utils.py:70\u001b[0m, in \u001b[0;36mfilter_traceback.<locals>.error_handler\u001b[0;34m(*args, **kwargs)\u001b[0m\n\u001b[1;32m     67\u001b[0m     filtered_tb \u001b[38;5;241m=\u001b[39m _process_traceback_frames(e\u001b[38;5;241m.\u001b[39m__traceback__)\n\u001b[1;32m     68\u001b[0m     \u001b[38;5;66;03m# To get the full stack trace, call:\u001b[39;00m\n\u001b[1;32m     69\u001b[0m     \u001b[38;5;66;03m# `tf.debugging.disable_traceback_filtering()`\u001b[39;00m\n\u001b[0;32m---> 70\u001b[0m     \u001b[38;5;28;01mraise\u001b[39;00m e\u001b[38;5;241m.\u001b[39mwith_traceback(filtered_tb) \u001b[38;5;28;01mfrom\u001b[39;00m \u001b[38;5;28;01mNone\u001b[39;00m\n\u001b[1;32m     71\u001b[0m \u001b[38;5;28;01mfinally\u001b[39;00m:\n\u001b[1;32m     72\u001b[0m     \u001b[38;5;28;01mdel\u001b[39;00m filtered_tb\n",
      "File \u001b[0;32m/var/folders/6q/0yfg3pwd67d3xrqsp_16lm680000gn/T/__autograph_generated_fileydrij3be.py:15\u001b[0m, in \u001b[0;36mouter_factory.<locals>.inner_factory.<locals>.tf__train_function\u001b[0;34m(iterator)\u001b[0m\n\u001b[1;32m     13\u001b[0m \u001b[38;5;28;01mtry\u001b[39;00m:\n\u001b[1;32m     14\u001b[0m     do_return \u001b[38;5;241m=\u001b[39m \u001b[38;5;28;01mTrue\u001b[39;00m\n\u001b[0;32m---> 15\u001b[0m     retval_ \u001b[38;5;241m=\u001b[39m ag__\u001b[38;5;241m.\u001b[39mconverted_call(ag__\u001b[38;5;241m.\u001b[39mld(step_function), (ag__\u001b[38;5;241m.\u001b[39mld(\u001b[38;5;28mself\u001b[39m), ag__\u001b[38;5;241m.\u001b[39mld(iterator)), \u001b[38;5;28;01mNone\u001b[39;00m, fscope)\n\u001b[1;32m     16\u001b[0m \u001b[38;5;28;01mexcept\u001b[39;00m:\n\u001b[1;32m     17\u001b[0m     do_return \u001b[38;5;241m=\u001b[39m \u001b[38;5;28;01mFalse\u001b[39;00m\n",
      "\u001b[0;31mValueError\u001b[0m: in user code:\n\n    File \"/opt/homebrew/lib/python3.11/site-packages/keras/src/engine/training.py\", line 1401, in train_function  *\n        return step_function(self, iterator)\n    File \"/opt/homebrew/lib/python3.11/site-packages/keras/src/engine/training.py\", line 1384, in step_function  **\n        outputs = model.distribute_strategy.run(run_step, args=(data,))\n    File \"/opt/homebrew/lib/python3.11/site-packages/keras/src/engine/training.py\", line 1373, in run_step  **\n        outputs = model.train_step(data)\n    File \"/opt/homebrew/lib/python3.11/site-packages/keras/src/engine/training.py\", line 1151, in train_step\n        loss = self.compute_loss(x, y, y_pred, sample_weight)\n    File \"/opt/homebrew/lib/python3.11/site-packages/keras/src/engine/training.py\", line 1209, in compute_loss\n        return self.compiled_loss(\n    File \"/opt/homebrew/lib/python3.11/site-packages/keras/src/engine/compile_utils.py\", line 277, in __call__\n        loss_value = loss_obj(y_t, y_p, sample_weight=sw)\n    File \"/opt/homebrew/lib/python3.11/site-packages/keras/src/losses.py\", line 143, in __call__\n        losses = call_fn(y_true, y_pred)\n    File \"/opt/homebrew/lib/python3.11/site-packages/keras/src/losses.py\", line 270, in call  **\n        return ag_fn(y_true, y_pred, **self._fn_kwargs)\n    File \"/opt/homebrew/lib/python3.11/site-packages/keras/src/losses.py\", line 2221, in categorical_crossentropy\n        return backend.categorical_crossentropy(\n    File \"/opt/homebrew/lib/python3.11/site-packages/keras/src/backend.py\", line 5573, in categorical_crossentropy\n        target.shape.assert_is_compatible_with(output.shape)\n\n    ValueError: Shapes (None, 1) and (None, 43) are incompatible\n"
     ]
    }
   ],
   "source": [
    "from tensorflow.keras.models import Model\n",
    "from tensorflow.keras.layers import Input, Dense, LSTM, Conv2D, MaxPooling2D, Reshape, Dropout, Lambda\n",
    "from tensorflow.keras import backend as K\n",
    "import numpy as np\n",
    "from tensorflow.keras.callbacks import EarlyStopping\n",
    "\n",
    "\n",
    "# ------ SHAPES ------\n",
    "# X_train shape: (9224, 32, 128, 1)\n",
    "# y_train shape: (9224, 20)\n",
    "\n",
    "# ------ EXPLANATION ------\n",
    "# 9224 images in the training set\n",
    "# each image is 32 pixels high and 128 pixels wide\n",
    "# each image is grayscale, so it has only one channel\n",
    "# padding is used to make all images the same size, having the word in the center\n",
    "# the output of the model is a sequence of 20 characters (the maximum length of the words in the dataset)\n",
    "# the characters are encoded using the vocabulary list of length len(vocabulary)\n",
    "# example of a label: [59 54 66 62 65 62 58 72  0  0  0  0  0  0  0  0  0  0  0  0]\n",
    "\n",
    "# Constants\n",
    "height, width, channels = 32, 128, 1  # for grayscale, channels is 1\n",
    "vocab_size = y_train.shape[1]  # including a blank character for CTC\n",
    "max_text_length = y_train.shape[1]  # max length of input labels)\n",
    "\n",
    "# Model \n",
    "input_img = Input(shape=(height, width, channels), name='ImageInput')\n",
    "\n",
    "# Convolutional layers\n",
    "# Convnet layer 1\n",
    "x = Conv2D(32, (3,3), activation='relu', padding='same')(input_img)\n",
    "x = MaxPooling2D(pool_size=(2,2))(x)\n",
    "\n",
    "# # Convnet layer 2\n",
    "x = Conv2D(64, (3,3), activation='relu', padding='same')(x)\n",
    "x = MaxPooling2D(pool_size=(2,2))(x)\n",
    "conv_output_shape = x.shape\n",
    "\n",
    "# # Convnet layer 3\n",
    "# x = Conv2D(128, (3,3), activation='relu', padding='same')(x)\n",
    "# x = MaxPooling2D(pool_size=(2,2))(x)\n",
    "\n",
    "# # Convnet layer 4\n",
    "# x = Conv2D(256, (3,3), activation='relu', padding='same')(x)\n",
    "# x = MaxPooling2D(pool_size=(2,2))(x)\n",
    "\n",
    "\n",
    "# Recurrent layers\n",
    "# Reshape the output of the convolutional layers from 3D to 2D\n",
    "# timesteps, features = y_train.shape[1], conv_output_shape[2] * conv_output_shape[3]\n",
    "# x = Reshape(target_shape=(timesteps, features), name='reshape')(x)\n",
    "\n",
    "# LSTM layers\n",
    "# x = LSTM(128, return_sequences=True)(x)\n",
    "# print(x.shape)\n",
    "# x = Dropout(0.25)(x)\n",
    "# print(x.shape)\n",
    "\n",
    "# Flatten the output of the convolutional layers to the dense layer\n",
    "x = Flatten()(x)\n",
    "print(x.shape)\n",
    "\n",
    "# Dense layer for prediction\n",
    "x = Dense(vocab_size, activation='softmax', name='DenseOutput')(x)\n",
    "print(x.shape)\n",
    "\n",
    "# Define the model\n",
    "model = Model(inputs=input_img, outputs=x)\n",
    "\n",
    "# Compile the model with standard loss function and optimizer\n",
    "model.compile(loss='categorical_crossentropy', \n",
    "              optimizer='adam', \n",
    "              metrics=['accuracy'])\n",
    "\n",
    "early_stopping = EarlyStopping(monitor='val_loss', patience=2, verbose=1, mode='min')\n",
    "\n",
    "# Summary\n",
    "model.summary()\n",
    "\n",
    "# Train the model\n",
    "history = model.fit(\n",
    "    X_train, y_train,\n",
    "    validation_data=(X_val, y_val),\n",
    "    epochs=100,  # Set a high number because early stopping will halt the training\n",
    "    batch_size=32,  # Adjust based on your data and memory constraints\n",
    "    callbacks=[early_stopping]\n",
    ")\n",
    "\n",
    "\n",
    "\"\"\"# Define the CTC loss\n",
    "def ctc_lambda_func(args):\n",
    "    y_pred, labels, input_length, label_length = args\n",
    "    return K.ctc_batch_cost(labels, y_pred, input_length, label_length)\n",
    "\n",
    "# Dummy data for labels and their lengths (you would use your actual data here)\n",
    "labels = Input(name='GroundTruthLabels', shape=[max_text_length], dtype='float32')\n",
    "input_length = Input(name='InputLength', shape=[1], dtype='int64')     # Length of input sequence (width of the image)\n",
    "label_length = Input(name='LabelLength', shape=[1], dtype='int64')     # Length of the label sequence\n",
    "\n",
    "# Lambda layer for computing CTC loss\n",
    "loss_out = Lambda(ctc_lambda_func, output_shape=(1,), name='CTCloss')([x, labels, input_length, label_length])\n",
    "\n",
    "# Final model\n",
    "model_final = Model(inputs=[input_img, labels, input_length, label_length], outputs=loss_out)\n",
    "\n",
    "# Compile the model, using a dummy loss function (CTC loss is computed in the lambda layer)\n",
    "model_final.compile(loss={'CTCloss': lambda y_true, y_pred: y_pred}, \n",
    "                    optimizer='adam', \n",
    "                    metrics=['accuracy'])\n",
    "\n",
    "early_stopping = EarlyStopping(monitor='val_loss', patience=3, verbose=1, mode='min')\n",
    "\n",
    "\n",
    "# Summary\n",
    "model_final.summary()\n",
    "\n",
    "\n",
    "history = model_final.fit(\n",
    "    X_train, y_train,\n",
    "    validation_data=(X_val, y_val),\n",
    "    epochs=100,  # Set a high number because early stopping will halt the training\n",
    "    batch_size=32,  # Adjust based on your data and memory constraints\n",
    "    callbacks=[early_stopping]\n",
    ")\"\"\"\n"
   ]
  },
  {
   "cell_type": "code",
   "execution_count": 335,
   "metadata": {},
   "outputs": [
    {
     "name": "stdout",
     "output_type": "stream",
     "text": [
      "Model: \"model_32\"\n",
      "_________________________________________________________________\n",
      " Layer (type)                Output Shape              Param #   \n",
      "=================================================================\n",
      " input_7 (InputLayer)        [(None, 32, 128, 1)]      0         \n",
      "                                                                 \n",
      " conv2d_153 (Conv2D)         (None, 32, 128, 64)       640       \n",
      "                                                                 \n",
      " max_pooling2d_152 (MaxPool  (None, 16, 64, 64)        0         \n",
      " ing2D)                                                          \n",
      "                                                                 \n",
      " conv2d_154 (Conv2D)         (None, 16, 64, 128)       73856     \n",
      "                                                                 \n",
      " max_pooling2d_153 (MaxPool  (None, 8, 32, 128)        0         \n",
      " ing2D)                                                          \n",
      "                                                                 \n",
      " reshape_30 (Reshape)        (None, 32, 1024)          0         \n",
      "                                                                 \n",
      " bidirectional_68 (Bidirect  (None, 32, 256)           1180672   \n",
      " ional)                                                          \n",
      "                                                                 \n",
      " bidirectional_69 (Bidirect  (None, 32, 256)           394240    \n",
      " ional)                                                          \n",
      "                                                                 \n",
      " dense_116 (Dense)           (None, 32, 78)            20046     \n",
      "                                                                 \n",
      "=================================================================\n",
      "Total params: 1669454 (6.37 MB)\n",
      "Trainable params: 1669454 (6.37 MB)\n",
      "Non-trainable params: 0 (0.00 Byte)\n",
      "_________________________________________________________________\n"
     ]
    },
    {
     "name": "stderr",
     "output_type": "stream",
     "text": [
      "WARNING:absl:At this time, the v2.11+ optimizer `tf.keras.optimizers.Adam` runs slowly on M1/M2 Macs, please use the legacy Keras optimizer instead, located at `tf.keras.optimizers.legacy.Adam`.\n"
     ]
    },
    {
     "name": "stdout",
     "output_type": "stream",
     "text": [
      "Epoch 1/100\n",
      "289/289 [==============================] - 40s 131ms/step - loss: 0.1228 - accuracy: 0.9965 - val_loss: 0.1121 - val_accuracy: 0.9999\n",
      "Epoch 2/100\n",
      "289/289 [==============================] - 38s 132ms/step - loss: 0.1120 - accuracy: 0.9999 - val_loss: 0.1129 - val_accuracy: 0.9999\n",
      "Epoch 3/100\n",
      " 42/289 [===>..........................] - ETA: 31s - loss: 0.1118 - accuracy: 1.0000"
     ]
    },
    {
     "ename": "KeyboardInterrupt",
     "evalue": "",
     "output_type": "error",
     "traceback": [
      "\u001b[0;31m---------------------------------------------------------------------------\u001b[0m",
      "\u001b[0;31mKeyboardInterrupt\u001b[0m                         Traceback (most recent call last)",
      "Cell \u001b[0;32mIn[335], line 58\u001b[0m\n\u001b[1;32m     52\u001b[0m model\u001b[38;5;241m.\u001b[39msummary()\n\u001b[1;32m     54\u001b[0m model\u001b[38;5;241m.\u001b[39mcompile(loss\u001b[38;5;241m=\u001b[39m\u001b[38;5;124m'\u001b[39m\u001b[38;5;124mcategorical_crossentropy\u001b[39m\u001b[38;5;124m'\u001b[39m,\n\u001b[1;32m     55\u001b[0m               optimizer\u001b[38;5;241m=\u001b[39mtf\u001b[38;5;241m.\u001b[39mkeras\u001b[38;5;241m.\u001b[39moptimizers\u001b[38;5;241m.\u001b[39mAdam(learning_rate\u001b[38;5;241m=\u001b[39m\u001b[38;5;241m0.1\u001b[39m),\n\u001b[1;32m     56\u001b[0m               metrics\u001b[38;5;241m=\u001b[39m[\u001b[38;5;124m'\u001b[39m\u001b[38;5;124maccuracy\u001b[39m\u001b[38;5;124m'\u001b[39m])\n\u001b[0;32m---> 58\u001b[0m history \u001b[38;5;241m=\u001b[39m \u001b[43mmodel\u001b[49m\u001b[38;5;241;43m.\u001b[39;49m\u001b[43mfit\u001b[49m\u001b[43m(\u001b[49m\n\u001b[1;32m     59\u001b[0m \u001b[43m    \u001b[49m\u001b[43mX_train\u001b[49m\u001b[43m,\u001b[49m\u001b[43m \u001b[49m\n\u001b[1;32m     60\u001b[0m \u001b[43m    \u001b[49m\u001b[43my_train\u001b[49m\u001b[43m,\u001b[49m\u001b[43m \u001b[49m\n\u001b[1;32m     61\u001b[0m \u001b[43m    \u001b[49m\u001b[43mbatch_size\u001b[49m\u001b[38;5;241;43m=\u001b[39;49m\u001b[38;5;241;43m32\u001b[39;49m\u001b[43m,\u001b[49m\u001b[43m \u001b[49m\n\u001b[1;32m     62\u001b[0m \u001b[43m    \u001b[49m\u001b[43mepochs\u001b[49m\u001b[38;5;241;43m=\u001b[39;49m\u001b[38;5;241;43m100\u001b[39;49m\u001b[43m,\u001b[49m\u001b[43m  \u001b[49m\u001b[38;5;66;43;03m# Set a higher number since EarlyStopping will take care of stopping early\u001b[39;49;00m\n\u001b[1;32m     63\u001b[0m \u001b[43m    \u001b[49m\u001b[43mcallbacks\u001b[49m\u001b[38;5;241;43m=\u001b[39;49m\u001b[43m[\u001b[49m\u001b[43mearly_stopping\u001b[49m\u001b[43m]\u001b[49m\u001b[43m,\u001b[49m\n\u001b[1;32m     64\u001b[0m \u001b[43m    \u001b[49m\u001b[43mvalidation_data\u001b[49m\u001b[38;5;241;43m=\u001b[39;49m\u001b[43m(\u001b[49m\u001b[43mX_val\u001b[49m\u001b[43m,\u001b[49m\u001b[43m \u001b[49m\u001b[43my_val\u001b[49m\u001b[43m)\u001b[49m\n\u001b[1;32m     65\u001b[0m \u001b[43m)\u001b[49m\n\u001b[1;32m     67\u001b[0m \u001b[38;5;66;03m# Plot the training and validation loss and accuracy\u001b[39;00m\n\u001b[1;32m     68\u001b[0m plot_history(history)\n",
      "File \u001b[0;32m/opt/homebrew/lib/python3.11/site-packages/keras/src/utils/traceback_utils.py:65\u001b[0m, in \u001b[0;36mfilter_traceback.<locals>.error_handler\u001b[0;34m(*args, **kwargs)\u001b[0m\n\u001b[1;32m     63\u001b[0m filtered_tb \u001b[38;5;241m=\u001b[39m \u001b[38;5;28;01mNone\u001b[39;00m\n\u001b[1;32m     64\u001b[0m \u001b[38;5;28;01mtry\u001b[39;00m:\n\u001b[0;32m---> 65\u001b[0m     \u001b[38;5;28;01mreturn\u001b[39;00m \u001b[43mfn\u001b[49m\u001b[43m(\u001b[49m\u001b[38;5;241;43m*\u001b[39;49m\u001b[43margs\u001b[49m\u001b[43m,\u001b[49m\u001b[43m \u001b[49m\u001b[38;5;241;43m*\u001b[39;49m\u001b[38;5;241;43m*\u001b[39;49m\u001b[43mkwargs\u001b[49m\u001b[43m)\u001b[49m\n\u001b[1;32m     66\u001b[0m \u001b[38;5;28;01mexcept\u001b[39;00m \u001b[38;5;167;01mException\u001b[39;00m \u001b[38;5;28;01mas\u001b[39;00m e:\n\u001b[1;32m     67\u001b[0m     filtered_tb \u001b[38;5;241m=\u001b[39m _process_traceback_frames(e\u001b[38;5;241m.\u001b[39m__traceback__)\n",
      "File \u001b[0;32m/opt/homebrew/lib/python3.11/site-packages/keras/src/engine/training.py:1807\u001b[0m, in \u001b[0;36mModel.fit\u001b[0;34m(self, x, y, batch_size, epochs, verbose, callbacks, validation_split, validation_data, shuffle, class_weight, sample_weight, initial_epoch, steps_per_epoch, validation_steps, validation_batch_size, validation_freq, max_queue_size, workers, use_multiprocessing)\u001b[0m\n\u001b[1;32m   1799\u001b[0m \u001b[38;5;28;01mwith\u001b[39;00m tf\u001b[38;5;241m.\u001b[39mprofiler\u001b[38;5;241m.\u001b[39mexperimental\u001b[38;5;241m.\u001b[39mTrace(\n\u001b[1;32m   1800\u001b[0m     \u001b[38;5;124m\"\u001b[39m\u001b[38;5;124mtrain\u001b[39m\u001b[38;5;124m\"\u001b[39m,\n\u001b[1;32m   1801\u001b[0m     epoch_num\u001b[38;5;241m=\u001b[39mepoch,\n\u001b[0;32m   (...)\u001b[0m\n\u001b[1;32m   1804\u001b[0m     _r\u001b[38;5;241m=\u001b[39m\u001b[38;5;241m1\u001b[39m,\n\u001b[1;32m   1805\u001b[0m ):\n\u001b[1;32m   1806\u001b[0m     callbacks\u001b[38;5;241m.\u001b[39mon_train_batch_begin(step)\n\u001b[0;32m-> 1807\u001b[0m     tmp_logs \u001b[38;5;241m=\u001b[39m \u001b[38;5;28;43mself\u001b[39;49m\u001b[38;5;241;43m.\u001b[39;49m\u001b[43mtrain_function\u001b[49m\u001b[43m(\u001b[49m\u001b[43miterator\u001b[49m\u001b[43m)\u001b[49m\n\u001b[1;32m   1808\u001b[0m     \u001b[38;5;28;01mif\u001b[39;00m data_handler\u001b[38;5;241m.\u001b[39mshould_sync:\n\u001b[1;32m   1809\u001b[0m         context\u001b[38;5;241m.\u001b[39masync_wait()\n",
      "File \u001b[0;32m/opt/homebrew/lib/python3.11/site-packages/tensorflow/python/util/traceback_utils.py:150\u001b[0m, in \u001b[0;36mfilter_traceback.<locals>.error_handler\u001b[0;34m(*args, **kwargs)\u001b[0m\n\u001b[1;32m    148\u001b[0m filtered_tb \u001b[38;5;241m=\u001b[39m \u001b[38;5;28;01mNone\u001b[39;00m\n\u001b[1;32m    149\u001b[0m \u001b[38;5;28;01mtry\u001b[39;00m:\n\u001b[0;32m--> 150\u001b[0m   \u001b[38;5;28;01mreturn\u001b[39;00m \u001b[43mfn\u001b[49m\u001b[43m(\u001b[49m\u001b[38;5;241;43m*\u001b[39;49m\u001b[43margs\u001b[49m\u001b[43m,\u001b[49m\u001b[43m \u001b[49m\u001b[38;5;241;43m*\u001b[39;49m\u001b[38;5;241;43m*\u001b[39;49m\u001b[43mkwargs\u001b[49m\u001b[43m)\u001b[49m\n\u001b[1;32m    151\u001b[0m \u001b[38;5;28;01mexcept\u001b[39;00m \u001b[38;5;167;01mException\u001b[39;00m \u001b[38;5;28;01mas\u001b[39;00m e:\n\u001b[1;32m    152\u001b[0m   filtered_tb \u001b[38;5;241m=\u001b[39m _process_traceback_frames(e\u001b[38;5;241m.\u001b[39m__traceback__)\n",
      "File \u001b[0;32m/opt/homebrew/lib/python3.11/site-packages/tensorflow/python/eager/polymorphic_function/polymorphic_function.py:832\u001b[0m, in \u001b[0;36mFunction.__call__\u001b[0;34m(self, *args, **kwds)\u001b[0m\n\u001b[1;32m    829\u001b[0m compiler \u001b[38;5;241m=\u001b[39m \u001b[38;5;124m\"\u001b[39m\u001b[38;5;124mxla\u001b[39m\u001b[38;5;124m\"\u001b[39m \u001b[38;5;28;01mif\u001b[39;00m \u001b[38;5;28mself\u001b[39m\u001b[38;5;241m.\u001b[39m_jit_compile \u001b[38;5;28;01melse\u001b[39;00m \u001b[38;5;124m\"\u001b[39m\u001b[38;5;124mnonXla\u001b[39m\u001b[38;5;124m\"\u001b[39m\n\u001b[1;32m    831\u001b[0m \u001b[38;5;28;01mwith\u001b[39;00m OptionalXlaContext(\u001b[38;5;28mself\u001b[39m\u001b[38;5;241m.\u001b[39m_jit_compile):\n\u001b[0;32m--> 832\u001b[0m   result \u001b[38;5;241m=\u001b[39m \u001b[38;5;28;43mself\u001b[39;49m\u001b[38;5;241;43m.\u001b[39;49m\u001b[43m_call\u001b[49m\u001b[43m(\u001b[49m\u001b[38;5;241;43m*\u001b[39;49m\u001b[43margs\u001b[49m\u001b[43m,\u001b[49m\u001b[43m \u001b[49m\u001b[38;5;241;43m*\u001b[39;49m\u001b[38;5;241;43m*\u001b[39;49m\u001b[43mkwds\u001b[49m\u001b[43m)\u001b[49m\n\u001b[1;32m    834\u001b[0m new_tracing_count \u001b[38;5;241m=\u001b[39m \u001b[38;5;28mself\u001b[39m\u001b[38;5;241m.\u001b[39mexperimental_get_tracing_count()\n\u001b[1;32m    835\u001b[0m without_tracing \u001b[38;5;241m=\u001b[39m (tracing_count \u001b[38;5;241m==\u001b[39m new_tracing_count)\n",
      "File \u001b[0;32m/opt/homebrew/lib/python3.11/site-packages/tensorflow/python/eager/polymorphic_function/polymorphic_function.py:868\u001b[0m, in \u001b[0;36mFunction._call\u001b[0;34m(self, *args, **kwds)\u001b[0m\n\u001b[1;32m    865\u001b[0m   \u001b[38;5;28mself\u001b[39m\u001b[38;5;241m.\u001b[39m_lock\u001b[38;5;241m.\u001b[39mrelease()\n\u001b[1;32m    866\u001b[0m   \u001b[38;5;66;03m# In this case we have created variables on the first call, so we run the\u001b[39;00m\n\u001b[1;32m    867\u001b[0m   \u001b[38;5;66;03m# defunned version which is guaranteed to never create variables.\u001b[39;00m\n\u001b[0;32m--> 868\u001b[0m   \u001b[38;5;28;01mreturn\u001b[39;00m \u001b[43mtracing_compilation\u001b[49m\u001b[38;5;241;43m.\u001b[39;49m\u001b[43mcall_function\u001b[49m\u001b[43m(\u001b[49m\n\u001b[1;32m    869\u001b[0m \u001b[43m      \u001b[49m\u001b[43margs\u001b[49m\u001b[43m,\u001b[49m\u001b[43m \u001b[49m\u001b[43mkwds\u001b[49m\u001b[43m,\u001b[49m\u001b[43m \u001b[49m\u001b[38;5;28;43mself\u001b[39;49m\u001b[38;5;241;43m.\u001b[39;49m\u001b[43m_no_variable_creation_config\u001b[49m\n\u001b[1;32m    870\u001b[0m \u001b[43m  \u001b[49m\u001b[43m)\u001b[49m\n\u001b[1;32m    871\u001b[0m \u001b[38;5;28;01melif\u001b[39;00m \u001b[38;5;28mself\u001b[39m\u001b[38;5;241m.\u001b[39m_variable_creation_config \u001b[38;5;129;01mis\u001b[39;00m \u001b[38;5;129;01mnot\u001b[39;00m \u001b[38;5;28;01mNone\u001b[39;00m:\n\u001b[1;32m    872\u001b[0m   \u001b[38;5;66;03m# Release the lock early so that multiple threads can perform the call\u001b[39;00m\n\u001b[1;32m    873\u001b[0m   \u001b[38;5;66;03m# in parallel.\u001b[39;00m\n\u001b[1;32m    874\u001b[0m   \u001b[38;5;28mself\u001b[39m\u001b[38;5;241m.\u001b[39m_lock\u001b[38;5;241m.\u001b[39mrelease()\n",
      "File \u001b[0;32m/opt/homebrew/lib/python3.11/site-packages/tensorflow/python/eager/polymorphic_function/tracing_compilation.py:139\u001b[0m, in \u001b[0;36mcall_function\u001b[0;34m(args, kwargs, tracing_options)\u001b[0m\n\u001b[1;32m    137\u001b[0m bound_args \u001b[38;5;241m=\u001b[39m function\u001b[38;5;241m.\u001b[39mfunction_type\u001b[38;5;241m.\u001b[39mbind(\u001b[38;5;241m*\u001b[39margs, \u001b[38;5;241m*\u001b[39m\u001b[38;5;241m*\u001b[39mkwargs)\n\u001b[1;32m    138\u001b[0m flat_inputs \u001b[38;5;241m=\u001b[39m function\u001b[38;5;241m.\u001b[39mfunction_type\u001b[38;5;241m.\u001b[39munpack_inputs(bound_args)\n\u001b[0;32m--> 139\u001b[0m \u001b[38;5;28;01mreturn\u001b[39;00m \u001b[43mfunction\u001b[49m\u001b[38;5;241;43m.\u001b[39;49m\u001b[43m_call_flat\u001b[49m\u001b[43m(\u001b[49m\u001b[43m  \u001b[49m\u001b[38;5;66;43;03m# pylint: disable=protected-access\u001b[39;49;00m\n\u001b[1;32m    140\u001b[0m \u001b[43m    \u001b[49m\u001b[43mflat_inputs\u001b[49m\u001b[43m,\u001b[49m\u001b[43m \u001b[49m\u001b[43mcaptured_inputs\u001b[49m\u001b[38;5;241;43m=\u001b[39;49m\u001b[43mfunction\u001b[49m\u001b[38;5;241;43m.\u001b[39;49m\u001b[43mcaptured_inputs\u001b[49m\n\u001b[1;32m    141\u001b[0m \u001b[43m\u001b[49m\u001b[43m)\u001b[49m\n",
      "File \u001b[0;32m/opt/homebrew/lib/python3.11/site-packages/tensorflow/python/eager/polymorphic_function/concrete_function.py:1323\u001b[0m, in \u001b[0;36mConcreteFunction._call_flat\u001b[0;34m(self, tensor_inputs, captured_inputs)\u001b[0m\n\u001b[1;32m   1319\u001b[0m possible_gradient_type \u001b[38;5;241m=\u001b[39m gradients_util\u001b[38;5;241m.\u001b[39mPossibleTapeGradientTypes(args)\n\u001b[1;32m   1320\u001b[0m \u001b[38;5;28;01mif\u001b[39;00m (possible_gradient_type \u001b[38;5;241m==\u001b[39m gradients_util\u001b[38;5;241m.\u001b[39mPOSSIBLE_GRADIENT_TYPES_NONE\n\u001b[1;32m   1321\u001b[0m     \u001b[38;5;129;01mand\u001b[39;00m executing_eagerly):\n\u001b[1;32m   1322\u001b[0m   \u001b[38;5;66;03m# No tape is watching; skip to running the function.\u001b[39;00m\n\u001b[0;32m-> 1323\u001b[0m   \u001b[38;5;28;01mreturn\u001b[39;00m \u001b[38;5;28;43mself\u001b[39;49m\u001b[38;5;241;43m.\u001b[39;49m\u001b[43m_inference_function\u001b[49m\u001b[38;5;241;43m.\u001b[39;49m\u001b[43mcall_preflattened\u001b[49m\u001b[43m(\u001b[49m\u001b[43margs\u001b[49m\u001b[43m)\u001b[49m\n\u001b[1;32m   1324\u001b[0m forward_backward \u001b[38;5;241m=\u001b[39m \u001b[38;5;28mself\u001b[39m\u001b[38;5;241m.\u001b[39m_select_forward_and_backward_functions(\n\u001b[1;32m   1325\u001b[0m     args,\n\u001b[1;32m   1326\u001b[0m     possible_gradient_type,\n\u001b[1;32m   1327\u001b[0m     executing_eagerly)\n\u001b[1;32m   1328\u001b[0m forward_function, args_with_tangents \u001b[38;5;241m=\u001b[39m forward_backward\u001b[38;5;241m.\u001b[39mforward()\n",
      "File \u001b[0;32m/opt/homebrew/lib/python3.11/site-packages/tensorflow/python/eager/polymorphic_function/atomic_function.py:216\u001b[0m, in \u001b[0;36mAtomicFunction.call_preflattened\u001b[0;34m(self, args)\u001b[0m\n\u001b[1;32m    214\u001b[0m \u001b[38;5;28;01mdef\u001b[39;00m \u001b[38;5;21mcall_preflattened\u001b[39m(\u001b[38;5;28mself\u001b[39m, args: Sequence[core\u001b[38;5;241m.\u001b[39mTensor]) \u001b[38;5;241m-\u001b[39m\u001b[38;5;241m>\u001b[39m Any:\n\u001b[1;32m    215\u001b[0m \u001b[38;5;250m  \u001b[39m\u001b[38;5;124;03m\"\"\"Calls with flattened tensor inputs and returns the structured output.\"\"\"\u001b[39;00m\n\u001b[0;32m--> 216\u001b[0m   flat_outputs \u001b[38;5;241m=\u001b[39m \u001b[38;5;28;43mself\u001b[39;49m\u001b[38;5;241;43m.\u001b[39;49m\u001b[43mcall_flat\u001b[49m\u001b[43m(\u001b[49m\u001b[38;5;241;43m*\u001b[39;49m\u001b[43margs\u001b[49m\u001b[43m)\u001b[49m\n\u001b[1;32m    217\u001b[0m   \u001b[38;5;28;01mreturn\u001b[39;00m \u001b[38;5;28mself\u001b[39m\u001b[38;5;241m.\u001b[39mfunction_type\u001b[38;5;241m.\u001b[39mpack_output(flat_outputs)\n",
      "File \u001b[0;32m/opt/homebrew/lib/python3.11/site-packages/tensorflow/python/eager/polymorphic_function/atomic_function.py:251\u001b[0m, in \u001b[0;36mAtomicFunction.call_flat\u001b[0;34m(self, *args)\u001b[0m\n\u001b[1;32m    249\u001b[0m \u001b[38;5;28;01mwith\u001b[39;00m record\u001b[38;5;241m.\u001b[39mstop_recording():\n\u001b[1;32m    250\u001b[0m   \u001b[38;5;28;01mif\u001b[39;00m \u001b[38;5;28mself\u001b[39m\u001b[38;5;241m.\u001b[39m_bound_context\u001b[38;5;241m.\u001b[39mexecuting_eagerly():\n\u001b[0;32m--> 251\u001b[0m     outputs \u001b[38;5;241m=\u001b[39m \u001b[38;5;28;43mself\u001b[39;49m\u001b[38;5;241;43m.\u001b[39;49m\u001b[43m_bound_context\u001b[49m\u001b[38;5;241;43m.\u001b[39;49m\u001b[43mcall_function\u001b[49m\u001b[43m(\u001b[49m\n\u001b[1;32m    252\u001b[0m \u001b[43m        \u001b[49m\u001b[38;5;28;43mself\u001b[39;49m\u001b[38;5;241;43m.\u001b[39;49m\u001b[43mname\u001b[49m\u001b[43m,\u001b[49m\n\u001b[1;32m    253\u001b[0m \u001b[43m        \u001b[49m\u001b[38;5;28;43mlist\u001b[39;49m\u001b[43m(\u001b[49m\u001b[43margs\u001b[49m\u001b[43m)\u001b[49m\u001b[43m,\u001b[49m\n\u001b[1;32m    254\u001b[0m \u001b[43m        \u001b[49m\u001b[38;5;28;43mlen\u001b[39;49m\u001b[43m(\u001b[49m\u001b[38;5;28;43mself\u001b[39;49m\u001b[38;5;241;43m.\u001b[39;49m\u001b[43mfunction_type\u001b[49m\u001b[38;5;241;43m.\u001b[39;49m\u001b[43mflat_outputs\u001b[49m\u001b[43m)\u001b[49m\u001b[43m,\u001b[49m\n\u001b[1;32m    255\u001b[0m \u001b[43m    \u001b[49m\u001b[43m)\u001b[49m\n\u001b[1;32m    256\u001b[0m   \u001b[38;5;28;01melse\u001b[39;00m:\n\u001b[1;32m    257\u001b[0m     outputs \u001b[38;5;241m=\u001b[39m make_call_op_in_graph(\n\u001b[1;32m    258\u001b[0m         \u001b[38;5;28mself\u001b[39m,\n\u001b[1;32m    259\u001b[0m         \u001b[38;5;28mlist\u001b[39m(args),\n\u001b[1;32m    260\u001b[0m         \u001b[38;5;28mself\u001b[39m\u001b[38;5;241m.\u001b[39m_bound_context\u001b[38;5;241m.\u001b[39mfunction_call_options\u001b[38;5;241m.\u001b[39mas_attrs(),\n\u001b[1;32m    261\u001b[0m     )\n",
      "File \u001b[0;32m/opt/homebrew/lib/python3.11/site-packages/tensorflow/python/eager/context.py:1486\u001b[0m, in \u001b[0;36mContext.call_function\u001b[0;34m(self, name, tensor_inputs, num_outputs)\u001b[0m\n\u001b[1;32m   1484\u001b[0m cancellation_context \u001b[38;5;241m=\u001b[39m cancellation\u001b[38;5;241m.\u001b[39mcontext()\n\u001b[1;32m   1485\u001b[0m \u001b[38;5;28;01mif\u001b[39;00m cancellation_context \u001b[38;5;129;01mis\u001b[39;00m \u001b[38;5;28;01mNone\u001b[39;00m:\n\u001b[0;32m-> 1486\u001b[0m   outputs \u001b[38;5;241m=\u001b[39m \u001b[43mexecute\u001b[49m\u001b[38;5;241;43m.\u001b[39;49m\u001b[43mexecute\u001b[49m\u001b[43m(\u001b[49m\n\u001b[1;32m   1487\u001b[0m \u001b[43m      \u001b[49m\u001b[43mname\u001b[49m\u001b[38;5;241;43m.\u001b[39;49m\u001b[43mdecode\u001b[49m\u001b[43m(\u001b[49m\u001b[38;5;124;43m\"\u001b[39;49m\u001b[38;5;124;43mutf-8\u001b[39;49m\u001b[38;5;124;43m\"\u001b[39;49m\u001b[43m)\u001b[49m\u001b[43m,\u001b[49m\n\u001b[1;32m   1488\u001b[0m \u001b[43m      \u001b[49m\u001b[43mnum_outputs\u001b[49m\u001b[38;5;241;43m=\u001b[39;49m\u001b[43mnum_outputs\u001b[49m\u001b[43m,\u001b[49m\n\u001b[1;32m   1489\u001b[0m \u001b[43m      \u001b[49m\u001b[43minputs\u001b[49m\u001b[38;5;241;43m=\u001b[39;49m\u001b[43mtensor_inputs\u001b[49m\u001b[43m,\u001b[49m\n\u001b[1;32m   1490\u001b[0m \u001b[43m      \u001b[49m\u001b[43mattrs\u001b[49m\u001b[38;5;241;43m=\u001b[39;49m\u001b[43mattrs\u001b[49m\u001b[43m,\u001b[49m\n\u001b[1;32m   1491\u001b[0m \u001b[43m      \u001b[49m\u001b[43mctx\u001b[49m\u001b[38;5;241;43m=\u001b[39;49m\u001b[38;5;28;43mself\u001b[39;49m\u001b[43m,\u001b[49m\n\u001b[1;32m   1492\u001b[0m \u001b[43m  \u001b[49m\u001b[43m)\u001b[49m\n\u001b[1;32m   1493\u001b[0m \u001b[38;5;28;01melse\u001b[39;00m:\n\u001b[1;32m   1494\u001b[0m   outputs \u001b[38;5;241m=\u001b[39m execute\u001b[38;5;241m.\u001b[39mexecute_with_cancellation(\n\u001b[1;32m   1495\u001b[0m       name\u001b[38;5;241m.\u001b[39mdecode(\u001b[38;5;124m\"\u001b[39m\u001b[38;5;124mutf-8\u001b[39m\u001b[38;5;124m\"\u001b[39m),\n\u001b[1;32m   1496\u001b[0m       num_outputs\u001b[38;5;241m=\u001b[39mnum_outputs,\n\u001b[0;32m   (...)\u001b[0m\n\u001b[1;32m   1500\u001b[0m       cancellation_manager\u001b[38;5;241m=\u001b[39mcancellation_context,\n\u001b[1;32m   1501\u001b[0m   )\n",
      "File \u001b[0;32m/opt/homebrew/lib/python3.11/site-packages/tensorflow/python/eager/execute.py:53\u001b[0m, in \u001b[0;36mquick_execute\u001b[0;34m(op_name, num_outputs, inputs, attrs, ctx, name)\u001b[0m\n\u001b[1;32m     51\u001b[0m \u001b[38;5;28;01mtry\u001b[39;00m:\n\u001b[1;32m     52\u001b[0m   ctx\u001b[38;5;241m.\u001b[39mensure_initialized()\n\u001b[0;32m---> 53\u001b[0m   tensors \u001b[38;5;241m=\u001b[39m \u001b[43mpywrap_tfe\u001b[49m\u001b[38;5;241;43m.\u001b[39;49m\u001b[43mTFE_Py_Execute\u001b[49m\u001b[43m(\u001b[49m\u001b[43mctx\u001b[49m\u001b[38;5;241;43m.\u001b[39;49m\u001b[43m_handle\u001b[49m\u001b[43m,\u001b[49m\u001b[43m \u001b[49m\u001b[43mdevice_name\u001b[49m\u001b[43m,\u001b[49m\u001b[43m \u001b[49m\u001b[43mop_name\u001b[49m\u001b[43m,\u001b[49m\n\u001b[1;32m     54\u001b[0m \u001b[43m                                      \u001b[49m\u001b[43minputs\u001b[49m\u001b[43m,\u001b[49m\u001b[43m \u001b[49m\u001b[43mattrs\u001b[49m\u001b[43m,\u001b[49m\u001b[43m \u001b[49m\u001b[43mnum_outputs\u001b[49m\u001b[43m)\u001b[49m\n\u001b[1;32m     55\u001b[0m \u001b[38;5;28;01mexcept\u001b[39;00m core\u001b[38;5;241m.\u001b[39m_NotOkStatusException \u001b[38;5;28;01mas\u001b[39;00m e:\n\u001b[1;32m     56\u001b[0m   \u001b[38;5;28;01mif\u001b[39;00m name \u001b[38;5;129;01mis\u001b[39;00m \u001b[38;5;129;01mnot\u001b[39;00m \u001b[38;5;28;01mNone\u001b[39;00m:\n",
      "\u001b[0;31mKeyboardInterrupt\u001b[0m: "
     ]
    }
   ],
   "source": [
    "import numpy as np\n",
    "import tensorflow as tf\n",
    "from tensorflow.keras.models import Model\n",
    "from tensorflow.keras.layers import Input, Conv2D, MaxPooling2D, Reshape, Dense, LSTM, Bidirectional\n",
    "from tensorflow.keras.callbacks import EarlyStopping\n",
    "\n",
    "# Image dimensions\n",
    "img_width = X_train.shape[2]\n",
    "img_height = X_train.shape[1]\n",
    "\n",
    "# CNN parameters\n",
    "num_filters = 64\n",
    "kernel_size = (3, 3)\n",
    "pool_size = (2, 2)\n",
    "\n",
    "# RNN parameters\n",
    "num_units = 128\n",
    "\n",
    "# Output parameters\n",
    "num_classes = len(vocabulary)+1  \n",
    "max_text_length = y_train.shape[1]  # maximum length of the output word\n",
    "\n",
    "input_img = Input(shape=(img_height, img_width, 1))  # Assuming the image is grayscale\n",
    "\n",
    "# CNN layers\n",
    "x = Conv2D(num_filters, kernel_size, activation='relu', padding='same')(input_img)\n",
    "x = MaxPooling2D(pool_size=pool_size, padding='same')(x)\n",
    "x = Conv2D(num_filters*2, kernel_size, activation='relu', padding='same')(x)\n",
    "x = MaxPooling2D(pool_size=pool_size, padding='same')(x)\n",
    "\n",
    "# Reshaping to fit into RNN\n",
    "new_shape = ((img_width // (pool_size[0] ** 2)), (img_height // (pool_size[1] ** 2)) * num_filters*2)\n",
    "x = Reshape(target_shape=new_shape)(x)\n",
    "\n",
    "# RNN layers\n",
    "x = Bidirectional(LSTM(num_units, return_sequences=True))(x)\n",
    "x = Bidirectional(LSTM(num_units, return_sequences=True))(x)\n",
    "\n",
    "# Output layer\n",
    "output = Dense(num_classes, activation='softmax')(x)\n",
    "\n",
    "early_stopping = EarlyStopping(\n",
    "    monitor='loss',        # Monitor the training loss\n",
    "    patience=2,            # Number of epochs with no improvement after which training will be stopped\n",
    "    verbose=1,             # Log when training is stopped\n",
    "    restore_best_weights=True  # Restore model weights from the epoch with the lowest loss\n",
    ")\n",
    "\n",
    "# Define the model\n",
    "model = Model(inputs=input_img, outputs=output)\n",
    "\n",
    "model.summary()\n",
    "\n",
    "model.compile(loss='categorical_crossentropy',\n",
    "              optimizer=tf.keras.optimizers.Adam(learning_rate=0.1),\n",
    "              metrics=['accuracy'])\n",
    "\n",
    "history = model.fit(\n",
    "    X_train, \n",
    "    y_train, \n",
    "    batch_size=32, \n",
    "    epochs=100,  # Set a higher number since EarlyStopping will take care of stopping early\n",
    "    callbacks=[early_stopping],\n",
    "    validation_data=(X_val, y_val)\n",
    ")\n",
    "\n",
    "# Plot the training and validation loss and accuracy\n",
    "plot_history(history)"
   ]
  },
  {
   "cell_type": "code",
   "execution_count": 291,
   "metadata": {},
   "outputs": [
    {
     "name": "stdout",
     "output_type": "stream",
     "text": [
      "\n",
      " Test accuracy: 1.0\n"
     ]
    }
   ],
   "source": [
    "# Evaluate the model on the test set\n",
    "score = model.evaluate(X_test, y_test, verbose=0)\n",
    "\n",
    "# Print test accuracy\n",
    "print('\\n', 'Test accuracy:', score[1])"
   ]
  },
  {
   "cell_type": "code",
   "execution_count": 298,
   "metadata": {},
   "outputs": [],
   "source": [
    "import cv2\n",
    "import numpy as np\n",
    "import pandas as pd\n",
    "from pathlib import Path\n",
    "\n",
    "def distortion_free_resize(image, target_size=(128, 32)):\n",
    "# Calculate the ratio of the target dimensions and the image\n",
    "    target_ratio = target_size[1] / target_size[0]\n",
    "    img_ratio = image.shape[0] / image.shape[1]\n",
    "\n",
    "    # Determine the dimensions to which the image should be resized\n",
    "    if img_ratio <= target_ratio:\n",
    "        # Image is more horizontal; fit to width\n",
    "        new_size = (target_size[0], int(image.shape[0] * target_size[0] / image.shape[1]))\n",
    "    else:\n",
    "        # Image is more vertical; fit to height\n",
    "        new_size = (int(image.shape[1] * target_size[1] / image.shape[0]), target_size[1])\n",
    "    \n",
    "    # Resize the image to fit within the target rectangle\n",
    "    resized_image = cv2.resize(image, new_size, interpolation=cv2.INTER_AREA)\n",
    "\n",
    "    # Calculate padding to center the image\n",
    "    pad_x = (target_size[0] - resized_image.shape[1]) // 2\n",
    "    pad_y = (target_size[1] - resized_image.shape[0]) // 2\n",
    "\n",
    "    # Apply padding to center the image within the target rectangle\n",
    "    padded_image = cv2.copyMakeBorder(resized_image, pad_y, pad_y, pad_x, pad_x, cv2.BORDER_CONSTANT, value=0)\n",
    "\n",
    "    # Adjust if the padding isn't perfectly even (e.g., due to odd number dimensions)\n",
    "    if padded_image.shape[0] != target_size[1] or padded_image.shape[1] != target_size[0]:\n",
    "        padded_image = cv2.resize(padded_image, target_size, interpolation=cv2.INTER_AREA)\n",
    "\n",
    "    return padded_image\n",
    "\n",
    "\n",
    "def load_image(file_path):\n",
    "    # Load an image in grayscale mode\n",
    "    return cv2.imread(str(file_path), cv2.IMREAD_GRAYSCALE)\n",
    "\n",
    "def preprocess_image(image, target_size=(128, 32)):\n",
    "    \"\"\"\n",
    "    Preprocesses an image by resizing it to the target size, normalizing it, and adding a channel dimension.\n",
    "\n",
    "    Parameters:\n",
    "    - image: The input image to be preprocessed.\n",
    "    - target_size: The desired size of the image after resizing. Default is (128, 32).\n",
    "\n",
    "    Returns:\n",
    "    - The preprocessed image.\n",
    "    \"\"\"\n",
    "\n",
    "    image = load_image(image)\n",
    "\n",
    "    \n",
    "    # Resize the image to the target size\n",
    "    #image = cv2.resize(image, target_size, interpolation=cv2.INTER_LINEAR)\n",
    "    image = distortion_free_resize(image, target_size)\n",
    "\n",
    "    # Normalize the image\n",
    "    image = image.astype(np.float32) / 255.0\n",
    "    \n",
    "    # Add a channel dimension ([height, width] -> [height, width, 1])\n",
    "    image = np.expand_dims(image, axis=-1)\n",
    "    \n",
    "\n",
    "    # reduce noise\n",
    "    \n",
    "    return image"
   ]
  },
  {
   "cell_type": "code",
   "execution_count": null,
   "metadata": {},
   "outputs": [
    {
     "name": "stdout",
     "output_type": "stream",
     "text": [
      "['']\n"
     ]
    }
   ],
   "source": [
    "import numpy as np\n",
    "from tensorflow.keras.utils import to_categorical\n",
    "\n",
    "def decode_from_labels(encoded_y):\n",
    "    # Inverse the one-hot encoding\n",
    "    y_pred = np.argmax(encoded_y, axis=-1)\n",
    "\n",
    "    # Inverse the normalization\n",
    "    y_pred = y_pred * len(vocabulary)\n",
    "\n",
    "    decoded_words = []\n",
    "    for word_encoded in y_pred:\n",
    "        # Remove padding (zeros)\n",
    "        word_encoded = word_encoded[word_encoded != 0]\n",
    "        \n",
    "        # Map numbers back to characters and concatenate\n",
    "        word = ''.join(vocabulary[idx-1] for idx in word_encoded if idx > 0)\n",
    "        decoded_words.append(word)\n",
    "\n",
    "    return decoded_words\n"
   ]
  },
  {
   "cell_type": "code",
   "execution_count": 334,
   "metadata": {},
   "outputs": [
    {
     "name": "stdout",
     "output_type": "stream",
     "text": [
      "(32, 128, 1)\n"
     ]
    }
   ],
   "source": [
    "print(img.shape)"
   ]
  },
  {
   "cell_type": "code",
   "execution_count": 333,
   "metadata": {},
   "outputs": [
    {
     "name": "stderr",
     "output_type": "stream",
     "text": [
      "2023-12-27 20:32:32.153387: W tensorflow/core/framework/op_kernel.cc:1839] OP_REQUIRES failed at conv_ops_fused_impl.h:761 : INVALID_ARGUMENT: convolution input must be 4-dimensional: [32,128,1]\n"
     ]
    },
    {
     "ename": "InvalidArgumentError",
     "evalue": "Graph execution error:\n\nDetected at node model_31/conv2d_151/Relu defined at (most recent call last):\n  File \"<frozen runpy>\", line 198, in _run_module_as_main\n\n  File \"<frozen runpy>\", line 88, in _run_code\n\n  File \"/Users/jorgemilhomem/Library/Python/3.11/lib/python/site-packages/ipykernel_launcher.py\", line 17, in <module>\n\n  File \"/Users/jorgemilhomem/Library/Python/3.11/lib/python/site-packages/traitlets/config/application.py\", line 1043, in launch_instance\n\n  File \"/Users/jorgemilhomem/Library/Python/3.11/lib/python/site-packages/ipykernel/kernelapp.py\", line 725, in start\n\n  File \"/Users/jorgemilhomem/Library/Python/3.11/lib/python/site-packages/tornado/platform/asyncio.py\", line 195, in start\n\n  File \"/opt/homebrew/Cellar/python@3.11/3.11.6_1/Frameworks/Python.framework/Versions/3.11/lib/python3.11/asyncio/base_events.py\", line 607, in run_forever\n\n  File \"/opt/homebrew/Cellar/python@3.11/3.11.6_1/Frameworks/Python.framework/Versions/3.11/lib/python3.11/asyncio/base_events.py\", line 1922, in _run_once\n\n  File \"/opt/homebrew/Cellar/python@3.11/3.11.6_1/Frameworks/Python.framework/Versions/3.11/lib/python3.11/asyncio/events.py\", line 80, in _run\n\n  File \"/Users/jorgemilhomem/Library/Python/3.11/lib/python/site-packages/ipykernel/kernelbase.py\", line 513, in dispatch_queue\n\n  File \"/Users/jorgemilhomem/Library/Python/3.11/lib/python/site-packages/ipykernel/kernelbase.py\", line 502, in process_one\n\n  File \"/Users/jorgemilhomem/Library/Python/3.11/lib/python/site-packages/ipykernel/kernelbase.py\", line 409, in dispatch_shell\n\n  File \"/Users/jorgemilhomem/Library/Python/3.11/lib/python/site-packages/ipykernel/kernelbase.py\", line 729, in execute_request\n\n  File \"/Users/jorgemilhomem/Library/Python/3.11/lib/python/site-packages/ipykernel/ipkernel.py\", line 422, in do_execute\n\n  File \"/Users/jorgemilhomem/Library/Python/3.11/lib/python/site-packages/ipykernel/zmqshell.py\", line 540, in run_cell\n\n  File \"/Users/jorgemilhomem/Library/Python/3.11/lib/python/site-packages/IPython/core/interactiveshell.py\", line 3009, in run_cell\n\n  File \"/Users/jorgemilhomem/Library/Python/3.11/lib/python/site-packages/IPython/core/interactiveshell.py\", line 3064, in _run_cell\n\n  File \"/Users/jorgemilhomem/Library/Python/3.11/lib/python/site-packages/IPython/core/async_helpers.py\", line 129, in _pseudo_sync_runner\n\n  File \"/Users/jorgemilhomem/Library/Python/3.11/lib/python/site-packages/IPython/core/interactiveshell.py\", line 3269, in run_cell_async\n\n  File \"/Users/jorgemilhomem/Library/Python/3.11/lib/python/site-packages/IPython/core/interactiveshell.py\", line 3448, in run_ast_nodes\n\n  File \"/Users/jorgemilhomem/Library/Python/3.11/lib/python/site-packages/IPython/core/interactiveshell.py\", line 3508, in run_code\n\n  File \"/var/folders/6q/0yfg3pwd67d3xrqsp_16lm680000gn/T/ipykernel_53581/2410014171.py\", line 17, in <module>\n\n  File \"/opt/homebrew/lib/python3.11/site-packages/keras/src/utils/traceback_utils.py\", line 65, in error_handler\n\n  File \"/opt/homebrew/lib/python3.11/site-packages/keras/src/engine/training.py\", line 2655, in predict\n\n  File \"/opt/homebrew/lib/python3.11/site-packages/keras/src/engine/training.py\", line 2440, in predict_function\n\n  File \"/opt/homebrew/lib/python3.11/site-packages/keras/src/engine/training.py\", line 2425, in step_function\n\n  File \"/opt/homebrew/lib/python3.11/site-packages/keras/src/engine/training.py\", line 2413, in run_step\n\n  File \"/opt/homebrew/lib/python3.11/site-packages/keras/src/engine/training.py\", line 2381, in predict_step\n\n  File \"/opt/homebrew/lib/python3.11/site-packages/keras/src/utils/traceback_utils.py\", line 65, in error_handler\n\n  File \"/opt/homebrew/lib/python3.11/site-packages/keras/src/engine/training.py\", line 590, in __call__\n\n  File \"/opt/homebrew/lib/python3.11/site-packages/keras/src/utils/traceback_utils.py\", line 65, in error_handler\n\n  File \"/opt/homebrew/lib/python3.11/site-packages/keras/src/engine/base_layer.py\", line 1149, in __call__\n\n  File \"/opt/homebrew/lib/python3.11/site-packages/keras/src/utils/traceback_utils.py\", line 96, in error_handler\n\n  File \"/opt/homebrew/lib/python3.11/site-packages/keras/src/engine/functional.py\", line 515, in call\n\n  File \"/opt/homebrew/lib/python3.11/site-packages/keras/src/engine/functional.py\", line 672, in _run_internal_graph\n\n  File \"/opt/homebrew/lib/python3.11/site-packages/keras/src/utils/traceback_utils.py\", line 65, in error_handler\n\n  File \"/opt/homebrew/lib/python3.11/site-packages/keras/src/engine/base_layer.py\", line 1149, in __call__\n\n  File \"/opt/homebrew/lib/python3.11/site-packages/keras/src/utils/traceback_utils.py\", line 96, in error_handler\n\n  File \"/opt/homebrew/lib/python3.11/site-packages/keras/src/layers/convolutional/base_conv.py\", line 321, in call\n\n  File \"/opt/homebrew/lib/python3.11/site-packages/keras/src/activations.py\", line 306, in relu\n\n  File \"/opt/homebrew/lib/python3.11/site-packages/keras/src/backend.py\", line 5395, in relu\n\nconvolution input must be 4-dimensional: [32,128,1]\n\t [[{{node model_31/conv2d_151/Relu}}]] [Op:__inference_predict_function_563101]",
     "output_type": "error",
     "traceback": [
      "\u001b[0;31m---------------------------------------------------------------------------\u001b[0m",
      "\u001b[0;31mInvalidArgumentError\u001b[0m                      Traceback (most recent call last)",
      "Cell \u001b[0;32mIn[333], line 20\u001b[0m\n\u001b[1;32m     14\u001b[0m img \u001b[38;5;241m=\u001b[39m preprocess_image(img_path)\n\u001b[1;32m     16\u001b[0m \u001b[38;5;66;03m# Add an extra dimension to the image\u001b[39;00m\n\u001b[1;32m     17\u001b[0m \u001b[38;5;66;03m#img = np.expand_dims(img, axis=0)\u001b[39;00m\n\u001b[1;32m     18\u001b[0m \n\u001b[1;32m     19\u001b[0m \u001b[38;5;66;03m# Predict the transcription\u001b[39;00m\n\u001b[0;32m---> 20\u001b[0m prediction \u001b[38;5;241m=\u001b[39m \u001b[43mmodel\u001b[49m\u001b[38;5;241;43m.\u001b[39;49m\u001b[43mpredict\u001b[49m\u001b[43m(\u001b[49m\u001b[43mimg\u001b[49m\u001b[43m)\u001b[49m\n\u001b[1;32m     22\u001b[0m \u001b[38;5;66;03m# Decode the prediction\u001b[39;00m\n\u001b[1;32m     23\u001b[0m decoded_prediction \u001b[38;5;241m=\u001b[39m decode_from_labels(prediction)[\u001b[38;5;241m0\u001b[39m]\n",
      "File \u001b[0;32m/opt/homebrew/lib/python3.11/site-packages/keras/src/utils/traceback_utils.py:70\u001b[0m, in \u001b[0;36mfilter_traceback.<locals>.error_handler\u001b[0;34m(*args, **kwargs)\u001b[0m\n\u001b[1;32m     67\u001b[0m     filtered_tb \u001b[38;5;241m=\u001b[39m _process_traceback_frames(e\u001b[38;5;241m.\u001b[39m__traceback__)\n\u001b[1;32m     68\u001b[0m     \u001b[38;5;66;03m# To get the full stack trace, call:\u001b[39;00m\n\u001b[1;32m     69\u001b[0m     \u001b[38;5;66;03m# `tf.debugging.disable_traceback_filtering()`\u001b[39;00m\n\u001b[0;32m---> 70\u001b[0m     \u001b[38;5;28;01mraise\u001b[39;00m e\u001b[38;5;241m.\u001b[39mwith_traceback(filtered_tb) \u001b[38;5;28;01mfrom\u001b[39;00m \u001b[38;5;28;01mNone\u001b[39;00m\n\u001b[1;32m     71\u001b[0m \u001b[38;5;28;01mfinally\u001b[39;00m:\n\u001b[1;32m     72\u001b[0m     \u001b[38;5;28;01mdel\u001b[39;00m filtered_tb\n",
      "File \u001b[0;32m/opt/homebrew/lib/python3.11/site-packages/tensorflow/python/eager/execute.py:53\u001b[0m, in \u001b[0;36mquick_execute\u001b[0;34m(op_name, num_outputs, inputs, attrs, ctx, name)\u001b[0m\n\u001b[1;32m     51\u001b[0m \u001b[38;5;28;01mtry\u001b[39;00m:\n\u001b[1;32m     52\u001b[0m   ctx\u001b[38;5;241m.\u001b[39mensure_initialized()\n\u001b[0;32m---> 53\u001b[0m   tensors \u001b[38;5;241m=\u001b[39m pywrap_tfe\u001b[38;5;241m.\u001b[39mTFE_Py_Execute(ctx\u001b[38;5;241m.\u001b[39m_handle, device_name, op_name,\n\u001b[1;32m     54\u001b[0m                                       inputs, attrs, num_outputs)\n\u001b[1;32m     55\u001b[0m \u001b[38;5;28;01mexcept\u001b[39;00m core\u001b[38;5;241m.\u001b[39m_NotOkStatusException \u001b[38;5;28;01mas\u001b[39;00m e:\n\u001b[1;32m     56\u001b[0m   \u001b[38;5;28;01mif\u001b[39;00m name \u001b[38;5;129;01mis\u001b[39;00m \u001b[38;5;129;01mnot\u001b[39;00m \u001b[38;5;28;01mNone\u001b[39;00m:\n",
      "\u001b[0;31mInvalidArgumentError\u001b[0m: Graph execution error:\n\nDetected at node model_31/conv2d_151/Relu defined at (most recent call last):\n  File \"<frozen runpy>\", line 198, in _run_module_as_main\n\n  File \"<frozen runpy>\", line 88, in _run_code\n\n  File \"/Users/jorgemilhomem/Library/Python/3.11/lib/python/site-packages/ipykernel_launcher.py\", line 17, in <module>\n\n  File \"/Users/jorgemilhomem/Library/Python/3.11/lib/python/site-packages/traitlets/config/application.py\", line 1043, in launch_instance\n\n  File \"/Users/jorgemilhomem/Library/Python/3.11/lib/python/site-packages/ipykernel/kernelapp.py\", line 725, in start\n\n  File \"/Users/jorgemilhomem/Library/Python/3.11/lib/python/site-packages/tornado/platform/asyncio.py\", line 195, in start\n\n  File \"/opt/homebrew/Cellar/python@3.11/3.11.6_1/Frameworks/Python.framework/Versions/3.11/lib/python3.11/asyncio/base_events.py\", line 607, in run_forever\n\n  File \"/opt/homebrew/Cellar/python@3.11/3.11.6_1/Frameworks/Python.framework/Versions/3.11/lib/python3.11/asyncio/base_events.py\", line 1922, in _run_once\n\n  File \"/opt/homebrew/Cellar/python@3.11/3.11.6_1/Frameworks/Python.framework/Versions/3.11/lib/python3.11/asyncio/events.py\", line 80, in _run\n\n  File \"/Users/jorgemilhomem/Library/Python/3.11/lib/python/site-packages/ipykernel/kernelbase.py\", line 513, in dispatch_queue\n\n  File \"/Users/jorgemilhomem/Library/Python/3.11/lib/python/site-packages/ipykernel/kernelbase.py\", line 502, in process_one\n\n  File \"/Users/jorgemilhomem/Library/Python/3.11/lib/python/site-packages/ipykernel/kernelbase.py\", line 409, in dispatch_shell\n\n  File \"/Users/jorgemilhomem/Library/Python/3.11/lib/python/site-packages/ipykernel/kernelbase.py\", line 729, in execute_request\n\n  File \"/Users/jorgemilhomem/Library/Python/3.11/lib/python/site-packages/ipykernel/ipkernel.py\", line 422, in do_execute\n\n  File \"/Users/jorgemilhomem/Library/Python/3.11/lib/python/site-packages/ipykernel/zmqshell.py\", line 540, in run_cell\n\n  File \"/Users/jorgemilhomem/Library/Python/3.11/lib/python/site-packages/IPython/core/interactiveshell.py\", line 3009, in run_cell\n\n  File \"/Users/jorgemilhomem/Library/Python/3.11/lib/python/site-packages/IPython/core/interactiveshell.py\", line 3064, in _run_cell\n\n  File \"/Users/jorgemilhomem/Library/Python/3.11/lib/python/site-packages/IPython/core/async_helpers.py\", line 129, in _pseudo_sync_runner\n\n  File \"/Users/jorgemilhomem/Library/Python/3.11/lib/python/site-packages/IPython/core/interactiveshell.py\", line 3269, in run_cell_async\n\n  File \"/Users/jorgemilhomem/Library/Python/3.11/lib/python/site-packages/IPython/core/interactiveshell.py\", line 3448, in run_ast_nodes\n\n  File \"/Users/jorgemilhomem/Library/Python/3.11/lib/python/site-packages/IPython/core/interactiveshell.py\", line 3508, in run_code\n\n  File \"/var/folders/6q/0yfg3pwd67d3xrqsp_16lm680000gn/T/ipykernel_53581/2410014171.py\", line 17, in <module>\n\n  File \"/opt/homebrew/lib/python3.11/site-packages/keras/src/utils/traceback_utils.py\", line 65, in error_handler\n\n  File \"/opt/homebrew/lib/python3.11/site-packages/keras/src/engine/training.py\", line 2655, in predict\n\n  File \"/opt/homebrew/lib/python3.11/site-packages/keras/src/engine/training.py\", line 2440, in predict_function\n\n  File \"/opt/homebrew/lib/python3.11/site-packages/keras/src/engine/training.py\", line 2425, in step_function\n\n  File \"/opt/homebrew/lib/python3.11/site-packages/keras/src/engine/training.py\", line 2413, in run_step\n\n  File \"/opt/homebrew/lib/python3.11/site-packages/keras/src/engine/training.py\", line 2381, in predict_step\n\n  File \"/opt/homebrew/lib/python3.11/site-packages/keras/src/utils/traceback_utils.py\", line 65, in error_handler\n\n  File \"/opt/homebrew/lib/python3.11/site-packages/keras/src/engine/training.py\", line 590, in __call__\n\n  File \"/opt/homebrew/lib/python3.11/site-packages/keras/src/utils/traceback_utils.py\", line 65, in error_handler\n\n  File \"/opt/homebrew/lib/python3.11/site-packages/keras/src/engine/base_layer.py\", line 1149, in __call__\n\n  File \"/opt/homebrew/lib/python3.11/site-packages/keras/src/utils/traceback_utils.py\", line 96, in error_handler\n\n  File \"/opt/homebrew/lib/python3.11/site-packages/keras/src/engine/functional.py\", line 515, in call\n\n  File \"/opt/homebrew/lib/python3.11/site-packages/keras/src/engine/functional.py\", line 672, in _run_internal_graph\n\n  File \"/opt/homebrew/lib/python3.11/site-packages/keras/src/utils/traceback_utils.py\", line 65, in error_handler\n\n  File \"/opt/homebrew/lib/python3.11/site-packages/keras/src/engine/base_layer.py\", line 1149, in __call__\n\n  File \"/opt/homebrew/lib/python3.11/site-packages/keras/src/utils/traceback_utils.py\", line 96, in error_handler\n\n  File \"/opt/homebrew/lib/python3.11/site-packages/keras/src/layers/convolutional/base_conv.py\", line 321, in call\n\n  File \"/opt/homebrew/lib/python3.11/site-packages/keras/src/activations.py\", line 306, in relu\n\n  File \"/opt/homebrew/lib/python3.11/site-packages/keras/src/backend.py\", line 5395, in relu\n\nconvolution input must be 4-dimensional: [32,128,1]\n\t [[{{node model_31/conv2d_151/Relu}}]] [Op:__inference_predict_function_563101]"
     ]
    }
   ],
   "source": [
    "# Read the image paths from the file\n",
    "with open('data/img_paths.txt', 'r') as file:\n",
    "    img_paths = file.read().splitlines()\n",
    "\n",
    "# Path for the predictions file\n",
    "prediction_path = 'pred/prediction.txt'\n",
    "os.makedirs(os.path.dirname(prediction_path), exist_ok=True)\n",
    "\n",
    "# Open the prediction file once and write all predictions to avoid opening it repeatedly\n",
    "with open(prediction_path, 'w') as pred_file:\n",
    "    # Iterate through the image paths\n",
    "    for index, img_path in enumerate(img_paths[:100], 1):  # Start index at 1\n",
    "        # Preprocess the image\n",
    "        img = preprocess_image(img_path)\n",
    "\n",
    "        # Add an extra dimension to the image\n",
    "        #img = np.expand_dims(img, axis=0)\n",
    "\n",
    "        # Predict the transcription\n",
    "        prediction = model.predict(img)\n",
    "\n",
    "        # Decode the prediction\n",
    "        decoded_prediction = decode_from_labels(prediction)[0]\n",
    "\n",
    "        # Write the indexed prediction to the file\n",
    "        pred_file.write(f\"{index}-{decoded_prediction}\\n\")"
   ]
  },
  {
   "cell_type": "code",
   "execution_count": 316,
   "metadata": {},
   "outputs": [
    {
     "name": "stdout",
     "output_type": "stream",
     "text": [
      "['']\n"
     ]
    }
   ],
   "source": [
    "decoded_y = decode_from_labels(prediction)\n",
    "print(decoded_y)"
   ]
  },
  {
   "cell_type": "code",
   "execution_count": 338,
   "metadata": {},
   "outputs": [
    {
     "name": "stderr",
     "output_type": "stream",
     "text": [
      "WARNING:absl:At this time, the v2.11+ optimizer `tf.keras.optimizers.Adam` runs slowly on M1/M2 Macs, please use the legacy Keras optimizer instead, located at `tf.keras.optimizers.legacy.Adam`.\n"
     ]
    },
    {
     "name": "stdout",
     "output_type": "stream",
     "text": [
      "Model: \"sequential_33\"\n",
      "_________________________________________________________________\n",
      " Layer (type)                Output Shape              Param #   \n",
      "=================================================================\n",
      " conv2d_161 (Conv2D)         (None, 32, 128, 128)      1280      \n",
      "                                                                 \n",
      " batch_normalization_24 (Ba  (None, 32, 128, 128)      512       \n",
      " tchNormalization)                                               \n",
      "                                                                 \n",
      " max_pooling2d_160 (MaxPool  (None, 16, 64, 128)       0         \n",
      " ing2D)                                                          \n",
      "                                                                 \n",
      " conv2d_162 (Conv2D)         (None, 16, 64, 64)        73792     \n",
      "                                                                 \n",
      " batch_normalization_25 (Ba  (None, 16, 64, 64)        256       \n",
      " tchNormalization)                                               \n",
      "                                                                 \n",
      " max_pooling2d_161 (MaxPool  (None, 8, 32, 64)         0         \n",
      " ing2D)                                                          \n",
      "                                                                 \n",
      " conv2d_163 (Conv2D)         (None, 8, 32, 32)         18464     \n",
      "                                                                 \n",
      " batch_normalization_26 (Ba  (None, 8, 32, 32)         128       \n",
      " tchNormalization)                                               \n",
      "                                                                 \n",
      " max_pooling2d_162 (MaxPool  (None, 4, 16, 32)         0         \n",
      " ing2D)                                                          \n",
      "                                                                 \n",
      " flatten_44 (Flatten)        (None, 2048)              0         \n",
      "                                                                 \n",
      " dense_121 (Dense)           (None, 128)               262272    \n",
      "                                                                 \n",
      " dropout_35 (Dropout)        (None, 128)               0         \n",
      "                                                                 \n",
      " dense_122 (Dense)           (None, 32)                4128      \n",
      "                                                                 \n",
      "=================================================================\n",
      "Total params: 360832 (1.38 MB)\n",
      "Trainable params: 360384 (1.37 MB)\n",
      "Non-trainable params: 448 (1.75 KB)\n",
      "_________________________________________________________________\n",
      "Epoch 1/50\n"
     ]
    },
    {
     "ename": "ValueError",
     "evalue": "in user code:\n\n    File \"/opt/homebrew/lib/python3.11/site-packages/keras/src/engine/training.py\", line 1401, in train_function  *\n        return step_function(self, iterator)\n    File \"/opt/homebrew/lib/python3.11/site-packages/keras/src/engine/training.py\", line 1384, in step_function  **\n        outputs = model.distribute_strategy.run(run_step, args=(data,))\n    File \"/opt/homebrew/lib/python3.11/site-packages/keras/src/engine/training.py\", line 1373, in run_step  **\n        outputs = model.train_step(data)\n    File \"/opt/homebrew/lib/python3.11/site-packages/keras/src/engine/training.py\", line 1151, in train_step\n        loss = self.compute_loss(x, y, y_pred, sample_weight)\n    File \"/opt/homebrew/lib/python3.11/site-packages/keras/src/engine/training.py\", line 1209, in compute_loss\n        return self.compiled_loss(\n    File \"/opt/homebrew/lib/python3.11/site-packages/keras/src/engine/compile_utils.py\", line 277, in __call__\n        loss_value = loss_obj(y_t, y_p, sample_weight=sw)\n    File \"/opt/homebrew/lib/python3.11/site-packages/keras/src/losses.py\", line 143, in __call__\n        losses = call_fn(y_true, y_pred)\n    File \"/opt/homebrew/lib/python3.11/site-packages/keras/src/losses.py\", line 270, in call  **\n        return ag_fn(y_true, y_pred, **self._fn_kwargs)\n    File \"/opt/homebrew/lib/python3.11/site-packages/keras/src/losses.py\", line 2221, in categorical_crossentropy\n        return backend.categorical_crossentropy(\n    File \"/opt/homebrew/lib/python3.11/site-packages/keras/src/backend.py\", line 5573, in categorical_crossentropy\n        target.shape.assert_is_compatible_with(output.shape)\n\n    ValueError: Shapes (None, 32, 78) and (None, 32) are incompatible\n",
     "output_type": "error",
     "traceback": [
      "\u001b[0;31m---------------------------------------------------------------------------\u001b[0m",
      "\u001b[0;31mValueError\u001b[0m                                Traceback (most recent call last)",
      "Cell \u001b[0;32mIn[338], line 97\u001b[0m\n\u001b[1;32m     94\u001b[0m early_stopping \u001b[38;5;241m=\u001b[39m tf\u001b[38;5;241m.\u001b[39mkeras\u001b[38;5;241m.\u001b[39mcallbacks\u001b[38;5;241m.\u001b[39mEarlyStopping(monitor\u001b[38;5;241m=\u001b[39m\u001b[38;5;124m'\u001b[39m\u001b[38;5;124mval_loss\u001b[39m\u001b[38;5;124m'\u001b[39m, patience\u001b[38;5;241m=\u001b[39m\u001b[38;5;241m10\u001b[39m)\n\u001b[1;32m     95\u001b[0m reduce_lr \u001b[38;5;241m=\u001b[39m tf\u001b[38;5;241m.\u001b[39mkeras\u001b[38;5;241m.\u001b[39mcallbacks\u001b[38;5;241m.\u001b[39mReduceLROnPlateau(monitor\u001b[38;5;241m=\u001b[39m\u001b[38;5;124m'\u001b[39m\u001b[38;5;124mval_loss\u001b[39m\u001b[38;5;124m'\u001b[39m, factor\u001b[38;5;241m=\u001b[39m\u001b[38;5;241m0.2\u001b[39m, patience\u001b[38;5;241m=\u001b[39m\u001b[38;5;241m5\u001b[39m)\n\u001b[0;32m---> 97\u001b[0m history \u001b[38;5;241m=\u001b[39m \u001b[43mmodel\u001b[49m\u001b[38;5;241;43m.\u001b[39;49m\u001b[43mfit\u001b[49m\u001b[43m(\u001b[49m\u001b[43mX_train\u001b[49m\u001b[43m,\u001b[49m\u001b[43m \u001b[49m\u001b[43my_train\u001b[49m\u001b[43m,\u001b[49m\u001b[43m \u001b[49m\u001b[43mepochs\u001b[49m\u001b[38;5;241;43m=\u001b[39;49m\u001b[38;5;241;43m50\u001b[39;49m\u001b[43m,\u001b[49m\u001b[43m \u001b[49m\u001b[43mvalidation_data\u001b[49m\u001b[38;5;241;43m=\u001b[39;49m\u001b[43m(\u001b[49m\u001b[43mX_val\u001b[49m\u001b[43m,\u001b[49m\u001b[43m \u001b[49m\u001b[43my_val\u001b[49m\u001b[43m)\u001b[49m\u001b[43m,\u001b[49m\u001b[43m \u001b[49m\u001b[43mcallbacks\u001b[49m\u001b[38;5;241;43m=\u001b[39;49m\u001b[43m[\u001b[49m\u001b[43mearly_stopping\u001b[49m\u001b[43m,\u001b[49m\u001b[43m \u001b[49m\u001b[43mreduce_lr\u001b[49m\u001b[43m]\u001b[49m\u001b[43m)\u001b[49m\n\u001b[1;32m     98\u001b[0m plot_history(history)\n",
      "File \u001b[0;32m/opt/homebrew/lib/python3.11/site-packages/keras/src/utils/traceback_utils.py:70\u001b[0m, in \u001b[0;36mfilter_traceback.<locals>.error_handler\u001b[0;34m(*args, **kwargs)\u001b[0m\n\u001b[1;32m     67\u001b[0m     filtered_tb \u001b[38;5;241m=\u001b[39m _process_traceback_frames(e\u001b[38;5;241m.\u001b[39m__traceback__)\n\u001b[1;32m     68\u001b[0m     \u001b[38;5;66;03m# To get the full stack trace, call:\u001b[39;00m\n\u001b[1;32m     69\u001b[0m     \u001b[38;5;66;03m# `tf.debugging.disable_traceback_filtering()`\u001b[39;00m\n\u001b[0;32m---> 70\u001b[0m     \u001b[38;5;28;01mraise\u001b[39;00m e\u001b[38;5;241m.\u001b[39mwith_traceback(filtered_tb) \u001b[38;5;28;01mfrom\u001b[39;00m \u001b[38;5;28;01mNone\u001b[39;00m\n\u001b[1;32m     71\u001b[0m \u001b[38;5;28;01mfinally\u001b[39;00m:\n\u001b[1;32m     72\u001b[0m     \u001b[38;5;28;01mdel\u001b[39;00m filtered_tb\n",
      "File \u001b[0;32m/var/folders/6q/0yfg3pwd67d3xrqsp_16lm680000gn/T/__autograph_generated_fileydrij3be.py:15\u001b[0m, in \u001b[0;36mouter_factory.<locals>.inner_factory.<locals>.tf__train_function\u001b[0;34m(iterator)\u001b[0m\n\u001b[1;32m     13\u001b[0m \u001b[38;5;28;01mtry\u001b[39;00m:\n\u001b[1;32m     14\u001b[0m     do_return \u001b[38;5;241m=\u001b[39m \u001b[38;5;28;01mTrue\u001b[39;00m\n\u001b[0;32m---> 15\u001b[0m     retval_ \u001b[38;5;241m=\u001b[39m ag__\u001b[38;5;241m.\u001b[39mconverted_call(ag__\u001b[38;5;241m.\u001b[39mld(step_function), (ag__\u001b[38;5;241m.\u001b[39mld(\u001b[38;5;28mself\u001b[39m), ag__\u001b[38;5;241m.\u001b[39mld(iterator)), \u001b[38;5;28;01mNone\u001b[39;00m, fscope)\n\u001b[1;32m     16\u001b[0m \u001b[38;5;28;01mexcept\u001b[39;00m:\n\u001b[1;32m     17\u001b[0m     do_return \u001b[38;5;241m=\u001b[39m \u001b[38;5;28;01mFalse\u001b[39;00m\n",
      "\u001b[0;31mValueError\u001b[0m: in user code:\n\n    File \"/opt/homebrew/lib/python3.11/site-packages/keras/src/engine/training.py\", line 1401, in train_function  *\n        return step_function(self, iterator)\n    File \"/opt/homebrew/lib/python3.11/site-packages/keras/src/engine/training.py\", line 1384, in step_function  **\n        outputs = model.distribute_strategy.run(run_step, args=(data,))\n    File \"/opt/homebrew/lib/python3.11/site-packages/keras/src/engine/training.py\", line 1373, in run_step  **\n        outputs = model.train_step(data)\n    File \"/opt/homebrew/lib/python3.11/site-packages/keras/src/engine/training.py\", line 1151, in train_step\n        loss = self.compute_loss(x, y, y_pred, sample_weight)\n    File \"/opt/homebrew/lib/python3.11/site-packages/keras/src/engine/training.py\", line 1209, in compute_loss\n        return self.compiled_loss(\n    File \"/opt/homebrew/lib/python3.11/site-packages/keras/src/engine/compile_utils.py\", line 277, in __call__\n        loss_value = loss_obj(y_t, y_p, sample_weight=sw)\n    File \"/opt/homebrew/lib/python3.11/site-packages/keras/src/losses.py\", line 143, in __call__\n        losses = call_fn(y_true, y_pred)\n    File \"/opt/homebrew/lib/python3.11/site-packages/keras/src/losses.py\", line 270, in call  **\n        return ag_fn(y_true, y_pred, **self._fn_kwargs)\n    File \"/opt/homebrew/lib/python3.11/site-packages/keras/src/losses.py\", line 2221, in categorical_crossentropy\n        return backend.categorical_crossentropy(\n    File \"/opt/homebrew/lib/python3.11/site-packages/keras/src/backend.py\", line 5573, in categorical_crossentropy\n        target.shape.assert_is_compatible_with(output.shape)\n\n    ValueError: Shapes (None, 32, 78) and (None, 32) are incompatible\n"
     ]
    }
   ],
   "source": [
    "import tensorflow as tf\n",
    "from tensorflow.keras import layers, models\n",
    "\n",
    "def create_improved_cnn(input_shape, output_length, num_classes):\n",
    "    model = models.Sequential()\n",
    "\n",
    "    # First Convolutional Block\n",
    "    model.add(layers.Conv2D(128, (3, 3), activation='relu', padding='same', input_shape=input_shape))\n",
    "    model.add(layers.MaxPooling2D((2, 2)))\n",
    "\n",
    "    # Second Convolutional Block\n",
    "    model.add(layers.Conv2D(64, (3, 3), activation='relu', padding='same'))\n",
    "    model.add(layers.MaxPooling2D((2, 2)))\n",
    "\n",
    "    # Third Convolutional Block\n",
    "    model.add(layers.Conv2D(32, (3, 3), activation='relu', padding='same'))\n",
    "    model.add(layers.MaxPooling2D((2, 2)))\n",
    "\n",
    "    # Add flatten layer\n",
    "    model.add(layers.Flatten())\n",
    "\n",
    "    # Dense Layers\n",
    "    model.add(layers.Dense(128, activation='relu'))\n",
    "    model.add(layers.Dropout(0.3))\n",
    "    \n",
    "    # Output layer with 'num_classes' units\n",
    "    model.add(layers.Dense(num_classes, activation='sigmoid'))\n",
    "\n",
    "    # Output layer with no activation function\n",
    "    model.add(layers.Dense(num_classes))\n",
    "    \n",
    "    return model\n",
    "\n",
    "def create_improved_cnn(input_shape, output_length, num_classes):\n",
    "    model = models.Sequential()\n",
    "\n",
    "    # First Convolutional Block\n",
    "    model.add(layers.Conv2D(128, (3, 3), activation='relu', padding='same', input_shape=input_shape))\n",
    "    model.add(layers.BatchNormalization())\n",
    "    model.add(layers.MaxPooling2D((2, 2)))\n",
    "\n",
    "    # Second Convolutional Block\n",
    "    model.add(layers.Conv2D(64, (3, 3), activation='relu', padding='same'))\n",
    "    model.add(layers.BatchNormalization())\n",
    "    model.add(layers.MaxPooling2D((2, 2)))\n",
    "\n",
    "    # Third Convolutional Block\n",
    "    model.add(layers.Conv2D(32, (3, 3), activation='relu', padding='same'))\n",
    "    model.add(layers.BatchNormalization())\n",
    "    model.add(layers.MaxPooling2D((2, 2)))\n",
    "\n",
    "    # Flatten and Dense Layers\n",
    "    model.add(layers.Flatten())\n",
    "    model.add(layers.Dense(128, activation='relu'))\n",
    "    model.add(layers.Dropout(0.5))\n",
    "\n",
    "    # Output layer with 'softmax' activation for multi-class classification\n",
    "    # model.add(layers.Dense(num_classes, activation='softmax'))\n",
    "\n",
    "    # adapt the output to one hot encoding of the label (must be (none, 32, len(vocabulary))\n",
    "    model.add(layers.Dense(output_length, activation='sigmoid'))\n",
    "    \n",
    "\n",
    "    return model\n",
    "\n",
    "\n",
    "# Define your parameters\n",
    "input_shape = X_train.shape[1:]  # Replace with actual shape (32, 128, 1)\n",
    "output_length = y_train.shape[1]  # Replace with actual length 18\n",
    "num_classes =  y_train.shape[1] # Replace with the actual number of classes\n",
    "\n",
    "\"\"\"# Create and compile the improved model\n",
    "model = create_improved_cnn(input_shape, output_length, num_classes)\n",
    "adam = tf.keras.optimizers.Adam(learning_rate=0.00001)\n",
    "model.compile(optimizer='adam',\n",
    "              loss='categorical_crossentropy', \n",
    "              metrics=['accuracy'])\n",
    "\n",
    "model.summary()\n",
    "\n",
    "history = model.fit(X_train, y_train, epochs=5, validation_data=(X_val, y_val))\n",
    "\n",
    "plot_history(history)\"\"\"\n",
    "\n",
    "# Create and compile the improved model\n",
    "model = create_improved_cnn(input_shape, output_length, num_classes)\n",
    "model.compile(optimizer=tf.keras.optimizers.Adam(learning_rate=0.0000001),\n",
    "              loss='categorical_crossentropy',  # or 'sparse_categorical_crossentropy'\n",
    "              metrics=['accuracy'])\n",
    "\n",
    "model.summary()\n",
    "\n",
    "# Implement early stopping and learning rate reduction\n",
    "early_stopping = tf.keras.callbacks.EarlyStopping(monitor='val_loss', patience=10)\n",
    "reduce_lr = tf.keras.callbacks.ReduceLROnPlateau(monitor='val_loss', factor=0.2, patience=5)\n",
    "\n",
    "history = model.fit(X_train, y_train, epochs=50, validation_data=(X_val, y_val), callbacks=[early_stopping, reduce_lr])\n",
    "plot_history(history)"
   ]
  },
  {
   "cell_type": "code",
   "execution_count": 233,
   "metadata": {},
   "outputs": [
    {
     "data": {
      "image/png": "[encoded data removed]",
      "text/plain": [
       "<Figure size 640x480 with 1 Axes>"
      ]
     },
     "metadata": {},
     "output_type": "display_data"
    },
    {
     "data": {
      "image/png": "[encoded data removed]",
      "text/plain": [
       "<Figure size 640x480 with 1 Axes>"
      ]
     },
     "metadata": {},
     "output_type": "display_data"
    }
   ],
   "source": [
    "plot_history(history)"
   ]
  },
  {
   "cell_type": "code",
   "execution_count": 174,
   "metadata": {},
   "outputs": [
    {
     "name": "stderr",
     "output_type": "stream",
     "text": [
      "WARNING:absl:At this time, the v2.11+ optimizer `tf.keras.optimizers.Adam` runs slowly on M1/M2 Macs, please use the legacy Keras optimizer instead, located at `tf.keras.optimizers.legacy.Adam`.\n"
     ]
    },
    {
     "name": "stdout",
     "output_type": "stream",
     "text": [
      "Model: \"sequential_21\"\n",
      "_________________________________________________________________\n",
      " Layer (type)                Output Shape              Param #   \n",
      "=================================================================\n",
      " conv2d_70 (Conv2D)          (None, 32, 128, 32)       320       \n",
      "                                                                 \n",
      " max_pooling2d_69 (MaxPooli  (None, 16, 64, 32)        0         \n",
      " ng2D)                                                           \n",
      "                                                                 \n",
      " conv2d_71 (Conv2D)          (None, 16, 64, 64)        18496     \n",
      "                                                                 \n",
      " max_pooling2d_70 (MaxPooli  (None, 8, 32, 64)         0         \n",
      " ng2D)                                                           \n",
      "                                                                 \n",
      " reshape_6 (Reshape)         (None, 32, 512)           0         \n",
      "                                                                 \n",
      " bidirectional_12 (Bidirect  (None, 32, 256)           656384    \n",
      " ional)                                                          \n",
      "                                                                 \n",
      " bidirectional_13 (Bidirect  (None, 128)               164352    \n",
      " ional)                                                          \n",
      "                                                                 \n",
      " dense_58 (Dense)            (None, 128)               16512     \n",
      "                                                                 \n",
      " dropout_19 (Dropout)        (None, 128)               0         \n",
      "                                                                 \n",
      " dense_59 (Dense)            (None, 19)                2451      \n",
      "                                                                 \n",
      "=================================================================\n",
      "Total params: 858515 (3.27 MB)\n",
      "Trainable params: 858515 (3.27 MB)\n",
      "Non-trainable params: 0 (0.00 Byte)\n",
      "_________________________________________________________________\n",
      "Epoch 1/5\n",
      "289/289 [==============================] - 26s 85ms/step - loss: 2006.6799 - accuracy: 0.2267 - val_loss: 1924.4200 - val_accuracy: 0.4397\n",
      "Epoch 2/5\n",
      "289/289 [==============================] - 24s 85ms/step - loss: 2056.5037 - accuracy: 0.1064 - val_loss: 2783.8406 - val_accuracy: 0.0867\n",
      "Epoch 3/5\n",
      "289/289 [==============================] - 25s 86ms/step - loss: 2147.4363 - accuracy: 0.0395 - val_loss: 1330.6727 - val_accuracy: 0.0295\n",
      "Epoch 4/5\n",
      "289/289 [==============================] - 24s 84ms/step - loss: 2036.9918 - accuracy: 0.0427 - val_loss: 2782.7153 - val_accuracy: 0.0867\n",
      "Epoch 5/5\n",
      "289/289 [==============================] - 24s 84ms/step - loss: 2054.4309 - accuracy: 0.0539 - val_loss: 1834.1819 - val_accuracy: 0.0425\n"
     ]
    },
    {
     "data": {
      "image/png": "[encoded data removed]",
      "text/plain": [
       "<Figure size 640x480 with 1 Axes>"
      ]
     },
     "metadata": {},
     "output_type": "display_data"
    },
    {
     "data": {
      "image/png": "[encoded data removed]",
      "text/plain": [
       "<Figure size 640x480 with 1 Axes>"
      ]
     },
     "metadata": {},
     "output_type": "display_data"
    }
   ],
   "source": [
    "import tensorflow as tf\n",
    "from tensorflow.keras import layers, models\n",
    "\n",
    "def create_cnn_rnn(input_shape, output_length, num_classes):\n",
    "    model = models.Sequential()\n",
    "\n",
    "    # First Convolutional Block\n",
    "    model.add(layers.Conv2D(32, (3, 3), activation='relu', padding='same', input_shape=input_shape))\n",
    "    model.add(layers.MaxPooling2D((2, 2)))\n",
    "    model.add(layers.Conv2D(64, (3, 3), activation='relu', padding='same'))\n",
    "    model.add(layers.MaxPooling2D((2, 2)))\n",
    "\n",
    "    # Prepare for the RNN layer\n",
    "    model.add(layers.Reshape(target_shape=(-1, 64 * (input_shape[0] // 4))))  # Adjust depending on your input shape\n",
    "\n",
    "    # RNN Layer - LSTM\n",
    "    model.add(layers.Bidirectional(layers.LSTM(128, return_sequences=True)))\n",
    "    model.add(layers.Bidirectional(layers.LSTM(64)))\n",
    "\n",
    "    # Dense Layers\n",
    "    model.add(layers.Dense(128, activation='relu'))\n",
    "    model.add(layers.Dropout(0.3))\n",
    "\n",
    "    # Output layer without activation\n",
    "    model.add(layers.Dense(num_classes))\n",
    "\n",
    "    \n",
    "    return model\n",
    "\n",
    "# Define your parameters\n",
    "input_shape = X_train.shape[1:]  # Replace with actual shape (32, 128, 1)\n",
    "output_length = y_train.shape[1]  # Replace with actual length 18\n",
    "num_classes = y_train.shape[1] # Replace with the actual number of classes\n",
    "\n",
    "# Create and compile the CNN-RNN model\n",
    "model = create_cnn_rnn(input_shape, output_length, num_classes)\n",
    "adam = Adam(learning_rate=0.0001)\n",
    "model.compile(optimizer='adam', loss='categorical_crossentropy', metrics=['accuracy'])\n",
    "\n",
    "model.summary()\n",
    "\n",
    "history = model.fit(X_train, y_train, epochs=5, validation_data=(X_val, y_val))\n",
    "\n",
    "plot_history(history)"
   ]
  },
  {
   "cell_type": "markdown",
   "metadata": {},
   "source": []
  },
  {
   "cell_type": "markdown",
   "metadata": {},
   "source": [
    "#### (Model 2) Adding Embedding layer"
   ]
  },
  {
   "cell_type": "code",
   "execution_count": 203,
   "metadata": {},
   "outputs": [
    {
     "name": "stdout",
     "output_type": "stream",
     "text": [
      "Model: \"model_25\"\n",
      "__________________________________________________________________________________________________\n",
      " Layer (type)                Output Shape                 Param #   Connected to                  \n",
      "==================================================================================================\n",
      " image_input (InputLayer)    [(None, 32, 128, 1)]         0         []                            \n",
      "                                                                                                  \n",
      " conv2d_112 (Conv2D)         (None, 32, 128, 32)          320       ['image_input[0][0]']         \n",
      "                                                                                                  \n",
      " max_pooling2d_111 (MaxPool  (None, 16, 64, 32)           0         ['conv2d_112[0][0]']          \n",
      " ing2D)                                                                                           \n",
      "                                                                                                  \n",
      " conv2d_113 (Conv2D)         (None, 16, 64, 64)           18496     ['max_pooling2d_111[0][0]']   \n",
      "                                                                                                  \n",
      " max_pooling2d_112 (MaxPool  (None, 8, 32, 64)            0         ['conv2d_113[0][0]']          \n",
      " ing2D)                                                                                           \n",
      "                                                                                                  \n",
      " label_input (InputLayer)    [(None, 21)]                 0         []                            \n",
      "                                                                                                  \n",
      " flatten_31 (Flatten)        (None, 16384)                0         ['max_pooling2d_112[0][0]']   \n",
      "                                                                                                  \n",
      " embedding_11 (Embedding)    (None, 21, 50)               3900      ['label_input[0][0]']         \n",
      "                                                                                                  \n",
      " dense_86 (Dense)            (None, 128)                  2097280   ['flatten_31[0][0]']          \n",
      "                                                                                                  \n",
      " flatten_32 (Flatten)        (None, 1050)                 0         ['embedding_11[0][0]']        \n",
      "                                                                                                  \n",
      " concatenate_9 (Concatenate  (None, 1178)                 0         ['dense_86[0][0]',            \n",
      " )                                                                   'flatten_32[0][0]']          \n",
      "                                                                                                  \n",
      " dense_87 (Dense)            (None, 128)                  150912    ['concatenate_9[0][0]']       \n",
      "                                                                                                  \n",
      " dense_88 (Dense)            (None, 78)                   10062     ['dense_87[0][0]']            \n",
      "                                                                                                  \n",
      "==================================================================================================\n",
      "Total params: 2280970 (8.70 MB)\n",
      "Trainable params: 2280970 (8.70 MB)\n",
      "Non-trainable params: 0 (0.00 Byte)\n",
      "__________________________________________________________________________________________________\n",
      "Epoch 1/5\n"
     ]
    },
    {
     "ename": "ValueError",
     "evalue": "in user code:\n\n    File \"/opt/homebrew/lib/python3.11/site-packages/keras/src/engine/training.py\", line 1401, in train_function  *\n        return step_function(self, iterator)\n    File \"/opt/homebrew/lib/python3.11/site-packages/keras/src/engine/training.py\", line 1384, in step_function  **\n        outputs = model.distribute_strategy.run(run_step, args=(data,))\n    File \"/opt/homebrew/lib/python3.11/site-packages/keras/src/engine/training.py\", line 1373, in run_step  **\n        outputs = model.train_step(data)\n    File \"/opt/homebrew/lib/python3.11/site-packages/keras/src/engine/training.py\", line 1150, in train_step\n        y_pred = self(x, training=True)\n    File \"/opt/homebrew/lib/python3.11/site-packages/keras/src/utils/traceback_utils.py\", line 70, in error_handler\n        raise e.with_traceback(filtered_tb) from None\n    File \"/opt/homebrew/lib/python3.11/site-packages/keras/src/engine/input_spec.py\", line 219, in assert_input_compatibility\n        raise ValueError(\n\n    ValueError: Layer \"model_25\" expects 2 input(s), but it received 1 input tensors. Inputs received: [<tf.Tensor 'IteratorGetNext:0' shape=(None, 32, 128, 1) dtype=float32>]\n",
     "output_type": "error",
     "traceback": [
      "\u001b[0;31m---------------------------------------------------------------------------\u001b[0m",
      "\u001b[0;31mValueError\u001b[0m                                Traceback (most recent call last)",
      "Cell \u001b[0;32mIn[203], line 45\u001b[0m\n\u001b[1;32m     39\u001b[0m model\u001b[38;5;241m.\u001b[39mcompile(optimizer\u001b[38;5;241m=\u001b[39m\u001b[38;5;124m'\u001b[39m\u001b[38;5;124madam\u001b[39m\u001b[38;5;124m'\u001b[39m,\n\u001b[1;32m     40\u001b[0m               loss\u001b[38;5;241m=\u001b[39m\u001b[38;5;124m'\u001b[39m\u001b[38;5;124mcategorical_crossentropy\u001b[39m\u001b[38;5;124m'\u001b[39m, \n\u001b[1;32m     41\u001b[0m               metrics\u001b[38;5;241m=\u001b[39m[\u001b[38;5;124m'\u001b[39m\u001b[38;5;124maccuracy\u001b[39m\u001b[38;5;124m'\u001b[39m])\n\u001b[1;32m     43\u001b[0m model\u001b[38;5;241m.\u001b[39msummary()\n\u001b[0;32m---> 45\u001b[0m history \u001b[38;5;241m=\u001b[39m \u001b[43mmodel\u001b[49m\u001b[38;5;241;43m.\u001b[39;49m\u001b[43mfit\u001b[49m\u001b[43m(\u001b[49m\u001b[43mX_train\u001b[49m\u001b[43m,\u001b[49m\u001b[43m \u001b[49m\u001b[43my_train\u001b[49m\u001b[43m,\u001b[49m\u001b[43m \u001b[49m\u001b[43mepochs\u001b[49m\u001b[38;5;241;43m=\u001b[39;49m\u001b[38;5;241;43m5\u001b[39;49m\u001b[43m,\u001b[49m\u001b[43m \u001b[49m\u001b[43mvalidation_data\u001b[49m\u001b[38;5;241;43m=\u001b[39;49m\u001b[43m(\u001b[49m\u001b[43mX_val\u001b[49m\u001b[43m,\u001b[49m\u001b[43m \u001b[49m\u001b[43my_val\u001b[49m\u001b[43m)\u001b[49m\u001b[43m)\u001b[49m\n\u001b[1;32m     47\u001b[0m plot_history(history)\n",
      "File \u001b[0;32m/opt/homebrew/lib/python3.11/site-packages/keras/src/utils/traceback_utils.py:70\u001b[0m, in \u001b[0;36mfilter_traceback.<locals>.error_handler\u001b[0;34m(*args, **kwargs)\u001b[0m\n\u001b[1;32m     67\u001b[0m     filtered_tb \u001b[38;5;241m=\u001b[39m _process_traceback_frames(e\u001b[38;5;241m.\u001b[39m__traceback__)\n\u001b[1;32m     68\u001b[0m     \u001b[38;5;66;03m# To get the full stack trace, call:\u001b[39;00m\n\u001b[1;32m     69\u001b[0m     \u001b[38;5;66;03m# `tf.debugging.disable_traceback_filtering()`\u001b[39;00m\n\u001b[0;32m---> 70\u001b[0m     \u001b[38;5;28;01mraise\u001b[39;00m e\u001b[38;5;241m.\u001b[39mwith_traceback(filtered_tb) \u001b[38;5;28;01mfrom\u001b[39;00m \u001b[38;5;28;01mNone\u001b[39;00m\n\u001b[1;32m     71\u001b[0m \u001b[38;5;28;01mfinally\u001b[39;00m:\n\u001b[1;32m     72\u001b[0m     \u001b[38;5;28;01mdel\u001b[39;00m filtered_tb\n",
      "File \u001b[0;32m/var/folders/6q/0yfg3pwd67d3xrqsp_16lm680000gn/T/__autograph_generated_fileydrij3be.py:15\u001b[0m, in \u001b[0;36mouter_factory.<locals>.inner_factory.<locals>.tf__train_function\u001b[0;34m(iterator)\u001b[0m\n\u001b[1;32m     13\u001b[0m \u001b[38;5;28;01mtry\u001b[39;00m:\n\u001b[1;32m     14\u001b[0m     do_return \u001b[38;5;241m=\u001b[39m \u001b[38;5;28;01mTrue\u001b[39;00m\n\u001b[0;32m---> 15\u001b[0m     retval_ \u001b[38;5;241m=\u001b[39m ag__\u001b[38;5;241m.\u001b[39mconverted_call(ag__\u001b[38;5;241m.\u001b[39mld(step_function), (ag__\u001b[38;5;241m.\u001b[39mld(\u001b[38;5;28mself\u001b[39m), ag__\u001b[38;5;241m.\u001b[39mld(iterator)), \u001b[38;5;28;01mNone\u001b[39;00m, fscope)\n\u001b[1;32m     16\u001b[0m \u001b[38;5;28;01mexcept\u001b[39;00m:\n\u001b[1;32m     17\u001b[0m     do_return \u001b[38;5;241m=\u001b[39m \u001b[38;5;28;01mFalse\u001b[39;00m\n",
      "\u001b[0;31mValueError\u001b[0m: in user code:\n\n    File \"/opt/homebrew/lib/python3.11/site-packages/keras/src/engine/training.py\", line 1401, in train_function  *\n        return step_function(self, iterator)\n    File \"/opt/homebrew/lib/python3.11/site-packages/keras/src/engine/training.py\", line 1384, in step_function  **\n        outputs = model.distribute_strategy.run(run_step, args=(data,))\n    File \"/opt/homebrew/lib/python3.11/site-packages/keras/src/engine/training.py\", line 1373, in run_step  **\n        outputs = model.train_step(data)\n    File \"/opt/homebrew/lib/python3.11/site-packages/keras/src/engine/training.py\", line 1150, in train_step\n        y_pred = self(x, training=True)\n    File \"/opt/homebrew/lib/python3.11/site-packages/keras/src/utils/traceback_utils.py\", line 70, in error_handler\n        raise e.with_traceback(filtered_tb) from None\n    File \"/opt/homebrew/lib/python3.11/site-packages/keras/src/engine/input_spec.py\", line 219, in assert_input_compatibility\n        raise ValueError(\n\n    ValueError: Layer \"model_25\" expects 2 input(s), but it received 1 input tensors. Inputs received: [<tf.Tensor 'IteratorGetNext:0' shape=(None, 32, 128, 1) dtype=float32>]\n"
     ]
    }
   ],
   "source": [
    "import tensorflow as tf\n",
    "from tensorflow.keras import layers, models\n",
    "\n",
    "def create_model_with_embedding(input_shape, output_length, num_classes):\n",
    "    # Image model\n",
    "    image_input = tf.keras.Input(shape=input_shape, name='image_input')\n",
    "    x = layers.Conv2D(32, (3, 3), activation='relu', padding='same')(image_input)\n",
    "    x = layers.MaxPooling2D((2, 2))(x)\n",
    "    x = layers.Conv2D(64, (3, 3), activation='relu', padding='same')(x)\n",
    "    x = layers.MaxPooling2D((2, 2))(x)\n",
    "    x = layers.Flatten()(x)\n",
    "    x = layers.Dense(128, activation='relu')(x)\n",
    "\n",
    "    # Label input for embedding\n",
    "    label_input = tf.keras.Input(shape=(output_length,), name='label_input')\n",
    "    label_embedding = layers.Embedding(input_dim=num_classes, output_dim=50)(label_input)\n",
    "    \n",
    "    # Combine image features with label embeddings\n",
    "    combined = layers.concatenate([x, layers.Flatten()(label_embedding)])\n",
    "    \n",
    "    # Add a dense layer\n",
    "    combined = layers.Dense(128, activation='relu')(combined)\n",
    "    \n",
    "    # Output layer\n",
    "    output = layers.Dense(num_classes, activation='sigmoid')(combined)\n",
    "\n",
    "    # Create model\n",
    "    model = models.Model(inputs=[image_input, label_input], outputs=output)\n",
    "\n",
    "    return model\n",
    "\n",
    "# Define your parameters\n",
    "input_shape = X_train.shape[1:]\n",
    "output_length = y_train.shape[1]\n",
    "num_classes = \n",
    "\n",
    "# Create and compile the model\n",
    "model = create_model_with_embedding(input_shape, output_length, num_classes)\n",
    "model.compile(optimizer='adam',\n",
    "              loss='categorical_crossentropy', \n",
    "              metrics=['accuracy'])\n",
    "\n",
    "model.summary()\n",
    "\n",
    "history = model.fit(X_train, y_train, epochs=5, validation_data=(X_val, y_val))\n",
    "\n",
    "plot_history(history)\n"
   ]
  },
  {
   "cell_type": "code",
   "execution_count": 202,
   "metadata": {},
   "outputs": [
    {
     "name": "stderr",
     "output_type": "stream",
     "text": [
      "WARNING:absl:At this time, the v2.11+ optimizer `tf.keras.optimizers.Adam` runs slowly on M1/M2 Macs, please use the legacy Keras optimizer instead, located at `tf.keras.optimizers.legacy.Adam`.\n"
     ]
    },
    {
     "name": "stdout",
     "output_type": "stream",
     "text": [
      "Model: \"model_24\"\n",
      "__________________________________________________________________________________________________\n",
      " Layer (type)                Output Shape                 Param #   Connected to                  \n",
      "==================================================================================================\n",
      " image_input (InputLayer)    [(None, 32, 128, 1)]         0         []                            \n",
      "                                                                                                  \n",
      " conv2d_110 (Conv2D)         (None, 32, 128, 32)          320       ['image_input[0][0]']         \n",
      "                                                                                                  \n",
      " max_pooling2d_109 (MaxPool  (None, 16, 64, 32)           0         ['conv2d_110[0][0]']          \n",
      " ing2D)                                                                                           \n",
      "                                                                                                  \n",
      " conv2d_111 (Conv2D)         (None, 16, 64, 64)           18496     ['max_pooling2d_109[0][0]']   \n",
      "                                                                                                  \n",
      " max_pooling2d_110 (MaxPool  (None, 8, 32, 64)            0         ['conv2d_111[0][0]']          \n",
      " ing2D)                                                                                           \n",
      "                                                                                                  \n",
      " reshape_23 (Reshape)        (None, 32, 512)              0         ['max_pooling2d_110[0][0]']   \n",
      "                                                                                                  \n",
      " bidirectional_54 (Bidirect  (None, 32, 256)              656384    ['reshape_23[0][0]']          \n",
      " ional)                                                                                           \n",
      "                                                                                                  \n",
      " bidirectional_55 (Bidirect  (None, 32, 128)              164352    ['bidirectional_54[0][0]']    \n",
      " ional)                                                                                           \n",
      "                                                                                                  \n",
      " labels (InputLayer)         [(None, None)]               0         []                            \n",
      "                                                                                                  \n",
      " dense_85 (Dense)            (None, 32, 78)               10062     ['bidirectional_55[0][0]']    \n",
      "                                                                                                  \n",
      " ctc_loss (CTCLayer)         (None, 32, 78)               0         ['labels[0][0]',              \n",
      "                                                                     'dense_85[0][0]']            \n",
      "                                                                                                  \n",
      "==================================================================================================\n",
      "Total params: 849614 (3.24 MB)\n",
      "Trainable params: 849614 (3.24 MB)\n",
      "Non-trainable params: 0 (0.00 Byte)\n",
      "__________________________________________________________________________________________________\n",
      "Epoch 1/5\n",
      "  1/289 [..............................] - ETA: 12:08 - loss: inf"
     ]
    },
    {
     "name": "stderr",
     "output_type": "stream",
     "text": [
      "2023-12-27 18:06:52.732370: W ./tensorflow/core/util/ctc/ctc_loss_calculator.h:499] No valid path found.\n",
      "2023-12-27 18:06:52.732385: W ./tensorflow/core/util/ctc/ctc_loss_calculator.h:499] No valid path found.\n",
      "2023-12-27 18:06:52.732435: W ./tensorflow/core/util/ctc/ctc_loss_calculator.h:499] No valid path found.\n",
      "2023-12-27 18:06:52.732451: W ./tensorflow/core/util/ctc/ctc_loss_calculator.h:499] No valid path found.\n",
      "2023-12-27 18:06:52.732458: W ./tensorflow/core/util/ctc/ctc_loss_calculator.h:499] No valid path found.\n",
      "2023-12-27 18:06:52.732462: W ./tensorflow/core/util/ctc/ctc_loss_calculator.h:499] No valid path found.\n",
      "2023-12-27 18:06:52.732473: W ./tensorflow/core/util/ctc/ctc_loss_calculator.h:499] No valid path found.\n",
      "2023-12-27 18:06:52.732496: W ./tensorflow/core/util/ctc/ctc_loss_calculator.h:499] No valid path found.\n",
      "2023-12-27 18:06:52.732515: W ./tensorflow/core/util/ctc/ctc_loss_calculator.h:499] No valid path found.\n",
      "2023-12-27 18:06:52.732533: W ./tensorflow/core/util/ctc/ctc_loss_calculator.h:499] No valid path found.\n",
      "2023-12-27 18:06:52.732542: W ./tensorflow/core/util/ctc/ctc_loss_calculator.h:499] No valid path found.\n",
      "2023-12-27 18:06:52.732550: W ./tensorflow/core/util/ctc/ctc_loss_calculator.h:499] No valid path found.\n",
      "2023-12-27 18:06:52.732557: W ./tensorflow/core/util/ctc/ctc_loss_calculator.h:499] No valid path found.\n",
      "2023-12-27 18:06:52.732572: W ./tensorflow/core/util/ctc/ctc_loss_calculator.h:499] No valid path found.\n",
      "2023-12-27 18:06:52.732587: W ./tensorflow/core/util/ctc/ctc_loss_calculator.h:499] No valid path found.\n",
      "2023-12-27 18:06:52.732597: W ./tensorflow/core/util/ctc/ctc_loss_calculator.h:499] No valid path found.\n",
      "2023-12-27 18:06:52.732609: W ./tensorflow/core/util/ctc/ctc_loss_calculator.h:499] No valid path found.\n",
      "2023-12-27 18:06:52.732623: W ./tensorflow/core/util/ctc/ctc_loss_calculator.h:499] No valid path found.\n",
      "2023-12-27 18:06:52.732629: W ./tensorflow/core/util/ctc/ctc_loss_calculator.h:499] No valid path found.\n",
      "2023-12-27 18:06:52.732647: W ./tensorflow/core/util/ctc/ctc_loss_calculator.h:499] No valid path found.\n",
      "2023-12-27 18:06:52.732653: W ./tensorflow/core/util/ctc/ctc_loss_calculator.h:499] No valid path found.\n",
      "2023-12-27 18:06:52.911437: W ./tensorflow/core/util/ctc/ctc_loss_calculator.h:499] No valid path found.\n",
      "2023-12-27 18:06:52.911453: W ./tensorflow/core/util/ctc/ctc_loss_calculator.h:499] No valid path found.\n",
      "2023-12-27 18:06:52.911468: W ./tensorflow/core/util/ctc/ctc_loss_calculator.h:499] No valid path found.\n",
      "2023-12-27 18:06:52.911474: W ./tensorflow/core/util/ctc/ctc_loss_calculator.h:499] No valid path found.\n",
      "2023-12-27 18:06:52.911481: W ./tensorflow/core/util/ctc/ctc_loss_calculator.h:499] No valid path found.\n",
      "2023-12-27 18:06:52.911488: W ./tensorflow/core/util/ctc/ctc_loss_calculator.h:499] No valid path found.\n",
      "2023-12-27 18:06:52.911496: W ./tensorflow/core/util/ctc/ctc_loss_calculator.h:499] No valid path found.\n",
      "2023-12-27 18:06:52.911501: W ./tensorflow/core/util/ctc/ctc_loss_calculator.h:499] No valid path found.\n",
      "2023-12-27 18:06:52.911508: W ./tensorflow/core/util/ctc/ctc_loss_calculator.h:499] No valid path found.\n",
      "2023-12-27 18:06:52.911515: W ./tensorflow/core/util/ctc/ctc_loss_calculator.h:499] No valid path found.\n",
      "2023-12-27 18:06:52.911518: W ./tensorflow/core/util/ctc/ctc_loss_calculator.h:499] No valid path found.\n",
      "2023-12-27 18:06:52.911545: W ./tensorflow/core/util/ctc/ctc_loss_calculator.h:499] No valid path found.\n",
      "2023-12-27 18:06:52.911558: W ./tensorflow/core/util/ctc/ctc_loss_calculator.h:499] No valid path found.\n",
      "2023-12-27 18:06:52.911573: W ./tensorflow/core/util/ctc/ctc_loss_calculator.h:499] No valid path found.\n",
      "2023-12-27 18:06:52.911580: W ./tensorflow/core/util/ctc/ctc_loss_calculator.h:499] No valid path found.\n",
      "2023-12-27 18:06:52.911594: W ./tensorflow/core/util/ctc/ctc_loss_calculator.h:499] No valid path found.\n",
      "2023-12-27 18:06:52.911609: W ./tensorflow/core/util/ctc/ctc_loss_calculator.h:499] No valid path found.\n",
      "2023-12-27 18:06:52.911625: W ./tensorflow/core/util/ctc/ctc_loss_calculator.h:499] No valid path found.\n",
      "2023-12-27 18:06:52.911640: W ./tensorflow/core/util/ctc/ctc_loss_calculator.h:499] No valid path found.\n",
      "2023-12-27 18:06:52.911654: W ./tensorflow/core/util/ctc/ctc_loss_calculator.h:499] No valid path found.\n",
      "2023-12-27 18:06:52.911670: W ./tensorflow/core/util/ctc/ctc_loss_calculator.h:499] No valid path found.\n",
      "2023-12-27 18:06:52.911679: W ./tensorflow/core/util/ctc/ctc_loss_calculator.h:499] No valid path found.\n"
     ]
    },
    {
     "name": "stdout",
     "output_type": "stream",
     "text": [
      "  5/289 [..............................] - ETA: 18s - loss: inf"
     ]
    },
    {
     "name": "stderr",
     "output_type": "stream",
     "text": [
      "2023-12-27 18:06:52.976580: W ./tensorflow/core/util/ctc/ctc_loss_calculator.h:499] No valid path found.\n",
      "2023-12-27 18:06:52.976607: W ./tensorflow/core/util/ctc/ctc_loss_calculator.h:499] No valid path found.\n",
      "2023-12-27 18:06:52.976617: W ./tensorflow/core/util/ctc/ctc_loss_calculator.h:499] No valid path found.\n",
      "2023-12-27 18:06:52.976623: W ./tensorflow/core/util/ctc/ctc_loss_calculator.h:499] No valid path found.\n",
      "2023-12-27 18:06:52.976639: W ./tensorflow/core/util/ctc/ctc_loss_calculator.h:499] No valid path found.\n",
      "2023-12-27 18:06:52.976650: W ./tensorflow/core/util/ctc/ctc_loss_calculator.h:499] No valid path found.\n",
      "2023-12-27 18:06:52.976658: W ./tensorflow/core/util/ctc/ctc_loss_calculator.h:499] No valid path found.\n",
      "2023-12-27 18:06:52.976672: W ./tensorflow/core/util/ctc/ctc_loss_calculator.h:499] No valid path found.\n",
      "2023-12-27 18:06:52.976678: W ./tensorflow/core/util/ctc/ctc_loss_calculator.h:499] No valid path found.\n",
      "2023-12-27 18:06:52.976691: W ./tensorflow/core/util/ctc/ctc_loss_calculator.h:499] No valid path found.\n",
      "2023-12-27 18:06:52.976696: W ./tensorflow/core/util/ctc/ctc_loss_calculator.h:499] No valid path found.\n",
      "2023-12-27 18:06:52.976722: W ./tensorflow/core/util/ctc/ctc_loss_calculator.h:499] No valid path found.\n",
      "2023-12-27 18:06:52.976745: W ./tensorflow/core/util/ctc/ctc_loss_calculator.h:499] No valid path found.\n",
      "2023-12-27 18:06:52.976771: W ./tensorflow/core/util/ctc/ctc_loss_calculator.h:499] No valid path found.\n",
      "2023-12-27 18:06:52.976785: W ./tensorflow/core/util/ctc/ctc_loss_calculator.h:499] No valid path found.\n",
      "2023-12-27 18:06:52.976798: W ./tensorflow/core/util/ctc/ctc_loss_calculator.h:499] No valid path found.\n",
      "2023-12-27 18:06:52.976813: W ./tensorflow/core/util/ctc/ctc_loss_calculator.h:499] No valid path found.\n",
      "2023-12-27 18:06:52.976824: W ./tensorflow/core/util/ctc/ctc_loss_calculator.h:499] No valid path found.\n",
      "2023-12-27 18:06:52.976842: W ./tensorflow/core/util/ctc/ctc_loss_calculator.h:499] No valid path found.\n",
      "2023-12-27 18:06:52.976860: W ./tensorflow/core/util/ctc/ctc_loss_calculator.h:499] No valid path found.\n",
      "2023-12-27 18:06:52.976872: W ./tensorflow/core/util/ctc/ctc_loss_calculator.h:499] No valid path found.\n",
      "2023-12-27 18:06:52.976884: W ./tensorflow/core/util/ctc/ctc_loss_calculator.h:499] No valid path found.\n",
      "2023-12-27 18:06:53.034869: W ./tensorflow/core/util/ctc/ctc_loss_calculator.h:499] No valid path found.\n",
      "2023-12-27 18:06:53.034886: W ./tensorflow/core/util/ctc/ctc_loss_calculator.h:499] No valid path found.\n",
      "2023-12-27 18:06:53.034897: W ./tensorflow/core/util/ctc/ctc_loss_calculator.h:499] No valid path found.\n",
      "2023-12-27 18:06:53.034904: W ./tensorflow/core/util/ctc/ctc_loss_calculator.h:499] No valid path found.\n",
      "2023-12-27 18:06:53.034909: W ./tensorflow/core/util/ctc/ctc_loss_calculator.h:499] No valid path found.\n",
      "2023-12-27 18:06:53.034923: W ./tensorflow/core/util/ctc/ctc_loss_calculator.h:499] No valid path found.\n",
      "2023-12-27 18:06:53.034929: W ./tensorflow/core/util/ctc/ctc_loss_calculator.h:499] No valid path found.\n",
      "2023-12-27 18:06:53.034932: W ./tensorflow/core/util/ctc/ctc_loss_calculator.h:499] No valid path found.\n",
      "2023-12-27 18:06:53.034940: W ./tensorflow/core/util/ctc/ctc_loss_calculator.h:499] No valid path found.\n",
      "2023-12-27 18:06:53.034943: W ./tensorflow/core/util/ctc/ctc_loss_calculator.h:499] No valid path found.\n",
      "2023-12-27 18:06:53.034954: W ./tensorflow/core/util/ctc/ctc_loss_calculator.h:499] No valid path found.\n",
      "2023-12-27 18:06:53.034962: W ./tensorflow/core/util/ctc/ctc_loss_calculator.h:499] No valid path found.\n",
      "2023-12-27 18:06:53.034974: W ./tensorflow/core/util/ctc/ctc_loss_calculator.h:499] No valid path found.\n",
      "2023-12-27 18:06:53.035005: W ./tensorflow/core/util/ctc/ctc_loss_calculator.h:499] No valid path found.\n",
      "2023-12-27 18:06:53.035012: W ./tensorflow/core/util/ctc/ctc_loss_calculator.h:499] No valid path found.\n",
      "2023-12-27 18:06:53.035017: W ./tensorflow/core/util/ctc/ctc_loss_calculator.h:499] No valid path found.\n",
      "2023-12-27 18:06:53.035025: W ./tensorflow/core/util/ctc/ctc_loss_calculator.h:499] No valid path found.\n",
      "2023-12-27 18:06:53.035035: W ./tensorflow/core/util/ctc/ctc_loss_calculator.h:499] No valid path found.\n",
      "2023-12-27 18:06:53.035046: W ./tensorflow/core/util/ctc/ctc_loss_calculator.h:499] No valid path found.\n",
      "2023-12-27 18:06:53.035057: W ./tensorflow/core/util/ctc/ctc_loss_calculator.h:499] No valid path found.\n",
      "2023-12-27 18:06:53.035069: W ./tensorflow/core/util/ctc/ctc_loss_calculator.h:499] No valid path found.\n",
      "2023-12-27 18:06:53.035075: W ./tensorflow/core/util/ctc/ctc_loss_calculator.h:499] No valid path found.\n",
      "2023-12-27 18:06:53.035081: W ./tensorflow/core/util/ctc/ctc_loss_calculator.h:499] No valid path found.\n",
      "2023-12-27 18:06:53.035092: W ./tensorflow/core/util/ctc/ctc_loss_calculator.h:499] No valid path found.\n",
      "2023-12-27 18:06:53.100079: W ./tensorflow/core/util/ctc/ctc_loss_calculator.h:499] No valid path found.\n",
      "2023-12-27 18:06:53.100095: W ./tensorflow/core/util/ctc/ctc_loss_calculator.h:499] No valid path found.\n",
      "2023-12-27 18:06:53.100108: W ./tensorflow/core/util/ctc/ctc_loss_calculator.h:499] No valid path found.\n",
      "2023-12-27 18:06:53.100117: W ./tensorflow/core/util/ctc/ctc_loss_calculator.h:499] No valid path found.\n",
      "2023-12-27 18:06:53.100133: W ./tensorflow/core/util/ctc/ctc_loss_calculator.h:499] No valid path found.\n",
      "2023-12-27 18:06:53.100140: W ./tensorflow/core/util/ctc/ctc_loss_calculator.h:499] No valid path found.\n",
      "2023-12-27 18:06:53.100162: W ./tensorflow/core/util/ctc/ctc_loss_calculator.h:499] No valid path found.\n",
      "2023-12-27 18:06:53.100178: W ./tensorflow/core/util/ctc/ctc_loss_calculator.h:499] No valid path found.\n",
      "2023-12-27 18:06:53.100192: W ./tensorflow/core/util/ctc/ctc_loss_calculator.h:499] No valid path found.\n",
      "2023-12-27 18:06:53.100204: W ./tensorflow/core/util/ctc/ctc_loss_calculator.h:499] No valid path found.\n",
      "2023-12-27 18:06:53.100211: W ./tensorflow/core/util/ctc/ctc_loss_calculator.h:499] No valid path found.\n",
      "2023-12-27 18:06:53.100225: W ./tensorflow/core/util/ctc/ctc_loss_calculator.h:499] No valid path found.\n",
      "2023-12-27 18:06:53.100247: W ./tensorflow/core/util/ctc/ctc_loss_calculator.h:499] No valid path found.\n",
      "2023-12-27 18:06:53.100272: W ./tensorflow/core/util/ctc/ctc_loss_calculator.h:499] No valid path found.\n",
      "2023-12-27 18:06:53.100278: W ./tensorflow/core/util/ctc/ctc_loss_calculator.h:499] No valid path found.\n",
      "2023-12-27 18:06:53.100283: W ./tensorflow/core/util/ctc/ctc_loss_calculator.h:499] No valid path found.\n",
      "2023-12-27 18:06:53.100298: W ./tensorflow/core/util/ctc/ctc_loss_calculator.h:499] No valid path found.\n",
      "2023-12-27 18:06:53.100311: W ./tensorflow/core/util/ctc/ctc_loss_calculator.h:499] No valid path found.\n",
      "2023-12-27 18:06:53.100321: W ./tensorflow/core/util/ctc/ctc_loss_calculator.h:499] No valid path found.\n",
      "2023-12-27 18:06:53.100332: W ./tensorflow/core/util/ctc/ctc_loss_calculator.h:499] No valid path found.\n",
      "2023-12-27 18:06:53.100350: W ./tensorflow/core/util/ctc/ctc_loss_calculator.h:499] No valid path found.\n",
      "2023-12-27 18:06:53.171986: W ./tensorflow/core/util/ctc/ctc_loss_calculator.h:499] No valid path found.\n",
      "2023-12-27 18:06:53.172000: W ./tensorflow/core/util/ctc/ctc_loss_calculator.h:499] No valid path found.\n",
      "2023-12-27 18:06:53.172008: W ./tensorflow/core/util/ctc/ctc_loss_calculator.h:499] No valid path found.\n",
      "2023-12-27 18:06:53.172016: W ./tensorflow/core/util/ctc/ctc_loss_calculator.h:499] No valid path found.\n",
      "2023-12-27 18:06:53.172022: W ./tensorflow/core/util/ctc/ctc_loss_calculator.h:499] No valid path found.\n",
      "2023-12-27 18:06:53.172034: W ./tensorflow/core/util/ctc/ctc_loss_calculator.h:499] No valid path found.\n",
      "2023-12-27 18:06:53.172041: W ./tensorflow/core/util/ctc/ctc_loss_calculator.h:499] No valid path found.\n",
      "2023-12-27 18:06:53.172059: W ./tensorflow/core/util/ctc/ctc_loss_calculator.h:499] No valid path found.\n",
      "2023-12-27 18:06:53.172067: W ./tensorflow/core/util/ctc/ctc_loss_calculator.h:499] No valid path found.\n",
      "2023-12-27 18:06:53.172072: W ./tensorflow/core/util/ctc/ctc_loss_calculator.h:499] No valid path found.\n",
      "2023-12-27 18:06:53.172076: W ./tensorflow/core/util/ctc/ctc_loss_calculator.h:499] No valid path found.\n",
      "2023-12-27 18:06:53.172080: W ./tensorflow/core/util/ctc/ctc_loss_calculator.h:499] No valid path found.\n",
      "2023-12-27 18:06:53.172084: W ./tensorflow/core/util/ctc/ctc_loss_calculator.h:499] No valid path found.\n",
      "2023-12-27 18:06:53.172091: W ./tensorflow/core/util/ctc/ctc_loss_calculator.h:499] No valid path found.\n",
      "2023-12-27 18:06:53.172095: W ./tensorflow/core/util/ctc/ctc_loss_calculator.h:499] No valid path found.\n",
      "2023-12-27 18:06:53.172106: W ./tensorflow/core/util/ctc/ctc_loss_calculator.h:499] No valid path found.\n",
      "2023-12-27 18:06:53.172124: W ./tensorflow/core/util/ctc/ctc_loss_calculator.h:499] No valid path found.\n",
      "2023-12-27 18:06:53.172129: W ./tensorflow/core/util/ctc/ctc_loss_calculator.h:499] No valid path found.\n",
      "2023-12-27 18:06:53.172135: W ./tensorflow/core/util/ctc/ctc_loss_calculator.h:499] No valid path found.\n",
      "2023-12-27 18:06:53.172155: W ./tensorflow/core/util/ctc/ctc_loss_calculator.h:499] No valid path found.\n"
     ]
    },
    {
     "name": "stdout",
     "output_type": "stream",
     "text": [
      "  8/289 [..............................] - ETA: 20s - loss: inf"
     ]
    },
    {
     "name": "stderr",
     "output_type": "stream",
     "text": [
      "2023-12-27 18:06:53.260412: W ./tensorflow/core/util/ctc/ctc_loss_calculator.h:499] No valid path found.\n",
      "2023-12-27 18:06:53.260437: W ./tensorflow/core/util/ctc/ctc_loss_calculator.h:499] No valid path found.\n",
      "2023-12-27 18:06:53.260446: W ./tensorflow/core/util/ctc/ctc_loss_calculator.h:499] No valid path found.\n",
      "2023-12-27 18:06:53.260453: W ./tensorflow/core/util/ctc/ctc_loss_calculator.h:499] No valid path found.\n",
      "2023-12-27 18:06:53.260465: W ./tensorflow/core/util/ctc/ctc_loss_calculator.h:499] No valid path found.\n",
      "2023-12-27 18:06:53.260500: W ./tensorflow/core/util/ctc/ctc_loss_calculator.h:499] No valid path found.\n",
      "2023-12-27 18:06:53.260513: W ./tensorflow/core/util/ctc/ctc_loss_calculator.h:499] No valid path found.\n",
      "2023-12-27 18:06:53.260524: W ./tensorflow/core/util/ctc/ctc_loss_calculator.h:499] No valid path found.\n",
      "2023-12-27 18:06:53.260533: W ./tensorflow/core/util/ctc/ctc_loss_calculator.h:499] No valid path found.\n",
      "2023-12-27 18:06:53.260549: W ./tensorflow/core/util/ctc/ctc_loss_calculator.h:499] No valid path found.\n",
      "2023-12-27 18:06:53.260557: W ./tensorflow/core/util/ctc/ctc_loss_calculator.h:499] No valid path found.\n",
      "2023-12-27 18:06:53.260568: W ./tensorflow/core/util/ctc/ctc_loss_calculator.h:499] No valid path found.\n",
      "2023-12-27 18:06:53.260570: W ./tensorflow/core/util/ctc/ctc_loss_calculator.h:499] No valid path found.\n",
      "2023-12-27 18:06:53.260582: W ./tensorflow/core/util/ctc/ctc_loss_calculator.h:499] No valid path found.\n",
      "2023-12-27 18:06:53.260603: W ./tensorflow/core/util/ctc/ctc_loss_calculator.h:499] No valid path found.\n",
      "2023-12-27 18:06:53.260615: W ./tensorflow/core/util/ctc/ctc_loss_calculator.h:499] No valid path found.\n",
      "2023-12-27 18:06:53.260631: W ./tensorflow/core/util/ctc/ctc_loss_calculator.h:499] No valid path found.\n",
      "2023-12-27 18:06:53.260645: W ./tensorflow/core/util/ctc/ctc_loss_calculator.h:499] No valid path found.\n",
      "2023-12-27 18:06:53.260673: W ./tensorflow/core/util/ctc/ctc_loss_calculator.h:499] No valid path found.\n",
      "2023-12-27 18:06:53.260675: W ./tensorflow/core/util/ctc/ctc_loss_calculator.h:499] No valid path found.\n",
      "2023-12-27 18:06:53.260682: W ./tensorflow/core/util/ctc/ctc_loss_calculator.h:499] No valid path found.\n",
      "2023-12-27 18:06:53.260698: W ./tensorflow/core/util/ctc/ctc_loss_calculator.h:499] No valid path found.\n",
      "2023-12-27 18:06:53.342019: W ./tensorflow/core/util/ctc/ctc_loss_calculator.h:499] No valid path found.\n",
      "2023-12-27 18:06:53.342044: W ./tensorflow/core/util/ctc/ctc_loss_calculator.h:499] No valid path found.\n",
      "2023-12-27 18:06:53.342054: W ./tensorflow/core/util/ctc/ctc_loss_calculator.h:499] No valid path found.\n",
      "2023-12-27 18:06:53.342070: W ./tensorflow/core/util/ctc/ctc_loss_calculator.h:499] No valid path found.\n",
      "2023-12-27 18:06:53.342078: W ./tensorflow/core/util/ctc/ctc_loss_calculator.h:499] No valid path found.\n",
      "2023-12-27 18:06:53.342087: W ./tensorflow/core/util/ctc/ctc_loss_calculator.h:499] No valid path found.\n",
      "2023-12-27 18:06:53.342095: W ./tensorflow/core/util/ctc/ctc_loss_calculator.h:499] No valid path found.\n",
      "2023-12-27 18:06:53.342103: W ./tensorflow/core/util/ctc/ctc_loss_calculator.h:499] No valid path found.\n",
      "2023-12-27 18:06:53.342112: W ./tensorflow/core/util/ctc/ctc_loss_calculator.h:499] No valid path found.\n",
      "2023-12-27 18:06:53.342119: W ./tensorflow/core/util/ctc/ctc_loss_calculator.h:499] No valid path found.\n",
      "2023-12-27 18:06:53.342130: W ./tensorflow/core/util/ctc/ctc_loss_calculator.h:499] No valid path found.\n",
      "2023-12-27 18:06:53.342139: W ./tensorflow/core/util/ctc/ctc_loss_calculator.h:499] No valid path found.\n",
      "2023-12-27 18:06:53.342145: W ./tensorflow/core/util/ctc/ctc_loss_calculator.h:499] No valid path found.\n",
      "2023-12-27 18:06:53.342151: W ./tensorflow/core/util/ctc/ctc_loss_calculator.h:499] No valid path found.\n",
      "2023-12-27 18:06:53.342168: W ./tensorflow/core/util/ctc/ctc_loss_calculator.h:499] No valid path found.\n",
      "2023-12-27 18:06:53.342178: W ./tensorflow/core/util/ctc/ctc_loss_calculator.h:499] No valid path found.\n",
      "2023-12-27 18:06:53.342188: W ./tensorflow/core/util/ctc/ctc_loss_calculator.h:499] No valid path found.\n",
      "2023-12-27 18:06:53.342282: W ./tensorflow/core/util/ctc/ctc_loss_calculator.h:499] No valid path found.\n",
      "2023-12-27 18:06:53.417438: W ./tensorflow/core/util/ctc/ctc_loss_calculator.h:499] No valid path found.\n",
      "2023-12-27 18:06:53.417461: W ./tensorflow/core/util/ctc/ctc_loss_calculator.h:499] No valid path found.\n",
      "2023-12-27 18:06:53.417472: W ./tensorflow/core/util/ctc/ctc_loss_calculator.h:499] No valid path found.\n",
      "2023-12-27 18:06:53.417481: W ./tensorflow/core/util/ctc/ctc_loss_calculator.h:499] No valid path found.\n",
      "2023-12-27 18:06:53.417487: W ./tensorflow/core/util/ctc/ctc_loss_calculator.h:499] No valid path found.\n",
      "2023-12-27 18:06:53.417507: W ./tensorflow/core/util/ctc/ctc_loss_calculator.h:499] No valid path found.\n",
      "2023-12-27 18:06:53.417515: W ./tensorflow/core/util/ctc/ctc_loss_calculator.h:499] No valid path found.\n",
      "2023-12-27 18:06:53.417533: W ./tensorflow/core/util/ctc/ctc_loss_calculator.h:499] No valid path found.\n",
      "2023-12-27 18:06:53.417537: W ./tensorflow/core/util/ctc/ctc_loss_calculator.h:499] No valid path found.\n",
      "2023-12-27 18:06:53.417544: W ./tensorflow/core/util/ctc/ctc_loss_calculator.h:499] No valid path found.\n",
      "2023-12-27 18:06:53.417557: W ./tensorflow/core/util/ctc/ctc_loss_calculator.h:499] No valid path found.\n",
      "2023-12-27 18:06:53.417566: W ./tensorflow/core/util/ctc/ctc_loss_calculator.h:499] No valid path found.\n",
      "2023-12-27 18:06:53.417579: W ./tensorflow/core/util/ctc/ctc_loss_calculator.h:499] No valid path found.\n",
      "2023-12-27 18:06:53.417587: W ./tensorflow/core/util/ctc/ctc_loss_calculator.h:499] No valid path found.\n",
      "2023-12-27 18:06:53.417602: W ./tensorflow/core/util/ctc/ctc_loss_calculator.h:499] No valid path found.\n",
      "2023-12-27 18:06:53.417615: W ./tensorflow/core/util/ctc/ctc_loss_calculator.h:499] No valid path found.\n",
      "2023-12-27 18:06:53.417630: W ./tensorflow/core/util/ctc/ctc_loss_calculator.h:499] No valid path found.\n",
      "2023-12-27 18:06:53.417639: W ./tensorflow/core/util/ctc/ctc_loss_calculator.h:499] No valid path found.\n",
      "2023-12-27 18:06:53.417646: W ./tensorflow/core/util/ctc/ctc_loss_calculator.h:499] No valid path found.\n",
      "2023-12-27 18:06:53.417650: W ./tensorflow/core/util/ctc/ctc_loss_calculator.h:499] No valid path found.\n",
      "2023-12-27 18:06:53.417658: W ./tensorflow/core/util/ctc/ctc_loss_calculator.h:499] No valid path found.\n",
      "2023-12-27 18:06:53.417675: W ./tensorflow/core/util/ctc/ctc_loss_calculator.h:499] No valid path found.\n",
      "2023-12-27 18:06:53.417686: W ./tensorflow/core/util/ctc/ctc_loss_calculator.h:499] No valid path found.\n",
      "2023-12-27 18:06:53.417698: W ./tensorflow/core/util/ctc/ctc_loss_calculator.h:499] No valid path found.\n"
     ]
    },
    {
     "name": "stdout",
     "output_type": "stream",
     "text": [
      " 11/289 [>.............................] - ETA: 21s - loss: inf"
     ]
    },
    {
     "name": "stderr",
     "output_type": "stream",
     "text": [
      "2023-12-27 18:06:53.508933: W ./tensorflow/core/util/ctc/ctc_loss_calculator.h:499] No valid path found.\n",
      "2023-12-27 18:06:53.508975: W ./tensorflow/core/util/ctc/ctc_loss_calculator.h:499] No valid path found.\n",
      "2023-12-27 18:06:53.509000: W ./tensorflow/core/util/ctc/ctc_loss_calculator.h:499] No valid path found.\n",
      "2023-12-27 18:06:53.509008: W ./tensorflow/core/util/ctc/ctc_loss_calculator.h:499] No valid path found.\n",
      "2023-12-27 18:06:53.509024: W ./tensorflow/core/util/ctc/ctc_loss_calculator.h:499] No valid path found.\n",
      "2023-12-27 18:06:53.509057: W ./tensorflow/core/util/ctc/ctc_loss_calculator.h:499] No valid path found.\n",
      "2023-12-27 18:06:53.509074: W ./tensorflow/core/util/ctc/ctc_loss_calculator.h:499] No valid path found.\n",
      "2023-12-27 18:06:53.509083: W ./tensorflow/core/util/ctc/ctc_loss_calculator.h:499] No valid path found.\n",
      "2023-12-27 18:06:53.509108: W ./tensorflow/core/util/ctc/ctc_loss_calculator.h:499] No valid path found.\n",
      "2023-12-27 18:06:53.509113: W ./tensorflow/core/util/ctc/ctc_loss_calculator.h:499] No valid path found.\n",
      "2023-12-27 18:06:53.509129: W ./tensorflow/core/util/ctc/ctc_loss_calculator.h:499] No valid path found.\n",
      "2023-12-27 18:06:53.509134: W ./tensorflow/core/util/ctc/ctc_loss_calculator.h:499] No valid path found.\n",
      "2023-12-27 18:06:53.509174: W ./tensorflow/core/util/ctc/ctc_loss_calculator.h:499] No valid path found.\n",
      "2023-12-27 18:06:53.509187: W ./tensorflow/core/util/ctc/ctc_loss_calculator.h:499] No valid path found.\n",
      "2023-12-27 18:06:53.509199: W ./tensorflow/core/util/ctc/ctc_loss_calculator.h:499] No valid path found.\n",
      "2023-12-27 18:06:53.509203: W ./tensorflow/core/util/ctc/ctc_loss_calculator.h:499] No valid path found.\n",
      "2023-12-27 18:06:53.509229: W ./tensorflow/core/util/ctc/ctc_loss_calculator.h:499] No valid path found.\n",
      "2023-12-27 18:06:53.509246: W ./tensorflow/core/util/ctc/ctc_loss_calculator.h:499] No valid path found.\n",
      "2023-12-27 18:06:53.509251: W ./tensorflow/core/util/ctc/ctc_loss_calculator.h:499] No valid path found.\n",
      "2023-12-27 18:06:53.601015: W ./tensorflow/core/util/ctc/ctc_loss_calculator.h:499] No valid path found.\n",
      "2023-12-27 18:06:53.601052: W ./tensorflow/core/util/ctc/ctc_loss_calculator.h:499] No valid path found.\n",
      "2023-12-27 18:06:53.601079: W ./tensorflow/core/util/ctc/ctc_loss_calculator.h:499] No valid path found.\n",
      "2023-12-27 18:06:53.601084: W ./tensorflow/core/util/ctc/ctc_loss_calculator.h:499] No valid path found.\n",
      "2023-12-27 18:06:53.601099: W ./tensorflow/core/util/ctc/ctc_loss_calculator.h:499] No valid path found.\n",
      "2023-12-27 18:06:53.601131: W ./tensorflow/core/util/ctc/ctc_loss_calculator.h:499] No valid path found.\n",
      "2023-12-27 18:06:53.601144: W ./tensorflow/core/util/ctc/ctc_loss_calculator.h:499] No valid path found.\n",
      "2023-12-27 18:06:53.601154: W ./tensorflow/core/util/ctc/ctc_loss_calculator.h:499] No valid path found.\n",
      "2023-12-27 18:06:53.601160: W ./tensorflow/core/util/ctc/ctc_loss_calculator.h:499] No valid path found.\n",
      "2023-12-27 18:06:53.601166: W ./tensorflow/core/util/ctc/ctc_loss_calculator.h:499] No valid path found.\n",
      "2023-12-27 18:06:53.601174: W ./tensorflow/core/util/ctc/ctc_loss_calculator.h:499] No valid path found.\n",
      "2023-12-27 18:06:53.601178: W ./tensorflow/core/util/ctc/ctc_loss_calculator.h:499] No valid path found.\n",
      "2023-12-27 18:06:53.601183: W ./tensorflow/core/util/ctc/ctc_loss_calculator.h:499] No valid path found.\n",
      "2023-12-27 18:06:53.601189: W ./tensorflow/core/util/ctc/ctc_loss_calculator.h:499] No valid path found.\n",
      "2023-12-27 18:06:53.601202: W ./tensorflow/core/util/ctc/ctc_loss_calculator.h:499] No valid path found.\n",
      "2023-12-27 18:06:53.601219: W ./tensorflow/core/util/ctc/ctc_loss_calculator.h:499] No valid path found.\n",
      "2023-12-27 18:06:53.601231: W ./tensorflow/core/util/ctc/ctc_loss_calculator.h:499] No valid path found.\n",
      "2023-12-27 18:06:53.677147: W ./tensorflow/core/util/ctc/ctc_loss_calculator.h:499] No valid path found.\n",
      "2023-12-27 18:06:53.677167: W ./tensorflow/core/util/ctc/ctc_loss_calculator.h:499] No valid path found.\n",
      "2023-12-27 18:06:53.677173: W ./tensorflow/core/util/ctc/ctc_loss_calculator.h:499] No valid path found.\n",
      "2023-12-27 18:06:53.677201: W ./tensorflow/core/util/ctc/ctc_loss_calculator.h:499] No valid path found.\n",
      "2023-12-27 18:06:53.677210: W ./tensorflow/core/util/ctc/ctc_loss_calculator.h:499] No valid path found.\n",
      "2023-12-27 18:06:53.677222: W ./tensorflow/core/util/ctc/ctc_loss_calculator.h:499] No valid path found.\n",
      "2023-12-27 18:06:53.677225: W ./tensorflow/core/util/ctc/ctc_loss_calculator.h:499] No valid path found.\n",
      "2023-12-27 18:06:53.677248: W ./tensorflow/core/util/ctc/ctc_loss_calculator.h:499] No valid path found.\n",
      "2023-12-27 18:06:53.677258: W ./tensorflow/core/util/ctc/ctc_loss_calculator.h:499] No valid path found.\n",
      "2023-12-27 18:06:53.677274: W ./tensorflow/core/util/ctc/ctc_loss_calculator.h:499] No valid path found.\n",
      "2023-12-27 18:06:53.677289: W ./tensorflow/core/util/ctc/ctc_loss_calculator.h:499] No valid path found.\n",
      "2023-12-27 18:06:53.677304: W ./tensorflow/core/util/ctc/ctc_loss_calculator.h:499] No valid path found.\n",
      "2023-12-27 18:06:53.677336: W ./tensorflow/core/util/ctc/ctc_loss_calculator.h:499] No valid path found.\n",
      "2023-12-27 18:06:53.677347: W ./tensorflow/core/util/ctc/ctc_loss_calculator.h:499] No valid path found.\n",
      "2023-12-27 18:06:53.677359: W ./tensorflow/core/util/ctc/ctc_loss_calculator.h:499] No valid path found.\n",
      "2023-12-27 18:06:53.677371: W ./tensorflow/core/util/ctc/ctc_loss_calculator.h:499] No valid path found.\n",
      "2023-12-27 18:06:53.677388: W ./tensorflow/core/util/ctc/ctc_loss_calculator.h:499] No valid path found.\n",
      "2023-12-27 18:06:53.677400: W ./tensorflow/core/util/ctc/ctc_loss_calculator.h:499] No valid path found.\n",
      "2023-12-27 18:06:53.677412: W ./tensorflow/core/util/ctc/ctc_loss_calculator.h:499] No valid path found.\n",
      "2023-12-27 18:06:53.677435: W ./tensorflow/core/util/ctc/ctc_loss_calculator.h:499] No valid path found.\n",
      "2023-12-27 18:06:53.677447: W ./tensorflow/core/util/ctc/ctc_loss_calculator.h:499] No valid path found.\n"
     ]
    },
    {
     "name": "stdout",
     "output_type": "stream",
     "text": [
      " 15/289 [>.............................] - ETA: 21s - loss: inf"
     ]
    },
    {
     "name": "stderr",
     "output_type": "stream",
     "text": [
      "2023-12-27 18:06:53.796969: W ./tensorflow/core/util/ctc/ctc_loss_calculator.h:499] No valid path found.\n",
      "2023-12-27 18:06:53.796998: W ./tensorflow/core/util/ctc/ctc_loss_calculator.h:499] No valid path found.\n",
      "2023-12-27 18:06:53.797004: W ./tensorflow/core/util/ctc/ctc_loss_calculator.h:499] No valid path found.\n",
      "2023-12-27 18:06:53.797018: W ./tensorflow/core/util/ctc/ctc_loss_calculator.h:499] No valid path found.\n",
      "2023-12-27 18:06:53.797033: W ./tensorflow/core/util/ctc/ctc_loss_calculator.h:499] No valid path found.\n",
      "2023-12-27 18:06:53.797042: W ./tensorflow/core/util/ctc/ctc_loss_calculator.h:499] No valid path found.\n",
      "2023-12-27 18:06:53.797054: W ./tensorflow/core/util/ctc/ctc_loss_calculator.h:499] No valid path found.\n",
      "2023-12-27 18:06:53.797067: W ./tensorflow/core/util/ctc/ctc_loss_calculator.h:499] No valid path found.\n",
      "2023-12-27 18:06:53.797073: W ./tensorflow/core/util/ctc/ctc_loss_calculator.h:499] No valid path found.\n",
      "2023-12-27 18:06:53.797077: W ./tensorflow/core/util/ctc/ctc_loss_calculator.h:499] No valid path found.\n",
      "2023-12-27 18:06:53.797082: W ./tensorflow/core/util/ctc/ctc_loss_calculator.h:499] No valid path found.\n",
      "2023-12-27 18:06:53.797095: W ./tensorflow/core/util/ctc/ctc_loss_calculator.h:499] No valid path found.\n",
      "2023-12-27 18:06:53.797102: W ./tensorflow/core/util/ctc/ctc_loss_calculator.h:499] No valid path found.\n",
      "2023-12-27 18:06:53.797109: W ./tensorflow/core/util/ctc/ctc_loss_calculator.h:499] No valid path found.\n",
      "2023-12-27 18:06:53.797114: W ./tensorflow/core/util/ctc/ctc_loss_calculator.h:499] No valid path found.\n",
      "2023-12-27 18:06:53.797120: W ./tensorflow/core/util/ctc/ctc_loss_calculator.h:499] No valid path found.\n",
      "2023-12-27 18:06:53.797129: W ./tensorflow/core/util/ctc/ctc_loss_calculator.h:499] No valid path found.\n",
      "2023-12-27 18:06:53.797146: W ./tensorflow/core/util/ctc/ctc_loss_calculator.h:499] No valid path found.\n",
      "2023-12-27 18:06:53.797162: W ./tensorflow/core/util/ctc/ctc_loss_calculator.h:499] No valid path found.\n",
      "2023-12-27 18:06:53.797173: W ./tensorflow/core/util/ctc/ctc_loss_calculator.h:499] No valid path found.\n",
      "2023-12-27 18:06:53.797194: W ./tensorflow/core/util/ctc/ctc_loss_calculator.h:499] No valid path found.\n",
      "2023-12-27 18:06:53.869150: W ./tensorflow/core/util/ctc/ctc_loss_calculator.h:499] No valid path found.\n",
      "2023-12-27 18:06:53.869173: W ./tensorflow/core/util/ctc/ctc_loss_calculator.h:499] No valid path found.\n",
      "2023-12-27 18:06:53.869186: W ./tensorflow/core/util/ctc/ctc_loss_calculator.h:499] No valid path found.\n",
      "2023-12-27 18:06:53.869194: W ./tensorflow/core/util/ctc/ctc_loss_calculator.h:499] No valid path found.\n",
      "2023-12-27 18:06:53.869208: W ./tensorflow/core/util/ctc/ctc_loss_calculator.h:499] No valid path found.\n",
      "2023-12-27 18:06:53.869221: W ./tensorflow/core/util/ctc/ctc_loss_calculator.h:499] No valid path found.\n",
      "2023-12-27 18:06:53.869239: W ./tensorflow/core/util/ctc/ctc_loss_calculator.h:499] No valid path found.\n",
      "2023-12-27 18:06:53.869250: W ./tensorflow/core/util/ctc/ctc_loss_calculator.h:499] No valid path found.\n",
      "2023-12-27 18:06:53.869258: W ./tensorflow/core/util/ctc/ctc_loss_calculator.h:499] No valid path found.\n",
      "2023-12-27 18:06:53.869265: W ./tensorflow/core/util/ctc/ctc_loss_calculator.h:499] No valid path found.\n",
      "2023-12-27 18:06:53.869273: W ./tensorflow/core/util/ctc/ctc_loss_calculator.h:499] No valid path found.\n",
      "2023-12-27 18:06:53.869292: W ./tensorflow/core/util/ctc/ctc_loss_calculator.h:499] No valid path found.\n",
      "2023-12-27 18:06:53.869299: W ./tensorflow/core/util/ctc/ctc_loss_calculator.h:499] No valid path found.\n",
      "2023-12-27 18:06:53.869302: W ./tensorflow/core/util/ctc/ctc_loss_calculator.h:499] No valid path found.\n",
      "2023-12-27 18:06:53.869318: W ./tensorflow/core/util/ctc/ctc_loss_calculator.h:499] No valid path found.\n",
      "2023-12-27 18:06:53.869341: W ./tensorflow/core/util/ctc/ctc_loss_calculator.h:499] No valid path found.\n",
      "2023-12-27 18:06:53.869354: W ./tensorflow/core/util/ctc/ctc_loss_calculator.h:499] No valid path found.\n",
      "2023-12-27 18:06:53.869369: W ./tensorflow/core/util/ctc/ctc_loss_calculator.h:499] No valid path found.\n",
      "2023-12-27 18:06:53.869379: W ./tensorflow/core/util/ctc/ctc_loss_calculator.h:499] No valid path found.\n",
      "2023-12-27 18:06:53.869388: W ./tensorflow/core/util/ctc/ctc_loss_calculator.h:499] No valid path found.\n",
      "2023-12-27 18:06:53.869411: W ./tensorflow/core/util/ctc/ctc_loss_calculator.h:499] No valid path found.\n",
      "2023-12-27 18:06:53.941304: W ./tensorflow/core/util/ctc/ctc_loss_calculator.h:499] No valid path found.\n",
      "2023-12-27 18:06:53.941337: W ./tensorflow/core/util/ctc/ctc_loss_calculator.h:499] No valid path found.\n",
      "2023-12-27 18:06:53.941341: W ./tensorflow/core/util/ctc/ctc_loss_calculator.h:499] No valid path found.\n",
      "2023-12-27 18:06:53.941355: W ./tensorflow/core/util/ctc/ctc_loss_calculator.h:499] No valid path found.\n",
      "2023-12-27 18:06:53.941367: W ./tensorflow/core/util/ctc/ctc_loss_calculator.h:499] No valid path found.\n",
      "2023-12-27 18:06:53.941381: W ./tensorflow/core/util/ctc/ctc_loss_calculator.h:499] No valid path found.\n",
      "2023-12-27 18:06:53.941387: W ./tensorflow/core/util/ctc/ctc_loss_calculator.h:499] No valid path found.\n",
      "2023-12-27 18:06:53.941394: W ./tensorflow/core/util/ctc/ctc_loss_calculator.h:499] No valid path found.\n",
      "2023-12-27 18:06:53.941399: W ./tensorflow/core/util/ctc/ctc_loss_calculator.h:499] No valid path found.\n",
      "2023-12-27 18:06:53.941407: W ./tensorflow/core/util/ctc/ctc_loss_calculator.h:499] No valid path found.\n",
      "2023-12-27 18:06:53.941410: W ./tensorflow/core/util/ctc/ctc_loss_calculator.h:499] No valid path found.\n",
      "2023-12-27 18:06:53.941420: W ./tensorflow/core/util/ctc/ctc_loss_calculator.h:499] No valid path found.\n",
      "2023-12-27 18:06:53.941430: W ./tensorflow/core/util/ctc/ctc_loss_calculator.h:499] No valid path found.\n",
      "2023-12-27 18:06:53.941443: W ./tensorflow/core/util/ctc/ctc_loss_calculator.h:499] No valid path found.\n",
      "2023-12-27 18:06:53.941457: W ./tensorflow/core/util/ctc/ctc_loss_calculator.h:499] No valid path found.\n",
      "2023-12-27 18:06:53.941471: W ./tensorflow/core/util/ctc/ctc_loss_calculator.h:499] No valid path found.\n",
      "2023-12-27 18:06:53.941484: W ./tensorflow/core/util/ctc/ctc_loss_calculator.h:499] No valid path found.\n",
      "2023-12-27 18:06:53.941488: W ./tensorflow/core/util/ctc/ctc_loss_calculator.h:499] No valid path found.\n",
      "2023-12-27 18:06:53.941497: W ./tensorflow/core/util/ctc/ctc_loss_calculator.h:499] No valid path found.\n",
      "2023-12-27 18:06:53.941506: W ./tensorflow/core/util/ctc/ctc_loss_calculator.h:499] No valid path found.\n",
      "2023-12-27 18:06:53.941518: W ./tensorflow/core/util/ctc/ctc_loss_calculator.h:499] No valid path found.\n",
      "2023-12-27 18:06:53.941533: W ./tensorflow/core/util/ctc/ctc_loss_calculator.h:499] No valid path found.\n"
     ]
    },
    {
     "name": "stdout",
     "output_type": "stream",
     "text": [
      " 16/289 [>.............................] - ETA: 21s - loss: inf"
     ]
    },
    {
     "name": "stderr",
     "output_type": "stream",
     "text": [
      "2023-12-27 18:06:54.014943: W ./tensorflow/core/util/ctc/ctc_loss_calculator.h:499] No valid path found.\n",
      "2023-12-27 18:06:54.014986: W ./tensorflow/core/util/ctc/ctc_loss_calculator.h:499] No valid path found.\n",
      "2023-12-27 18:06:54.015009: W ./tensorflow/core/util/ctc/ctc_loss_calculator.h:499] No valid path found.\n",
      "2023-12-27 18:06:54.015023: W ./tensorflow/core/util/ctc/ctc_loss_calculator.h:499] No valid path found.\n",
      "2023-12-27 18:06:54.015037: W ./tensorflow/core/util/ctc/ctc_loss_calculator.h:499] No valid path found.\n",
      "2023-12-27 18:06:54.015041: W ./tensorflow/core/util/ctc/ctc_loss_calculator.h:499] No valid path found.\n",
      "2023-12-27 18:06:54.015059: W ./tensorflow/core/util/ctc/ctc_loss_calculator.h:499] No valid path found.\n",
      "2023-12-27 18:06:54.015064: W ./tensorflow/core/util/ctc/ctc_loss_calculator.h:499] No valid path found.\n",
      "2023-12-27 18:06:54.015077: W ./tensorflow/core/util/ctc/ctc_loss_calculator.h:499] No valid path found.\n",
      "2023-12-27 18:06:54.015089: W ./tensorflow/core/util/ctc/ctc_loss_calculator.h:499] No valid path found.\n",
      "2023-12-27 18:06:54.015111: W ./tensorflow/core/util/ctc/ctc_loss_calculator.h:499] No valid path found.\n",
      "2023-12-27 18:06:54.015117: W ./tensorflow/core/util/ctc/ctc_loss_calculator.h:499] No valid path found.\n",
      "2023-12-27 18:06:54.015128: W ./tensorflow/core/util/ctc/ctc_loss_calculator.h:499] No valid path found.\n",
      "2023-12-27 18:06:54.015137: W ./tensorflow/core/util/ctc/ctc_loss_calculator.h:499] No valid path found.\n",
      "2023-12-27 18:06:54.015143: W ./tensorflow/core/util/ctc/ctc_loss_calculator.h:499] No valid path found.\n",
      "2023-12-27 18:06:54.015173: W ./tensorflow/core/util/ctc/ctc_loss_calculator.h:499] No valid path found.\n",
      "2023-12-27 18:06:54.015183: W ./tensorflow/core/util/ctc/ctc_loss_calculator.h:499] No valid path found.\n",
      "2023-12-27 18:06:54.015192: W ./tensorflow/core/util/ctc/ctc_loss_calculator.h:499] No valid path found.\n",
      "2023-12-27 18:06:54.015205: W ./tensorflow/core/util/ctc/ctc_loss_calculator.h:499] No valid path found.\n",
      "2023-12-27 18:06:54.015219: W ./tensorflow/core/util/ctc/ctc_loss_calculator.h:499] No valid path found.\n",
      "2023-12-27 18:06:54.015231: W ./tensorflow/core/util/ctc/ctc_loss_calculator.h:499] No valid path found.\n",
      "2023-12-27 18:06:54.091453: W tensorflow/core/framework/op_kernel.cc:1839] OP_REQUIRES failed at ctc_loss_op.cc:216 : INVALID_ARGUMENT: Saw a non-null label (index >= num_classes - 1) following a null label, batch: 24 num_classes: 78 labels: 66,73,56,69,11,56,64,67,59,52,70,60,77,60,65,58,0,0,0 labels seen so far: 66,73,56,69,11,56,64,67,59,52,70,60\n"
     ]
    },
    {
     "ename": "InvalidArgumentError",
     "evalue": "Graph execution error:\n\nDetected at node model_24/ctc_loss/CTCLoss defined at (most recent call last):\n  File \"<frozen runpy>\", line 198, in _run_module_as_main\n\n  File \"<frozen runpy>\", line 88, in _run_code\n\n  File \"/Users/jorgemilhomem/Library/Python/3.11/lib/python/site-packages/ipykernel_launcher.py\", line 17, in <module>\n\n  File \"/Users/jorgemilhomem/Library/Python/3.11/lib/python/site-packages/traitlets/config/application.py\", line 1043, in launch_instance\n\n  File \"/Users/jorgemilhomem/Library/Python/3.11/lib/python/site-packages/ipykernel/kernelapp.py\", line 725, in start\n\n  File \"/Users/jorgemilhomem/Library/Python/3.11/lib/python/site-packages/tornado/platform/asyncio.py\", line 195, in start\n\n  File \"/opt/homebrew/Cellar/python@3.11/3.11.6_1/Frameworks/Python.framework/Versions/3.11/lib/python3.11/asyncio/base_events.py\", line 607, in run_forever\n\n  File \"/opt/homebrew/Cellar/python@3.11/3.11.6_1/Frameworks/Python.framework/Versions/3.11/lib/python3.11/asyncio/base_events.py\", line 1922, in _run_once\n\n  File \"/opt/homebrew/Cellar/python@3.11/3.11.6_1/Frameworks/Python.framework/Versions/3.11/lib/python3.11/asyncio/events.py\", line 80, in _run\n\n  File \"/Users/jorgemilhomem/Library/Python/3.11/lib/python/site-packages/ipykernel/kernelbase.py\", line 513, in dispatch_queue\n\n  File \"/Users/jorgemilhomem/Library/Python/3.11/lib/python/site-packages/ipykernel/kernelbase.py\", line 502, in process_one\n\n  File \"/Users/jorgemilhomem/Library/Python/3.11/lib/python/site-packages/ipykernel/kernelbase.py\", line 409, in dispatch_shell\n\n  File \"/Users/jorgemilhomem/Library/Python/3.11/lib/python/site-packages/ipykernel/kernelbase.py\", line 729, in execute_request\n\n  File \"/Users/jorgemilhomem/Library/Python/3.11/lib/python/site-packages/ipykernel/ipkernel.py\", line 422, in do_execute\n\n  File \"/Users/jorgemilhomem/Library/Python/3.11/lib/python/site-packages/ipykernel/zmqshell.py\", line 540, in run_cell\n\n  File \"/Users/jorgemilhomem/Library/Python/3.11/lib/python/site-packages/IPython/core/interactiveshell.py\", line 3009, in run_cell\n\n  File \"/Users/jorgemilhomem/Library/Python/3.11/lib/python/site-packages/IPython/core/interactiveshell.py\", line 3064, in _run_cell\n\n  File \"/Users/jorgemilhomem/Library/Python/3.11/lib/python/site-packages/IPython/core/async_helpers.py\", line 129, in _pseudo_sync_runner\n\n  File \"/Users/jorgemilhomem/Library/Python/3.11/lib/python/site-packages/IPython/core/interactiveshell.py\", line 3269, in run_cell_async\n\n  File \"/Users/jorgemilhomem/Library/Python/3.11/lib/python/site-packages/IPython/core/interactiveshell.py\", line 3448, in run_ast_nodes\n\n  File \"/Users/jorgemilhomem/Library/Python/3.11/lib/python/site-packages/IPython/core/interactiveshell.py\", line 3508, in run_code\n\n  File \"/var/folders/6q/0yfg3pwd67d3xrqsp_16lm680000gn/T/ipykernel_53581/4210470256.py\", line 69, in <module>\n\n  File \"/opt/homebrew/lib/python3.11/site-packages/keras/src/utils/traceback_utils.py\", line 65, in error_handler\n\n  File \"/opt/homebrew/lib/python3.11/site-packages/keras/src/engine/training.py\", line 1807, in fit\n\n  File \"/opt/homebrew/lib/python3.11/site-packages/keras/src/engine/training.py\", line 1401, in train_function\n\n  File \"/opt/homebrew/lib/python3.11/site-packages/keras/src/engine/training.py\", line 1384, in step_function\n\n  File \"/opt/homebrew/lib/python3.11/site-packages/keras/src/engine/training.py\", line 1373, in run_step\n\n  File \"/opt/homebrew/lib/python3.11/site-packages/keras/src/engine/training.py\", line 1150, in train_step\n\n  File \"/opt/homebrew/lib/python3.11/site-packages/keras/src/utils/traceback_utils.py\", line 65, in error_handler\n\n  File \"/opt/homebrew/lib/python3.11/site-packages/keras/src/engine/training.py\", line 590, in __call__\n\n  File \"/opt/homebrew/lib/python3.11/site-packages/keras/src/utils/traceback_utils.py\", line 65, in error_handler\n\n  File \"/opt/homebrew/lib/python3.11/site-packages/keras/src/engine/base_layer.py\", line 1149, in __call__\n\n  File \"/opt/homebrew/lib/python3.11/site-packages/keras/src/utils/traceback_utils.py\", line 96, in error_handler\n\n  File \"/opt/homebrew/lib/python3.11/site-packages/keras/src/engine/functional.py\", line 515, in call\n\n  File \"/opt/homebrew/lib/python3.11/site-packages/keras/src/engine/functional.py\", line 672, in _run_internal_graph\n\n  File \"/opt/homebrew/lib/python3.11/site-packages/keras/src/utils/traceback_utils.py\", line 65, in error_handler\n\n  File \"/opt/homebrew/lib/python3.11/site-packages/keras/src/engine/base_layer.py\", line 1149, in __call__\n\n  File \"/opt/homebrew/lib/python3.11/site-packages/keras/src/utils/traceback_utils.py\", line 96, in error_handler\n\n  File \"/var/folders/6q/0yfg3pwd67d3xrqsp_16lm680000gn/T/ipykernel_53581/617886189.py\", line 18, in call\n\n  File \"/opt/homebrew/lib/python3.11/site-packages/keras/src/backend.py\", line 7169, in ctc_batch_cost\n\nSaw a non-null label (index >= num_classes - 1) following a null label, batch: 24 num_classes: 78 labels: 66,73,56,69,11,56,64,67,59,52,70,60,77,60,65,58,0,0,0 labels seen so far: 66,73,56,69,11,56,64,67,59,52,70,60\n\t [[{{node model_24/ctc_loss/CTCLoss}}]] [Op:__inference_train_function_388657]",
     "output_type": "error",
     "traceback": [
      "\u001b[0;31m---------------------------------------------------------------------------\u001b[0m",
      "\u001b[0;31mInvalidArgumentError\u001b[0m                      Traceback (most recent call last)",
      "Cell \u001b[0;32mIn[202], line 69\u001b[0m\n\u001b[1;32m     65\u001b[0m \u001b[38;5;66;03m# Print summary\u001b[39;00m\n\u001b[1;32m     66\u001b[0m model\u001b[38;5;241m.\u001b[39msummary()\n\u001b[0;32m---> 69\u001b[0m history \u001b[38;5;241m=\u001b[39m \u001b[43mmodel\u001b[49m\u001b[38;5;241;43m.\u001b[39;49m\u001b[43mfit\u001b[49m\u001b[43m(\u001b[49m\n\u001b[1;32m     70\u001b[0m \u001b[43m    \u001b[49m\u001b[43m[\u001b[49m\u001b[43mX_train\u001b[49m\u001b[43m,\u001b[49m\u001b[43m \u001b[49m\u001b[43my_train\u001b[49m\u001b[43m]\u001b[49m\u001b[43m,\u001b[49m\u001b[43m  \u001b[49m\u001b[38;5;66;43;03m# Provide image and label inputs\u001b[39;49;00m\n\u001b[1;32m     71\u001b[0m \u001b[43m    \u001b[49m\u001b[43my_train\u001b[49m\u001b[43m,\u001b[49m\u001b[43m  \u001b[49m\u001b[38;5;66;43;03m# True labels for the CTC loss\u001b[39;49;00m\n\u001b[1;32m     72\u001b[0m \u001b[43m    \u001b[49m\u001b[43mepochs\u001b[49m\u001b[38;5;241;43m=\u001b[39;49m\u001b[38;5;241;43m5\u001b[39;49m\u001b[43m,\u001b[49m\n\u001b[1;32m     73\u001b[0m \u001b[43m    \u001b[49m\u001b[43mvalidation_data\u001b[49m\u001b[38;5;241;43m=\u001b[39;49m\u001b[43m(\u001b[49m\u001b[43m[\u001b[49m\u001b[43mX_val\u001b[49m\u001b[43m,\u001b[49m\u001b[43m \u001b[49m\u001b[43my_val\u001b[49m\u001b[43m]\u001b[49m\u001b[43m,\u001b[49m\u001b[43m \u001b[49m\u001b[43my_val\u001b[49m\u001b[43m)\u001b[49m\u001b[43m  \u001b[49m\u001b[38;5;66;43;03m# Validation data\u001b[39;49;00m\n\u001b[1;32m     74\u001b[0m \u001b[43m)\u001b[49m\n\u001b[1;32m     76\u001b[0m plot_history(history)\n",
      "File \u001b[0;32m/opt/homebrew/lib/python3.11/site-packages/keras/src/utils/traceback_utils.py:70\u001b[0m, in \u001b[0;36mfilter_traceback.<locals>.error_handler\u001b[0;34m(*args, **kwargs)\u001b[0m\n\u001b[1;32m     67\u001b[0m     filtered_tb \u001b[38;5;241m=\u001b[39m _process_traceback_frames(e\u001b[38;5;241m.\u001b[39m__traceback__)\n\u001b[1;32m     68\u001b[0m     \u001b[38;5;66;03m# To get the full stack trace, call:\u001b[39;00m\n\u001b[1;32m     69\u001b[0m     \u001b[38;5;66;03m# `tf.debugging.disable_traceback_filtering()`\u001b[39;00m\n\u001b[0;32m---> 70\u001b[0m     \u001b[38;5;28;01mraise\u001b[39;00m e\u001b[38;5;241m.\u001b[39mwith_traceback(filtered_tb) \u001b[38;5;28;01mfrom\u001b[39;00m \u001b[38;5;28;01mNone\u001b[39;00m\n\u001b[1;32m     71\u001b[0m \u001b[38;5;28;01mfinally\u001b[39;00m:\n\u001b[1;32m     72\u001b[0m     \u001b[38;5;28;01mdel\u001b[39;00m filtered_tb\n",
      "File \u001b[0;32m/opt/homebrew/lib/python3.11/site-packages/tensorflow/python/eager/execute.py:53\u001b[0m, in \u001b[0;36mquick_execute\u001b[0;34m(op_name, num_outputs, inputs, attrs, ctx, name)\u001b[0m\n\u001b[1;32m     51\u001b[0m \u001b[38;5;28;01mtry\u001b[39;00m:\n\u001b[1;32m     52\u001b[0m   ctx\u001b[38;5;241m.\u001b[39mensure_initialized()\n\u001b[0;32m---> 53\u001b[0m   tensors \u001b[38;5;241m=\u001b[39m pywrap_tfe\u001b[38;5;241m.\u001b[39mTFE_Py_Execute(ctx\u001b[38;5;241m.\u001b[39m_handle, device_name, op_name,\n\u001b[1;32m     54\u001b[0m                                       inputs, attrs, num_outputs)\n\u001b[1;32m     55\u001b[0m \u001b[38;5;28;01mexcept\u001b[39;00m core\u001b[38;5;241m.\u001b[39m_NotOkStatusException \u001b[38;5;28;01mas\u001b[39;00m e:\n\u001b[1;32m     56\u001b[0m   \u001b[38;5;28;01mif\u001b[39;00m name \u001b[38;5;129;01mis\u001b[39;00m \u001b[38;5;129;01mnot\u001b[39;00m \u001b[38;5;28;01mNone\u001b[39;00m:\n",
      "\u001b[0;31mInvalidArgumentError\u001b[0m: Graph execution error:\n\nDetected at node model_24/ctc_loss/CTCLoss defined at (most recent call last):\n  File \"<frozen runpy>\", line 198, in _run_module_as_main\n\n  File \"<frozen runpy>\", line 88, in _run_code\n\n  File \"/Users/jorgemilhomem/Library/Python/3.11/lib/python/site-packages/ipykernel_launcher.py\", line 17, in <module>\n\n  File \"/Users/jorgemilhomem/Library/Python/3.11/lib/python/site-packages/traitlets/config/application.py\", line 1043, in launch_instance\n\n  File \"/Users/jorgemilhomem/Library/Python/3.11/lib/python/site-packages/ipykernel/kernelapp.py\", line 725, in start\n\n  File \"/Users/jorgemilhomem/Library/Python/3.11/lib/python/site-packages/tornado/platform/asyncio.py\", line 195, in start\n\n  File \"/opt/homebrew/Cellar/python@3.11/3.11.6_1/Frameworks/Python.framework/Versions/3.11/lib/python3.11/asyncio/base_events.py\", line 607, in run_forever\n\n  File \"/opt/homebrew/Cellar/python@3.11/3.11.6_1/Frameworks/Python.framework/Versions/3.11/lib/python3.11/asyncio/base_events.py\", line 1922, in _run_once\n\n  File \"/opt/homebrew/Cellar/python@3.11/3.11.6_1/Frameworks/Python.framework/Versions/3.11/lib/python3.11/asyncio/events.py\", line 80, in _run\n\n  File \"/Users/jorgemilhomem/Library/Python/3.11/lib/python/site-packages/ipykernel/kernelbase.py\", line 513, in dispatch_queue\n\n  File \"/Users/jorgemilhomem/Library/Python/3.11/lib/python/site-packages/ipykernel/kernelbase.py\", line 502, in process_one\n\n  File \"/Users/jorgemilhomem/Library/Python/3.11/lib/python/site-packages/ipykernel/kernelbase.py\", line 409, in dispatch_shell\n\n  File \"/Users/jorgemilhomem/Library/Python/3.11/lib/python/site-packages/ipykernel/kernelbase.py\", line 729, in execute_request\n\n  File \"/Users/jorgemilhomem/Library/Python/3.11/lib/python/site-packages/ipykernel/ipkernel.py\", line 422, in do_execute\n\n  File \"/Users/jorgemilhomem/Library/Python/3.11/lib/python/site-packages/ipykernel/zmqshell.py\", line 540, in run_cell\n\n  File \"/Users/jorgemilhomem/Library/Python/3.11/lib/python/site-packages/IPython/core/interactiveshell.py\", line 3009, in run_cell\n\n  File \"/Users/jorgemilhomem/Library/Python/3.11/lib/python/site-packages/IPython/core/interactiveshell.py\", line 3064, in _run_cell\n\n  File \"/Users/jorgemilhomem/Library/Python/3.11/lib/python/site-packages/IPython/core/async_helpers.py\", line 129, in _pseudo_sync_runner\n\n  File \"/Users/jorgemilhomem/Library/Python/3.11/lib/python/site-packages/IPython/core/interactiveshell.py\", line 3269, in run_cell_async\n\n  File \"/Users/jorgemilhomem/Library/Python/3.11/lib/python/site-packages/IPython/core/interactiveshell.py\", line 3448, in run_ast_nodes\n\n  File \"/Users/jorgemilhomem/Library/Python/3.11/lib/python/site-packages/IPython/core/interactiveshell.py\", line 3508, in run_code\n\n  File \"/var/folders/6q/0yfg3pwd67d3xrqsp_16lm680000gn/T/ipykernel_53581/4210470256.py\", line 69, in <module>\n\n  File \"/opt/homebrew/lib/python3.11/site-packages/keras/src/utils/traceback_utils.py\", line 65, in error_handler\n\n  File \"/opt/homebrew/lib/python3.11/site-packages/keras/src/engine/training.py\", line 1807, in fit\n\n  File \"/opt/homebrew/lib/python3.11/site-packages/keras/src/engine/training.py\", line 1401, in train_function\n\n  File \"/opt/homebrew/lib/python3.11/site-packages/keras/src/engine/training.py\", line 1384, in step_function\n\n  File \"/opt/homebrew/lib/python3.11/site-packages/keras/src/engine/training.py\", line 1373, in run_step\n\n  File \"/opt/homebrew/lib/python3.11/site-packages/keras/src/engine/training.py\", line 1150, in train_step\n\n  File \"/opt/homebrew/lib/python3.11/site-packages/keras/src/utils/traceback_utils.py\", line 65, in error_handler\n\n  File \"/opt/homebrew/lib/python3.11/site-packages/keras/src/engine/training.py\", line 590, in __call__\n\n  File \"/opt/homebrew/lib/python3.11/site-packages/keras/src/utils/traceback_utils.py\", line 65, in error_handler\n\n  File \"/opt/homebrew/lib/python3.11/site-packages/keras/src/engine/base_layer.py\", line 1149, in __call__\n\n  File \"/opt/homebrew/lib/python3.11/site-packages/keras/src/utils/traceback_utils.py\", line 96, in error_handler\n\n  File \"/opt/homebrew/lib/python3.11/site-packages/keras/src/engine/functional.py\", line 515, in call\n\n  File \"/opt/homebrew/lib/python3.11/site-packages/keras/src/engine/functional.py\", line 672, in _run_internal_graph\n\n  File \"/opt/homebrew/lib/python3.11/site-packages/keras/src/utils/traceback_utils.py\", line 65, in error_handler\n\n  File \"/opt/homebrew/lib/python3.11/site-packages/keras/src/engine/base_layer.py\", line 1149, in __call__\n\n  File \"/opt/homebrew/lib/python3.11/site-packages/keras/src/utils/traceback_utils.py\", line 96, in error_handler\n\n  File \"/var/folders/6q/0yfg3pwd67d3xrqsp_16lm680000gn/T/ipykernel_53581/617886189.py\", line 18, in call\n\n  File \"/opt/homebrew/lib/python3.11/site-packages/keras/src/backend.py\", line 7169, in ctc_batch_cost\n\nSaw a non-null label (index >= num_classes - 1) following a null label, batch: 24 num_classes: 78 labels: 66,73,56,69,11,56,64,67,59,52,70,60,77,60,65,58,0,0,0 labels seen so far: 66,73,56,69,11,56,64,67,59,52,70,60\n\t [[{{node model_24/ctc_loss/CTCLoss}}]] [Op:__inference_train_function_388657]"
     ]
    }
   ],
   "source": [
    "import tensorflow as tf\n",
    "from tensorflow.keras import layers, models, backend\n",
    "\n",
    "# Define a custom CTC layer\n",
    "class CTCLayer(layers.Layer):\n",
    "    def __init__(self, name=None):\n",
    "        super().__init__(name=name)\n",
    "        self.loss_fn = backend.ctc_batch_cost\n",
    "\n",
    "    def call(self, y_true, y_pred):\n",
    "        batch_len = tf.cast(tf.shape(y_true)[0], dtype=\"int64\")\n",
    "        input_length = tf.cast(tf.shape(y_pred)[1], dtype=\"int64\")\n",
    "        label_length = tf.cast(tf.shape(y_true)[1], dtype=\"int64\")\n",
    "\n",
    "        input_length = input_length * tf.ones(shape=(batch_len, 1), dtype=\"int64\")\n",
    "        label_length = label_length * tf.ones(shape=(batch_len, 1), dtype=\"int64\")\n",
    "        \n",
    "        loss = self.loss_fn(y_true, y_pred, input_length, label_length)\n",
    "        self.add_loss(loss)\n",
    "\n",
    "        return y_pred\n",
    "\n",
    "def create_model_with_ctc(input_shape, output_length, num_classes):\n",
    "    # Image model\n",
    "    image_input = tf.keras.Input(shape=input_shape, name='image_input')\n",
    "    x = layers.Conv2D(32, (3, 3), activation='relu', padding='same')(image_input)\n",
    "    x = layers.MaxPooling2D((2, 2))(x)\n",
    "    x = layers.Conv2D(64, (3, 3), activation='relu', padding='same')(x)\n",
    "    x = layers.MaxPooling2D((2, 2))(x)\n",
    "    x = layers.Reshape(target_shape=(-1, 64 * (input_shape[0] // 4)))(x)  # Prepare for RNN\n",
    "\n",
    "    # RNN layers\n",
    "    x = layers.Bidirectional(layers.LSTM(128, return_sequences=True))(x)\n",
    "    x = layers.Bidirectional(layers.LSTM(64, return_sequences=True))(x)\n",
    "\n",
    "    # Output layer for CTC\n",
    "    x = layers.Dense(num_classes, activation='softmax')(x)\n",
    "    # Output layer for CTC\n",
    "    # x = layers.Dense(num_classes + 1, activation='log_softmax')(x) # Use log softmax instead of softmax\n",
    "\n",
    "    # Labels input\n",
    "    labels = layers.Input(name='labels', shape=(None,))\n",
    "\n",
    "    # CTC layer for calculating CTC loss at each step\n",
    "    output = CTCLayer(name='ctc_loss')(labels, x)\n",
    "    \n",
    "    # Define the model\n",
    "    model = models.Model(inputs=[image_input, labels], outputs=output)\n",
    "\n",
    "    # Compile the model\n",
    "    opt = tf.keras.optimizers.Adam(learning_rate=0.0001, clipvalue=0.5)\n",
    "    model.compile(optimizer=opt)\n",
    "\n",
    "    return model\n",
    "\n",
    "# Define your parameters\n",
    "input_shape = (32, 128, 1)  # Replace with actual shape\n",
    "output_length = 21  # Replace with actual length\n",
    "num_classes = 78  # Adjusted to cover all label values\n",
    "\n",
    "\n",
    "# Create and compile the model\n",
    "model = create_model_with_ctc(input_shape, output_length, num_classes)\n",
    "\n",
    "# Print summary\n",
    "model.summary()\n",
    "\n",
    "\n",
    "history = model.fit(\n",
    "    [X_train, y_train],  # Provide image and label inputs\n",
    "    y_train,  # True labels for the CTC loss\n",
    "    epochs=5,\n",
    "    validation_data=([X_val, y_val], y_val)  # Validation data\n",
    ")\n",
    "\n",
    "plot_history(history)"
   ]
  },
  {
   "cell_type": "code",
   "execution_count": 200,
   "metadata": {},
   "outputs": [
    {
     "name": "stdout",
     "output_type": "stream",
     "text": [
      "Unique training labels: [ 0  1  2  3  4  5  6  7  8  9 10 11 12 13 14 15 16 17 18 19 20 21 22 23\n",
      " 24 25 26 27 28 29 30 31 32 33 34 35 36 37 38 39 40 41 42 43 44 45 46 47\n",
      " 48 49 50 51 52 53 54 55 56 57 58 59 60 61 62 63 64 65 66 67 68 69 70 71\n",
      " 72 73 74 75 76 77]\n",
      "Unique validation labels: [ 0  1  2  3  4  5  6  7  8 10 11 12 14 15 16 17 18 19 20 21 23 24 25 27\n",
      " 28 29 30 31 32 33 34 35 36 37 38 39 40 41 42 44 45 46 47 48 49 52 53 54\n",
      " 55 56 57 58 59 60 61 62 63 64 65 66 67 68 69 70 71 72 73 74 75 76 77]\n"
     ]
    }
   ],
   "source": [
    "print(\"Unique training labels:\", np.unique(y_train))\n",
    "print(\"Unique validation labels:\", np.unique(y_val))\n"
   ]
  }
 ],
 "metadata": {
  "kernelspec": {
   "display_name": "Python 3",
   "language": "python",
   "name": "python3"
  },
  "language_info": {
   "codemirror_mode": {
    "name": "ipython",
    "version": 3
   },
   "file_extension": ".py",
   "mimetype": "text/x-python",
   "name": "python",
   "nbconvert_exporter": "python",
   "pygments_lexer": "ipython3",
   "version": "3.11.6"
  }
 },
 "nbformat": 4,
 "nbformat_minor": 2
}
