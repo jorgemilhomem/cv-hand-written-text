{
 "cells": [
  {
   "cell_type": "markdown",
   "metadata": {},
   "source": []
  },
  {
   "cell_type": "markdown",
   "metadata": {},
   "source": [
    "### Data Collection"
   ]
  },
  {
   "cell_type": "code",
   "execution_count": 16,
   "metadata": {},
   "outputs": [
    {
     "name": "stdout",
     "output_type": "stream",
     "text": [
      "Files already extracted in data/words. Skipping extraction.\n",
      "Files already extracted in data/xml. Skipping extraction.\n"
     ]
    }
   ],
   "source": [
    "import tarfile\n",
    "import os\n",
    "\n",
    "def extract_files(filename, extract_path):\n",
    "    # Check if extraction is necessary\n",
    "    if os.path.exists(extract_path):\n",
    "        print(f\"Files already extracted in {extract_path}. Skipping extraction.\")\n",
    "        return\n",
    "\n",
    "    # Check if the file is a tar archive\n",
    "    if filename.endswith('.tar') or filename.endswith('.tgz'):\n",
    "        with tarfile.open(filename, 'r:*') as tar:\n",
    "            tar.extractall(extract_path)\n",
    "            print(f\"Extracted {filename} to {extract_path}\")\n",
    "    else:\n",
    "        print(\"File is not a tar or tgz archive.\")\n",
    "\n",
    "if __name__ == '__main__':\n",
    "    # Extract words.tgz\n",
    "    extract_files('data/words.tgz', 'data/words')\n",
    "\n",
    "    # Extract xml.tar\n",
    "    extract_files('data/xml.tar', 'data/xml')\n"
   ]
  },
  {
   "cell_type": "code",
   "execution_count": null,
   "metadata": {},
   "outputs": [],
   "source": []
  }
 ],
 "metadata": {
  "kernelspec": {
   "display_name": "Python 3",
   "language": "python",
   "name": "python3"
  },
  "language_info": {
   "codemirror_mode": {
    "name": "ipython",
    "version": 3
   },
   "file_extension": ".py",
   "mimetype": "text/x-python",
   "name": "python",
   "nbconvert_exporter": "python",
   "pygments_lexer": "ipython3",
   "version": "3.11.6"
  }
 },
 "nbformat": 4,
 "nbformat_minor": 2
}
